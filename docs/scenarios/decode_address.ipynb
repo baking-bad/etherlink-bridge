{
 "cells": [
  {
   "cell_type": "markdown",
   "id": "ed6a6b04",
   "metadata": {},
   "source": [
    "## A simple snippet to decode an outbox address bytes into a Tezos address.\n",
    "- TODO: This can be reused in the scripts/rollup_node scripts"
   ]
  },
  {
   "cell_type": "code",
   "execution_count": 2,
   "id": "dd3241d3",
   "metadata": {},
   "outputs": [
    {
     "name": "stdout",
     "output_type": "stream",
     "text": [
      "Decoded implicit address: tz1ekkzEN2LB1cpf7dCaonKt6x9KVd9YVydc\n"
     ]
    }
   ],
   "source": [
    "from pytezos.crypto.encoding import base58_encode\n",
    "\n",
    "# HEX string\n",
    "raw = bytes.fromhex(\"0000d1b03118754a8e193b3e5d3a7cded976f4fd4256\")\n",
    "\n",
    "# First byte: tag; second byte: curve; remaining 20 bytes: the hash\n",
    "tag = raw[0]\n",
    "curve = raw[1]\n",
    "hash_bytes = raw[2:]\n",
    "\n",
    "if tag == 0:  # Implicit address\n",
    "    if curve == 0:\n",
    "        prefix = b\"tz1\"  # Ed25519\n",
    "    elif curve == 1:\n",
    "        prefix = b\"tz2\"  # Secp256k1\n",
    "    elif curve == 2:\n",
    "        prefix = b\"tz3\"  # P256\n",
    "    else:\n",
    "        raise ValueError(\"Unknown curve type\")\n",
    "    address = base58_encode(hash_bytes, prefix).decode()\n",
    "    print(\"Decoded implicit address:\", address)\n",
    "elif tag == 1:  # Originated contract (KT1)\n",
    "    prefix = b\"KT1\"\n",
    "    address = base58_encode(hash_bytes, prefix).decode()\n",
    "    print(\"Decoded originated contract address:\", address)\n",
    "else:\n",
    "    raise ValueError(\"Unknown address tag\")\n"
   ]
  }
 ],
 "metadata": {
  "kernelspec": {
   "display_name": "Python 3 (ipykernel)",
   "language": "python",
   "name": "python3"
  },
  "language_info": {
   "codemirror_mode": {
    "name": "ipython",
    "version": 3
   },
   "file_extension": ".py",
   "mimetype": "text/x-python",
   "name": "python",
   "nbconvert_exporter": "python",
   "pygments_lexer": "ipython3",
   "version": "3.12.8"
  }
 },
 "nbformat": 4,
 "nbformat_minor": 5
}
