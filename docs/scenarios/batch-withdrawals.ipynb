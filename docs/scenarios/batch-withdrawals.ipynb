{
 "cells": [
  {
   "cell_type": "markdown",
   "id": "eb9e5fca",
   "metadata": {},
   "source": [
    "### Plan:\n",
    "- clean up this space\n",
    "- configure consts\n",
    "    - move all consts to separate file\n",
    "- make setup with loading all helpers etc\n",
    "    - consider making  setup with accounts: `from helpers.interact import *`\n",
    "    - setup CLI functions and fill with default values where possible?\n",
    "    - need some useful toolset, one line for each command: deploy, deposit, withdraw\n",
    "- create separate notebook for each of scenarios\n",
    "- test different communications with rollup and ERC20 proxy, try to replace ERC20 proxy logic with some other contracts to check:\n",
    "    - withdrawal precompile reentrancy\n",
    "    - different kind of Ticket management\n",
    "- calculate cost of withdrawal outbox overfill, check how this would work\n",
    "    - make scenarios with different attempts to overfill outbox?\n",
    "    - overfill with xtz withdrawals\n",
    "    - overfill with fa withdrawals\n",
    "    - overfill with callbacks from ERC20\n",
    "- special scenario for checking costs of direct ticket deposits\n",
    "- there are a lot more tests scenarios in the `tests.md` (check obsidian)\n",
    "- `make_address_bytes` -> `make_address_bytes_hex`?"
   ]
  },
  {
   "cell_type": "markdown",
   "id": "b076a377",
   "metadata": {},
   "source": [
    "### Setup:"
   ]
  },
  {
   "cell_type": "code",
   "execution_count": 1,
   "id": "3cfecd33",
   "metadata": {},
   "outputs": [],
   "source": [
    "# TODO: move to consts, make it convenient to use\n",
    "\n",
    "SMART_ROLLUP_ADDRESS = 'sr1G9N4WzRF79GeGKVd1vUDUg2NSrFGNGAfA'\n",
    "XTZ_TICKET_HELPER = 'KT1MJxf4KVN3sosR99VRG7WBbWTJtAyWUJt9'\n",
    "TEZOS_PRIVATE_KEY = 'edsk4XG4QyAj19dr78NNGH6dpXBtTnkmMdAkM9w5tUTCHaUP1pJaD5'\n",
    "TEZOS_RPC_URL = 'https://rpc.tzkt.io/parisnet/'\n",
    "ETHERLINK_RPC_URL = 'https://etherlink.dipdup.net'\n",
    "ETHERLINK_PRIVATE_KEY = 'f463e320ed1bd1cd833e29efc383878f34abe6b596e5d163f51bb8581de6f8b8'\n",
    "KERNEL_ADDRESS = '0x0000000000000000000000000000000000000000'\n",
    "FA_WITHDRAWAL_PRECOMPILE = '0xff00000000000000000000000000000000000002'\n",
    "XTZ_WITHDRAWAL_PRECOMPILE = '0xff00000000000000000000000000000000000001'\n",
    "ETHERLINK_ROLLUP_NODE_URL = 'https://etherlink-rollup-paris.dipdup.net'\n",
    "PRINT_DEBUG_LOG = False\n",
    "\n",
    "\n",
    "if PRINT_DEBUG_LOG:\n",
    "    import logging\n",
    "    logging.basicConfig(level=logging.DEBUG)"
   ]
  },
  {
   "cell_type": "markdown",
   "id": "4bfa2726",
   "metadata": {},
   "source": [
    "### Changing variables:"
   ]
  },
  {
   "cell_type": "code",
   "execution_count": null,
   "id": "c7fc8565",
   "metadata": {},
   "outputs": [],
   "source": [
    "from getpass import getpass\n",
    "\n",
    "ETHERLINK_RPC_URL = 'https://node.ghostnet.etherlink.com'\n",
    "ETHERLINK_PRIVATE_KEY = getpass()"
   ]
  },
  {
   "cell_type": "code",
   "execution_count": 2,
   "id": "cf11ddce",
   "metadata": {},
   "outputs": [
    {
     "name": "stdout",
     "output_type": "stream",
     "text": [
      "Setup:\n",
      "- Tezos account: `\u001b[96mtz1ekkzEN2LB1cpf7dCaonKt6x9KVd9YVydc\u001b[0m`, balance: `\u001b[96m100.347038\u001b[0m`\n",
      "- Etherlink account: `\u001b[96m0x7e6f6CCFe485a087F0F819eaBfDBfb1a49b97677\u001b[0m`, balance: `\u001b[96m0.869854055\u001b[0m`\n"
     ]
    }
   ],
   "source": [
    "from scripts.helpers.utility import (\n",
    "    get_tezos_client,\n",
    "    make_address_bytes,\n",
    "    get_etherlink_account,\n",
    "    get_etherlink_web3,\n",
    "    accent,\n",
    "    echo_variable,\n",
    "    wrap,\n",
    ")\n",
    "from scripts.helpers.contracts import (\n",
    "    TokenBridgeHelper,\n",
    "    TokenHelper,\n",
    "    Ticketer,\n",
    ")\n",
    "import click\n",
    "from scripts.helpers.addressable import (\n",
    "    get_address,\n",
    "    Addressable,\n",
    ")\n",
    "\n",
    "# TODO: provide consts as one object\n",
    "# TODO: move setup to separate module in `helpers`\n",
    "# TODO: make some dataclass with accounts\n",
    "def setup():\n",
    "    web3 = get_etherlink_web3(ETHERLINK_RPC_URL)\n",
    "    etherlink_account = get_etherlink_account(web3, ETHERLINK_PRIVATE_KEY)\n",
    "    tezos_account = get_tezos_client(TEZOS_RPC_URL, TEZOS_PRIVATE_KEY)\n",
    "\n",
    "    wa_tezos_address = wrap(accent(tezos_account.key.public_key_hash()))\n",
    "    wa_tezos_balance = wrap(accent(tezos_account.balance()))\n",
    "    wa_etherlink_address = wrap(accent(etherlink_account.address))\n",
    "    balance_wei = web3.eth.get_balance(etherlink_account.address)\n",
    "    wa_etherlink_balance = wrap(accent(web3.from_wei(balance_wei, \"ether\")))\n",
    "\n",
    "    click.echo('Setup:')\n",
    "    click.echo('- Tezos account: ' + wa_tezos_address + ', balance: ' + wa_tezos_balance)\n",
    "    click.echo('- Etherlink account: ' + wa_etherlink_address + ', balance: ' + wa_etherlink_balance)\n",
    "\n",
    "    return web3, etherlink_account, tezos_account\n",
    "\n",
    "# TODO: consider moving this to helpers:\n",
    "def make_routing_info(router: Addressable, receiver: Addressable) -> bytes:\n",
    "    # TODO: consider changing `make_address_bytes` so it really return bytes?\n",
    "    ticketer_address_bytes = bytes.fromhex(make_address_bytes(get_address(router)))\n",
    "    receiver = bytes.fromhex(make_address_bytes(get_address(receiver)))\n",
    "    routing_info = receiver + ticketer_address_bytes\n",
    "    return routing_info\n",
    "\n",
    "\n",
    "web3, etherlink_account, tezos_account = setup()"
   ]
  },
  {
   "cell_type": "markdown",
   "id": "c1e7a86d",
   "metadata": {},
   "source": [
    "### Fund account:"
   ]
  },
  {
   "cell_type": "code",
   "execution_count": 4,
   "id": "8ea20858",
   "metadata": {},
   "outputs": [
    {
     "name": "stdout",
     "output_type": "stream",
     "text": [
      "Making XTZ deposit using Helper `\u001b[96mKT1MJxf4KVN3sosR99VRG7WBbWTJtAyWUJt9\u001b[0m`:\n",
      "  - Executor: `\u001b[96mtz1ekkzEN2LB1cpf7dCaonKt6x9KVd9YVydc\u001b[0m`\n",
      "  - Tezos RPC node: `\u001b[96mhttps://rpc.tzkt.io/parisnet/\u001b[0m`\n",
      "  - XTZ deposit params:\n",
      "      * Smart Rollup address: `\u001b[96msr1G9N4WzRF79GeGKVd1vUDUg2NSrFGNGAfA\u001b[0m`\n",
      "      * Receiver address: `\u001b[96m0x7e6f6CCFe485a087F0F819eaBfDBfb1a49b97677\u001b[0m`\n",
      "      * Amount: `\u001b[96m1000000\u001b[0m`\n",
      "Successfully executed XTZ deposit, tx hash: `\u001b[96monpiUYKVCw5TkC1fnw7oYvH4TCweAubyVjDnHzLaecUCHqabEXS\u001b[0m`\n"
     ]
    },
    {
     "data": {
      "text/plain": [
       "'onpiUYKVCw5TkC1fnw7oYvH4TCweAubyVjDnHzLaecUCHqabEXS'"
      ]
     },
     "execution_count": 4,
     "metadata": {},
     "output_type": "execute_result"
    }
   ],
   "source": [
    "from scripts.tezos import xtz_deposit\n",
    "xtz_deposit.callback(\n",
    "    xtz_ticket_helper=XTZ_TICKET_HELPER,\n",
    "    tezos_private_key=TEZOS_PRIVATE_KEY,\n",
    "    tezos_rpc_url=TEZOS_RPC_URL,\n",
    "    amount=1_000_000,\n",
    "    receiver_address=etherlink_account.address,\n",
    "    smart_rollup_address=SMART_ROLLUP_ADDRESS,\n",
    ")"
   ]
  },
  {
   "cell_type": "markdown",
   "id": "31548245",
   "metadata": {},
   "source": [
    "### Deploy BulkWithdrawal:\n",
    "- TODO: rename to BatchWithdrawal / organize helpers\n",
    "- TODO: OR consider compiling contracts on the fly in the jupyter using web3?\n",
    "- TODO: make wrapper that will print address and details of deploy?"
   ]
  },
  {
   "cell_type": "code",
   "execution_count": 4,
   "id": "ae6e869d",
   "metadata": {},
   "outputs": [
    {
     "data": {
      "text/plain": [
       "'0x4A54796585667eb0fea583Baaec284E4F4358f0E'"
      ]
     },
     "execution_count": 4,
     "metadata": {},
     "output_type": "execute_result"
    }
   ],
   "source": [
    "from scripts.helpers.etherlink.contract import (\n",
    "    EvmContractHelper,\n",
    "    make_filename,\n",
    ")\n",
    "\n",
    "class BulkWithdrawalHelper(EvmContractHelper): ...\n",
    "\n",
    "\n",
    "bulk_withdrawal = BulkWithdrawalHelper.originate_from_file(\n",
    "    web3=web3,\n",
    "    account=etherlink_account,\n",
    "    filename=make_filename('BulkWithdrawal'),\n",
    "    constructor_args=(\n",
    "        FA_WITHDRAWAL_PRECOMPILE,\n",
    "        XTZ_WITHDRAWAL_PRECOMPILE,\n",
    "        450,\n",
    "    )\n",
    ")\n",
    "bulk_withdrawal.address"
   ]
  },
  {
   "cell_type": "markdown",
   "id": "5ca13340",
   "metadata": {},
   "source": [
    "### Deploy token"
   ]
  },
  {
   "cell_type": "code",
   "execution_count": 27,
   "id": "e1c7864c",
   "metadata": {},
   "outputs": [
    {
     "data": {
      "text/plain": [
       "'KT1Kf9c5ufLWE89N4zBWuBqsEMa5G2gFDRSr'"
      ]
     },
     "execution_count": 27,
     "metadata": {},
     "output_type": "execute_result"
    }
   ],
   "source": [
    "from scripts.tezos import deploy_token\n",
    "\n",
    "token = deploy_token.callback(\n",
    "    token_type='FA2',\n",
    "    token_id=9000,\n",
    "    total_supply=70_000_000,\n",
    "    tezos_private_key=TEZOS_PRIVATE_KEY,\n",
    "    tezos_rpc_url=TEZOS_RPC_URL,\n",
    "    skip_confirm=True,\n",
    ")\n",
    "token.address"
   ]
  },
  {
   "cell_type": "markdown",
   "id": "2c2efb85",
   "metadata": {},
   "source": [
    "### Deploy bridge:"
   ]
  },
  {
   "cell_type": "code",
   "execution_count": 7,
   "id": "6ec2eeb9",
   "metadata": {},
   "outputs": [
    {
     "name": "stdout",
     "output_type": "stream",
     "text": [
      "Deploying bridge contracts for `\u001b[96mvSecT\u001b[0m`:\n",
      "  - Token contract: `\u001b[96mKT1Kf9c5ufLWE89N4zBWuBqsEMa5G2gFDRSr\u001b[0m`\n",
      "  - Token id: `\u001b[96m9000\u001b[0m`\n",
      "\n",
      "Deploying Ticketer for `\u001b[96mvSecT\u001b[0m`:\n",
      "  - Deployer: `\u001b[96mtz1ekkzEN2LB1cpf7dCaonKt6x9KVd9YVydc\u001b[0m`\n",
      "  - Tezos RPC node: `\u001b[96mhttps://rpc.tzkt.io/parisnet/\u001b[0m`\n",
      "  - Params:\n",
      "      * Token type: `\u001b[96mFA2\u001b[0m`\n",
      "      * Token address: `\u001b[96mKT1Kf9c5ufLWE89N4zBWuBqsEMa5G2gFDRSr\u001b[0m`\n",
      "      * Token id: `\u001b[96m9000\u001b[0m`\n",
      "      * Token symbol: `\u001b[96mvSecT\u001b[0m`\n",
      "      * Token name: `\u001b[96mVarious Security Testing Scenarios\u001b[0m`\n",
      "      * Token decimals: `\u001b[96m0\u001b[0m`\n",
      "Successfully deployed Ticketer, address: `\u001b[96mKT1TQiSYR6VhFHso5xkEYR3Fgg5Vsz8iRaK7\u001b[0m`\n",
      "\n",
      "Deploying ERC20 Proxy for `\u001b[96mvSecT\u001b[0m`:\n",
      "  - Deployer: `\u001b[96m0x7e6f6CCFe485a087F0F819eaBfDBfb1a49b97677\u001b[0m`\n",
      "  - Etherlink RPC node: `\u001b[96mhttps://etherlink.dipdup.net\u001b[0m`\n",
      "  - Constructor params:\n",
      "      * Ticketer address bytes: `\u001b[96m0x01ce839f3e5187c0abec444760a58e950b675a334100\u001b[0m`\n",
      "      * Content bytes: `\u001b[96m0x0707000005090a000000c00502000000ba07040100000010636f6e74726163745f616464726573730a000000244b54314b6639633575664c574538394e347a425775427173454d61354732674644525372070401000000046e616d650a00000022566172696f75732053656375726974792054657374696e67205363656e6172696f730704010000000673796d626f6c0a00000005765365635407040100000008746f6b656e5f69640a00000004393030300704010000000a746f6b656e5f747970650a00000003464132\u001b[0m`\n",
      "      * Kernel address: `\u001b[96m0x0000000000000000000000000000000000000000\u001b[0m`\n",
      "      * Name: `\u001b[96mVarious Security Testing Scenarios\u001b[0m`\n",
      "      * Symbol: `\u001b[96mvSecT\u001b[0m`\n",
      "      * Decimals: `\u001b[96m0\u001b[0m`\n",
      "Successfully deployed ERC20 Proxy token, address: `\u001b[96m0x03E39FF2b379FBcd9284Ab457113D82fF4daBBF4\u001b[0m`\n",
      "\n",
      "Deploying Token Bridge Helper for `\u001b[96mvSecT\u001b[0m`:\n",
      "  - Deployer: `\u001b[96mtz1ekkzEN2LB1cpf7dCaonKt6x9KVd9YVydc\u001b[0m`\n",
      "  - Tezos RPC node: `\u001b[96mhttps://rpc.tzkt.io/parisnet/\u001b[0m`\n",
      "  - Params:\n",
      "      * Ticketer address: `\u001b[96mKT1TQiSYR6VhFHso5xkEYR3Fgg5Vsz8iRaK7\u001b[0m`\n",
      "      * ERC20 Proxy token address: `\u001b[96m0x03E39FF2b379FBcd9284Ab457113D82fF4daBBF4\u001b[0m`\n",
      "Successfully deployed Token Bridge Helper, address: `\u001b[96mKT1SSfdYB4JFTJoqVUe6yjVX9urLXiXge6e4\u001b[0m`\n",
      "\n",
      "Successfully deployed FA Bridge contracts for \u001b[96mvSecT\u001b[0m\n"
     ]
    }
   ],
   "source": [
    "from scripts.bridge_token import bridge_token\n",
    "\n",
    "tezos_bridge_contracts = bridge_token.callback(\n",
    "    token_address=token.address,\n",
    "    token_type='FA2',\n",
    "    token_id=9000,\n",
    "    token_decimals=0,\n",
    "    token_symbol='vSecT',\n",
    "    token_name='Various Security Testing Scenarios',\n",
    "    tezos_private_key=TEZOS_PRIVATE_KEY,\n",
    "    tezos_rpc_url=TEZOS_RPC_URL,\n",
    "    etherlink_private_key=ETHERLINK_PRIVATE_KEY,\n",
    "    etherlink_rpc_url=ETHERLINK_RPC_URL,\n",
    "    kernel_address=KERNEL_ADDRESS,\n",
    "    skip_confirm=True\n",
    ")\n",
    "\n",
    "ticketer = tezos_bridge_contracts['ticketer']\n",
    "# TODO: consider replacing erc20 here with helper\n",
    "erc20_address = tezos_bridge_contracts['erc20']\n",
    "token_bridge_helper = tezos_bridge_contracts['token_bridge_helper']"
   ]
  },
  {
   "cell_type": "markdown",
   "id": "30b8eb42",
   "metadata": {},
   "source": [
    "### Reload token / bridge:\n",
    "- TODO: add special functions to simply save / load set of tokens bridges?\n",
    "- the best would be one function that either deploys token+bridge / either loads it from some `test-scenario-setup.json`?"
   ]
  },
  {
   "cell_type": "code",
   "execution_count": 3,
   "id": "f8d02d33",
   "metadata": {},
   "outputs": [],
   "source": [
    "from scripts.helpers.contracts import TokenBridgeHelper, TokenHelper, Ticketer\n",
    "\n",
    "token = TokenHelper.get_cls('FA2').from_address(tezos_account, 'KT1Kf9c5ufLWE89N4zBWuBqsEMa5G2gFDRSr')\n",
    "token_bridge_helper = TokenBridgeHelper.from_address(tezos_account, 'KT1SSfdYB4JFTJoqVUe6yjVX9urLXiXge6e4')\n",
    "\n",
    "# TODO: add method to get ERC20 proxy address? (or it would be better to get ERC20 helper)\n",
    "erc20_address = token_bridge_helper.contract.storage()['erc_proxy'].hex()\n",
    "erc20_address = web3.to_checksum_address(erc20_address)\n",
    "ticketer = token_bridge_helper.get_ticketer()"
   ]
  },
  {
   "cell_type": "code",
   "execution_count": 4,
   "id": "73adb208",
   "metadata": {},
   "outputs": [
    {
     "data": {
      "text/plain": [
       "'0x03E39FF2b379FBcd9284Ab457113D82fF4daBBF4'"
      ]
     },
     "execution_count": 4,
     "metadata": {},
     "output_type": "execute_result"
    }
   ],
   "source": [
    "from scripts.helpers.etherlink import (\n",
    "    Erc20ProxyHelper,\n",
    "    make_filename,\n",
    "    load_contract_type,\n",
    ")\n",
    "\n",
    "Erc20ProxyContract = load_contract_type(web3, make_filename('ERC20Proxy'))\n",
    "erc20 = Erc20ProxyHelper.from_address(Erc20ProxyContract, web3, etherlink_account, erc20_address)\n",
    "erc20.address"
   ]
  },
  {
   "cell_type": "markdown",
   "id": "d78b5cd4",
   "metadata": {},
   "source": [
    "### Deposit"
   ]
  },
  {
   "cell_type": "code",
   "execution_count": 5,
   "id": "b1e3cc42",
   "metadata": {},
   "outputs": [
    {
     "name": "stdout",
     "output_type": "stream",
     "text": [
      "Making deposit using Helper `\u001b[96mKT1SSfdYB4JFTJoqVUe6yjVX9urLXiXge6e4\u001b[0m`:\n",
      "  - Executor: `\u001b[96mtz1ekkzEN2LB1cpf7dCaonKt6x9KVd9YVydc\u001b[0m`\n",
      "  - Tezos RPC node: `\u001b[96mhttps://rpc.tzkt.io/parisnet/\u001b[0m`\n",
      "  - Ticketer: `\u001b[96mKT1TQiSYR6VhFHso5xkEYR3Fgg5Vsz8iRaK7\u001b[0m`\n",
      "  - Deposit params:\n",
      "      * Smart Rollup address: `\u001b[96msr1G9N4WzRF79GeGKVd1vUDUg2NSrFGNGAfA\u001b[0m`\n",
      "      * Receiver address: `\u001b[96m0x4A54796585667eb0fea583Baaec284E4F4358f0E\u001b[0m`\n",
      "      * Amount: `\u001b[96m1000\u001b[0m`\n",
      "Successfully executed Deposit, tx hash: `\u001b[96mopCsjq3f8tFC7i3ASbyHoS9vC7Nu9LvDaT67sprVKCNHxmzi9e4\u001b[0m`\n"
     ]
    }
   ],
   "source": [
    "from scripts import tezos\n",
    "\n",
    "result = tezos.deposit.callback(\n",
    "    token_bridge_helper_address=token_bridge_helper.address,\n",
    "    amount=1_000,\n",
    "    receiver_address=bulk_withdrawal.address,\n",
    "    smart_rollup_address=SMART_ROLLUP_ADDRESS,\n",
    "    tezos_private_key=TEZOS_PRIVATE_KEY,\n",
    "    tezos_rpc_url=TEZOS_RPC_URL\n",
    ")"
   ]
  },
  {
   "cell_type": "markdown",
   "id": "10f42232",
   "metadata": {},
   "source": [
    "- TODO: replace this call withdraw with `withdaw` CLI maybe?"
   ]
  },
  {
   "cell_type": "code",
   "execution_count": 20,
   "id": "9b33aadf",
   "metadata": {},
   "outputs": [
    {
     "name": "stdout",
     "output_type": "stream",
     "text": [
      "Making FA withdrawal, ERC20 token: `\u001b[96m0x03E39FF2b379FBcd9284Ab457113D82fF4daBBF4\u001b[0m`:\n",
      "  - Executor: `\u001b[96m0x7e6f6CCFe485a087F0F819eaBfDBfb1a49b97677\u001b[0m`\n",
      "  - Etherlink RPC node: `\u001b[96mhttps://etherlink.dipdup.net\u001b[0m`\n",
      "  - Withdrawal params:\n",
      "      * Ticket owner: `\u001b[96m0x03E39FF2b379FBcd9284Ab457113D82fF4daBBF4\u001b[0m`\n",
      "      * Receiver: `\u001b[96mtz1ekkzEN2LB1cpf7dCaonKt6x9KVd9YVydc\u001b[0m`\n",
      "      * Router: `\u001b[96mKT1TQiSYR6VhFHso5xkEYR3Fgg5Vsz8iRaK7\u001b[0m`\n",
      "      * Routing info: `\u001b[96m0x0000d1b03118754a8e193b3e5d3a7cded976f4fd425601ce839f3e5187c0abec444760a58e950b675a334100\u001b[0m`\n",
      "      * Amount: `\u001b[96m1\u001b[0m`\n",
      "      * Ticketer address bytes: `\u001b[96m0x01ce839f3e5187c0abec444760a58e950b675a334100\u001b[0m`\n",
      "      * Content bytes: `\u001b[96m0x0707000005090a000000c00502000000ba07040100000010636f6e74726163745f616464726573730a000000244b54314b6639633575664c574538394e347a425775427173454d61354732674644525372070401000000046e616d650a00000022566172696f75732053656375726974792054657374696e67205363656e6172696f730704010000000673796d626f6c0a00000005765365635407040100000008746f6b656e5f69640a00000004393030300704010000000a746f6b656e5f747970650a00000003464132\u001b[0m`\n",
      "Successfully initiated FA withdrawal, tx hash: `\u001b[96m0x25e74c176caa64f1cc202ed01e4351feb837ab5c007b868127279942479abfd7\u001b[0m`\n"
     ]
    },
    {
     "data": {
      "text/plain": [
       "'0x25e74c176caa64f1cc202ed01e4351feb837ab5c007b868127279942479abfd7'"
      ]
     },
     "execution_count": 20,
     "metadata": {},
     "output_type": "execute_result"
    }
   ],
   "source": [
    "# TODO: make withdraw function too:\n",
    "from scripts.etherlink import withdraw\n",
    "\n",
    "withdraw.callback(\n",
    "    erc20_proxy_address=erc20_address,\n",
    "    tezos_side_router_address=ticketer.address,\n",
    "    amount=1,\n",
    "    # TODO: consider changing this to ticketer_address_bytes_hex ?\n",
    "    ticketer_address_bytes=make_address_bytes(ticketer.address),\n",
    "    # TODO: consider changing this to ticket_content_bytes_hex ?\n",
    "    ticket_content_bytes=ticketer.read_content().to_bytes_hex(),\n",
    "    receiver_address=get_address(tezos_account),\n",
    "    withdraw_precompile=bulk_withdrawal.address,\n",
    "    etherlink_private_key=ETHERLINK_PRIVATE_KEY,\n",
    "    etherlink_rpc_url=ETHERLINK_RPC_URL,\n",
    ")"
   ]
  },
  {
   "cell_type": "code",
   "execution_count": 6,
   "id": "a998e435",
   "metadata": {},
   "outputs": [
    {
     "data": {
      "text/plain": [
       "\"\\ndef call_withdraw(contract, ticket_owner, routing_info, amount, ticketer, content):\\n    # withdraw(address,bytes,uint256,bytes22,bytes)\\n    transaction = contract.functions.withdraw(\\n        ticket_owner,\\n        routing_info,\\n        amount,\\n        ticketer,\\n        content\\n    ).build_transaction({\\n        'from': account.address,\\n        'nonce': w3.eth.get_transaction_count(account.address),\\n        'chainId': w3.eth.chain_id\\n    })\\n\\n    signed_txn = w3.eth.account.sign_transaction(transaction, ETHERLINK_PRIVATE_KEY)\\n    txn_hash = w3.eth.send_raw_transaction(signed_txn.rawTransaction)\\n    txn_receipt = w3.eth.wait_for_transaction_receipt(txn_hash)\\n\\n    return txn_receipt\\n\\nticket_owner = erc20_address\\nticketer_address_bytes = bytes.fromhex(make_address_bytes(ticketer.address))\\nrouting_info = make_routing_info(ticketer, tezos_account)\\namount = 1\\ncontent = bytes.fromhex(ticketer.read_content().to_bytes_hex())\\n\\nreceipt = call_withdraw(bulk_withdrawal.contract, ticket_owner, routing_info, amount, ticketer_address_bytes, content)\\nprint(receipt)\\n\""
      ]
     },
     "execution_count": 6,
     "metadata": {},
     "output_type": "execute_result"
    }
   ],
   "source": [
    "'''\n",
    "def call_withdraw(contract, ticket_owner, routing_info, amount, ticketer, content):\n",
    "    # withdraw(address,bytes,uint256,bytes22,bytes)\n",
    "    transaction = contract.functions.withdraw(\n",
    "        ticket_owner,\n",
    "        routing_info,\n",
    "        amount,\n",
    "        ticketer,\n",
    "        content\n",
    "    ).build_transaction({\n",
    "        'from': account.address,\n",
    "        'nonce': w3.eth.get_transaction_count(account.address),\n",
    "        'chainId': w3.eth.chain_id\n",
    "    })\n",
    "\n",
    "    signed_txn = w3.eth.account.sign_transaction(transaction, ETHERLINK_PRIVATE_KEY)\n",
    "    txn_hash = w3.eth.send_raw_transaction(signed_txn.rawTransaction)\n",
    "    txn_receipt = w3.eth.wait_for_transaction_receipt(txn_hash)\n",
    "\n",
    "    return txn_receipt\n",
    "\n",
    "ticket_owner = erc20_address\n",
    "ticketer_address_bytes = bytes.fromhex(make_address_bytes(ticketer.address))\n",
    "routing_info = make_routing_info(ticketer, tezos_account)\n",
    "amount = 1\n",
    "content = bytes.fromhex(ticketer.read_content().to_bytes_hex())\n",
    "\n",
    "receipt = call_withdraw(bulk_withdrawal.contract, ticket_owner, routing_info, amount, ticketer_address_bytes, content)\n",
    "print(receipt)\n",
    "'''"
   ]
  },
  {
   "cell_type": "code",
   "execution_count": 133,
   "id": "a2237189",
   "metadata": {},
   "outputs": [
    {
     "data": {
      "text/plain": [
       "('0x4fe8C5E99F000b9151E52dbFAA0297B20a0338a0',\n",
       " '0x3dFF505A2A69e6e0b05fDB71b5F6DDd514fDaF47',\n",
       " '019befe90f2f9e2fa87f79f4cee695ab6d88040ac500',\n",
       " '0000d1b03118754a8e193b3e5d3a7cded976f4fd4256',\n",
       " '0000d1b03118754a8e193b3e5d3a7cded976f4fd4256019befe90f2f9e2fa87f79f4cee695ab6d88040ac500',\n",
       " 2,\n",
       " '0707000005090a000000b10502000000ab07040100000010636f6e74726163745f616464726573730a000000244b54314845726275356f70544d6b7434503833695868454a783147317556566e5043316f070401000000046e616d650a00000013436f6e7472616374205769746864726177616c0704010000000673796d626f6c0a000000074357205445535407040100000008746f6b656e5f69640a0000000237370704010000000a746f6b656e5f747970650a00000003464132')"
      ]
     },
     "execution_count": 133,
     "metadata": {},
     "output_type": "execute_result"
    }
   ],
   "source": [
    "(\n",
    "    bulk_withdrawal.address,\n",
    "    ticket_owner,\n",
    "    ticketer_address_bytes.hex(),\n",
    "    receiver.hex(),\n",
    "    routing_info.hex(),\n",
    "    amount,\n",
    "    content.hex(),\n",
    ")"
   ]
  },
  {
   "cell_type": "markdown",
   "id": "9e579fbd",
   "metadata": {},
   "source": [
    "### Native deposit:"
   ]
  },
  {
   "cell_type": "code",
   "execution_count": 8,
   "id": "1acef907",
   "metadata": {},
   "outputs": [
    {
     "name": "stdout",
     "output_type": "stream",
     "text": [
      "Making XTZ deposit using Helper `\u001b[96mKT1MJxf4KVN3sosR99VRG7WBbWTJtAyWUJt9\u001b[0m`:\n",
      "  - Executor: `\u001b[96mtz1ekkzEN2LB1cpf7dCaonKt6x9KVd9YVydc\u001b[0m`\n",
      "  - Tezos RPC node: `\u001b[96mhttps://rpc.tzkt.io/parisnet/\u001b[0m`\n",
      "  - XTZ deposit params:\n",
      "      * Smart Rollup address: `\u001b[96msr1G9N4WzRF79GeGKVd1vUDUg2NSrFGNGAfA\u001b[0m`\n",
      "      * Receiver address: `\u001b[96m0x4A54796585667eb0fea583Baaec284E4F4358f0E\u001b[0m`\n",
      "      * Amount: `\u001b[96m1000000\u001b[0m`\n",
      "Successfully executed XTZ deposit, tx hash: `\u001b[96mooaDNp1gNjeHUypXXHv4uj3B3RMYXT3fiMYSJG71jrN3BPNuz8j\u001b[0m`\n"
     ]
    },
    {
     "data": {
      "text/plain": [
       "'ooaDNp1gNjeHUypXXHv4uj3B3RMYXT3fiMYSJG71jrN3BPNuz8j'"
      ]
     },
     "execution_count": 8,
     "metadata": {},
     "output_type": "execute_result"
    }
   ],
   "source": [
    "from scripts.tezos import xtz_deposit\n",
    "xtz_deposit.callback(\n",
    "    xtz_ticket_helper=XTZ_TICKET_HELPER,\n",
    "    tezos_private_key=TEZOS_PRIVATE_KEY,\n",
    "    tezos_rpc_url=TEZOS_RPC_URL,\n",
    "    amount=1_000_000,\n",
    "    # receiver_address=etherlink_account.address,\n",
    "    receiver_address=bulk_withdrawal.address,\n",
    "    smart_rollup_address=SMART_ROLLUP_ADDRESS,\n",
    ")"
   ]
  },
  {
   "cell_type": "code",
   "execution_count": 10,
   "id": "433cc62d",
   "metadata": {},
   "outputs": [
    {
     "data": {
      "text/plain": [
       "'0x4A54796585667eb0fea583Baaec284E4F4358f0E'"
      ]
     },
     "execution_count": 10,
     "metadata": {},
     "output_type": "execute_result"
    }
   ],
   "source": [
    "bulk_withdrawal.address"
   ]
  },
  {
   "cell_type": "markdown",
   "id": "58c76bb0",
   "metadata": {},
   "source": [
    "### Native withdrawal"
   ]
  },
  {
   "cell_type": "code",
   "execution_count": null,
   "id": "cac2ad24",
   "metadata": {},
   "outputs": [],
   "source": [
    "from scripts.etherlink import xtz_withdraw\n",
    "\n",
    "xtz_withdraw.callback(\n",
    "    amount=10**12,\n",
    "    # xtz_withdraw_precompile=XTZ_WITHDRAWAL_PRECOMPILE,\n",
    "    xtz_withdraw_precompile=bulk_withdrawal.address,\n",
    "    receiver_address='tz1burnburnburnburnburnburnburjAYjjX',\n",
    "    etherlink_private_key=ETHERLINK_PRIVATE_KEY,\n",
    "    etherlink_rpc_url=ETHERLINK_RPC_URL\n",
    ")"
   ]
  },
  {
   "cell_type": "markdown",
   "id": "5c0a2371",
   "metadata": {},
   "source": [
    "### XTZ deposit to contract with `receive()` test\n",
    "- TODO: consider compiling the `DepositTester` contract inplace using web3?\n",
    "- TODO: move this to separate scenario.ipynb\n",
    "- checking that Kernel call doesn't run `receive()` when EOA call runs it"
   ]
  },
  {
   "cell_type": "code",
   "execution_count": 5,
   "id": "9673c34a",
   "metadata": {},
   "outputs": [
    {
     "data": {
      "text/plain": [
       "'0x0387876E770c0b7CB61E60D62c7BB2F3f009bdE4'"
      ]
     },
     "execution_count": 5,
     "metadata": {},
     "output_type": "execute_result"
    }
   ],
   "source": [
    "from scripts.helpers.etherlink.contract import (\n",
    "    EvmContractHelper,\n",
    "    make_filename,\n",
    ")\n",
    "\n",
    "class DepositTesterHelper(EvmContractHelper): ...\n",
    "\n",
    "\n",
    "deposit_helper = DepositTesterHelper.originate_from_file(\n",
    "    web3=web3,\n",
    "    account=etherlink_account,\n",
    "    filename=make_filename('DepositTester'),\n",
    "    constructor_args=(\n",
    "        XTZ_WITHDRAWAL_PRECOMPILE,\n",
    "        'tz1ekkzEN2LB1cpf7dCaonKt6x9KVd9YVydc',\n",
    "    )\n",
    ")\n",
    "deposit_helper.address"
   ]
  },
  {
   "cell_type": "markdown",
   "id": "b9378229",
   "metadata": {},
   "source": [
    "- TODO: make some helper for this deposit that loaded once in the ipynb and can be easily reused next"
   ]
  },
  {
   "cell_type": "code",
   "execution_count": 9,
   "id": "6fbae294",
   "metadata": {},
   "outputs": [
    {
     "name": "stdout",
     "output_type": "stream",
     "text": [
      "Making XTZ deposit using Helper `\u001b[96mKT1MJxf4KVN3sosR99VRG7WBbWTJtAyWUJt9\u001b[0m`:\n",
      "  - Executor: `\u001b[96mtz1ekkzEN2LB1cpf7dCaonKt6x9KVd9YVydc\u001b[0m`\n",
      "  - Tezos RPC node: `\u001b[96mhttps://rpc.tzkt.io/parisnet/\u001b[0m`\n",
      "  - XTZ deposit params:\n",
      "      * Smart Rollup address: `\u001b[96msr1LmwJbvp8ZGwTRzAoy8mheGV5xX2kYef1L\u001b[0m`\n",
      "      * Receiver address: `\u001b[96m0x0387876E770c0b7CB61E60D62c7BB2F3f009bdE4\u001b[0m`\n",
      "      * Amount: `\u001b[96m1\u001b[0m`\n",
      "Successfully executed XTZ deposit, tx hash: `\u001b[96mooFyqDwUHQhTA5TYdEL2xjjgkXe5LabZxuWc46oS58DudiAKVbf\u001b[0m`\n"
     ]
    },
    {
     "data": {
      "text/plain": [
       "'ooFyqDwUHQhTA5TYdEL2xjjgkXe5LabZxuWc46oS58DudiAKVbf'"
      ]
     },
     "execution_count": 9,
     "metadata": {},
     "output_type": "execute_result"
    }
   ],
   "source": [
    "from scripts.tezos import xtz_deposit\n",
    "\n",
    "result = xtz_deposit.callback(\n",
    "    xtz_ticket_helper=XTZ_TICKET_HELPER,\n",
    "    amount=1,\n",
    "    receiver_address=deposit_helper.address,\n",
    "    smart_rollup_address=SMART_ROLLUP_ADDRESS,\n",
    "    tezos_private_key=TEZOS_PRIVATE_KEY,\n",
    "    tezos_rpc_url=TEZOS_RPC_URL\n",
    ")\n",
    "result"
   ]
  },
  {
   "cell_type": "markdown",
   "id": "143c7a9a",
   "metadata": {},
   "source": [
    "- TODO: move to separate function `legacy_transfer` or smth similar"
   ]
  },
  {
   "cell_type": "code",
   "execution_count": 16,
   "id": "0ae97c7f",
   "metadata": {},
   "outputs": [
    {
     "data": {
      "text/plain": [
       "HexBytes('0xbf0338fe75667cf5d98855e7310ab710e20a2caa0e6f44bd007026ae3d01843f')"
      ]
     },
     "execution_count": 16,
     "metadata": {},
     "output_type": "execute_result"
    }
   ],
   "source": [
    "transaction = {\n",
    "    'to': deposit_helper.address,\n",
    "    'gas': 2000000,\n",
    "    'gasPrice': web3.to_wei('1', 'gwei'),\n",
    "    'value': web3.to_wei(1, 'microether'),\n",
    "    'nonce': web3.eth.get_transaction_count(etherlink_account.address),\n",
    "}\n",
    "\n",
    "signed_txn = etherlink_account.sign_transaction(transaction)\n",
    "txn_hash = web3.eth.send_raw_transaction(signed_txn.rawTransaction)\n",
    "txn_hash"
   ]
  },
  {
   "cell_type": "code",
   "execution_count": null,
   "id": "d9c1dfbe",
   "metadata": {},
   "outputs": [],
   "source": [
    "# TODO: check that first transaction (called by Kernel during deposit) doesn't created any logs\n",
    "# TODO: check that second transaction (called by etherlink_account) created logs"
   ]
  },
  {
   "cell_type": "markdown",
   "id": "da3e16d0",
   "metadata": {},
   "source": [
    "### Withdrawal precompile reentrancy\n",
    "- TODO: move to separate scenario too"
   ]
  },
  {
   "cell_type": "code",
   "execution_count": 8,
   "id": "9a5b7fbb",
   "metadata": {
    "scrolled": true
   },
   "outputs": [
    {
     "data": {
      "text/plain": [
       "'\\ndef deposit(receiver, amount):\\n    return tezos.deposit.callback(\\n        token_bridge_helper_address=token_bridge_helper.address,\\n        amount=amount,\\n        receiver_address=receiver,\\n        smart_rollup_address=SMART_ROLLUP_ADDRESS,\\n        tezos_private_key=TEZOS_PRIVATE_KEY,\\n        tezos_rpc_url=TEZOS_RPC_URL\\n    )\\n'"
      ]
     },
     "execution_count": 8,
     "metadata": {},
     "output_type": "execute_result"
    }
   ],
   "source": [
    "# TODO: this is prototype of the functions that can be used for all scenarios\n",
    "# TODO: some of the code might be moved directly to scripts.helpers I suppose\n",
    "from scripts.tezos import deposit\n",
    "from scripts.helpers.etherlink.contract import (\n",
    "    EvmContractHelper,\n",
    "    make_filename,\n",
    ")\n",
    "from web3.types import TxReceipt\n",
    "from scripts import tezos\n",
    "\n",
    "\n",
    "class TokenProxyTesterHelper(EvmContractHelper):\n",
    "    ...\n",
    "    def set_parameters(\n",
    "        self,\n",
    "        # TODO: make some of the parameters optional and if not provided check the current storage value?\n",
    "        withdrawal_precompile: str,\n",
    "        routing_info: bytes,\n",
    "        amount: int,\n",
    "        ticketer: bytes,\n",
    "        content: bytes,\n",
    "        calls_count: int,\n",
    "    ) -> TxReceipt:\n",
    "        \"\"\"Replaces TokenProxyHelper parameters with provided\"\"\"\n",
    "\n",
    "        call = self.contract.functions.setParameters(\n",
    "            withdrawal_precompile, routing_info, amount, ticketer, content, calls_count\n",
    "        )\n",
    "\n",
    "        # TODO: this build_transaction can be created inside self.legacy_send\n",
    "        #       but for xtz withdrawal precompile call we need `value` to be provided too\n",
    "        transaction = call.build_transaction(\n",
    "            {\n",
    "                'from': self.account.address,\n",
    "                'nonce': self.web3.eth.get_transaction_count(self.account.address),\n",
    "                'chainId': self.web3.eth.chain_id,\n",
    "            }\n",
    "        )\n",
    "\n",
    "        return self.legacy_send(transaction)\n",
    "\n",
    "\n",
    "def deploy_token_proxy_tester(ticket, amount, router, receiver, calls_count = 0):\n",
    "    routing_info = make_routing_info(router, receiver)\n",
    "    ticketer_address_bytes = bytes.fromhex(make_address_bytes(ticket.ticketer))\n",
    "\n",
    "    # TODO: consider adding `to_bytes` method\n",
    "    ticket_content_bytes = bytes.fromhex(ticket.content.to_bytes_hex())\n",
    "\n",
    "    return TokenProxyTesterHelper.originate_from_file(\n",
    "        web3=web3,\n",
    "        account=etherlink_account,\n",
    "        filename=make_filename('TokenProxyTester'),\n",
    "        constructor_args=(\n",
    "            FA_WITHDRAWAL_PRECOMPILE,\n",
    "            routing_info,\n",
    "            amount,\n",
    "            ticketer_address_bytes,\n",
    "            ticket_content_bytes,\n",
    "            calls_count,\n",
    "        )\n",
    "    )\n",
    "\n",
    "'''\n",
    "def deposit(receiver, amount):\n",
    "    return tezos.deposit.callback(\n",
    "        token_bridge_helper_address=token_bridge_helper.address,\n",
    "        amount=amount,\n",
    "        receiver_address=receiver,\n",
    "        smart_rollup_address=SMART_ROLLUP_ADDRESS,\n",
    "        tezos_private_key=TEZOS_PRIVATE_KEY,\n",
    "        tezos_rpc_url=TEZOS_RPC_URL\n",
    "    )\n",
    "'''"
   ]
  },
  {
   "cell_type": "markdown",
   "id": "c1ba4185",
   "metadata": {},
   "source": [
    "### Reload TokenProxyTester\n",
    "- This logic should be moved to the Contract.from_address or some similar helpers, this have to be simplified"
   ]
  },
  {
   "cell_type": "code",
   "execution_count": 7,
   "id": "fb3f344f",
   "metadata": {},
   "outputs": [],
   "source": [
    "from scripts.helpers.etherlink import (\n",
    "    make_filename,\n",
    "    load_contract_type,\n",
    ")\n",
    "\n",
    "TokenProxyTesterContract = load_contract_type(web3, make_filename('TokenProxyTester'))\n",
    "token_proxy_tester = TokenProxyTesterHelper.from_address(TokenProxyTesterContract, web3, etherlink_account, token_proxy_tester.address)\n",
    "token_proxy_tester.address"
   ]
  },
  {
   "cell_type": "markdown",
   "id": "0b73241e",
   "metadata": {},
   "source": [
    "### Deploy TicketRouterTester:"
   ]
  },
  {
   "cell_type": "code",
   "execution_count": 30,
   "id": "70a8551f",
   "metadata": {},
   "outputs": [
    {
     "name": "stdout",
     "output_type": "stream",
     "text": [
      "Deploying TicketRouterTester:\n",
      "  - Deployer: `\u001b[96mtz1ekkzEN2LB1cpf7dCaonKt6x9KVd9YVydc\u001b[0m`\n",
      "  - Tezos RPC node: `\u001b[96mhttps://rpc.tzkt.io/parisnet/\u001b[0m`\n",
      "Successfully deployed TicketRouterTester, address: `\u001b[96mKT1RZKsU9CD4siruhkxwzuwshwmmdXeM2ia4\u001b[0m`\n"
     ]
    }
   ],
   "source": [
    "from scripts.helpers.contracts import TicketRouterTester\n",
    "import click\n",
    "\n",
    "# if we decide to make a function:\n",
    "silent = False\n",
    "tezos_rpc_url = TEZOS_RPC_URL\n",
    "\n",
    "# TODO: do I need some function which would make origination in the same way CLI works?\n",
    "# TODO: consider change `originate` to `make_originate_opg`\n",
    "#       and also it would be good to have real `originate` with wait and returning actual object\n",
    "# TODO: provide setup tools for ticket-router-tester in CLI too? OR at least during deployment?\n",
    "\n",
    "if not silent:\n",
    "    click.echo('Deploying TicketRouterTester:')\n",
    "    echo_variable('  - ', 'Deployer', tezos_account.key.public_key_hash())\n",
    "    echo_variable('  - ', 'Tezos RPC node', tezos_rpc_url)\n",
    "\n",
    "origination_opg = TicketRouterTester.originate(tezos_account).send()\n",
    "tezos_account.wait(origination_opg)\n",
    "ticket_router_tester = TicketRouterTester.from_opg(tezos_account, origination_opg)\n",
    "\n",
    "if not silent:\n",
    "    click.echo(\n",
    "        'Successfully deployed TicketRouterTester, address: ' + wrap(accent(ticket_router_tester.address))\n",
    "    )"
   ]
  },
  {
   "cell_type": "markdown",
   "id": "5533b584",
   "metadata": {},
   "source": [
    "### Reload TicketRouterTester"
   ]
  },
  {
   "cell_type": "code",
   "execution_count": 9,
   "id": "14ed176f",
   "metadata": {},
   "outputs": [
    {
     "data": {
      "text/plain": [
       "'KT1RZKsU9CD4siruhkxwzuwshwmmdXeM2ia4'"
      ]
     },
     "execution_count": 9,
     "metadata": {},
     "output_type": "execute_result"
    }
   ],
   "source": [
    "from scripts.helpers.contracts import TicketRouterTester\n",
    "ticket_router_tester = TicketRouterTester.from_address(tezos_account, 'KT1RZKsU9CD4siruhkxwzuwshwmmdXeM2ia4')\n",
    "ticket_router_tester.address"
   ]
  },
  {
   "cell_type": "markdown",
   "id": "b5404765",
   "metadata": {},
   "source": [
    "## Scenario A: `TokenProxyTester` withdraws tickets twice during withdrawal, but it has these tickets\n",
    "- setup:\n",
    "    - tester originated with callsCount=0, amount=10\n",
    "    - deposit 1000 tickets to the proxy from L1 via kernel\n",
    "    - tester resetup to have callsCount=1, amount=10\n",
    "- test:\n",
    "    - user calls `fa_withdrawal_precompile` to withdraw 1 ticket from the tester\n",
    "        * tester withdraws 10 more tickets in the internal call\n",
    "    - check transaction succeed\n",
    "    - check that 989 tickets left on tester\n",
    "    - check that 2 withdrawal events created, each for 2 tickets\n",
    "    - check that 2 outbox messages created\n",
    "    - deposit 21 tickets to the proxy from L1 via kernel\n",
    "        * tester withdraws 10 more tickets in the internal call\n",
    "    - check that 1 outbox message created\n",
    "    - check that 1 deposit event created\n",
    "    - check that 1000 tickets left on tester\n",
    "    - user tries to withdraw > 990 tickets from tester and transaction fails\n",
    "    - user tries tp withdraw 990 tickets and succeed\n",
    "        * tester withdraws 10 more tickets in the internal call\n",
    "    - check that two withdrawal events and 2 outbox messages created\n",
    "    - deposit 15 tickets to the proxy from L1 via kernel\n",
    "        * tester tries to withdraw 10 more tickets in the internal call but not succeed\n",
    "    - check deposit succeed, deposit event created and tester recieves 15 tickets"
   ]
  },
  {
   "cell_type": "code",
   "execution_count": 37,
   "id": "6767fb64",
   "metadata": {},
   "outputs": [
    {
     "data": {
      "text/plain": [
       "'0x11e1D330879bC3cc54c0F698Dd080F326C6BD5c4'"
      ]
     },
     "execution_count": 37,
     "metadata": {},
     "output_type": "execute_result"
    }
   ],
   "source": [
    "withdraw_amount = 10\n",
    "receiver = get_address(tezos_account)\n",
    "ticket = ticketer.read_ticket()\n",
    "\n",
    "token_proxy_tester = deploy_token_proxy_tester(ticket, withdraw_amount, ticketer, receiver)\n",
    "token_proxy_tester.address"
   ]
  },
  {
   "cell_type": "code",
   "execution_count": 38,
   "id": "bed366ac",
   "metadata": {},
   "outputs": [],
   "source": [
    "def etherlink_address_to_bytes(etherlink_address):\n",
    "    return bytes.fromhex(etherlink_address.replace('0x', ''))\n",
    "\n",
    "# TODO: do I need some L2Addressable type for these kind of logic?\n",
    "# TODO: rename another make_routing_info to make_withdrawal_routing_info?\n",
    "def make_deposit_routing_info(receiver, router):\n",
    "    return (\n",
    "        etherlink_address_to_bytes(receiver.address)\n",
    "        + etherlink_address_to_bytes(router.address)\n",
    "    )"
   ]
  },
  {
   "cell_type": "code",
   "execution_count": 39,
   "id": "0a7b2717",
   "metadata": {},
   "outputs": [
    {
     "name": "stdout",
     "output_type": "stream",
     "text": [
      "Setting up \u001b[96mTicketRouterTester\u001b[0m to the \u001b[96mrollupDeposit\u001b[0m mode:\n",
      "  - Target: `\u001b[96mtz1ekkzEN2LB1cpf7dCaonKt6x9KVd9YVydc\u001b[0m`\n",
      "  - Routing Info: `\u001b[96m0x11e1d330879bc3cc54c0f698dd080f326c6bd5c411e1d330879bc3cc54c0f698dd080f326c6bd5c4\u001b[0m`\n",
      "Successfully set, tx hash: `\u001b[96moos6U5GPc1q8w6evDe8fXkdzY6CDP448trkEt5hJp3mSeyqqJKY\u001b[0m`\n"
     ]
    }
   ],
   "source": [
    "# NOTE: this is wrong deposit, it uses Token Bridge Helper to deposit\n",
    "# - need to either make another Token Bridge Helper for token_proxy_tester as ERC20\n",
    "# - either deploy TicketRouterTester on L1 and reuse it for deposits\n",
    "# deposit(token_proxy_tester.address, 10)\n",
    "\n",
    "# TODO: make a function to setup TicketRouterTester to different modes? maybe even CLI?\n",
    "target = SMART_ROLLUP_ADDRESS\n",
    "deposit_info = make_deposit_routing_info(token_proxy_tester, token_proxy_tester)\n",
    "\n",
    "click.echo(\n",
    "    'Setting up ' + accent('TicketRouterTester')\n",
    "    + ' to the ' + accent('rollupDeposit') + ' mode:'\n",
    ")\n",
    "echo_variable('  - ', 'Target', tezos_account.key.public_key_hash())\n",
    "echo_variable('  - ', 'Routing Info', '0x' + deposit_info.hex())\n",
    "\n",
    "set_deposit_opg = ticket_router_tester.set_rollup_deposit(\n",
    "    target=target,\n",
    "    routing_info=deposit_info,\n",
    ").send()\n",
    "\n",
    "tezos_account.wait(set_deposit_opg)\n",
    "click.echo(\n",
    "    'Successfully set, tx hash: ' + wrap(accent(set_deposit_opg.hash()))\n",
    ")"
   ]
  },
  {
   "cell_type": "code",
   "execution_count": 40,
   "id": "0016d59f",
   "metadata": {},
   "outputs": [
    {
     "name": "stdout",
     "output_type": "stream",
     "text": [
      "\u001b[96mFA2\u001b[0m token, address: `\u001b[96mKT1Kf9c5ufLWE89N4zBWuBqsEMa5G2gFDRSr\u001b[0m`, id: `\u001b[96m9000\u001b[0m`\n"
     ]
    }
   ],
   "source": [
    "# TODO: create echo.py? and move all these echo helpers here?\n",
    "# OR: maybe it would be OK to move this logic into tokens? not sure this is good idea\n",
    "\n",
    "def format_token_info(token):\n",
    "    token_dict = token.as_dict()\n",
    "    if 'fa2' in token_dict:\n",
    "        return (\n",
    "            accent('FA2') + ' token, address: ' + wrap(accent(token.address))\n",
    "            + ', id: ' + wrap(accent(token.token_id))\n",
    "        )\n",
    "    elif 'fa12' in token_dict:\n",
    "        return (\n",
    "            accent('FA1.2') + 'token, address' + wrap(accent(token.address))\n",
    "        )\n",
    "    else:\n",
    "        return (\n",
    "            'Undefined token type, address: ' + wrap(accent(token.address))\n",
    "            + ', id: ' + wrap(accent(token.token_id))\n",
    "        )\n",
    "\n",
    "click.echo(format_token_info(ticketer.get_token()))"
   ]
  },
  {
   "cell_type": "markdown",
   "id": "2906b3e1",
   "metadata": {},
   "source": [
    "### TODO: add these steps to the setup?"
   ]
  },
  {
   "cell_type": "code",
   "execution_count": 41,
   "id": "99bcd7b5",
   "metadata": {},
   "outputs": [
    {
     "name": "stdout",
     "output_type": "stream",
     "text": [
      "Wrapping \u001b[96mFA2\u001b[0m token, address: `\u001b[96mKT1Kf9c5ufLWE89N4zBWuBqsEMa5G2gFDRSr\u001b[0m`, id: `\u001b[96m9000\u001b[0m` tokens to tickets:\n",
      "  - Token holder: `\u001b[96mtz1ekkzEN2LB1cpf7dCaonKt6x9KVd9YVydc\u001b[0m`\n",
      "  - Ticketer: `\u001b[96mKT1TQiSYR6VhFHso5xkEYR3Fgg5Vsz8iRaK7\u001b[0m`\n",
      "  - Amount: `\u001b[96m1000000\u001b[0m`\n",
      "Successfully wrapped, tx hash: `\u001b[96mooxU1sr54wkDVUYhs9vETch23DYirfyahNruuHPHNJ45sGsrqFm\u001b[0m`\n"
     ]
    }
   ],
   "source": [
    "# TODO: make a function to wrap tokens to tickets?\n",
    "\n",
    "amount = 1_000_000\n",
    "click.echo(\n",
    "    'Wrapping ' + format_token_info(ticketer.get_token()) + ' tokens to tickets:'\n",
    ")\n",
    "echo_variable('  - ', 'Token holder', tezos_account.key.public_key_hash())\n",
    "echo_variable('  - ', 'Ticketer', ticketer.address)\n",
    "echo_variable('  - ', 'Amount', amount)\n",
    "\n",
    "wrap_opg = tezos_account.bulk(\n",
    "    ticketer.get_token().allow(tezos_account, ticketer),\n",
    "    ticketer.deposit(amount),\n",
    ").send()\n",
    "\n",
    "tezos_account.wait(wrap_opg)\n",
    "click.echo(\n",
    "    'Successfully wrapped, tx hash: ' + wrap(accent(wrap_opg.hash()))\n",
    ")"
   ]
  },
  {
   "cell_type": "code",
   "execution_count": 42,
   "id": "7cdeb47b",
   "metadata": {},
   "outputs": [
    {
     "name": "stdout",
     "output_type": "stream",
     "text": [
      "Transfering tickets:\n",
      "  - Sender: `\u001b[96mtz1ekkzEN2LB1cpf7dCaonKt6x9KVd9YVydc\u001b[0m`\n",
      "  - Ticketer address: `\u001b[96mKT1TQiSYR6VhFHso5xkEYR3Fgg5Vsz8iRaK7\u001b[0m`\n",
      "  - Ticket content: `\u001b[96m0x0707000005090a000000c00502000000ba07040100000010636f6e74726163745f616464726573730a000000244b54314b6639633575664c574538394e347a425775427173454d61354732674644525372070401000000046e616d650a00000022566172696f75732053656375726974792054657374696e67205363656e6172696f730704010000000673796d626f6c0a00000005765365635407040100000008746f6b656e5f69640a00000004393030300704010000000a746f6b656e5f747970650a00000003464132\u001b[0m`\n",
      "  - Amount: `\u001b[96m1000\u001b[0m`\n",
      "  - Receiver: `\u001b[96mKT1RZKsU9CD4siruhkxwzuwshwmmdXeM2ia4\u001b[0m`\n",
      "Successfully transfered, tx hash: `\u001b[96mooQ9F4qaJriSpvPxANAyJjtAUdCKkkbEqy1yPsmHgRHUh8yphrQ\u001b[0m`\n"
     ]
    }
   ],
   "source": [
    "# TODO: add ticket transfer function?\n",
    "\n",
    "def transfer_tickets(ticket, sender, receiver):\n",
    "    click.echo('Transfering tickets:')\n",
    "    echo_variable('  - ', 'Sender', get_address(sender))\n",
    "    echo_variable('  - ', 'Ticketer address', ticketer.address)\n",
    "    echo_variable('  - ', 'Ticket content', '0x' + ticketer.read_content().to_bytes_hex())\n",
    "    echo_variable('  - ', 'Amount', ticket.amount)\n",
    "    echo_variable('  - ', 'Receiver', get_address(receiver))\n",
    "\n",
    "    transfer_opg = ticket.transfer(receiver).send()\n",
    "\n",
    "    tezos_account.wait(transfer_opg)\n",
    "    click.echo(\n",
    "        'Successfully transfered, tx hash: ' + wrap(accent(transfer_opg.hash()))\n",
    "    )\n",
    "    return transfer_opg\n",
    "\n",
    "ticket = ticketer.read_ticket(tezos_account)\n",
    "ticket, _ = ticket.split(1_000)\n",
    "\n",
    "opg = transfer_tickets(\n",
    "    ticket=ticket,\n",
    "    sender=tezos_account,\n",
    "    receiver=ticket_router_tester,\n",
    ")"
   ]
  },
  {
   "cell_type": "markdown",
   "id": "dffff58b",
   "metadata": {},
   "source": [
    "### Getting ticket table value:"
   ]
  },
  {
   "cell_type": "code",
   "execution_count": 43,
   "id": "25d4b700",
   "metadata": {},
   "outputs": [
    {
     "data": {
      "text/plain": [
       "1000"
      ]
     },
     "execution_count": 43,
     "metadata": {},
     "output_type": "execute_result"
    }
   ],
   "source": [
    "from urllib.parse import urlparse, urlunparse, urlencode\n",
    "import requests\n",
    "from typing import Any, TypedDict\n",
    "from scripts.helpers.ticket import Ticket\n",
    "\n",
    "def make_ticket_table_key(ticket: Ticket, owner_address: str):\n",
    "    kernel_address = '0000000000000000000000000000000000000000'\n",
    "    address = owner_address.replace('0x', '').lower()\n",
    "    # TODO: is it required to add leading zeroes?\n",
    "    ticket_hash_hex = hex(ticket.hash())[2:].lower()\n",
    "    key = f'/evm/world_state/eth_accounts/{kernel_address}/ticket_table/{ticket_hash_hex}/{address}'\n",
    "    return key\n",
    "\n",
    "\n",
    "def get_durable_storage_value(rollup_node_url: str, key: str):\n",
    "    parts = urlparse(rollup_node_url)\n",
    "    parts = parts._replace(\n",
    "        path=f'global/block/head/durable/wasm_2_0_0/value',\n",
    "        query=urlencode(dict(key=key)),\n",
    "    )\n",
    "    url = urlunparse(parts)\n",
    "    return requests.get(url).json()\n",
    "\n",
    "def get_tickets_count(rollup_node_url: str, ticket: Ticket, owner_address: str):\n",
    "    storage_value = get_durable_storage_value(\n",
    "        rollup_node_url,\n",
    "        make_ticket_table_key(ticket, owner_address),\n",
    "    )\n",
    "    if storage_value is None:\n",
    "        raise Exception('No tickets')  # TODO: need to find a way how to handle this, maybe return 0?\n",
    "    return int.from_bytes(bytes.fromhex(storage_value), 'little')\n",
    "\n",
    "result = get_tickets_count(ETHERLINK_ROLLUP_NODE_URL, ticket, token_proxy_tester.address)\n",
    "result"
   ]
  },
  {
   "cell_type": "markdown",
   "id": "853bd0ba",
   "metadata": {},
   "source": [
    "### Setup to make 1 call:\n",
    "- need to find a way to simplify this setup, maybe reuse some logic from deployment, as this reuse the same parameters:"
   ]
  },
  {
   "cell_type": "code",
   "execution_count": 44,
   "id": "a32d835d",
   "metadata": {},
   "outputs": [
    {
     "data": {
      "text/plain": [
       "AttributeDict({'transactionHash': HexBytes('0x400ec349fd524855062c0d7dac9fe2f76a11c13dd5e3de6a072e04de149ad7d5'),\n",
       " 'transactionIndex': 0,\n",
       " 'blockHash': HexBytes('0x28b8f38ad35df8b6987a67fcd5dd63a69406285b5650394c79cedaffdb110c78'),\n",
       " 'blockNumber': 37732,\n",
       " 'from': '0x7e6f6CCFe485a087F0F819eaBfDBfb1a49b97677',\n",
       " 'to': '0x11e1D330879bC3cc54c0F698Dd080F326C6BD5c4',\n",
       " 'cumulativeGasUsed': 2843069,\n",
       " 'effectiveGasPrice': 1000000000,\n",
       " 'gasUsed': 2843069,\n",
       " 'logs': [],\n",
       " 'logsBloom': HexBytes('0x00000000000000000000000000000000000000000000000000000000000000000000000000000000000000000000000000000000000000000000000000000000000000000000000000000000000000000000000000000000000000000000000000000000000000000000000000000000000000000000000000000000000000000000000000000000000000000000000000000000000000000000000000000000000000000000000000000000000000000000000000000000000000000000000000000000000000000000000000000000000000000000000000000000000000000000000000000000000000000000000000000000000000000000000000000000'),\n",
       " 'type': 2,\n",
       " 'status': 1,\n",
       " 'contractAddress': None})"
      ]
     },
     "execution_count": 44,
     "metadata": {},
     "output_type": "execute_result"
    }
   ],
   "source": [
    "# TODO: make a function to setup TokenProxyTester with echo?\n",
    "\n",
    "withdraw_amount = 10\n",
    "receiver = tezos_account\n",
    "ticket = ticketer.read_ticket()\n",
    "ticketer_address_bytes = bytes.fromhex(make_address_bytes(ticket.ticketer))\n",
    "ticket_content_bytes = bytes.fromhex(ticket.content.to_bytes_hex())\n",
    "\n",
    "result = token_proxy_tester.set_parameters(\n",
    "    withdrawal_precompile=FA_WITHDRAWAL_PRECOMPILE,\n",
    "    routing_info=make_routing_info(ticketer, receiver),\n",
    "    amount=withdraw_amount,\n",
    "    ticketer=ticketer_address_bytes,\n",
    "    content=ticket_content_bytes,\n",
    "    calls_count=1\n",
    ")\n",
    "\n",
    "result"
   ]
  },
  {
   "cell_type": "code",
   "execution_count": 45,
   "id": "89a22463",
   "metadata": {},
   "outputs": [
    {
     "name": "stdout",
     "output_type": "stream",
     "text": [
      "Making FA withdrawal, ERC20 token: `\u001b[96m0x11e1D330879bC3cc54c0F698Dd080F326C6BD5c4\u001b[0m`:\n",
      "  - Executor: `\u001b[96m0x7e6f6CCFe485a087F0F819eaBfDBfb1a49b97677\u001b[0m`\n",
      "  - Etherlink RPC node: `\u001b[96mhttps://etherlink.dipdup.net\u001b[0m`\n",
      "  - Withdrawal params:\n",
      "      * Ticket owner: `\u001b[96m0x11e1D330879bC3cc54c0F698Dd080F326C6BD5c4\u001b[0m`\n",
      "      * Receiver: `\u001b[96mtz1ekkzEN2LB1cpf7dCaonKt6x9KVd9YVydc\u001b[0m`\n",
      "      * Router: `\u001b[96mKT1TQiSYR6VhFHso5xkEYR3Fgg5Vsz8iRaK7\u001b[0m`\n",
      "      * Routing info: `\u001b[96m0x0000d1b03118754a8e193b3e5d3a7cded976f4fd425601ce839f3e5187c0abec444760a58e950b675a334100\u001b[0m`\n",
      "      * Amount: `\u001b[96m1\u001b[0m`\n",
      "      * Ticketer address bytes: `\u001b[96m0x01ce839f3e5187c0abec444760a58e950b675a334100\u001b[0m`\n",
      "      * Content bytes: `\u001b[96m0x0707000005090a000000c00502000000ba07040100000010636f6e74726163745f616464726573730a000000244b54314b6639633575664c574538394e347a425775427173454d61354732674644525372070401000000046e616d650a00000022566172696f75732053656375726974792054657374696e67205363656e6172696f730704010000000673796d626f6c0a00000005765365635407040100000008746f6b656e5f69640a00000004393030300704010000000a746f6b656e5f747970650a00000003464132\u001b[0m`\n",
      "Successfully initiated FA withdrawal, tx hash: `\u001b[96m0x277429bd430e06cefe7425ce11dd6080c4f4632abdaed0c5c8ba61ea7867cab2\u001b[0m`\n"
     ]
    },
    {
     "data": {
      "text/plain": [
       "'0x277429bd430e06cefe7425ce11dd6080c4f4632abdaed0c5c8ba61ea7867cab2'"
      ]
     },
     "execution_count": 45,
     "metadata": {},
     "output_type": "execute_result"
    }
   ],
   "source": [
    "# TODO: make withdraw function too:\n",
    "from scripts.etherlink import withdraw\n",
    "\n",
    "withdraw.callback(\n",
    "    erc20_proxy_address=token_proxy_tester.address,\n",
    "    tezos_side_router_address=ticketer.address,\n",
    "    amount=1,\n",
    "    # TODO: consider changing this to ticketer_address_bytes_hex ?\n",
    "    ticketer_address_bytes=make_address_bytes(ticketer.address),\n",
    "    # TODO: consider changing this to ticket_content_bytes_hex ?\n",
    "    ticket_content_bytes=ticketer.read_content().to_bytes_hex(),\n",
    "    receiver_address=get_address(tezos_account),\n",
    "    withdraw_precompile=FA_WITHDRAWAL_PRECOMPILE,\n",
    "    etherlink_private_key=ETHERLINK_PRIVATE_KEY,\n",
    "    etherlink_rpc_url=ETHERLINK_RPC_URL,\n",
    ")"
   ]
  },
  {
   "cell_type": "markdown",
   "id": "f02f0209",
   "metadata": {},
   "source": [
    "- checking that it has 11 tokens less (1_000 - 11 = 989)"
   ]
  },
  {
   "cell_type": "markdown",
   "id": "a2efab15",
   "metadata": {},
   "source": [
    "### Need to wait until rollup processes transaction, not sure what is the best way to do this"
   ]
  },
  {
   "cell_type": "code",
   "execution_count": 46,
   "id": "07c5ce27",
   "metadata": {},
   "outputs": [
    {
     "data": {
      "text/plain": [
       "989"
      ]
     },
     "execution_count": 46,
     "metadata": {},
     "output_type": "execute_result"
    }
   ],
   "source": [
    "result = get_tickets_count(ETHERLINK_ROLLUP_NODE_URL, ticket, token_proxy_tester.address)\n",
    "result"
   ]
  },
  {
   "cell_type": "code",
   "execution_count": 47,
   "id": "863635af",
   "metadata": {},
   "outputs": [
    {
     "name": "stdout",
     "output_type": "stream",
     "text": [
      "Transfering tickets:\n",
      "  - Sender: `\u001b[96mtz1ekkzEN2LB1cpf7dCaonKt6x9KVd9YVydc\u001b[0m`\n",
      "  - Ticketer address: `\u001b[96mKT1TQiSYR6VhFHso5xkEYR3Fgg5Vsz8iRaK7\u001b[0m`\n",
      "  - Ticket content: `\u001b[96m0x0707000005090a000000c00502000000ba07040100000010636f6e74726163745f616464726573730a000000244b54314b6639633575664c574538394e347a425775427173454d61354732674644525372070401000000046e616d650a00000022566172696f75732053656375726974792054657374696e67205363656e6172696f730704010000000673796d626f6c0a00000005765365635407040100000008746f6b656e5f69640a00000004393030300704010000000a746f6b656e5f747970650a00000003464132\u001b[0m`\n",
      "  - Amount: `\u001b[96m21\u001b[0m`\n",
      "  - Receiver: `\u001b[96mKT1RZKsU9CD4siruhkxwzuwshwmmdXeM2ia4\u001b[0m`\n",
      "Successfully transfered, tx hash: `\u001b[96monvymB4uVYxmhL31jMu3GhZ2sGbLPMGCdMbRXfF8E7hmRXbwH54\u001b[0m`\n"
     ]
    }
   ],
   "source": [
    "ticket = ticketer.read_ticket(tezos_account)\n",
    "ticket, _ = ticket.split(21)\n",
    "\n",
    "opg = transfer_tickets(\n",
    "    ticket=ticket,\n",
    "    sender=tezos_account,\n",
    "    receiver=ticket_router_tester,\n",
    ")"
   ]
  },
  {
   "cell_type": "code",
   "execution_count": 48,
   "id": "0f000591",
   "metadata": {},
   "outputs": [
    {
     "data": {
      "text/plain": [
       "1000"
      ]
     },
     "execution_count": 48,
     "metadata": {},
     "output_type": "execute_result"
    }
   ],
   "source": [
    "result = get_tickets_count(ETHERLINK_ROLLUP_NODE_URL, ticket, token_proxy_tester.address)\n",
    "result"
   ]
  },
  {
   "cell_type": "markdown",
   "id": "cf725332",
   "metadata": {},
   "source": [
    "### The following checked with 1000 > amount > 990 and it fails, but 990 works:"
   ]
  },
  {
   "cell_type": "code",
   "execution_count": 50,
   "id": "0ab6db96",
   "metadata": {},
   "outputs": [
    {
     "name": "stdout",
     "output_type": "stream",
     "text": [
      "Making FA withdrawal, ERC20 token: `\u001b[96m0x11e1D330879bC3cc54c0F698Dd080F326C6BD5c4\u001b[0m`:\n",
      "  - Executor: `\u001b[96m0x7e6f6CCFe485a087F0F819eaBfDBfb1a49b97677\u001b[0m`\n",
      "  - Etherlink RPC node: `\u001b[96mhttps://etherlink.dipdup.net\u001b[0m`\n",
      "  - Withdrawal params:\n",
      "      * Ticket owner: `\u001b[96m0x11e1D330879bC3cc54c0F698Dd080F326C6BD5c4\u001b[0m`\n",
      "      * Receiver: `\u001b[96mtz1ekkzEN2LB1cpf7dCaonKt6x9KVd9YVydc\u001b[0m`\n",
      "      * Router: `\u001b[96mKT1TQiSYR6VhFHso5xkEYR3Fgg5Vsz8iRaK7\u001b[0m`\n",
      "      * Routing info: `\u001b[96m0x0000d1b03118754a8e193b3e5d3a7cded976f4fd425601ce839f3e5187c0abec444760a58e950b675a334100\u001b[0m`\n",
      "      * Amount: `\u001b[96m990\u001b[0m`\n",
      "      * Ticketer address bytes: `\u001b[96m0x01ce839f3e5187c0abec444760a58e950b675a334100\u001b[0m`\n",
      "      * Content bytes: `\u001b[96m0x0707000005090a000000c00502000000ba07040100000010636f6e74726163745f616464726573730a000000244b54314b6639633575664c574538394e347a425775427173454d61354732674644525372070401000000046e616d650a00000022566172696f75732053656375726974792054657374696e67205363656e6172696f730704010000000673796d626f6c0a00000005765365635407040100000008746f6b656e5f69640a00000004393030300704010000000a746f6b656e5f747970650a00000003464132\u001b[0m`\n",
      "Successfully initiated FA withdrawal, tx hash: `\u001b[96m0xe563c54dab81fb26a8df3694316986546b484dcbbee2128857fd783f0aebf217\u001b[0m`\n"
     ]
    }
   ],
   "source": [
    "result = withdraw.callback(\n",
    "    erc20_proxy_address=token_proxy_tester.address,\n",
    "    tezos_side_router_address=ticketer.address,\n",
    "    amount=990,\n",
    "    # TODO: consider changing this to ticketer_address_bytes_hex ?\n",
    "    ticketer_address_bytes=make_address_bytes(ticketer.address),\n",
    "    # TODO: consider changing this to ticket_content_bytes_hex ?\n",
    "    ticket_content_bytes=ticketer.read_content().to_bytes_hex(),\n",
    "    receiver_address=get_address(tezos_account),\n",
    "    withdraw_precompile=FA_WITHDRAWAL_PRECOMPILE,\n",
    "    etherlink_private_key=ETHERLINK_PRIVATE_KEY,\n",
    "    etherlink_rpc_url=ETHERLINK_RPC_URL,\n",
    ")"
   ]
  },
  {
   "cell_type": "code",
   "execution_count": 51,
   "id": "06d41481",
   "metadata": {},
   "outputs": [
    {
     "data": {
      "text/plain": [
       "'0xe563c54dab81fb26a8df3694316986546b484dcbbee2128857fd783f0aebf217'"
      ]
     },
     "execution_count": 51,
     "metadata": {},
     "output_type": "execute_result"
    }
   ],
   "source": [
    "result"
   ]
  },
  {
   "cell_type": "code",
   "execution_count": 52,
   "id": "fc6784bb",
   "metadata": {},
   "outputs": [
    {
     "data": {
      "text/plain": [
       "0"
      ]
     },
     "execution_count": 52,
     "metadata": {},
     "output_type": "execute_result"
    }
   ],
   "source": [
    "get_tickets_count(ETHERLINK_ROLLUP_NODE_URL, ticket, token_proxy_tester.address)"
   ]
  },
  {
   "cell_type": "markdown",
   "id": "ffb0685b",
   "metadata": {},
   "source": [
    "### OK, lets deposit when contract tries to make withdrawal when there are no tickets, but deposit still should succeed because even if it failed the receiver should get tickets and receiver is the TokenProxyTester:"
   ]
  },
  {
   "cell_type": "code",
   "execution_count": 53,
   "id": "6934e0ac",
   "metadata": {},
   "outputs": [
    {
     "name": "stdout",
     "output_type": "stream",
     "text": [
      "Transfering tickets:\n",
      "  - Sender: `\u001b[96mtz1ekkzEN2LB1cpf7dCaonKt6x9KVd9YVydc\u001b[0m`\n",
      "  - Ticketer address: `\u001b[96mKT1TQiSYR6VhFHso5xkEYR3Fgg5Vsz8iRaK7\u001b[0m`\n",
      "  - Ticket content: `\u001b[96m0x0707000005090a000000c00502000000ba07040100000010636f6e74726163745f616464726573730a000000244b54314b6639633575664c574538394e347a425775427173454d61354732674644525372070401000000046e616d650a00000022566172696f75732053656375726974792054657374696e67205363656e6172696f730704010000000673796d626f6c0a00000005765365635407040100000008746f6b656e5f69640a00000004393030300704010000000a746f6b656e5f747970650a00000003464132\u001b[0m`\n",
      "  - Amount: `\u001b[96m15\u001b[0m`\n",
      "  - Receiver: `\u001b[96mKT1RZKsU9CD4siruhkxwzuwshwmmdXeM2ia4\u001b[0m`\n",
      "Successfully transfered, tx hash: `\u001b[96moosGgfeP3nXJRgeKe2vpwmgNze4oqp4Kj3WpDWgTzUpp2Xhy522\u001b[0m`\n"
     ]
    }
   ],
   "source": [
    "ticket = ticketer.read_ticket(tezos_account)\n",
    "ticket, _ = ticket.split(15)\n",
    "\n",
    "opg = transfer_tickets(\n",
    "    ticket=ticket,\n",
    "    sender=tezos_account,\n",
    "    receiver=ticket_router_tester,\n",
    ")"
   ]
  },
  {
   "cell_type": "code",
   "execution_count": 61,
   "id": "7b05a4b4",
   "metadata": {
    "scrolled": true
   },
   "outputs": [
    {
     "data": {
      "text/plain": [
       "15"
      ]
     },
     "execution_count": 61,
     "metadata": {},
     "output_type": "execute_result"
    }
   ],
   "source": [
    "get_tickets_count(ETHERLINK_ROLLUP_NODE_URL, ticket, token_proxy_tester.address)"
   ]
  },
  {
   "cell_type": "markdown",
   "id": "4c5d48fc",
   "metadata": {},
   "source": [
    "### Deposit one more time:"
   ]
  },
  {
   "cell_type": "code",
   "execution_count": 165,
   "id": "a2423379",
   "metadata": {},
   "outputs": [
    {
     "name": "stdout",
     "output_type": "stream",
     "text": [
      "Transfering tickets:\n",
      "  - Sender: `\u001b[96mtz1ekkzEN2LB1cpf7dCaonKt6x9KVd9YVydc\u001b[0m`\n",
      "  - Ticketer address: `\u001b[96mKT1TQiSYR6VhFHso5xkEYR3Fgg5Vsz8iRaK7\u001b[0m`\n",
      "  - Ticket content: `\u001b[96m0x0707000005090a000000c00502000000ba07040100000010636f6e74726163745f616464726573730a000000244b54314b6639633575664c574538394e347a425775427173454d61354732674644525372070401000000046e616d650a00000022566172696f75732053656375726974792054657374696e67205363656e6172696f730704010000000673796d626f6c0a00000005765365635407040100000008746f6b656e5f69640a00000004393030300704010000000a746f6b656e5f747970650a00000003464132\u001b[0m`\n",
      "  - Amount: `\u001b[96m1\u001b[0m`\n",
      "  - Receiver: `\u001b[96mKT1RZKsU9CD4siruhkxwzuwshwmmdXeM2ia4\u001b[0m`\n",
      "Successfully transfered, tx hash: `\u001b[96mooSwjstkK2xcWKrJJNVvbc2hihbGf2WrrwpCkLhADCRhaPNRbts\u001b[0m`\n"
     ]
    }
   ],
   "source": [
    "ticket = ticketer.read_ticket(tezos_account)\n",
    "ticket, _ = ticket.split(1)\n",
    "\n",
    "opg = transfer_tickets(\n",
    "    ticket=ticket,\n",
    "    sender=tezos_account,\n",
    "    receiver=ticket_router_tester,\n",
    ")"
   ]
  },
  {
   "cell_type": "code",
   "execution_count": 166,
   "id": "a76ed17a",
   "metadata": {},
   "outputs": [
    {
     "data": {
      "text/plain": [
       "6"
      ]
     },
     "execution_count": 166,
     "metadata": {},
     "output_type": "execute_result"
    }
   ],
   "source": [
    "get_tickets_count(ETHERLINK_ROLLUP_NODE_URL, ticket, token_proxy_tester.address)"
   ]
  },
  {
   "cell_type": "markdown",
   "id": "1e650881",
   "metadata": {},
   "source": [
    "### User withdrawals 6 tickets, this shouldn't be enough for internal withdrawal of 10 tickets:"
   ]
  },
  {
   "cell_type": "code",
   "execution_count": null,
   "id": "571bcb5e",
   "metadata": {},
   "outputs": [],
   "source": [
    "result = withdraw.callback(\n",
    "    erc20_proxy_address=token_proxy_tester.address,\n",
    "    tezos_side_router_address=ticketer.address,\n",
    "    amount=6,\n",
    "    # TODO: consider changing this to ticketer_address_bytes_hex ?\n",
    "    ticketer_address_bytes=make_address_bytes(ticketer.address),\n",
    "    # TODO: consider changing this to ticket_content_bytes_hex ?\n",
    "    ticket_content_bytes=ticketer.read_content().to_bytes_hex(),\n",
    "    receiver_address=get_address(tezos_account),\n",
    "    withdraw_precompile=FA_WITHDRAWAL_PRECOMPILE,\n",
    "    etherlink_private_key=ETHERLINK_PRIVATE_KEY,\n",
    "    etherlink_rpc_url=ETHERLINK_RPC_URL,\n",
    ")"
   ]
  },
  {
   "cell_type": "markdown",
   "id": "f359f733",
   "metadata": {},
   "source": [
    "## ?\n",
    "- Scenario B: `TokenProxyTester` withdraws tickets twice during withdrawal, but it has not enough tickers\n",
    "- setup:\n",
    "    - tester originated with callsCount=0\n",
    "    - deposit 10 tickets to the proxy from L1 via kernel\n",
    "    - tester resetup to have callsCount=1, amount=10\n",
    "- test:\n",
    "    - user calls `fa_withdrawal_precompile` to withdraw 1 ticket from proxy\n",
    "        * tester tries to withdraw 10 tickets more in the internal call\n",
    "    - check that transaction failed\n",
    "    - check that `fa_withdrawal_precompile` not broken after this failure"
   ]
  },
  {
   "cell_type": "markdown",
   "id": "6fd12217",
   "metadata": {},
   "source": [
    "## ?\n",
    "- Scenario C: `TokenProxyTester` withdraws tickets during deposit\n",
    "- setup:\n",
    "    - tester originated with callsCount=1, amount=11\n",
    "- test:\n",
    "    - deposit 10 tickets to the proxy from L1 via kernel\n",
    "        * tester tries to withdraw 11 tickets and fails"
   ]
  },
  {
   "cell_type": "markdown",
   "id": "f19185eb",
   "metadata": {},
   "source": [
    "## ?\n",
    "- Scenario D: with successful withdrawal during deposit (withdraw less than deposit)\n",
    "- TODO: consider making abstract test for deposit/withdrawal with different setups?\n",
    "    - some kind of fuzz testing? parametrize all of the scenarios into one and check them all? and try to find more?"
   ]
  },
  {
   "cell_type": "markdown",
   "id": "f28fd4bf",
   "metadata": {},
   "source": [
    "### Outbox Enumerator"
   ]
  },
  {
   "cell_type": "code",
   "execution_count": 65,
   "id": "adb5474e",
   "metadata": {},
   "outputs": [
    {
     "data": {
      "text/plain": [
       "'0x4da03736c18D4DDbCe44bED5039bE08B86360834'"
      ]
     },
     "execution_count": 65,
     "metadata": {},
     "output_type": "execute_result"
    }
   ],
   "source": [
    "from scripts.helpers.etherlink.contract import (\n",
    "    EvmContractHelper,\n",
    "    make_filename,\n",
    ")\n",
    "\n",
    "class OutboxEnumeratorHelper(EvmContractHelper): ...\n",
    "\n",
    "\n",
    "outbox_enumerator = OutboxEnumeratorHelper.originate_from_file(\n",
    "    web3=web3,\n",
    "    account=etherlink_account,\n",
    "    filename=make_filename('OutboxEnumerator'),\n",
    "    constructor_args=(\n",
    "        XTZ_WITHDRAWAL_PRECOMPILE,\n",
    "        450,\n",
    "    )\n",
    ")\n",
    "outbox_enumerator.address"
   ]
  },
  {
   "cell_type": "code",
   "execution_count": 66,
   "id": "41809bac",
   "metadata": {},
   "outputs": [
    {
     "name": "stdout",
     "output_type": "stream",
     "text": [
      "Making XTZ deposit using Helper `\u001b[96mKT1MJxf4KVN3sosR99VRG7WBbWTJtAyWUJt9\u001b[0m`:\n",
      "  - Executor: `\u001b[96mtz1ekkzEN2LB1cpf7dCaonKt6x9KVd9YVydc\u001b[0m`\n",
      "  - Tezos RPC node: `\u001b[96mhttps://rpc.tzkt.io/parisnet/\u001b[0m`\n",
      "  - XTZ deposit params:\n",
      "      * Smart Rollup address: `\u001b[96msr1G9N4WzRF79GeGKVd1vUDUg2NSrFGNGAfA\u001b[0m`\n",
      "      * Receiver address: `\u001b[96m0x4da03736c18D4DDbCe44bED5039bE08B86360834\u001b[0m`\n",
      "      * Amount: `\u001b[96m1000000\u001b[0m`\n",
      "Successfully executed XTZ deposit, tx hash: `\u001b[96monqXvAsxKaNzPMqUr5Wom9k4h6KoXMRDWt9XjJEraeVPdvqEJDe\u001b[0m`\n"
     ]
    },
    {
     "data": {
      "text/plain": [
       "'onqXvAsxKaNzPMqUr5Wom9k4h6KoXMRDWt9XjJEraeVPdvqEJDe'"
      ]
     },
     "execution_count": 66,
     "metadata": {},
     "output_type": "execute_result"
    }
   ],
   "source": [
    "from scripts.tezos import xtz_deposit\n",
    "xtz_deposit.callback(\n",
    "    xtz_ticket_helper=XTZ_TICKET_HELPER,\n",
    "    tezos_private_key=TEZOS_PRIVATE_KEY,\n",
    "    tezos_rpc_url=TEZOS_RPC_URL,\n",
    "    amount=1_000_000,\n",
    "    receiver_address=outbox_enumerator.address,\n",
    "    smart_rollup_address=SMART_ROLLUP_ADDRESS,\n",
    ")"
   ]
  },
  {
   "cell_type": "code",
   "execution_count": 67,
   "id": "0e811743",
   "metadata": {},
   "outputs": [
    {
     "name": "stdout",
     "output_type": "stream",
     "text": [
      "Making XTZ withdrawal from `\u001b[96m0x7e6f6CCFe485a087F0F819eaBfDBfb1a49b97677\u001b[0m`:\n",
      "  - Executor: `\u001b[96m0x7e6f6CCFe485a087F0F819eaBfDBfb1a49b97677\u001b[0m`\n",
      "  - Etherlink RPC node: `\u001b[96mhttps://etherlink.dipdup.net\u001b[0m`\n",
      "  - Withdrawal params:\n",
      "      * Receiver: `\u001b[96mtz1burnburnburnburnburnburnburjAYjjX\u001b[0m`\n",
      "      * Amount (wei):: `\u001b[96m1000000000000\u001b[0m`\n",
      "      * Amount (mutez):: `\u001b[96m1\u001b[0m`\n",
      "Successfully initiated XTZ withdrawal, tx hash: `\u001b[96m0xd42be4ce04b3a49502478c37ef4992e37aa07611b1fdd1796147786549b90262\u001b[0m`\n"
     ]
    },
    {
     "data": {
      "text/plain": [
       "'0xd42be4ce04b3a49502478c37ef4992e37aa07611b1fdd1796147786549b90262'"
      ]
     },
     "execution_count": 67,
     "metadata": {},
     "output_type": "execute_result"
    }
   ],
   "source": [
    "from scripts.etherlink import xtz_withdraw\n",
    "\n",
    "xtz_withdraw.callback(\n",
    "    amount=10**12,\n",
    "    # xtz_withdraw_precompile=XTZ_WITHDRAWAL_PRECOMPILE,\n",
    "    xtz_withdraw_precompile=outbox_enumerator.address,\n",
    "    receiver_address='tz1burnburnburnburnburnburnburjAYjjX',\n",
    "    etherlink_private_key=ETHERLINK_PRIVATE_KEY,\n",
    "    etherlink_rpc_url=ETHERLINK_RPC_URL\n",
    ")"
   ]
  },
  {
   "cell_type": "code",
   "execution_count": null,
   "id": "95767e95",
   "metadata": {},
   "outputs": [],
   "source": []
  }
 ],
 "metadata": {
  "kernelspec": {
   "display_name": "Python 3 (ipykernel)",
   "language": "python",
   "name": "python3"
  },
  "language_info": {
   "codemirror_mode": {
    "name": "ipython",
    "version": 3
   },
   "file_extension": ".py",
   "mimetype": "text/x-python",
   "name": "python",
   "nbconvert_exporter": "python",
   "pygments_lexer": "ipython3",
   "version": "3.12.4"
  }
 },
 "nbformat": 4,
 "nbformat_minor": 5
}
