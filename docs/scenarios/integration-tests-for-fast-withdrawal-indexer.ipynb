{
 "cells": [
  {
   "cell_type": "markdown",
   "id": "e212e930",
   "metadata": {},
   "source": [
    "# Integration Tests for Fast Withdrawal Indexer"
   ]
  },
  {
   "cell_type": "code",
   "execution_count": 1,
   "id": "9f4da7bf",
   "metadata": {},
   "outputs": [
    {
     "name": "stdout",
     "output_type": "stream",
     "text": [
      "Setup:\n",
      "- Tezos account: `\u001b[96mtz1ekkzEN2LB1cpf7dCaonKt6x9KVd9YVydc\u001b[0m`, balance: `\u001b[96m100.048352 ꜩ\u001b[0m`\n",
      "- Etherlink account: `\u001b[96m0x7e6f6CCFe485a087F0F819eaBfDBfb1a49b97677\u001b[0m`, balance: `\u001b[96m90.611787701 ꜩ\u001b[0m`\n"
     ]
    }
   ],
   "source": [
    "from docs.scenarios.setup import setup\n",
    "from scripts.defaults import (\n",
    "    FAST_WITHDRAWAL_CONTRACT,\n",
    "    INDEXER_GRAPHQL_URL,\n",
    ")\n",
    "from gql import Client\n",
    "from scripts.helpers.contracts.fast_withdrawal import FastWithdrawal\n",
    "from scripts.helpers.addressable import get_address\n",
    "from docs.scenarios.indexer_integration import (\n",
    "    IndexerTestEnvironment,\n",
    "    random_pkh,\n",
    "    fast_withdrawal_bridge_operation_query,\n",
    "    create_withdrawal_from_l2_transaction,\n",
    "    request_bridge_operation_with_high_verbosity,\n",
    ")\n",
    "from gql.transport.aiohttp import AIOHTTPTransport\n",
    "from random import randint\n",
    "\n",
    "web3, etherlink_account, tezos_account = setup()\n",
    "fast_withdrawal = FastWithdrawal.from_address(tezos_account, FAST_WITHDRAWAL_CONTRACT)\n",
    "transport = AIOHTTPTransport(url=INDEXER_GRAPHQL_URL)\n",
    "indexer = Client(transport=transport, fetch_schema_from_transport=True)\n",
    "\n",
    "test_env = IndexerTestEnvironment(\n",
    "    fast_withdrawal=fast_withdrawal,\n",
    "    provider=tezos_account,\n",
    "    l2_caller=etherlink_account,\n",
    "    withdrawer_pkh=random_pkh(tezos_account),\n",
    "    indexer=indexer,\n",
    "    discount_rate=0.99,\n",
    ")"
   ]
  },
  {
   "cell_type": "markdown",
   "id": "23106745",
   "metadata": {},
   "source": [
    "### Test: User withdrawal creation and indexing"
   ]
  },
  {
   "cell_type": "code",
   "execution_count": 2,
   "id": "00f81482",
   "metadata": {},
   "outputs": [
    {
     "name": "stdout",
     "output_type": "stream",
     "text": [
      "Making Fast Withdrawal, XTZ:\n",
      "  - Sender: `\u001b[96m0x7e6f6CCFe485a087F0F819eaBfDBfb1a49b97677\u001b[0m`\n",
      "  - Etherlink RPC node: `\u001b[96mhttp://etherlink.dipdup.net\u001b[0m`\n",
      "  - Withdrawal params:\n",
      "      * Target: `\u001b[96mtz1WiZDC7NgfVxaySgqD23C17KvZNc442rMi\u001b[0m`\n",
      "      * Fast Withdrawal contract: `\u001b[96mKT1AR4mD3n9JxD7yB4RcYUybyeq9BBi9W2fm\u001b[0m`\n",
      "      * Payload bytes: `\u001b[96m0500878c01\u001b[0m`\n",
      "      * Amount (mutez): `\u001b[96m9_058\u001b[0m`\n",
      "      * Discounted amt (mutez): `\u001b[96m8_967\u001b[0m`\n",
      "      * Fee (mutez): `\u001b[96m91\u001b[0m`\n",
      "Successfully initiated XTZ Fast Withdrawal, tx hash: `\u001b[96m0xbe9816c5b30946c73d5a62ef7a78c36940120e90b9d8b47c4613ba4dc0f35e60\u001b[0m`\n"
     ]
    }
   ],
   "source": [
    "full_amount = randint(1000, 10_000)\n",
    "l2_hash = test_env.make_xtz_withdrawal(full_amount)"
   ]
  },
  {
   "cell_type": "markdown",
   "id": "6a84ab37",
   "metadata": {},
   "source": [
    "- [x] Verify that a user-initiated withdrawal is indexed with the status `CREATED` and kind `fast_withdrawal`\n",
    "- [x] Measure the time between the withdrawal's creation on `L2` and the moment it is indexed"
   ]
  },
  {
   "cell_type": "code",
   "execution_count": 3,
   "id": "7ec7c64b",
   "metadata": {},
   "outputs": [
    {
     "name": "stdout",
     "output_type": "stream",
     "text": [
      "Requesting bridge operation:\n",
      "- l2_hash: `\u001b[96mbe9816c5b30946c73d5a62ef7a78c36940120e90b9d8b47c4613ba4dc0f35e60\u001b[0m`\n",
      "- kind: `\u001b[96mfast_withdrawal\u001b[0m`\n",
      "- status: `\u001b[96mCREATED\u001b[0m`\n",
      "- attempts: xxxxxx\n",
      "Found withdrawal, id: `\u001b[96m19\u001b[0m`\n",
      "Elapsed time (seconds): `\u001b[96m12.4\u001b[0m`\n"
     ]
    }
   ],
   "source": [
    "bridge_operation = await request_bridge_operation_with_high_verbosity(\n",
    "    test_env=test_env,\n",
    "    l2_hash=l2_hash,\n",
    "    kind='fast_withdrawal',\n",
    "    status='CREATED',\n",
    ")\n",
    "\n",
    "l2_transaction = bridge_operation['withdrawal']['l2_transaction']\n",
    "assert l2_transaction['amount'] == str(full_amount) + '0'*12\n",
    "assert l2_transaction['l1_account'] == test_env.withdrawer_pkh\n",
    "assert l2_transaction['l2_account'] == test_env.l2_caller.address.lower().split('0x')[1]\n",
    "assert not bridge_operation['is_completed']\n",
    "assert not bridge_operation['is_successful']\n",
    "assert bridge_operation['l1_account'] == test_env.withdrawer_pkh\n",
    "assert bridge_operation['l2_account'] == test_env.l2_caller.address.lower().split('0x')[1]\n",
    "assert bridge_operation['withdrawal']['l1_transaction'] is None"
   ]
  },
  {
   "cell_type": "markdown",
   "id": "1ade52fd",
   "metadata": {},
   "source": [
    "### Test: Correct and timely `payout_withdrawal` execution"
   ]
  },
  {
   "cell_type": "code",
   "execution_count": 4,
   "id": "ae78b2f3",
   "metadata": {
    "scrolled": true
   },
   "outputs": [],
   "source": [
    "withdrawal = create_withdrawal_from_l2_transaction(l2_transaction)\n",
    "opg = test_env.make_payout_withdrawal(withdrawal)\n",
    "result = tezos_account.wait(opg)"
   ]
  },
  {
   "cell_type": "markdown",
   "id": "3498b981",
   "metadata": {},
   "source": [
    "- [x] Verify that the service provider receives an indexer entry with status `CREATED` and kind `fast_withdrawal_service_provider`  \n",
    "- [x] Verify that `bridge_operation.l1_account` is updated to the address of the service provider"
   ]
  },
  {
   "cell_type": "code",
   "execution_count": 5,
   "id": "30cc4c08",
   "metadata": {},
   "outputs": [
    {
     "name": "stdout",
     "output_type": "stream",
     "text": [
      "Requesting bridge operation:\n",
      "- l2_hash: `\u001b[96mbe9816c5b30946c73d5a62ef7a78c36940120e90b9d8b47c4613ba4dc0f35e60\u001b[0m`\n",
      "- kind: `\u001b[96mfast_withdrawal_service_provider\u001b[0m`\n",
      "- status: `\u001b[96mCREATED\u001b[0m`\n",
      "- attempts: xxxxxxxxxx\u001b[31mx\u001b[0m\u001b[31mx\u001b[0m\u001b[31mx\u001b[0m\n",
      "Found withdrawal, id: `\u001b[96m19\u001b[0m`\n",
      "Elapsed time (seconds): `\u001b[96m141.9\u001b[0m`\n"
     ]
    }
   ],
   "source": [
    "bridge_operation = await request_bridge_operation_with_high_verbosity(\n",
    "    test_env=test_env,\n",
    "    l2_hash=l2_hash,\n",
    "    kind='fast_withdrawal_service_provider',\n",
    "    status='CREATED',\n",
    ")\n",
    "\n",
    "l2_transaction = bridge_operation['withdrawal']['l2_transaction']\n",
    "assert l2_transaction['amount'] == str(full_amount) + '0'*12\n",
    "assert l2_transaction['l1_account'] == test_env.withdrawer_pkh\n",
    "assert l2_transaction['l2_account'] == test_env.l2_caller.address.lower().split('0x')[1]\n",
    "assert not bridge_operation['is_completed']\n",
    "assert not bridge_operation['is_successful']\n",
    "assert bridge_operation['l1_account'] == get_address(test_env.provider), \"should became provider's address\"\n",
    "assert bridge_operation['l2_account'] == test_env.l2_caller.address.lower().split('0x')[1]\n",
    "assert bridge_operation['withdrawal']['l1_transaction'] is None\n",
    "assert bridge_operation['withdrawal']['outbox_message']['builder'] == 'kernel'"
   ]
  },
  {
   "cell_type": "markdown",
   "id": "9688ec15",
   "metadata": {},
   "source": [
    "- [x] Verify that the user's withdrawal status is updated to `FINISHED` and associated with kind `fast_withdrawal_paid_out`  \n",
    "- [x] Verify that the withdrawal is considered completed  \n",
    "- [x] Verify that the withdrawal is considered successful"
   ]
  },
  {
   "cell_type": "code",
   "execution_count": 6,
   "id": "a4c150f2",
   "metadata": {},
   "outputs": [
    {
     "name": "stdout",
     "output_type": "stream",
     "text": [
      "Requesting bridge operation:\n",
      "- l2_hash: `\u001b[96mbe9816c5b30946c73d5a62ef7a78c36940120e90b9d8b47c4613ba4dc0f35e60\u001b[0m`\n",
      "- kind: `\u001b[96mfast_withdrawal_payed_out\u001b[0m`\n",
      "- status: `\u001b[96mFINISHED\u001b[0m`\n",
      "- attempts: x\n",
      "Found withdrawal, id: `\u001b[96m19\u001b[0m`\n",
      "Elapsed time (seconds): `\u001b[96m0.2\u001b[0m`\n"
     ]
    }
   ],
   "source": [
    "bridge_operation = await request_bridge_operation_with_high_verbosity(\n",
    "    test_env=test_env,\n",
    "    l2_hash=l2_hash,\n",
    "    kind='fast_withdrawal_payed_out',\n",
    "    status='FINISHED',\n",
    ")\n",
    "\n",
    "l2_transaction = bridge_operation['withdrawal']['l2_transaction']\n",
    "assert l2_transaction['amount'] == str(full_amount) + '0'*12\n",
    "assert l2_transaction['l1_account'] == test_env.withdrawer_pkh\n",
    "assert l2_transaction['l2_account'] == test_env.l2_caller.address.lower().split('0x')[1]\n",
    "assert bridge_operation['is_completed']\n",
    "assert bridge_operation['is_successful']\n",
    "assert bridge_operation['l1_account'] == test_env.withdrawer_pkh\n",
    "assert bridge_operation['l2_account'] == test_env.l2_caller.address.lower().split('0x')[1]\n",
    "assert bridge_operation['withdrawal']['l1_transaction'] is not None\n",
    "assert bridge_operation['withdrawal']['outbox_message']['builder'] == 'service_provider'\n",
    "\n",
    "l1_transaction = bridge_operation['withdrawal']['l1_transaction']\n",
    "assert int(l1_transaction['amount']) == int(full_amount * test_env.discount_rate)\n",
    "assert l1_transaction['sender'] == get_address(test_env.provider)"
   ]
  },
  {
   "cell_type": "markdown",
   "id": "f4245de3",
   "metadata": {},
   "source": [
    "### Test: Indexing `settle_withdrawal` for a withdrawal paid out by the provider  \n",
    "- [x] Wait for the `SEALED` status of the `fast_withdrawal_service_provider` transaction and call outbox execution"
   ]
  },
  {
   "cell_type": "code",
   "execution_count": 7,
   "id": "a8f3ee5d",
   "metadata": {},
   "outputs": [
    {
     "name": "stdout",
     "output_type": "stream",
     "text": [
      "Requesting bridge operation:\n",
      "- l2_hash: `\u001b[96mbe9816c5b30946c73d5a62ef7a78c36940120e90b9d8b47c4613ba4dc0f35e60\u001b[0m`\n",
      "- kind: `\u001b[96mfast_withdrawal_service_provider\u001b[0m`\n",
      "- status: `\u001b[96mSEALED\u001b[0m`\n",
      "- attempts: xxxxxxxxxx\u001b[31mx\u001b[0m\u001b[31mx\u001b[0m\u001b[31mx\u001b[0m\u001b[31mx\u001b[0m\u001b[31mx\u001b[0m\n",
      "Found withdrawal, id: `\u001b[96m19\u001b[0m`\n",
      "Elapsed time (seconds): `\u001b[96m278.5\u001b[0m`\n",
      "Executing outbox message:\n",
      "  - Commitment: `\u001b[96msrc13kJZTJ6kDknT8FpfdxdH2GKyUQTsHbdf4zwhqDQc6xbfymguMY\u001b[0m`\n",
      "  - Proof: `\u001b[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\u001b[0m`\n",
      "  - Smart Rollup address: `\u001b[96msr1AvSV5JHRGaHtxjb6xsfYENV8arBwDBq2p\u001b[0m`\n",
      "  - Executor: `\u001b[96mtz1ekkzEN2LB1cpf7dCaonKt6x9KVd9YVydc\u001b[0m`\n",
      "  - Tezos RPC node: `\u001b[96mhttps://rpc.tzkt.io/quebecnet/\u001b[0m`\n",
      "Successfully executed outbox message, tx hash: `\u001b[96monyQBxEyUSeNkxtRPLTLgQg22JYxeZSqhMWkTyZf6noLeMFL6WP\u001b[0m`\n"
     ]
    }
   ],
   "source": [
    "bridge_operation = await request_bridge_operation_with_high_verbosity(\n",
    "    test_env=test_env,\n",
    "    l2_hash=l2_hash,\n",
    "    kind='fast_withdrawal_service_provider',\n",
    "    status='SEALED',\n",
    ")\n",
    "\n",
    "withdrawal = create_withdrawal_from_l2_transaction(l2_transaction)\n",
    "outbox_message = bridge_operation['withdrawal']['outbox_message']\n",
    "l1_hash = test_env.make_withdrawal_settlement(outbox_message)"
   ]
  },
  {
   "cell_type": "markdown",
   "id": "a3629a7b",
   "metadata": {},
   "source": [
    "- [x] Verify that the provider's corresponding record status is updated to `FINISHED`"
   ]
  },
  {
   "cell_type": "code",
   "execution_count": 8,
   "id": "0964846f",
   "metadata": {},
   "outputs": [
    {
     "name": "stdout",
     "output_type": "stream",
     "text": [
      "Requesting bridge operation:\n",
      "- l2_hash: `\u001b[96mbe9816c5b30946c73d5a62ef7a78c36940120e90b9d8b47c4613ba4dc0f35e60\u001b[0m`\n",
      "- kind: `\u001b[96mfast_withdrawal_service_provider\u001b[0m`\n",
      "- status: `\u001b[96mFINISHED\u001b[0m`\n",
      "- attempts: xx\n",
      "Found withdrawal, id: `\u001b[96m19\u001b[0m`\n",
      "Elapsed time (seconds): `\u001b[96m1.4\u001b[0m`\n"
     ]
    }
   ],
   "source": [
    "bridge_operation = await request_bridge_operation_with_high_verbosity(\n",
    "    test_env=test_env,\n",
    "    l2_hash=l2_hash,\n",
    "    kind='fast_withdrawal_service_provider',\n",
    "    status='FINISHED',\n",
    ")\n",
    "\n",
    "l2_transaction = bridge_operation['withdrawal']['l2_transaction']\n",
    "assert l2_transaction['amount'] == str(full_amount) + '0'*12\n",
    "assert l2_transaction['l1_account'] == test_env.withdrawer_pkh\n",
    "assert l2_transaction['l2_account'] == test_env.l2_caller.address.lower().split('0x')[1]\n",
    "assert bridge_operation['is_completed']\n",
    "assert bridge_operation['is_successful']\n",
    "assert bridge_operation['l1_account'] == get_address(test_env.provider)\n",
    "assert bridge_operation['l2_account'] == test_env.l2_caller.address.lower().split('0x')[1]\n",
    "assert bridge_operation['withdrawal']['l1_transaction'] is not None\n",
    "assert bridge_operation['withdrawal']['outbox_message'] is not None\n",
    "\n",
    "l1_transaction = bridge_operation['withdrawal']['l1_transaction']\n",
    "# TODO: The L1 transaction amount is None, seems to be `Tezos.amount`?\n",
    "# assert int(l1_transaction['amount']) == full_amount\n",
    "assert l1_transaction['sender'] == get_address(test_env.provider)"
   ]
  },
  {
   "cell_type": "markdown",
   "id": "428c5c21",
   "metadata": {},
   "source": [
    "### Test: Indexing `settle_withdrawal` for a withdrawal not paid out by the provider  \n",
    "- [ ] Verify that the original withdrawal record with kind `fast_withdrawal` has its status updated to `FINISHED`"
   ]
  },
  {
   "cell_type": "code",
   "execution_count": null,
   "id": "22f7efde",
   "metadata": {},
   "outputs": [],
   "source": []
  },
  {
   "cell_type": "markdown",
   "id": "937b7b47",
   "metadata": {},
   "source": [
    "### Test: Indexing of `payout_withdrawal` not matching a real withdrawal  \n",
    "- [ ] Verify that a `payout_withdrawal` event that does not correspond to an actual user withdrawal is still indexed"
   ]
  },
  {
   "cell_type": "code",
   "execution_count": null,
   "id": "91d224f7",
   "metadata": {},
   "outputs": [],
   "source": []
  },
  {
   "cell_type": "markdown",
   "id": "f54af3db",
   "metadata": {},
   "source": [
    "### Test: `payout_withdrawal` with a different provider recipient address  \n",
    "- [ ] Verify that the indexer captures information about both the sender and the specified (different) recipient"
   ]
  },
  {
   "cell_type": "code",
   "execution_count": null,
   "id": "44dd2df2",
   "metadata": {},
   "outputs": [],
   "source": []
  },
  {
   "cell_type": "markdown",
   "id": "1cf07ea0",
   "metadata": {},
   "source": [
    "### Test: Expired `payout_withdrawal` execution  \n",
    "- [ ] Verify that the service provider receives an indexer entry with status `CREATED` and kind `fast_withdrawal_service_provider`  \n",
    "- [ ] Verify that the user's withdrawal status is updated to `FINISHED` and associated with kind `fast_withdrawal_paid_out`  \n",
    "- [ ] Measure the time between the payout's creation on `L1` and the moment it is indexed"
   ]
  },
  {
   "cell_type": "code",
   "execution_count": 10,
   "id": "844e5abc",
   "metadata": {},
   "outputs": [],
   "source": [
    "# TODO: Wait until the first withdrawal has expired"
   ]
  },
  {
   "cell_type": "markdown",
   "id": "9fd988bc",
   "metadata": {},
   "source": [
    "### Test: Withdrawal to an unconfigured Fast Withdrawal contract with an arbitrary payload, no payouts, outbox executed  \n",
    "- [ ] Expected behavior check: verify how the underlying outbox message execution is indexed  \n",
    "- [ ] TODO: Prepare the withdrawal in advance"
   ]
  },
  {
   "cell_type": "code",
   "execution_count": null,
   "id": "94045b93",
   "metadata": {},
   "outputs": [],
   "source": []
  },
  {
   "cell_type": "markdown",
   "id": "3e3aa2d5",
   "metadata": {},
   "source": [
    "### Test: Withdrawal to a configured Fast Withdrawal contract with an incorrect payload, no payouts, outbox executed  \n",
    "- [ ] Verify whether this is indexed similarly to a standard, valid withdrawal  \n",
    "- [ ] TODO: Prepare the withdrawal in advance"
   ]
  },
  {
   "cell_type": "code",
   "execution_count": null,
   "id": "8cf6d784",
   "metadata": {},
   "outputs": [],
   "source": []
  },
  {
   "cell_type": "markdown",
   "id": "0cd297aa",
   "metadata": {},
   "source": [
    "### Test: L1 `payout_withdrawal` indexed before the corresponding L2 withdrawal  \n",
    "- [ ] Check how the system handles potential indexing desynchronization or race conditions"
   ]
  },
  {
   "cell_type": "code",
   "execution_count": null,
   "id": "9f077b1d",
   "metadata": {},
   "outputs": [],
   "source": []
  },
  {
   "cell_type": "markdown",
   "id": "58fd4dc2",
   "metadata": {},
   "source": [
    "### Test: Fast Withdrawal settlement of an FA ticket, no payout  \n",
    "- [ ] Require `fa_withdrawal_precompile` to create an FA Fast Withdrawal"
   ]
  },
  {
   "cell_type": "code",
   "execution_count": null,
   "id": "6055f074",
   "metadata": {},
   "outputs": [],
   "source": []
  }
 ],
 "metadata": {
  "kernelspec": {
   "display_name": "Python 3 (ipykernel)",
   "language": "python",
   "name": "python3"
  },
  "language_info": {
   "codemirror_mode": {
    "name": "ipython",
    "version": 3
   },
   "file_extension": ".py",
   "mimetype": "text/x-python",
   "name": "python",
   "nbconvert_exporter": "python",
   "pygments_lexer": "ipython3",
   "version": "3.12.8"
  }
 },
 "nbformat": 4,
 "nbformat_minor": 5
}
