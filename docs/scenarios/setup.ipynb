{
 "cells": [
  {
   "cell_type": "markdown",
   "id": "bd38859f",
   "metadata": {},
   "source": [
    "# Setting up in the new network / for new accounts:\n",
    "- This notebook allows to prepare wallets, tokens and contracts for running scenarios.\n",
    "- You would need to update the consts in the [/scripts/defaults.py](../../scripts/defaults.py) to use deployed tokens and contracts in the scenarios."
   ]
  },
  {
   "cell_type": "code",
   "execution_count": 1,
   "id": "1b7bc369",
   "metadata": {},
   "outputs": [
    {
     "name": "stdout",
     "output_type": "stream",
     "text": [
      "Setup:\n",
      "- Tezos account: `\u001b[96mtz1ekkzEN2LB1cpf7dCaonKt6x9KVd9YVydc\u001b[0m`, balance: `\u001b[96m100.373892 ꜩ\u001b[0m`\n",
      "- Etherlink account: `\u001b[96m0x7e6f6CCFe485a087F0F819eaBfDBfb1a49b97677\u001b[0m`, balance: `\u001b[96m1.65279776 ꜩ\u001b[0m`\n"
     ]
    }
   ],
   "source": [
    "from docs.scenarios.setup import *\n",
    "\n",
    "web3, etherlink_account, tezos_account = setup()"
   ]
  },
  {
   "cell_type": "markdown",
   "id": "371e87a1",
   "metadata": {},
   "source": [
    "### Deposit XTZ to L2:\n",
    "- This call will fund default etherlink_account on Etherlink side by utilizing native deposit bridge."
   ]
  },
  {
   "cell_type": "code",
   "execution_count": 2,
   "id": "2bffb355",
   "metadata": {},
   "outputs": [
    {
     "name": "stdout",
     "output_type": "stream",
     "text": [
      "Making XTZ deposit using Helper `\u001b[96mKT1MJxf4KVN3sosR99VRG7WBbWTJtAyWUJt9\u001b[0m`:\n",
      "  - Executor: `\u001b[96mtz1ekkzEN2LB1cpf7dCaonKt6x9KVd9YVydc\u001b[0m`\n",
      "  - Tezos RPC node: `\u001b[96mhttps://rpc.tzkt.io/parisnet/\u001b[0m`\n",
      "  - XTZ deposit params:\n",
      "      * Smart Rollup address: `\u001b[96msr1G9N4WzRF79GeGKVd1vUDUg2NSrFGNGAfA\u001b[0m`\n",
      "      * Receiver address: `\u001b[96m0x7e6f6CCFe485a087F0F819eaBfDBfb1a49b97677\u001b[0m`\n",
      "      * Amount (mutez): `\u001b[96m1_000_000\u001b[0m`\n",
      "Successfully executed XTZ deposit, tx hash: `\u001b[96mooDUcgKbevR33UV23MgrDNfGK71Q7ZN8pTczwHgaHXVRX7VsDKa\u001b[0m`\n"
     ]
    }
   ],
   "source": [
    "opg_hash = xtz_deposit.callback(\n",
    "    xtz_ticket_helper=XTZ_TICKET_HELPER,\n",
    "    tezos_private_key=TEZOS_PRIVATE_KEY,\n",
    "    tezos_rpc_url=TEZOS_RPC_URL,\n",
    "    amount=1_000_000,\n",
    "    receiver_address=etherlink_account.address,\n",
    "    smart_rollup_address=SMART_ROLLUP_ADDRESS,\n",
    ")"
   ]
  },
  {
   "cell_type": "markdown",
   "id": "67065dfa",
   "metadata": {},
   "source": [
    "### Deploy L1 token:\n",
    "- This call will deploy new token, that can be used as a testing token in the scenarios.\n",
    "- This token should be stored in the Ticketer contract storage to be used in other test scenarios."
   ]
  },
  {
   "cell_type": "code",
   "execution_count": 3,
   "id": "b98101db",
   "metadata": {},
   "outputs": [],
   "source": [
    "token = deploy_token.callback(\n",
    "    token_type='FA2',\n",
    "    token_id=9000,\n",
    "    total_supply=70_000_000,\n",
    "    tezos_private_key=TEZOS_PRIVATE_KEY,\n",
    "    tezos_rpc_url=TEZOS_RPC_URL,\n",
    "    skip_confirm=True,\n",
    ")"
   ]
  },
  {
   "cell_type": "markdown",
   "id": "f4d9e9ce",
   "metadata": {},
   "source": [
    "- You will need to update the `TEZOS_TOKEN_ADDRESS` and `TEZOS_TOKEN_TYPE` variables in the [/scripts/defaults.py](../../scripts/defaults.py), to use this token contract in the test scenarios."
   ]
  },
  {
   "cell_type": "code",
   "execution_count": 4,
   "id": "9110687c",
   "metadata": {},
   "outputs": [
    {
     "name": "stdout",
     "output_type": "stream",
     "text": [
      "TEZOS_TOKEN_ADDRESS = '\u001b[96mKT1Wsem3Uka7wx5cGnk4nRZfyWVX5J7aWVX4\u001b[0m'\n",
      "TEZOS_TOKEN_TYPE = '\u001b[96mFA2\u001b[0m'\n"
     ]
    }
   ],
   "source": [
    "click.echo(\"TEZOS_TOKEN_ADDRESS = '\" + accent(token.address) + \"'\")\n",
    "standard = token.make_token_info()['token_type']\n",
    "click.echo(\"TEZOS_TOKEN_TYPE = '\" + accent(standard) + \"'\")"
   ]
  },
  {
   "cell_type": "markdown",
   "id": "90769d99",
   "metadata": {},
   "source": [
    "### Deploy bridge:\n",
    "- This call will deploy bridge contracts on both Tezos and Etherlink side for the provided token.\n",
    "- You can both use existing token from the network or deploy you own test token."
   ]
  },
  {
   "cell_type": "code",
   "execution_count": 5,
   "id": "a3cbb678",
   "metadata": {},
   "outputs": [
    {
     "name": "stdout",
     "output_type": "stream",
     "text": [
      "Deploying bridge contracts for `\u001b[96mvSecT\u001b[0m`:\n",
      "  - Token contract: `\u001b[96mKT1Wsem3Uka7wx5cGnk4nRZfyWVX5J7aWVX4\u001b[0m`\n",
      "  - Token id: `\u001b[96m9000\u001b[0m`\n",
      "\n",
      "Deploying Ticketer for `\u001b[96mvSecT\u001b[0m`:\n",
      "  - Deployer: `\u001b[96mtz1ekkzEN2LB1cpf7dCaonKt6x9KVd9YVydc\u001b[0m`\n",
      "  - Tezos RPC node: `\u001b[96mhttps://rpc.tzkt.io/parisnet/\u001b[0m`\n",
      "  - Params:\n",
      "      * Token type: `\u001b[96mFA2\u001b[0m`\n",
      "      * Token address: `\u001b[96mKT1Wsem3Uka7wx5cGnk4nRZfyWVX5J7aWVX4\u001b[0m`\n",
      "      * Token id: `\u001b[96m9000\u001b[0m`\n",
      "      * Token symbol: `\u001b[96mvSecT\u001b[0m`\n",
      "      * Token name: `\u001b[96mVarious Security Testing Scenarios\u001b[0m`\n",
      "      * Token decimals: `\u001b[96m0\u001b[0m`\n",
      "Successfully deployed Ticketer, address: `\u001b[96mKT1Cm6eSN3aEPPuTEQEXkehYBTu6caG5ZNxp\u001b[0m`\n",
      "\n",
      "Deploying ERC20 Proxy for `\u001b[96mvSecT\u001b[0m`:\n",
      "  - Deployer: `\u001b[96m0x7e6f6CCFe485a087F0F819eaBfDBfb1a49b97677\u001b[0m`\n",
      "  - Etherlink RPC node: `\u001b[96mhttps://etherlink.dipdup.net\u001b[0m`\n",
      "  - Constructor params:\n",
      "      * Ticketer address bytes: `\u001b[96m0x012dd49724d1aad5dea5a1e3c24ffe53322f03957400\u001b[0m`\n",
      "      * Content bytes: `\u001b[96m0x0707000005090a000000c00502000000ba07040100000010636f6e74726163745f616464726573730a000000244b54315773656d33556b613777783563476e6b346e525a6679575658354a376157565834070401000000046e616d650a00000022566172696f75732053656375726974792054657374696e67205363656e6172696f730704010000000673796d626f6c0a00000005765365635407040100000008746f6b656e5f69640a00000004393030300704010000000a746f6b656e5f747970650a00000003464132\u001b[0m`\n",
      "      * Kernel address: `\u001b[96m0x0000000000000000000000000000000000000000\u001b[0m`\n",
      "      * Name: `\u001b[96mVarious Security Testing Scenarios\u001b[0m`\n",
      "      * Symbol: `\u001b[96mvSecT\u001b[0m`\n",
      "      * Decimals: `\u001b[96m0\u001b[0m`\n",
      "Successfully deployed ERC20 Proxy token, address: `\u001b[96m0x8Cd786B61D1245cbAc2344152a6E35e5e0B5ac8F\u001b[0m`\n",
      "\n",
      "Deploying Token Bridge Helper for `\u001b[96mvSecT\u001b[0m`:\n",
      "  - Deployer: `\u001b[96mtz1ekkzEN2LB1cpf7dCaonKt6x9KVd9YVydc\u001b[0m`\n",
      "  - Tezos RPC node: `\u001b[96mhttps://rpc.tzkt.io/parisnet/\u001b[0m`\n",
      "  - Params:\n",
      "      * Ticketer address: `\u001b[96mKT1Cm6eSN3aEPPuTEQEXkehYBTu6caG5ZNxp\u001b[0m`\n",
      "      * ERC20 Proxy token address: `\u001b[96m0x8Cd786B61D1245cbAc2344152a6E35e5e0B5ac8F\u001b[0m`\n",
      "Successfully deployed Token Bridge Helper, address: `\u001b[96mKT1RTYQ1p8fRFpof7EsD1J6stv1oDP4gGDUU\u001b[0m`\n",
      "\n",
      "Successfully deployed FA Bridge contracts for \u001b[96mvSecT\u001b[0m\n"
     ]
    }
   ],
   "source": [
    "tezos_bridge_contracts = bridge_token.callback(\n",
    "    token_address=token.address,\n",
    "    token_type='FA2',\n",
    "    token_id=9000,\n",
    "    token_decimals=0,\n",
    "    token_symbol='vSecT',\n",
    "    token_name='Various Security Testing Scenarios',\n",
    "    tezos_private_key=TEZOS_PRIVATE_KEY,\n",
    "    tezos_rpc_url=TEZOS_RPC_URL,\n",
    "    etherlink_private_key=ETHERLINK_PRIVATE_KEY,\n",
    "    etherlink_rpc_url=ETHERLINK_RPC_URL,\n",
    "    kernel_address=KERNEL_ADDRESS,\n",
    "    skip_confirm=True\n",
    ")\n",
    "\n",
    "ticketer = tezos_bridge_contracts['ticketer']\n",
    "erc20 = tezos_bridge_contracts['erc20']\n",
    "token_bridge_helper = tezos_bridge_contracts['token_bridge_helper']"
   ]
  },
  {
   "cell_type": "markdown",
   "id": "9d43c9f3",
   "metadata": {},
   "source": [
    "- You will need to update the `TICKETER_ADDRESS`, `ERC20_PROXY_ADDRESS`, `TOKEN_BRIDGE_HELPER_ADDRESS` variables in the [/scripts/defaults.py](../../scripts/defaults.py), to use these contracts in other scenarios."
   ]
  },
  {
   "cell_type": "code",
   "execution_count": 6,
   "id": "602f2195",
   "metadata": {},
   "outputs": [
    {
     "name": "stdout",
     "output_type": "stream",
     "text": [
      "TICKETER_ADDRESS = '\u001b[96mKT1Cm6eSN3aEPPuTEQEXkehYBTu6caG5ZNxp\u001b[0m'\n",
      "ERC20_PROXY_ADDRESS = '\u001b[96m0x8Cd786B61D1245cbAc2344152a6E35e5e0B5ac8F\u001b[0m'\n",
      "TOKEN_BRIDGE_HELPER_ADDRESS = '\u001b[96mKT1RTYQ1p8fRFpof7EsD1J6stv1oDP4gGDUU\u001b[0m'\n"
     ]
    }
   ],
   "source": [
    "click.echo(\"TICKETER_ADDRESS = '\" + accent(ticketer.address) + \"'\")\n",
    "click.echo(\"ERC20_PROXY_ADDRESS = '\" + accent(erc20.address) + \"'\")\n",
    "click.echo(\"TOKEN_BRIDGE_HELPER_ADDRESS = '\" + accent(token_bridge_helper.address) + \"'\")"
   ]
  },
  {
   "cell_type": "markdown",
   "id": "f3937296",
   "metadata": {},
   "source": [
    "### Deploy TicketRouterTester:\n",
    "- This is the tester-contract allowing to make arbitrary calls to the rollup, ticketer, accept tickets with different entrypoints, redirect them, mint tickets."
   ]
  },
  {
   "cell_type": "code",
   "execution_count": 8,
   "id": "ae165591",
   "metadata": {},
   "outputs": [
    {
     "name": "stdout",
     "output_type": "stream",
     "text": [
      "Deploying TicketRouterTester:\n",
      "  - Deployer: `\u001b[96mtz1ekkzEN2LB1cpf7dCaonKt6x9KVd9YVydc\u001b[0m`\n",
      "  - Tezos RPC node: `\u001b[96mhttps://rpc.tzkt.io/parisnet/\u001b[0m`\n",
      "Successfully deployed TicketRouterTester, address: `\u001b[96mKT1PEDAdZEW9SebUUd94VQsRTnJsbkmmmAnM\u001b[0m`\n"
     ]
    }
   ],
   "source": [
    "ticket_router_tester = deploy_ticket_router_tester(\n",
    "    tezos_account,\n",
    "    TEZOS_RPC_URL,\n",
    ")"
   ]
  },
  {
   "cell_type": "markdown",
   "id": "bd947e3e",
   "metadata": {},
   "source": [
    "- You will need to update the `TICKET_ROUTER_TESTER_ADDRESS` variable in the [/scripts/defaults.py](../../scripts/defaults.py), to use this contracts in other scenarios."
   ]
  },
  {
   "cell_type": "code",
   "execution_count": 9,
   "id": "cacd7550",
   "metadata": {},
   "outputs": [
    {
     "name": "stdout",
     "output_type": "stream",
     "text": [
      "TICKET_ROUTER_TESTER_ADDRESS = '\u001b[96mKT1PEDAdZEW9SebUUd94VQsRTnJsbkmmmAnM\u001b[0m'\n"
     ]
    }
   ],
   "source": [
    "click.echo(\"TICKET_ROUTER_TESTER_ADDRESS = '\" + accent(ticket_router_tester.address) + \"'\")"
   ]
  },
  {
   "cell_type": "markdown",
   "id": "1cdb2493",
   "metadata": {},
   "source": [
    "### Wrap tokens to tickets:\n",
    "- To use tickets, that represent FA token, directly from tezos account, they should be converted without sending to the rollup.\n",
    "- There is a helper to do this:"
   ]
  },
  {
   "cell_type": "code",
   "execution_count": 10,
   "id": "4efe8fe4",
   "metadata": {},
   "outputs": [
    {
     "name": "stdout",
     "output_type": "stream",
     "text": [
      "Wrapping \u001b[96mFA2\u001b[0m token, address: `\u001b[96mKT1Wsem3Uka7wx5cGnk4nRZfyWVX5J7aWVX4\u001b[0m`, id: `\u001b[96m9000\u001b[0m` tokens to tickets:\n",
      "  - Token holder: `\u001b[96mtz1ekkzEN2LB1cpf7dCaonKt6x9KVd9YVydc\u001b[0m`\n",
      "  - Ticketer: `\u001b[96mKT1Cm6eSN3aEPPuTEQEXkehYBTu6caG5ZNxp\u001b[0m`\n",
      "  - Amount: `\u001b[96m1_000_000\u001b[0m`\n",
      "Successfully wrapped, tx hash: `\u001b[96mopYEuLQpwtuMrxHYwoCUkuKRWcuH5go5ESRyJX8psBCnFPjeW5A\u001b[0m`\n"
     ]
    }
   ],
   "source": [
    "opg_hash = wrap_tokens_to_tickets(tezos_account, ticketer, 1_000_000)"
   ]
  }
 ],
 "metadata": {
  "kernelspec": {
   "display_name": "Python 3 (ipykernel)",
   "language": "python",
   "name": "python3"
  },
  "language_info": {
   "codemirror_mode": {
    "name": "ipython",
    "version": 3
   },
   "file_extension": ".py",
   "mimetype": "text/x-python",
   "name": "python",
   "nbconvert_exporter": "python",
   "pygments_lexer": "ipython3",
   "version": "3.12.4"
  }
 },
 "nbformat": 4,
 "nbformat_minor": 5
}
