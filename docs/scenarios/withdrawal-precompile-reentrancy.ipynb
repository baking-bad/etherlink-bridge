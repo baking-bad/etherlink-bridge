{
 "cells": [
  {
   "cell_type": "markdown",
   "id": "4760b2c0",
   "metadata": {},
   "source": [
    "## Withdrawal precompile reentrancy tests"
   ]
  },
  {
   "cell_type": "markdown",
   "id": "d29592b0",
   "metadata": {},
   "source": [
    "### Scenario A: `TokenProxyTester` withdraws tickets twice during withdrawal, but it has these tickets\n",
    "- setup:\n",
    "    - tester originated with callsCount=0, amount=10\n",
    "    - deposit 1000 tickets to the proxy from L1 via kernel\n",
    "    - tester resetup to have callsCount=1, amount=10\n",
    "- test:\n",
    "    - user calls `fa_withdrawal_precompile` to withdraw 1 ticket from the tester\n",
    "        * tester withdraws 10 more tickets in the internal call\n",
    "    - check transaction succeed\n",
    "    - check that 989 tickets left on tester\n",
    "    - check that 2 withdrawal events created, each for 2 tickets\n",
    "    - check that 2 outbox messages created\n",
    "    - deposit 21 tickets to the proxy from L1 via kernel\n",
    "        * tester withdraws 10 more tickets in the internal call\n",
    "    - check that 1 outbox message created\n",
    "    - check that 1 deposit event created\n",
    "    - check that 1000 tickets left on tester\n",
    "    - user tries to withdraw > 990 tickets from tester and transaction fails\n",
    "    - user tries tp withdraw 990 tickets and succeed\n",
    "        * tester withdraws 10 more tickets in the internal call\n",
    "    - check that two withdrawal events and 2 outbox messages created\n",
    "    - deposit 15 tickets to the proxy from L1 via kernel\n",
    "        * tester tries to withdraw 10 more tickets in the internal call but not succeed\n",
    "    - check deposit succeed, deposit event created and tester recieves 15 tickets"
   ]
  },
  {
   "cell_type": "code",
   "execution_count": 1,
   "id": "45875bb0",
   "metadata": {},
   "outputs": [
    {
     "name": "stdout",
     "output_type": "stream",
     "text": [
      "Setup:\n",
      "- Tezos account: `\u001b[96mtz1ekkzEN2LB1cpf7dCaonKt6x9KVd9YVydc\u001b[0m`, balance: `\u001b[96m209.947907 ꜩ\u001b[0m`\n",
      "- Etherlink account: `\u001b[96m0x7e6f6CCFe485a087F0F819eaBfDBfb1a49b97677\u001b[0m`, balance: `\u001b[96m503.080857969 ꜩ\u001b[0m`\n"
     ]
    }
   ],
   "source": [
    "from docs.scenarios.setup import *\n",
    "\n",
    "accounts = setup()\n",
    "web3, etherlink_account, tezos_account = accounts\n",
    "_, ticketer, _, _, ticket_router_tester = load_contracts(*accounts)"
   ]
  },
  {
   "cell_type": "markdown",
   "id": "ebb7aefa",
   "metadata": {},
   "source": [
    "### Deploy TokenProxyTester:\n",
    "- This is the contract that can be used in the replacement of the `ERC20Proxy` makes reentrant calls to the `fa_withdrawal_precompile` during both `deposit` and `withdrawal` calls."
   ]
  },
  {
   "cell_type": "code",
   "execution_count": 2,
   "id": "8b546f91",
   "metadata": {},
   "outputs": [],
   "source": [
    "calls_count = 1\n",
    "withdraw_amount = 10\n",
    "routing_info = make_withdrawal_routing_info(tezos_account, ticketer)\n",
    "ticketer_address_bytes = tezos_address_to_bytes(ticketer.address)\n",
    "# TODO: consider adding `to_bytes` method\n",
    "ticket_content_bytes = bytes.fromhex(ticketer.read_content().to_bytes_hex())\n",
    "\n",
    "token_proxy_tester = TokenProxyTesterHelper.originate_from_file(\n",
    "    web3=web3,\n",
    "    filename=make_filename('TokenProxyTester'),\n",
    "    account=etherlink_account,\n",
    "    constructor_args=(\n",
    "        # TODO: the kernel address added as an initial Ticket Owner\n",
    "        # it should be replaced with the contract that will be used as an ERC20Proxy:\n",
    "        KERNEL_ADDRESS,\n",
    "        FA_WITHDRAWAL_PRECOMPILE,\n",
    "        routing_info,\n",
    "        withdraw_amount,\n",
    "        ticketer_address_bytes,\n",
    "        ticket_content_bytes,\n",
    "        calls_count,\n",
    "    )\n",
    ")"
   ]
  },
  {
   "cell_type": "code",
   "execution_count": 3,
   "id": "99be2b3f",
   "metadata": {},
   "outputs": [
    {
     "data": {
      "text/plain": [
       "'0x4A338A3Cb0017A3E0E9156397d98B97795032C72'"
      ]
     },
     "execution_count": 3,
     "metadata": {},
     "output_type": "execute_result"
    }
   ],
   "source": [
    "token_proxy_tester.address"
   ]
  },
  {
   "cell_type": "markdown",
   "id": "caac0f2f",
   "metadata": {},
   "source": [
    "### Work in progress ...\n",
    "---"
   ]
  },
  {
   "cell_type": "markdown",
   "id": "171eeadf",
   "metadata": {},
   "source": [
    "- Reload TokenProxyTester"
   ]
  },
  {
   "cell_type": "code",
   "execution_count": 33,
   "id": "9b2a0699",
   "metadata": {},
   "outputs": [
    {
     "data": {
      "text/plain": [
       "'0x4A338A3Cb0017A3E0E9156397d98B97795032C72'"
      ]
     },
     "execution_count": 33,
     "metadata": {},
     "output_type": "execute_result"
    }
   ],
   "source": [
    "token_proxy_tester = TokenProxyTesterHelper.from_address(\n",
    "    web3,\n",
    "    etherlink_account,\n",
    "    '0x4A338A3Cb0017A3E0E9156397d98B97795032C72'\n",
    ")\n",
    "token_proxy_tester.address"
   ]
  },
  {
   "cell_type": "code",
   "execution_count": 34,
   "id": "952df9bf",
   "metadata": {},
   "outputs": [
    {
     "name": "stdout",
     "output_type": "stream",
     "text": [
      "Setting up \u001b[96mTicketRouterTester\u001b[0m to the \u001b[96mrollupDeposit\u001b[0m mode:\n",
      "  - Target: `\u001b[96msr18wx6ezkeRjt1SZSeZ2UQzQN3Uc3YLMLqg\u001b[0m`\n",
      "  - Routing Info: `\u001b[96m0x4a338a3cb0017a3e0e9156397d98b97795032c724a338a3cb0017a3e0e9156397d98b97795032c72\u001b[0m`\n",
      "Successfully set, tx hash: `\u001b[96moovwcRdcyqsoihB9gjPcksC16CsphrWjoerGdvrfvG49kNro3vB\u001b[0m`\n"
     ]
    }
   ],
   "source": [
    "opg_hash = setup_ticket_router_tester_to_rollup_deposit(\n",
    "    ticket_router_tester=ticket_router_tester,\n",
    "    target=SMART_ROLLUP_ADDRESS,\n",
    "    receiver=token_proxy_tester,\n",
    "    # TODO: make no router (optional)\n",
    "    router=token_proxy_tester,\n",
    ")"
   ]
  },
  {
   "cell_type": "code",
   "execution_count": 35,
   "id": "bc399a6a",
   "metadata": {},
   "outputs": [
    {
     "name": "stdout",
     "output_type": "stream",
     "text": [
      "Transfering ticket:\n",
      "  - Owner: `\u001b[96mtz1ekkzEN2LB1cpf7dCaonKt6x9KVd9YVydc\u001b[0m`\n",
      "  - Ticketer address: `\u001b[96mKT1S6Nf9MnafAgSUWLKcsySPNFLUxxqSkQCw\u001b[0m`\n",
      "  - Ticket content: `\u001b[96m0x0707000005090a000000cc0502000000c607040100000010636f6e74726163745f616464726573730a000000244b54315632616b314d664e643377346f794b44363465685955374b34437270556344475207040100000008646563696d616c730a0000000136070401000000046e616d650a0000001454657374205465746865722055534420763134310704010000000673796d626f6c0a0000000d544553545f555344745f31343107040100000008746f6b656e5f69640a00000001300704010000000a746f6b656e5f747970650a00000003464132\u001b[0m`\n",
      "  - Amount: `\u001b[96m1_000\u001b[0m`\n",
      "  - Receiver: `\u001b[96mKT1KKHDuPeZ4KptN591TZ9UiCeKhHpKqaE3Y\u001b[0m`\n",
      "Successfully transfered, tx hash: `\u001b[96monjrQmSV32UfcRzgmushcdJnggEd2eMamZDR5SzWmnPtHWwKmcL\u001b[0m`\n"
     ]
    }
   ],
   "source": [
    "ticket = ticketer.read_ticket(tezos_account)\n",
    "ticket, _ = ticket.split(1_000)\n",
    "\n",
    "opg_hash = transfer_ticket(\n",
    "    ticket=ticket,\n",
    "    receiver=ticket_router_tester,\n",
    ")"
   ]
  },
  {
   "cell_type": "markdown",
   "id": "19dbffaa",
   "metadata": {},
   "source": [
    "### Getting ticket table value:\n",
    "- Checking that token_proxy_tester received 1000 tickets:"
   ]
  },
  {
   "cell_type": "code",
   "execution_count": 43,
   "id": "dc43a226",
   "metadata": {},
   "outputs": [
    {
     "data": {
      "text/plain": [
       "1000"
      ]
     },
     "execution_count": 43,
     "metadata": {},
     "output_type": "execute_result"
    }
   ],
   "source": [
    "get_tickets_count(ETHERLINK_ROLLUP_NODE_URL, ticket, token_proxy_tester.address)"
   ]
  },
  {
   "cell_type": "markdown",
   "id": "391d9c49",
   "metadata": {},
   "source": [
    "### Setup to make 3 calls:\n",
    "- TODO: need to find a way to simplify this setup, maybe reuse some logic from deployment, as this reuse the same parameters:"
   ]
  },
  {
   "cell_type": "code",
   "execution_count": 44,
   "id": "423367b6",
   "metadata": {},
   "outputs": [
    {
     "data": {
      "text/plain": [
       "AttributeDict({'transactionHash': HexBytes('0x6cd775e722a61f689f0dd8bca36f8a3d8d144b2d1dbfc31fc099ddb535dc7e64'),\n",
       " 'transactionIndex': 0,\n",
       " 'blockHash': HexBytes('0x78536b2401ed604f53c165993552edf76d2527af6ef3d912cd86015d1f249b8b'),\n",
       " 'blockNumber': 6271347,\n",
       " 'from': '0x7e6f6CCFe485a087F0F819eaBfDBfb1a49b97677',\n",
       " 'to': '0x4A338A3Cb0017A3E0E9156397d98B97795032C72',\n",
       " 'cumulativeGasUsed': 2977467,\n",
       " 'effectiveGasPrice': 1000000000,\n",
       " 'gasUsed': 2977467,\n",
       " 'logs': [],\n",
       " 'logsBloom': HexBytes('0x00000000000000000000000000000000000000000000000000000000000000000000000000000000000000000000000000000000000000000000000000000000000000000000000000000000000000000000000000000000000000000000000000000000000000000000000000000000000000000000000000000000000000000000000000000000000000000000000000000000000000000000000000000000000000000000000000000000000000000000000000000000000000000000000000000000000000000000000000000000000000000000000000000000000000000000000000000000000000000000000000000000000000000000000000000000'),\n",
       " 'type': 2,\n",
       " 'status': 1,\n",
       " 'contractAddress': None})"
      ]
     },
     "execution_count": 44,
     "metadata": {},
     "output_type": "execute_result"
    }
   ],
   "source": [
    "withdraw_amount = 1\n",
    "calls_count = 3\n",
    "\n",
    "# NOTE: this was the values in previous test:\n",
    "# withdraw_amount = 10\n",
    "# calls_count = 1\n",
    "receiver = tezos_account\n",
    "ticket = ticketer.read_ticket()\n",
    "ticketer_address_bytes = bytes.fromhex(make_address_bytes(ticket.ticketer))\n",
    "ticket_content_bytes = bytes.fromhex(ticket.content.to_bytes_hex())\n",
    "\n",
    "result = token_proxy_tester.set_parameters(\n",
    "    # TODO: try another scenario where ticket owner is another token_proxy_tester (ping-pong withdrawals)\n",
    "    ticket_owner=token_proxy_tester.address,\n",
    "    withdrawal_precompile=FA_WITHDRAWAL_PRECOMPILE,\n",
    "    routing_info=make_withdrawal_routing_info(receiver, ticketer),\n",
    "    amount=withdraw_amount,\n",
    "    ticketer=ticketer_address_bytes,\n",
    "    content=ticket_content_bytes,\n",
    "    calls_count=calls_count\n",
    ")\n",
    "\n",
    "result"
   ]
  },
  {
   "cell_type": "code",
   "execution_count": 45,
   "id": "b13d0cae",
   "metadata": {},
   "outputs": [
    {
     "data": {
      "text/plain": [
       "'0x4A338A3Cb0017A3E0E9156397d98B97795032C72'"
      ]
     },
     "execution_count": 45,
     "metadata": {},
     "output_type": "execute_result"
    }
   ],
   "source": [
    "token_proxy_tester.address"
   ]
  },
  {
   "cell_type": "code",
   "execution_count": 46,
   "id": "4642f8ba",
   "metadata": {},
   "outputs": [
    {
     "name": "stdout",
     "output_type": "stream",
     "text": [
      "Making FA withdrawal, ERC20 token: `\u001b[96m0x4A338A3Cb0017A3E0E9156397d98B97795032C72\u001b[0m`:\n",
      "  - Executor: `\u001b[96m0x7e6f6CCFe485a087F0F819eaBfDBfb1a49b97677\u001b[0m`\n",
      "  - Etherlink RPC node: `\u001b[96mhttps://node.ghostnet.etherlink.com\u001b[0m`\n",
      "  - Withdrawal params:\n",
      "      * Ticket owner: `\u001b[96m0x4A338A3Cb0017A3E0E9156397d98B97795032C72\u001b[0m`\n",
      "      * Receiver: `\u001b[96mtz1ekkzEN2LB1cpf7dCaonKt6x9KVd9YVydc\u001b[0m`\n",
      "      * Router: `\u001b[96mKT1S6Nf9MnafAgSUWLKcsySPNFLUxxqSkQCw\u001b[0m`\n",
      "      * Routing info: `\u001b[96m0x0000d1b03118754a8e193b3e5d3a7cded976f4fd425601c0137ec3632f70c119ea958dca84cdaafa42024000\u001b[0m`\n",
      "      * Amount: `\u001b[96m1\u001b[0m`\n",
      "      * Ticketer address bytes: `\u001b[96m0x01c0137ec3632f70c119ea958dca84cdaafa42024000\u001b[0m`\n",
      "      * Content bytes: `\u001b[96m0x0707000005090a000000cc0502000000c607040100000010636f6e74726163745f616464726573730a000000244b54315632616b314d664e643377346f794b44363465685955374b34437270556344475207040100000008646563696d616c730a0000000136070401000000046e616d650a0000001454657374205465746865722055534420763134310704010000000673796d626f6c0a0000000d544553545f555344745f31343107040100000008746f6b656e5f69640a00000001300704010000000a746f6b656e5f747970650a00000003464132\u001b[0m`\n",
      "Successfully initiated FA withdrawal, tx hash: `\u001b[96m0xb00b86e3a978e2273530e89833d7aad00e453af5fdffae84be601c3b548aa6b9\u001b[0m`\n"
     ]
    },
    {
     "data": {
      "text/plain": [
       "'0xb00b86e3a978e2273530e89833d7aad00e453af5fdffae84be601c3b548aa6b9'"
      ]
     },
     "execution_count": 46,
     "metadata": {},
     "output_type": "execute_result"
    }
   ],
   "source": [
    "withdraw.callback(\n",
    "    erc20_proxy_address=token_proxy_tester.address,\n",
    "    tezos_side_router_address=ticketer.address,\n",
    "    amount=1,\n",
    "    # TODO: consider changing this to ticketer_address_bytes_hex ?\n",
    "    ticketer_address_bytes=make_address_bytes(ticketer.address),\n",
    "    # TODO: consider changing this to ticket_content_bytes_hex ?\n",
    "    ticket_content_bytes=ticketer.read_content().to_bytes_hex(),\n",
    "    receiver_address=get_address(tezos_account),\n",
    "    withdraw_precompile=FA_WITHDRAWAL_PRECOMPILE,\n",
    "    etherlink_private_key=ETHERLINK_PRIVATE_KEY,\n",
    "    etherlink_rpc_url=ETHERLINK_RPC_URL,\n",
    ")"
   ]
  },
  {
   "cell_type": "markdown",
   "id": "8132f88a",
   "metadata": {},
   "source": [
    "- NOTE: need to wait until rollup processes transaction, not sure what is the best way to do this, probably simple time.sleep would work?"
   ]
  },
  {
   "cell_type": "markdown",
   "id": "fed87de0",
   "metadata": {},
   "source": [
    "- checking that it has 4 tokens less (1_000 - 3 - 1 = 996)"
   ]
  },
  {
   "cell_type": "code",
   "execution_count": 53,
   "id": "c1e9e4a1",
   "metadata": {},
   "outputs": [
    {
     "data": {
      "text/plain": [
       "996"
      ]
     },
     "execution_count": 53,
     "metadata": {},
     "output_type": "execute_result"
    }
   ],
   "source": [
    "get_tickets_count(ETHERLINK_ROLLUP_NODE_URL, ticket, token_proxy_tester.address)"
   ]
  },
  {
   "cell_type": "code",
   "execution_count": 54,
   "id": "5a266b4d",
   "metadata": {},
   "outputs": [
    {
     "name": "stdout",
     "output_type": "stream",
     "text": [
      "Transfering ticket:\n",
      "  - Owner: `\u001b[96mtz1ekkzEN2LB1cpf7dCaonKt6x9KVd9YVydc\u001b[0m`\n",
      "  - Ticketer address: `\u001b[96mKT1S6Nf9MnafAgSUWLKcsySPNFLUxxqSkQCw\u001b[0m`\n",
      "  - Ticket content: `\u001b[96m0x0707000005090a000000cc0502000000c607040100000010636f6e74726163745f616464726573730a000000244b54315632616b314d664e643377346f794b44363465685955374b34437270556344475207040100000008646563696d616c730a0000000136070401000000046e616d650a0000001454657374205465746865722055534420763134310704010000000673796d626f6c0a0000000d544553545f555344745f31343107040100000008746f6b656e5f69640a00000001300704010000000a746f6b656e5f747970650a00000003464132\u001b[0m`\n",
      "  - Amount: `\u001b[96m7\u001b[0m`\n",
      "  - Receiver: `\u001b[96mKT1KKHDuPeZ4KptN591TZ9UiCeKhHpKqaE3Y\u001b[0m`\n",
      "Successfully transfered, tx hash: `\u001b[96mopCQvg7uaVqQhU5ALhqVpZLHA31eXwY1Dw7spHF2f5WokZwGq8X\u001b[0m`\n"
     ]
    }
   ],
   "source": [
    "ticket = ticketer.read_ticket(tezos_account)\n",
    "ticket, _ = ticket.split(7)\n",
    "\n",
    "opg = transfer_ticket(\n",
    "    ticket=ticket,\n",
    "    receiver=ticket_router_tester,\n",
    ")"
   ]
  },
  {
   "cell_type": "markdown",
   "id": "f0bb2c02",
   "metadata": {},
   "source": [
    "- TODO: check that amount is expected, 1000"
   ]
  },
  {
   "cell_type": "code",
   "execution_count": 55,
   "id": "ce1f34e6",
   "metadata": {},
   "outputs": [
    {
     "data": {
      "text/plain": [
       "1000"
      ]
     },
     "execution_count": 55,
     "metadata": {},
     "output_type": "execute_result"
    }
   ],
   "source": [
    "get_tickets_count(ETHERLINK_ROLLUP_NODE_URL, ticket, token_proxy_tester.address)"
   ]
  },
  {
   "cell_type": "markdown",
   "id": "76ccdb1b",
   "metadata": {},
   "source": [
    "### The following checked with 1000 > amount > 997 and it fails, but 997 works:"
   ]
  },
  {
   "cell_type": "code",
   "execution_count": 58,
   "id": "0217581e",
   "metadata": {
    "scrolled": true
   },
   "outputs": [
    {
     "name": "stdout",
     "output_type": "stream",
     "text": [
      "Making FA withdrawal, ERC20 token: `\u001b[96m0x4A338A3Cb0017A3E0E9156397d98B97795032C72\u001b[0m`:\n",
      "  - Executor: `\u001b[96m0x7e6f6CCFe485a087F0F819eaBfDBfb1a49b97677\u001b[0m`\n",
      "  - Etherlink RPC node: `\u001b[96mhttps://node.ghostnet.etherlink.com\u001b[0m`\n",
      "  - Withdrawal params:\n",
      "      * Ticket owner: `\u001b[96m0x4A338A3Cb0017A3E0E9156397d98B97795032C72\u001b[0m`\n",
      "      * Receiver: `\u001b[96mtz1ekkzEN2LB1cpf7dCaonKt6x9KVd9YVydc\u001b[0m`\n",
      "      * Router: `\u001b[96mKT1S6Nf9MnafAgSUWLKcsySPNFLUxxqSkQCw\u001b[0m`\n",
      "      * Routing info: `\u001b[96m0x0000d1b03118754a8e193b3e5d3a7cded976f4fd425601c0137ec3632f70c119ea958dca84cdaafa42024000\u001b[0m`\n",
      "      * Amount: `\u001b[96m997\u001b[0m`\n",
      "      * Ticketer address bytes: `\u001b[96m0x01c0137ec3632f70c119ea958dca84cdaafa42024000\u001b[0m`\n",
      "      * Content bytes: `\u001b[96m0x0707000005090a000000cc0502000000c607040100000010636f6e74726163745f616464726573730a000000244b54315632616b314d664e643377346f794b44363465685955374b34437270556344475207040100000008646563696d616c730a0000000136070401000000046e616d650a0000001454657374205465746865722055534420763134310704010000000673796d626f6c0a0000000d544553545f555344745f31343107040100000008746f6b656e5f69640a00000001300704010000000a746f6b656e5f747970650a00000003464132\u001b[0m`\n",
      "Successfully initiated FA withdrawal, tx hash: `\u001b[96m0x9dca8aa2a43b2856788735ee2b734aedbc24079fa657d71b7adca76d06dd8594\u001b[0m`\n"
     ]
    }
   ],
   "source": [
    "result = withdraw.callback(\n",
    "    erc20_proxy_address=token_proxy_tester.address,\n",
    "    tezos_side_router_address=ticketer.address,\n",
    "    amount=997,\n",
    "    # TODO: consider changing this to ticketer_address_bytes_hex ?\n",
    "    ticketer_address_bytes=make_address_bytes(ticketer.address),\n",
    "    # TODO: consider changing this to ticket_content_bytes_hex ?\n",
    "    ticket_content_bytes=ticketer.read_content().to_bytes_hex(),\n",
    "    receiver_address=get_address(tezos_account),\n",
    "    withdraw_precompile=FA_WITHDRAWAL_PRECOMPILE,\n",
    "    etherlink_private_key=ETHERLINK_PRIVATE_KEY,\n",
    "    etherlink_rpc_url=ETHERLINK_RPC_URL,\n",
    ")"
   ]
  },
  {
   "cell_type": "markdown",
   "id": "bcbb24cc",
   "metadata": {},
   "source": [
    "- TODO: check expected ticket count is 0"
   ]
  },
  {
   "cell_type": "code",
   "execution_count": 59,
   "id": "cc31c2cc",
   "metadata": {},
   "outputs": [
    {
     "data": {
      "text/plain": [
       "0"
      ]
     },
     "execution_count": 59,
     "metadata": {},
     "output_type": "execute_result"
    }
   ],
   "source": [
    "get_tickets_count(ETHERLINK_ROLLUP_NODE_URL, ticket, token_proxy_tester.address)"
   ]
  },
  {
   "cell_type": "markdown",
   "id": "f75a95e0",
   "metadata": {},
   "source": [
    "- TODO: rewrite this:\n",
    "- NEXT: deposit when contract tries to make withdrawal when there are no tickets, but deposit still should succeed because even if it failed the receiver should get tickets and receiver is the TokenProxyTester:"
   ]
  },
  {
   "cell_type": "code",
   "execution_count": 60,
   "id": "c68d7176",
   "metadata": {},
   "outputs": [
    {
     "name": "stdout",
     "output_type": "stream",
     "text": [
      "Transfering ticket:\n",
      "  - Owner: `\u001b[96mtz1ekkzEN2LB1cpf7dCaonKt6x9KVd9YVydc\u001b[0m`\n",
      "  - Ticketer address: `\u001b[96mKT1S6Nf9MnafAgSUWLKcsySPNFLUxxqSkQCw\u001b[0m`\n",
      "  - Ticket content: `\u001b[96m0x0707000005090a000000cc0502000000c607040100000010636f6e74726163745f616464726573730a000000244b54315632616b314d664e643377346f794b44363465685955374b34437270556344475207040100000008646563696d616c730a0000000136070401000000046e616d650a0000001454657374205465746865722055534420763134310704010000000673796d626f6c0a0000000d544553545f555344745f31343107040100000008746f6b656e5f69640a00000001300704010000000a746f6b656e5f747970650a00000003464132\u001b[0m`\n",
      "  - Amount: `\u001b[96m15\u001b[0m`\n",
      "  - Receiver: `\u001b[96mKT1KKHDuPeZ4KptN591TZ9UiCeKhHpKqaE3Y\u001b[0m`\n",
      "Successfully transfered, tx hash: `\u001b[96moo8uNFsNaWynanXFrV3yqYPrrGauVkVHvbMqFsvg1av3JJ5CoyF\u001b[0m`\n"
     ]
    }
   ],
   "source": [
    "ticket = ticketer.read_ticket(tezos_account)\n",
    "ticket, _ = ticket.split(15)\n",
    "\n",
    "opg = transfer_ticket(\n",
    "    ticket=ticket,\n",
    "    receiver=ticket_router_tester,\n",
    ")"
   ]
  },
  {
   "cell_type": "markdown",
   "id": "46a3039e",
   "metadata": {},
   "source": [
    "- TODO: check expected tickets is 15"
   ]
  },
  {
   "cell_type": "code",
   "execution_count": 72,
   "id": "451ee4b8",
   "metadata": {},
   "outputs": [
    {
     "data": {
      "text/plain": [
       "15"
      ]
     },
     "execution_count": 72,
     "metadata": {},
     "output_type": "execute_result"
    }
   ],
   "source": [
    "get_tickets_count(ETHERLINK_ROLLUP_NODE_URL, ticket, token_proxy_tester.address)"
   ]
  },
  {
   "cell_type": "markdown",
   "id": "e90d8165",
   "metadata": {},
   "source": [
    "## ?\n",
    "- Scenario B: `TokenProxyTester` withdraws tickets twice during withdrawal, but it has not enough tickers\n",
    "- setup:\n",
    "    - tester originated with callsCount=0\n",
    "    - deposit 10 tickets to the proxy from L1 via kernel\n",
    "    - tester resetup to have callsCount=1, amount=10\n",
    "- test:\n",
    "    - user calls `fa_withdrawal_precompile` to withdraw 1 ticket from proxy\n",
    "        * tester tries to withdraw 10 tickets more in the internal call\n",
    "    - check that transaction failed\n",
    "    - check that `fa_withdrawal_precompile` not broken after this failure"
   ]
  },
  {
   "cell_type": "markdown",
   "id": "b3558a16",
   "metadata": {},
   "source": [
    "## ?\n",
    "- Scenario C: `TokenProxyTester` withdraws tickets during deposit\n",
    "- setup:\n",
    "    - tester originated with callsCount=1, amount=11\n",
    "- test:\n",
    "    - deposit 10 tickets to the proxy from L1 via kernel\n",
    "        * tester tries to withdraw 11 tickets and fails"
   ]
  },
  {
   "cell_type": "markdown",
   "id": "0537ea26",
   "metadata": {},
   "source": [
    "## ?\n",
    "- Scenario D: with successful withdrawal during deposit (withdraw less than deposit)\n",
    "- TODO: consider making abstract test for deposit/withdrawal with different setups?\n",
    "    - some kind of fuzz testing? parametrize all of the scenarios into one and check them all? and try to find more?"
   ]
  }
 ],
 "metadata": {
  "kernelspec": {
   "display_name": "Python 3 (ipykernel)",
   "language": "python",
   "name": "python3"
  },
  "language_info": {
   "codemirror_mode": {
    "name": "ipython",
    "version": 3
   },
   "file_extension": ".py",
   "mimetype": "text/x-python",
   "name": "python",
   "nbconvert_exporter": "python",
   "pygments_lexer": "ipython3",
   "version": "3.12.4"
  }
 },
 "nbformat": 4,
 "nbformat_minor": 5
}
