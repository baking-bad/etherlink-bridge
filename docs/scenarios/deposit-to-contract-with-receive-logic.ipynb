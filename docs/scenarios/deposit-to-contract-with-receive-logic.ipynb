{
 "cells": [
  {
   "cell_type": "markdown",
   "id": "5c64ec80",
   "metadata": {},
   "source": [
    "## XTZ deposit to contract with `receive()` test"
   ]
  },
  {
   "cell_type": "code",
   "execution_count": 1,
   "id": "1f0de92e",
   "metadata": {},
   "outputs": [
    {
     "name": "stdout",
     "output_type": "stream",
     "text": [
      "Setup:\n",
      "- Tezos account: `\u001b[96mtz1ekkzEN2LB1cpf7dCaonKt6x9KVd9YVydc\u001b[0m`, balance: `\u001b[96m100.376908 ꜩ\u001b[0m`\n",
      "- Etherlink account: `\u001b[96m0x7e6f6CCFe485a087F0F819eaBfDBfb1a49b97677\u001b[0m`, balance: `\u001b[96m1.661226239 ꜩ\u001b[0m`\n"
     ]
    }
   ],
   "source": [
    "from docs.scenarios.setup import *\n",
    "\n",
    "accounts = setup()\n",
    "web3, etherlink_account, tezos_account = accounts"
   ]
  },
  {
   "cell_type": "markdown",
   "id": "e18fd9a0",
   "metadata": {},
   "source": [
    "### Deploy DepositTester:\n",
    "- This is the contract that have `receive()` entrypoint which redirects incoming `value` to the `xtz_withdrawal_precompile`.\n",
    "- First it is checked that this entrypoint was not executed during native bridge xtz deposit.\n",
    "- Then it is checked that this entrypoint was executed during L2 transfer with `value` to the `DepositTester`."
   ]
  },
  {
   "cell_type": "code",
   "execution_count": 2,
   "id": "47c89552",
   "metadata": {},
   "outputs": [
    {
     "data": {
      "text/plain": [
       "'0xCef9Fd72C44B0f13e80c799B5530DC58b4B1789c'"
      ]
     },
     "execution_count": 2,
     "metadata": {},
     "output_type": "execute_result"
    }
   ],
   "source": [
    "deposit_helper = DepositTesterHelper.originate_from_file(\n",
    "    web3=web3,\n",
    "    account=etherlink_account,\n",
    "    filename=make_filename('DepositTester'),\n",
    "    constructor_args=(\n",
    "        XTZ_WITHDRAWAL_PRECOMPILE,\n",
    "        get_address(tezos_account),\n",
    "    )\n",
    ")\n",
    "deposit_helper.address"
   ]
  },
  {
   "cell_type": "markdown",
   "id": "b43ec0b6",
   "metadata": {},
   "source": [
    "### Native deposit to the DepositTester:"
   ]
  },
  {
   "cell_type": "code",
   "execution_count": 3,
   "id": "75bd1b10",
   "metadata": {},
   "outputs": [
    {
     "name": "stdout",
     "output_type": "stream",
     "text": [
      "Making XTZ deposit using Helper `\u001b[96mKT1MJxf4KVN3sosR99VRG7WBbWTJtAyWUJt9\u001b[0m`:\n",
      "  - Executor: `\u001b[96mtz1ekkzEN2LB1cpf7dCaonKt6x9KVd9YVydc\u001b[0m`\n",
      "  - Tezos RPC node: `\u001b[96mhttps://rpc.tzkt.io/parisnet/\u001b[0m`\n",
      "  - XTZ deposit params:\n",
      "      * Smart Rollup address: `\u001b[96msr1G9N4WzRF79GeGKVd1vUDUg2NSrFGNGAfA\u001b[0m`\n",
      "      * Receiver address: `\u001b[96m0xCef9Fd72C44B0f13e80c799B5530DC58b4B1789c\u001b[0m`\n",
      "      * Amount (mutez): `\u001b[96m1\u001b[0m`\n",
      "Successfully executed XTZ deposit, tx hash: `\u001b[96moo63cygDLJpHHRJupGf8VEiMe382EGoDpdKZnZztqVA8HJ9nDGR\u001b[0m`\n"
     ]
    }
   ],
   "source": [
    "opg_hash = xtz_deposit.callback(\n",
    "    xtz_ticket_helper=XTZ_TICKET_HELPER,\n",
    "    amount=1,\n",
    "    receiver_address=deposit_helper.address,\n",
    "    smart_rollup_address=SMART_ROLLUP_ADDRESS,\n",
    "    tezos_private_key=TEZOS_PRIVATE_KEY,\n",
    "    tezos_rpc_url=TEZOS_RPC_URL\n",
    ")"
   ]
  },
  {
   "cell_type": "markdown",
   "id": "c1b675d6",
   "metadata": {},
   "source": [
    "- TODO: Add a check that first transaction (called by Kernel during deposit) doesn't created any logs\n",
    "- TODO: Add a check that `DepositTester` balance increased"
   ]
  },
  {
   "cell_type": "markdown",
   "id": "4bce5b78",
   "metadata": {},
   "source": [
    "### XTZ transfer to the DepositTester:"
   ]
  },
  {
   "cell_type": "code",
   "execution_count": 4,
   "id": "b572225d",
   "metadata": {},
   "outputs": [
    {
     "name": "stdout",
     "output_type": "stream",
     "text": [
      "Sending Ethernlink xtz:\n",
      "  - Sender: `\u001b[96m0x7e6f6CCFe485a087F0F819eaBfDBfb1a49b97677\u001b[0m`\n",
      "  - Receiver: `\u001b[96m0xCef9Fd72C44B0f13e80c799B5530DC58b4B1789c\u001b[0m`\n",
      "  - Amount (wei): `\u001b[96m1_000_000_000_000\u001b[0m`\n",
      "  - Amount (mutez): `\u001b[96m1\u001b[0m`\n",
      "Successfully transfered, tx hash: `\u001b[96m0x796a5ee93bd14d975792b5a204cdc0e30f04c2ad3728fb3fc1d7ee9dfb590a4e\u001b[0m`\n"
     ]
    },
    {
     "data": {
      "text/plain": [
       "HexBytes('0x796a5ee93bd14d975792b5a204cdc0e30f04c2ad3728fb3fc1d7ee9dfb590a4e')"
      ]
     },
     "execution_count": 4,
     "metadata": {},
     "output_type": "execute_result"
    }
   ],
   "source": [
    "tx_hash = etherlink_legacy_transfer(web3, etherlink_account, deposit_helper, 10**12)"
   ]
  },
  {
   "cell_type": "markdown",
   "id": "9d9667e0",
   "metadata": {},
   "source": [
    "- check that second transaction (called by etherlink_account) created logs with xtz withdawal\n",
    "- check that `DepositTester` balance wasn't changed"
   ]
  }
 ],
 "metadata": {
  "kernelspec": {
   "display_name": "Python 3 (ipykernel)",
   "language": "python",
   "name": "python3"
  },
  "language_info": {
   "codemirror_mode": {
    "name": "ipython",
    "version": 3
   },
   "file_extension": ".py",
   "mimetype": "text/x-python",
   "name": "python",
   "nbconvert_exporter": "python",
   "pygments_lexer": "ipython3",
   "version": "3.12.4"
  }
 },
 "nbformat": 4,
 "nbformat_minor": 5
}
