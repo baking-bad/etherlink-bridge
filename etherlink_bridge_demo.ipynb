{
  "nbformat": 4,
  "nbformat_minor": 0,
  "metadata": {
    "colab": {
      "provenance": []
    },
    "kernelspec": {
      "name": "python3",
      "display_name": "Python 3"
    },
    "language_info": {
      "name": "python"
    }
  },
  "cells": [
    {
      "cell_type": "code",
      "execution_count": null,
      "metadata": {
        "id": "QjnXwqX2-wXn",
        "cellView": "form"
      },
      "outputs": [],
      "source": [
        "#@title Installing foundry:\n",
        "!curl -L https://foundry.paradigm.xyz | bash\n",
        "!source ~/.bashrc\n",
        "import os\n",
        "os.environ['PATH'] += \":/root/.foundry/bin\"\n",
        "!foundryup\n",
        "\n",
        "# cloning repo and installing foundry dependencies:\n",
        "!git clone -b feat/scripts-and-docs https://github.com/baking-bad/etherlink-bridge.git\n",
        "%cd etherlink-bridge/\n",
        "!git submodule update --init --recursive\n",
        "\n",
        "# installing python dependencies:\n",
        "!pip install poetry\n",
        "!poetry install"
      ]
    },
    {
      "cell_type": "markdown",
      "source": [
        "### Environment Initialization:"
      ],
      "metadata": {
        "id": "wQa7da0hI4ga"
      }
    },
    {
      "cell_type": "markdown",
      "source": [
        "Run the following cell to set up the environment and provide private keys for interacting *with* the bridge. Default values are provided for all variables; however, you may wish to deploy your own token and establish a bridge using your own keys."
      ],
      "metadata": {
        "id": "3C-XrUpSmZlh"
      }
    },
    {
      "cell_type": "code",
      "source": [
        "!poetry run init_wallets"
      ],
      "metadata": {
        "id": "heNZAeqnHNJq",
        "colab": {
          "base_uri": "https://localhost:8080/"
        },
        "outputId": "c5a2227c-3f96-4bc3-ddba-79099c14a436"
      },
      "execution_count": 16,
      "outputs": [
        {
          "output_type": "stream",
          "name": "stdout",
          "text": [
            "Enter \"L1_PRIVATE_KEY\" (default: edsk2nu78mRwg4V5Ka7XCJFVbVPPwhry8YPeEHRwzGQHEpGAffDvrH): \n",
            "Enter \"L1_PUBLIC_KEY_HASH\" (default: tz1YG6P2GTQKFpd9jeuESam2vg6aA9HHRkKo): \n",
            "Enter \"L1_RPC_URL\" (default: https://rpc.tzkt.io/nairobinet/): \n",
            "Enter \"L1_ROLLUP_ADDRESS\" (default: sr1Cz5HkqyC8ozTYbDij8YmseAAG3SgZtpRb): sr19t5DDEhvnPaNZgNYVAkmBRd5nAPyMU7nP\n",
            "Enter \"L2_PRIVATE_KEY\" (default: 8636c473b431be57109d4153735315a5cdf36b3841eb2cfa80b75b3dcd2d941a): \n",
            "Enter \"L2_PUBLIC_KEY\" (default: 0xBefD2C6fFC36249ebEbd21d6DF6376ecF3BAc448): \n",
            "Enter \"L2_MASTER_KEY\" (default: 9722f6cc9ff938e63f8ccb74c3daa6b45837e5c5e3835ac08c44c50ab5f39dc0): \n",
            "Enter \"L2_RPC_URL\" (default: https://etherlink.dipdup.net): \n",
            "Enter \"L2_KERNEL_ADDRESS\" (default: 0x0000000000000000000000000000000000000000): \n",
            "Enter \"L2_WITHDRAW_PRECOMPILE_ADDRESS\" (default: 0x0000000000000000000000000000000000000040): \n"
          ]
        }
      ]
    },
    {
      "cell_type": "markdown",
      "source": [
        "### Bridge token pair listing:"
      ],
      "metadata": {
        "id": "e2okN6GqJqqM"
      }
    },
    {
      "cell_type": "markdown",
      "source": [
        "The **Ticket Transport Layer**, a key component of the bridge, enables ticket transfers between Tezos and Etherlink. To list a new token pair and establish a bridge, users need to:\n",
        "1. If the token is an **FA2** or **FA1.2** standard token that doesn’t natively support tickets, the user must deploy a **Ticketer** contract on the Tezos side. This contract links to the specific Tezos token to convert it into a ticket.\n",
        "2. The user then deploys an **ERC20Proxy** on the Etherlink side – a smart contract implementing ERC20. This contract should be configured to expect tickets from the deployed **Ticketer** including ticketer address and ticket content. This setup allows the rollup to mint ERC20 tokens corresponding to the incoming tickets from Tezos.\n",
        "3. Additionally, deploy a **TicketHelper** on the Tezos side, targeting the specific token and **Ticketer** pair. This step is necessary as the **transfer_ticket** operation is not currently supported by wallets. The **TicketHelper** facilitates the wrapping of tokens into tickets and their transfer to the rollup in a single transaction."
      ],
      "metadata": {
        "id": "UZm-AgiPmnVt"
      }
    },
    {
      "cell_type": "markdown",
      "source": [
        "#### Deploying a Token"
      ],
      "metadata": {
        "id": "GaqwqM-kmrkR"
      }
    },
    {
      "cell_type": "markdown",
      "source": [
        "For demonstration purposes, users can deploy a test token that will later be bridged. The bridge has been tested with two types of tokens, which are available in the repository:\n",
        "- The **FA1.2** **Ctez** token.\n",
        "- The **FA2** **fxhash** token.\n",
        "\n",
        "To deploy this token and allocate the total supply to the token's originator, execute the following script. The example below illustrates the deployment for an **FA1.2** token type:"
      ],
      "metadata": {
        "id": "8NBPCulNmuQ5"
      }
    },
    {
      "cell_type": "code",
      "source": [
        "!poetry run deploy_token --token-type FA1.2"
      ],
      "metadata": {
        "colab": {
          "base_uri": "https://localhost:8080/"
        },
        "id": "_d0eHd4Sz4rt",
        "outputId": "f4dbe918-980e-4738-a3c9-9ac77e07bfe0"
      },
      "execution_count": 5,
      "outputs": [
        {
          "output_type": "stream",
          "name": "stdout",
          "text": [
            "deploying contract from filename /content/etherlink-bridge/tezos/tests/helpers/../tokens/fa12-Ctez.tz\n",
            "found contract address: KT1GM2AnBAJWdzrChp3hTYFTSb6Dmh61peBP\n"
          ]
        }
      ]
    },
    {
      "cell_type": "markdown",
      "source": [
        "#### Deploying a Ticketer"
      ],
      "metadata": {
        "id": "WMsx7rcwlK5N"
      }
    },
    {
      "cell_type": "markdown",
      "source": [
        "To deploy a ticketer for a specific token address and token id, use the following script. The example below uses a **FA1.2** token previously deployed on Nairobinet:"
      ],
      "metadata": {
        "id": "V9B14Qdlm1Ug"
      }
    },
    {
      "cell_type": "code",
      "source": [
        "!poetry run deploy_ticketer --token-address KT1GM2AnBAJWdzrChp3hTYFTSb6Dmh61peBP --token-type FA1.2 --token-id 0"
      ],
      "metadata": {
        "colab": {
          "base_uri": "https://localhost:8080/"
        },
        "id": "J3uoYpLWxg2w",
        "outputId": "f6e50d6e-13e7-4d83-f3dd-85870e5a12fb"
      },
      "execution_count": 6,
      "outputs": [
        {
          "output_type": "stream",
          "name": "stdout",
          "text": [
            "deploying contract from filename /content/etherlink-bridge/tezos/tests/helpers/../../build/ticketer.tz\n",
            "found contract address: KT1PmYUomF3HDxsGWYQUCbLi2X8WvT7ZHv8o\n",
            "address_bytes: 01a6938a03cf1d7652a7b871bd9c7c36b4655fa80300\n",
            "content_bytes: 0707000005090a0000005f05020000005907040100000010636f6e74726163745f616464726573730a0000001c050a000000160155275f943ba305902a52dbf648236db528e0f015000704010000000a746f6b656e5f747970650a0000000b0501000000054641312e32\n"
          ]
        }
      ]
    },
    {
      "cell_type": "markdown",
      "source": [
        "During the Ticketer's deployment, user will receive its parameters, including **address_bytes** and **content_bytes**. These are required for the origination of the **ERC20Proxy**."
      ],
      "metadata": {
        "id": "L746mWI4m5BN"
      }
    },
    {
      "cell_type": "markdown",
      "source": [
        "#### Deploying a Ticket Helper"
      ],
      "metadata": {
        "id": "bq-ql0aYldku"
      }
    },
    {
      "cell_type": "markdown",
      "source": [
        "To enable Tezos wallets to interact with specific tickets, deploy a Ticket Helper using the script below. The example provided uses a ticketer that was previously deployed in Nairobinet:"
      ],
      "metadata": {
        "id": "rNPpSQHynATq"
      }
    },
    {
      "cell_type": "code",
      "source": [
        "!poetry run deploy_ticket_helper --ticketer-address KT1PmYUomF3HDxsGWYQUCbLi2X8WvT7ZHv8o"
      ],
      "metadata": {
        "colab": {
          "base_uri": "https://localhost:8080/"
        },
        "id": "QdoXlCWczgxU",
        "outputId": "ffa0d9e0-3142-4da6-899e-692482c5a4ea"
      },
      "execution_count": 7,
      "outputs": [
        {
          "output_type": "stream",
          "name": "stdout",
          "text": [
            "deploying contract from filename /content/etherlink-bridge/tezos/tests/helpers/../../build/ticket-helper.tz\n",
            "found contract address: KT1TZg9EwGHKbfWvsHGsqBjm3J5NhJBtHPKX\n"
          ]
        }
      ]
    },
    {
      "cell_type": "markdown",
      "source": [
        "#### Deploying ERC20Proxy"
      ],
      "metadata": {
        "id": "RFH3LUtJlzIP"
      }
    },
    {
      "cell_type": "markdown",
      "source": [
        "Finally, to deploy a token contract on the Etherlink side, which will mint tokens upon deposit, execute the script below. This script requires **ticketer-address-bytes** and **ticketer-content-bytes**. The example uses bytes from a ticketer previously deployed in Nairobinet:"
      ],
      "metadata": {
        "id": "BjAEvLA_nHRW"
      }
    },
    {
      "cell_type": "code",
      "source": [
        "!poetry run deploy_erc20 --ticketer-address-bytes 01a6938a03cf1d7652a7b871bd9c7c36b4655fa80300 --ticketer-content-bytes 0707000005090a0000005f05020000005907040100000010636f6e74726163745f616464726573730a0000001c050a000000160155275f943ba305902a52dbf648236db528e0f015000704010000000a746f6b656e5f747970650a0000000b0501000000054641312e32 --token-name \"FA1.2 Test Token\" --token-symbol \"FA1.2\" --decimals 0"
      ],
      "metadata": {
        "id": "OyXyHW3H8mS-",
        "outputId": "f5764c4f-d1f6-4094-e2c3-23815c385abe",
        "colab": {
          "base_uri": "https://localhost:8080/"
        }
      },
      "execution_count": 10,
      "outputs": [
        {
          "output_type": "stream",
          "name": "stdout",
          "text": [
            "Successfully deployed ERC20 contract:\n",
            "Compiling 29 files with 0.8.21\n",
            "Solc 0.8.21 finished in 9.72s\n",
            "Compiler run \u001b[32msuccessful!\u001b[0m\n",
            "Deployer: 0xBefD2C6fFC36249ebEbd21d6DF6376ecF3BAc448\n",
            "Deployed to: 0x87dcBf128677ba36E79D47dAf4eb4e51610e0150\n",
            "Transaction hash: 0xbcc95d28cc4d0dc8831a54a3c28515d2f7ddd4f6a349438aea0769c922632819\n",
            "\n"
          ]
        }
      ]
    },
    {
      "cell_type": "markdown",
      "source": [
        "NOTE: To obtain the **ticketer-address-bytes** and **content-bytes** for an already deployed ticketer, user can use the script below:"
      ],
      "metadata": {
        "id": "VWLTXlrFl4C4"
      }
    },
    {
      "cell_type": "code",
      "source": [
        "!poetry run get_ticketer_params --ticketer KT1PmYUomF3HDxsGWYQUCbLi2X8WvT7ZHv8o"
      ],
      "metadata": {
        "id": "AjIxuDb1m1yr",
        "outputId": "049ce8ff-7ffb-4425-865c-d268d8ce2015",
        "colab": {
          "base_uri": "https://localhost:8080/"
        }
      },
      "execution_count": 12,
      "outputs": [
        {
          "output_type": "stream",
          "name": "stdout",
          "text": [
            "address_bytes: 01a6938a03cf1d7652a7b871bd9c7c36b4655fa80300\n",
            "content_bytes: 0707000005090a0000005f05020000005907040100000010636f6e74726163745f616464726573730a0000001c050a000000160155275f943ba305902a52dbf648236db528e0f015000704010000000a746f6b656e5f747970650a0000000b0501000000054641312e32\n"
          ]
        }
      ]
    },
    {
      "cell_type": "markdown",
      "source": [
        "### Deposit"
      ],
      "metadata": {
        "id": "OKOsDVTwl9qv"
      }
    },
    {
      "cell_type": "markdown",
      "source": [
        "To make a deposit, user need to transfer Tickets to the rollup address with attached Routing Info in the [specified format](https://gitlab.com/baking-bad/tzip/-/blob/wip/029-etherlink-token-bridge/drafts/current/draft-etherlink-token-bridge/etherlink-token-bridge.md#deposit): `| receiver | proxy |` 40 bytes payload, both receiver and proxy are standard Ethereum addresses in raw form (H160). A script is available to facilitate this process. It requires the Ticket Helper address as **ticket-helper-address**, the Etherlink ERC20Proxy contract as **proxy-address**, and the bridged amount as the **amount** variable. Here's an example:"
      ],
      "metadata": {
        "id": "zoCOiU84nRlU"
      }
    },
    {
      "cell_type": "code",
      "source": [
        "!poetry run deposit --ticket-helper-address KT1TZg9EwGHKbfWvsHGsqBjm3J5NhJBtHPKX --proxy-address 0x87dcBf128677ba36E79D47dAf4eb4e51610e0150 --amount 42"
      ],
      "metadata": {
        "id": "Osj0p_VPmA2v",
        "outputId": "65b5d26f-4893-4b54-f7ee-c9d887c1e743",
        "colab": {
          "base_uri": "https://localhost:8080/"
        }
      },
      "execution_count": 17,
      "outputs": [
        {
          "output_type": "stream",
          "name": "stdout",
          "text": [
            "Succeed, transaction hash: ooKv5MfH6s4RV4QSMHA5Xcwh4pGGncdLjidRXMakfVB1Jo4SPDB\n"
          ]
        }
      ]
    },
    {
      "cell_type": "markdown",
      "source": [
        "NOTE: This script performs two operations in bulk. The first operation approves the token for the **Ticket Helper**, and the second operation makes a call to the **Ticket Helper** **deposit** entrypoint."
      ],
      "metadata": {
        "id": "w7KSgK17nTpa"
      }
    },
    {
      "cell_type": "markdown",
      "source": [
        "### Withdrawal Process"
      ],
      "metadata": {
        "id": "V4Am-6xUmJGl"
      }
    },
    {
      "cell_type": "markdown",
      "source": [
        "The withdrawal process involves two key steps:\n",
        "1. Initiating the withdrawal on the Etherlink side, which results in the creation of an outbox message in the rollup commitment.\n",
        "2. Completing the withdrawal by executing the outbox message on the Tezos side once the commitment has settled (TODO: Clarify terminology if necessary)."
      ],
      "metadata": {
        "id": "6Kj9fWLAnarF"
      }
    },
    {
      "cell_type": "markdown",
      "source": [
        "#### Etherlink Withdrawal"
      ],
      "metadata": {
        "id": "mEGSj1tYncgk"
      }
    },
    {
      "cell_type": "markdown",
      "source": [
        "To initiate a withdrawal, user need to call the withdrawal precompile on the Etherlink side. This requires providing the **ERC20Proxy** address along with Routing Info in a [specific format](https://gitlab.com/baking-bad/tzip/-/blob/wip/029-etherlink-token-bridge/drafts/current/draft-etherlink-token-bridge/etherlink-token-bridge.md#withdrawal), two forged contracts concatenated: `| receiver | proxy |` 44 bytes. Forged contact consists of binary suffix/prefix and body (blake2b hash digest). A script is available to facilitate the withdrawal process. It requires the ERC20 contract (which will burn tokens) as **proxy-address**, the Tezos router address (which will receive the ticket from the rollup) as **router-address**, and the bridged amount as **amount**. Additionally, the **ticketer-address-bytes** and **ticketer-content-bytes** are required to allow **ERC20Proxy** validate token before burning.\n",
        "\n",
        "NOTE: For automatic unwrapping of Tezos tickets back into tokens, the **Ticketer** address can be provided as the **router-address**."
      ],
      "metadata": {
        "id": "_SZ2qjHlne85"
      }
    },
    {
      "cell_type": "code",
      "source": [
        "!poetry run withdraw --proxy-address 0x87dcBf128677ba36E79D47dAf4eb4e51610e0150 --amount 17 --router-address KT1PmYUomF3HDxsGWYQUCbLi2X8WvT7ZHv8o --ticketer-address-bytes 01a6938a03cf1d7652a7b871bd9c7c36b4655fa80300 --ticketer-content-bytes 0707000005090a0000005f05020000005907040100000010636f6e74726163745f616464726573730a0000001c050a000000160155275f943ba305902a52dbf648236db528e0f015000704010000000a746f6b656e5f747970650a0000000b0501000000054641312e32"
      ],
      "metadata": {
        "id": "pTeLgAHMmL52",
        "outputId": "918551d1-c4c2-45cb-d7e3-85d1ad205949",
        "colab": {
          "base_uri": "https://localhost:8080/"
        }
      },
      "execution_count": 19,
      "outputs": [
        {
          "output_type": "stream",
          "name": "stdout",
          "text": [
            "Successfully called withdraw:\n",
            "\n",
            "blockHash               0x9be216703a76e3f32d54cccf2f762eb5ec3c3bc2739068a0a64764f5d5cd90cf\n",
            "blockNumber             1990\n",
            "contractAddress         \n",
            "cumulativeGasUsed       29857\n",
            "effectiveGasPrice       1\n",
            "gasUsed                 29857\n",
            "logs                    [{\"address\":\"0x0000000000000000000000000000000000000000\",\"topics\":[\"0x64e765b73c0829c01c6f3026a840120142d5a0b83626c548cff3a44ca5299c98\",\"0xbc8b3231d0cea743d39da0f658f08ca00e33affabc3d71b74a50d2dd2bacdde2\"],\"data\":\"0x000000000000000000000000befd2c6ffc36249ebebd21d6df6376ecf3bac44800000000000000000000000087dcbf128677ba36e79d47daf4eb4e51610e015000008a7390072a389159c73687165cd7910e8a3916060000000000000000000000000000000000000000000000000000000000000000000000000000000000110000000000000000000000000000000000000000000000000000000000291e060000000000000000000000000000000000000000000000000000000000000000\",\"blockHash\":\"0x9be216703a76e3f32d54cccf2f762eb5ec3c3bc2739068a0a64764f5d5cd90cf\",\"blockNumber\":\"0x7c6\",\"transactionHash\":\"0x14176e3d630b03607b956c40575486b4184dd47d4d62175776c2f998396f70ad\",\"transactionIndex\":\"0x0\",\"logIndex\":\"0x0\",\"removed\":false},{\"address\":\"0x87dcbf128677ba36e79d47daf4eb4e51610e0150\",\"topics\":[\"0xddf252ad1be2c89b69c2b068fc378daa952ba7f163c4a11628f55a4df523b3ef\",\"0x000000000000000000000000befd2c6ffc36249ebebd21d6df6376ecf3bac448\",\"0x0000000000000000000000000000000000000000000000000000000000000000\"],\"data\":\"0x0000000000000000000000000000000000000000000000000000000000000011\",\"blockHash\":\"0x9be216703a76e3f32d54cccf2f762eb5ec3c3bc2739068a0a64764f5d5cd90cf\",\"blockNumber\":\"0x7c6\",\"transactionHash\":\"0x14176e3d630b03607b956c40575486b4184dd47d4d62175776c2f998396f70ad\",\"transactionIndex\":\"0x0\",\"logIndex\":\"0x1\",\"removed\":false}]\n",
            "logsBloom               0x00000000000000000090000000000000000000000000000000000000000000000000000000000000000000000000000200020100000000000000000000000000000000000000000000000008000000000001000000000000000000000000000000000000020000000080000000000800000000000000000000000010000000000000000000000000000000000000000100000000800000204000000000000000001000800000000000000000000000000000000000000000000000000000000000000002000000000000000000000000000040000400000000000000000020000000000000000000000000000000000000000000000000000000000000000000\n",
            "root                    \n",
            "status                  1\n",
            "transactionHash         0x14176e3d630b03607b956c40575486b4184dd47d4d62175776c2f998396f70ad\n",
            "transactionIndex        0\n",
            "type                    0\n",
            "\n"
          ]
        }
      ]
    },
    {
      "cell_type": "markdown",
      "source": [
        "#### Finalizing Tezos Withdrawal"
      ],
      "metadata": {
        "id": "JLJ9qvn6nnHQ"
      }
    },
    {
      "cell_type": "markdown",
      "source": [
        "To complete the withdrawal process, user need to call the outbox message on the Tezos side once it has been finalized (settled) on the L1 side. During the withdrawal process, the Etherlink side emits a **Withdrawal** event, which includes **outboxLevel** and **outboxMsgId**.\n",
        "\n",
        "TODO: Provide a link to the Blockscout page featuring this event.\n",
        "\n",
        "TODO: Explain how to parse this information."
      ],
      "metadata": {
        "id": "kAvoYIEznq36"
      }
    },
    {
      "cell_type": "code",
      "source": [
        "!poetry run get_proof --level 2694662 --index 0 --rpc-url https://etherlink-rollup-nairobi.dipdup.net"
      ],
      "metadata": {
        "id": "V90vORmmnqGk",
        "outputId": "8b5ac373-114a-47c1-ab14-9b589d7b5a04",
        "colab": {
          "base_uri": "https://localhost:8080/"
        }
      },
      "execution_count": 24,
      "outputs": [
        {
          "output_type": "stream",
          "name": "stdout",
          "text": [
            "proof: {'commitment': 'src13WCyTUhs2uQ4Dao3uPdyDTHamdunfUpohH9iVWBh4kM7BNufn4', 'proof': '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'}\n"
          ]
        }
      ]
    },
    {
      "cell_type": "markdown",
      "source": [
        "For executing the outbox message, run:"
      ],
      "metadata": {
        "id": "jHQREDkpztMK"
      }
    },
    {
      "cell_type": "code",
      "source": [
        "!poetry run execute_outbox_message --commitment src13WCyTUhs2uQ4Dao3uPdyDTHamdunfUpohH9iVWBh4kM7BNufn4 --proof 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"
      ],
      "metadata": {
        "id": "-OJpiI54zstZ",
        "outputId": "3eefe7f3-a94b-4a25-c1c0-0702e7fcd009",
        "colab": {
          "base_uri": "https://localhost:8080/"
        }
      },
      "execution_count": 25,
      "outputs": [
        {
          "output_type": "stream",
          "name": "stdout",
          "text": [
            "\u001b[31;1mCommand not found: \u001b[39;22m\u001b[36mexecute_outbox_message\u001b[39m\n"
          ]
        }
      ]
    },
    {
      "cell_type": "markdown",
      "source": [
        "### Other scripts:"
      ],
      "metadata": {
        "id": "uIaBu01cG4UK"
      }
    },
    {
      "cell_type": "markdown",
      "source": [
        "- Fund account:"
      ],
      "metadata": {
        "id": "unKunU4WG9Rk"
      }
    },
    {
      "cell_type": "code",
      "source": [
        "!poetry run fund_etherlink_account"
      ],
      "metadata": {
        "id": "YLWuWZ5GGuQK",
        "outputId": "ec8c423f-06a5-428b-f463-3b8ff9c6194e",
        "colab": {
          "base_uri": "https://localhost:8080/"
        }
      },
      "execution_count": 4,
      "outputs": [
        {
          "output_type": "stream",
          "name": "stdout",
          "text": [
            "Successfully funded account:\n",
            "\n",
            "blockHash               0x56eba9a1f53fefc4de287edec978669c5d27413d0f8f430482758d8baa7da4b6\n",
            "blockNumber             1766\n",
            "contractAddress         \n",
            "cumulativeGasUsed       21000\n",
            "effectiveGasPrice       1\n",
            "gasUsed                 21000\n",
            "logs                    []\n",
            "logsBloom               0x00000000000000000000000000000000000000000000000000000000000000000000000000000000000000000000000000000000000000000000000000000000000000000000000000000000000000000000000000000000000000000000000000000000000000000000000000000000000000000000000000000000000000000000000000000000000000000000000000000000000000000000000000000000000000000000000000000000000000000000000000000000000000000000000000000000000000000000000000000000000000000000000000000000000000000000000000000000000000000000000000000000000000000000000000000000\n",
            "root                    \n",
            "status                  1\n",
            "transactionHash         0xae53190694f0943e5f8b2cb28a0ed82156cc1b198d54a762fa7d25116e0f0359\n",
            "transactionIndex        0\n",
            "type                    0\n",
            "\n"
          ]
        }
      ]
    }
  ]
}