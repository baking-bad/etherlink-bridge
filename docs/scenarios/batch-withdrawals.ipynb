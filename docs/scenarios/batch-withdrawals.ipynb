{
 "cells": [
  {
   "cell_type": "markdown",
   "id": "6a2e5c6e",
   "metadata": {},
   "source": [
    "## Batch withdrawals tests"
   ]
  },
  {
   "cell_type": "code",
   "execution_count": 1,
   "id": "0ad11fd1",
   "metadata": {},
   "outputs": [
    {
     "name": "stdout",
     "output_type": "stream",
     "text": [
      "Setup:\n",
      "- Tezos account: `\u001b[96mtz1ekkzEN2LB1cpf7dCaonKt6x9KVd9YVydc\u001b[0m`, balance: `\u001b[96m209.948680 ꜩ\u001b[0m`\n",
      "- Etherlink account: `\u001b[96m0x7e6f6CCFe485a087F0F819eaBfDBfb1a49b97677\u001b[0m`, balance: `\u001b[96m503.089610897 ꜩ\u001b[0m`\n"
     ]
    }
   ],
   "source": [
    "from docs.scenarios.setup import *\n",
    "\n",
    "accounts = setup()\n",
    "web3, etherlink_account, tezos_account = accounts\n",
    "_, ticketer, erc20, token_bridge_helper, _ = load_contracts(*accounts)"
   ]
  },
  {
   "cell_type": "markdown",
   "id": "16a5aa92",
   "metadata": {},
   "source": [
    "### Deploy BulkWithdrawal:\n",
    "- TODO: rename to the BatchWithdrawal\n",
    "- This is the contract that implements `xtz_withdrawal_precompile` and `fa_withdraw_precompile` interfaces.\n",
    "- When user calls these precompile entrypoints, it make `N` copies of this call to the corresponding withdrawal precompile.\n",
    "- Number of the calls `N` provided during origination."
   ]
  },
  {
   "cell_type": "code",
   "execution_count": 27,
   "id": "fc823c6a",
   "metadata": {},
   "outputs": [
    {
     "data": {
      "text/plain": [
       "'0x865e2887baFE9BDD5E68d0cc5Fb9eEB9dCE535Fa'"
      ]
     },
     "execution_count": 27,
     "metadata": {},
     "output_type": "execute_result"
    }
   ],
   "source": [
    "bulk_withdrawal = BulkWithdrawalHelper.originate_from_file(\n",
    "    web3=web3,\n",
    "    account=etherlink_account,\n",
    "    filename=make_filename('BulkWithdrawal'),\n",
    "    constructor_args=(\n",
    "        FA_WITHDRAWAL_PRECOMPILE,\n",
    "        XTZ_WITHDRAWAL_PRECOMPILE,\n",
    "        100,\n",
    "    )\n",
    ")\n",
    "bulk_withdrawal.address"
   ]
  },
  {
   "cell_type": "markdown",
   "id": "3f4bab12",
   "metadata": {},
   "source": [
    "### Or load already deployed contract:"
   ]
  },
  {
   "cell_type": "code",
   "execution_count": 2,
   "id": "3309fad7",
   "metadata": {},
   "outputs": [
    {
     "data": {
      "text/plain": [
       "'0x2A0030903E5313bf145d8631E87aAc5237F9aD26'"
      ]
     },
     "execution_count": 2,
     "metadata": {},
     "output_type": "execute_result"
    }
   ],
   "source": [
    "bulk_withdrawal = BulkWithdrawalHelper.from_address(web3, etherlink_account, '0x2A0030903E5313bf145d8631E87aAc5237F9aD26')\n",
    "bulk_withdrawal.address"
   ]
  },
  {
   "cell_type": "markdown",
   "id": "d78b5cd4",
   "metadata": {},
   "source": [
    "### FA Token deposit:\n",
    "- It is required to deposit FA token to the contract so it would be able to execute withdrawals."
   ]
  },
  {
   "cell_type": "code",
   "execution_count": 29,
   "id": "b1e3cc42",
   "metadata": {},
   "outputs": [
    {
     "name": "stdout",
     "output_type": "stream",
     "text": [
      "Making deposit using Helper `\u001b[96mKT1JLZe4qTa76y6Us2aDoRNUgZyssSDUr6F5\u001b[0m`:\n",
      "  - Executor: `\u001b[96mtz1ekkzEN2LB1cpf7dCaonKt6x9KVd9YVydc\u001b[0m`\n",
      "  - Tezos RPC node: `\u001b[96mhttps://rpc.tzkt.io/ghostnet/\u001b[0m`\n",
      "  - Ticketer: `\u001b[96mKT1S6Nf9MnafAgSUWLKcsySPNFLUxxqSkQCw\u001b[0m`\n",
      "  - Deposit params:\n",
      "      * Smart Rollup address: `\u001b[96msr18wx6ezkeRjt1SZSeZ2UQzQN3Uc3YLMLqg\u001b[0m`\n",
      "      * Receiver address: `\u001b[96m0x865e2887baFE9BDD5E68d0cc5Fb9eEB9dCE535Fa\u001b[0m`\n",
      "      * Amount: `\u001b[96m1_000\u001b[0m`\n",
      "Successfully executed Deposit, tx hash: `\u001b[96mongjWFXToqbYUFNDaFjujNoPWBPDxDx5XHgfhZQtWGYseipdxeq\u001b[0m`\n"
     ]
    }
   ],
   "source": [
    "result = deposit.callback(\n",
    "    token_bridge_helper_address=token_bridge_helper.address,\n",
    "    amount=1_000,\n",
    "    receiver_address=bulk_withdrawal.address,\n",
    "    smart_rollup_address=SMART_ROLLUP_ADDRESS,\n",
    "    tezos_private_key=TEZOS_PRIVATE_KEY,\n",
    "    tezos_rpc_url=TEZOS_RPC_URL\n",
    ")"
   ]
  },
  {
   "cell_type": "markdown",
   "id": "ad7678ec",
   "metadata": {},
   "source": [
    "### FA Token withdrawal:\n",
    "- The withdraw CLI used with `batch_withdrawal.address` provided as withdrawal precompile contract.\n",
    "- The `BatchWithdrawal` then executes `fa_withdrawal_precompile` multiple times spamming the same transaction."
   ]
  },
  {
   "cell_type": "code",
   "execution_count": 32,
   "id": "9b33aadf",
   "metadata": {},
   "outputs": [
    {
     "name": "stdout",
     "output_type": "stream",
     "text": [
      "Making FA withdrawal, ERC20 token: `\u001b[96m0xf68997eCC03751cb99B5B36712B213f11342452b\u001b[0m`:\n",
      "  - Executor: `\u001b[96m0x7e6f6CCFe485a087F0F819eaBfDBfb1a49b97677\u001b[0m`\n",
      "  - Etherlink RPC node: `\u001b[96mhttps://node.ghostnet.etherlink.com\u001b[0m`\n",
      "  - Withdrawal params:\n",
      "      * Ticket owner: `\u001b[96m0xf68997eCC03751cb99B5B36712B213f11342452b\u001b[0m`\n",
      "      * Receiver: `\u001b[96mtz1ekkzEN2LB1cpf7dCaonKt6x9KVd9YVydc\u001b[0m`\n",
      "      * Router: `\u001b[96mKT1S6Nf9MnafAgSUWLKcsySPNFLUxxqSkQCw\u001b[0m`\n",
      "      * Routing info: `\u001b[96m0x0000d1b03118754a8e193b3e5d3a7cded976f4fd425601c0137ec3632f70c119ea958dca84cdaafa42024000\u001b[0m`\n",
      "      * Amount: `\u001b[96m1\u001b[0m`\n",
      "      * Ticketer address bytes: `\u001b[96m0x01c0137ec3632f70c119ea958dca84cdaafa42024000\u001b[0m`\n",
      "      * Content bytes: `\u001b[96m0x0707000005090a000000cc0502000000c607040100000010636f6e74726163745f616464726573730a000000244b54315632616b314d664e643377346f794b44363465685955374b34437270556344475207040100000008646563696d616c730a0000000136070401000000046e616d650a0000001454657374205465746865722055534420763134310704010000000673796d626f6c0a0000000d544553545f555344745f31343107040100000008746f6b656e5f69640a00000001300704010000000a746f6b656e5f747970650a00000003464132\u001b[0m`\n",
      "Successfully initiated FA withdrawal, tx hash: `\u001b[96m0x9645796b5153072f94c2c8390641da9603471eba0588408a5d414e9603f1754f\u001b[0m`\n"
     ]
    },
    {
     "data": {
      "text/plain": [
       "'0x9645796b5153072f94c2c8390641da9603471eba0588408a5d414e9603f1754f'"
      ]
     },
     "execution_count": 32,
     "metadata": {},
     "output_type": "execute_result"
    }
   ],
   "source": [
    "withdraw.callback(\n",
    "    erc20_proxy_address=erc20.address,\n",
    "    tezos_side_router_address=ticketer.address,\n",
    "    amount=1,\n",
    "    ticketer_address_bytes=make_address_bytes(ticketer.address),\n",
    "    ticket_content_bytes=ticketer.read_content().to_bytes_hex(),\n",
    "    receiver_address=get_address(tezos_account),\n",
    "    withdraw_precompile=bulk_withdrawal.address,\n",
    "    etherlink_private_key=ETHERLINK_PRIVATE_KEY,\n",
    "    etherlink_rpc_url=ETHERLINK_RPC_URL,\n",
    ")"
   ]
  },
  {
   "cell_type": "markdown",
   "id": "9e579fbd",
   "metadata": {},
   "source": [
    "### Native deposit:\n",
    "- To withdraw XTZ from the contract, it is required to deposit some."
   ]
  },
  {
   "cell_type": "code",
   "execution_count": 33,
   "id": "1acef907",
   "metadata": {},
   "outputs": [
    {
     "name": "stdout",
     "output_type": "stream",
     "text": [
      "Making XTZ deposit using Helper `\u001b[96mKT1VEjeQfDBSfpDH5WeBM5LukHPGM2htYEh3\u001b[0m`:\n",
      "  - Executor: `\u001b[96mtz1ekkzEN2LB1cpf7dCaonKt6x9KVd9YVydc\u001b[0m`\n",
      "  - Tezos RPC node: `\u001b[96mhttps://rpc.tzkt.io/ghostnet/\u001b[0m`\n",
      "  - XTZ deposit params:\n",
      "      * Smart Rollup address: `\u001b[96msr18wx6ezkeRjt1SZSeZ2UQzQN3Uc3YLMLqg\u001b[0m`\n",
      "      * Receiver address: `\u001b[96m0x2A0030903E5313bf145d8631E87aAc5237F9aD26\u001b[0m`\n",
      "      * Amount (mutez): `\u001b[96m1_000_000\u001b[0m`\n",
      "Successfully executed XTZ deposit, tx hash: `\u001b[96moo7GRLS95sGVLni2ZXARC3Uwdnsgoc61mWiY5GT9YCCiZMbUWss\u001b[0m`\n"
     ]
    }
   ],
   "source": [
    "opg_hash = xtz_deposit.callback(\n",
    "    xtz_ticket_helper=XTZ_TICKET_HELPER,\n",
    "    tezos_private_key=TEZOS_PRIVATE_KEY,\n",
    "    tezos_rpc_url=TEZOS_RPC_URL,\n",
    "    amount=1_000_000,\n",
    "    receiver_address=bulk_withdrawal.address,\n",
    "    smart_rollup_address=SMART_ROLLUP_ADDRESS,\n",
    ")"
   ]
  },
  {
   "cell_type": "markdown",
   "id": "58c76bb0",
   "metadata": {},
   "source": [
    "### Native withdrawal:\n",
    "- The xtz withdraw CLI used with `batch_withdrawal.address` provided as withdrawal precompile contract.\n",
    "- The `BatchWithdrawal` then executes `xtz_withdrawal_precompile` multiple times spamming the same transaction."
   ]
  },
  {
   "cell_type": "code",
   "execution_count": 35,
   "id": "cac2ad24",
   "metadata": {},
   "outputs": [
    {
     "name": "stdout",
     "output_type": "stream",
     "text": [
      "Making XTZ withdrawal from `\u001b[96m0x7e6f6CCFe485a087F0F819eaBfDBfb1a49b97677\u001b[0m`:\n",
      "  - Executor: `\u001b[96m0x7e6f6CCFe485a087F0F819eaBfDBfb1a49b97677\u001b[0m`\n",
      "  - Etherlink RPC node: `\u001b[96mhttps://node.ghostnet.etherlink.com\u001b[0m`\n",
      "  - Withdrawal params:\n",
      "      * Receiver: `\u001b[96mtz1burnburnburnburnburnburnburjAYjjX\u001b[0m`\n",
      "      * Amount (wei):: `\u001b[96m1_000_000_000_000\u001b[0m`\n",
      "      * Amount (mutez):: `\u001b[96m1\u001b[0m`\n",
      "Successfully initiated XTZ withdrawal, tx hash: `\u001b[96m0x3a116245e9cb547dc101653d6e7014abf663d67ec378500291d77b5d2684d163\u001b[0m`\n"
     ]
    }
   ],
   "source": [
    "opg_hash = xtz_withdraw.callback(\n",
    "    amount=10**12,\n",
    "    xtz_withdraw_precompile=bulk_withdrawal.address,\n",
    "    receiver_address='tz1burnburnburnburnburnburnburjAYjjX',\n",
    "    etherlink_private_key=ETHERLINK_PRIVATE_KEY,\n",
    "    etherlink_rpc_url=ETHERLINK_RPC_URL\n",
    ")"
   ]
  },
  {
   "cell_type": "code",
   "execution_count": null,
   "id": "b5778965",
   "metadata": {},
   "outputs": [],
   "source": []
  }
 ],
 "metadata": {
  "kernelspec": {
   "display_name": "Python 3 (ipykernel)",
   "language": "python",
   "name": "python3"
  },
  "language_info": {
   "codemirror_mode": {
    "name": "ipython",
    "version": 3
   },
   "file_extension": ".py",
   "mimetype": "text/x-python",
   "name": "python",
   "nbconvert_exporter": "python",
   "pygments_lexer": "ipython3",
   "version": "3.12.4"
  }
 },
 "nbformat": 4,
 "nbformat_minor": 5
}
