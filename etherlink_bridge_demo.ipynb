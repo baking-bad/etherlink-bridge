{
  "nbformat": 4,
  "nbformat_minor": 0,
  "metadata": {
    "colab": {
      "provenance": []
    },
    "kernelspec": {
      "name": "python3",
      "display_name": "Python 3"
    },
    "language_info": {
      "name": "python"
    }
  },
  "cells": [
    {
      "cell_type": "code",
      "execution_count": null,
      "metadata": {
        "id": "QjnXwqX2-wXn"
      },
      "outputs": [],
      "source": [
        "# installing foundry:\n",
        "!curl -L https://foundry.paradigm.xyz | bash\n",
        "!source ~/.bashrc\n",
        "import os\n",
        "os.environ['PATH'] += \":/root/.foundry/bin\"\n",
        "!foundryup\n",
        "\n",
        "# cloning repo and installing python dependencies:\n",
        "!git clone -b feat/scripts-and-docs https://github.com/baking-bad/etherlink-bridge.git\n",
        "%cd etherlink-bridge/\n",
        "!pip install poetry\n",
        "!poetry install"
      ]
    },
    {
      "cell_type": "code",
      "source": [
        "!poetry run init_wallets"
      ],
      "metadata": {
        "id": "heNZAeqnHNJq",
        "colab": {
          "base_uri": "https://localhost:8080/"
        },
        "outputId": "1cff4a4f-58b4-4d86-ec11-e7b47390aa17"
      },
      "execution_count": 3,
      "outputs": [
        {
          "output_type": "stream",
          "name": "stdout",
          "text": [
            "Enter \"L1_PRIVATE_KEY\" (default: edsk2nu78mRwg4V5Ka7XCJFVbVPPwhry8YPeEHRwzGQHEpGAffDvrH): \n",
            "Enter \"L1_PUBLIC_KEY_HASH\" (default: tz1YG6P2GTQKFpd9jeuESam2vg6aA9HHRkKo): \n",
            "Enter \"L1_RPC_URL\" (default: https://rpc.tzkt.io/nairobinet/): \n",
            "Enter \"L1_ROLLUP_ADDRESS\" (default: sr1Cz5HkqyC8ozTYbDij8YmseAAG3SgZtpRb): \n",
            "Enter \"L2_PRIVATE_KEY\" (default: 8636c473b431be57109d4153735315a5cdf36b3841eb2cfa80b75b3dcd2d941a): \n",
            "Enter \"L2_PUBLIC_KEY\" (default: 0xBefD2C6fFC36249ebEbd21d6DF6376ecF3BAc448): \n",
            "Enter \"L2_MASTER_KEY\" (default: 9722f6cc9ff938e63f8ccb74c3daa6b45837e5c5e3835ac08c44c50ab5f39dc0): \n",
            "Enter \"L2_RPC_URL\" (default: https://etherlink.dipdup.net): \n",
            "Enter \"L2_KERNEL_ADDRESS\" (default: 0x0000000000000000000000000000000000000000): \n",
            "Enter \"L2_WITHDRAW_PRECOMPILE_ADDRESS\" (default: 0x0000000000000000000000000000000000000040): \n"
          ]
        }
      ]
    },
    {
      "cell_type": "code",
      "source": [
        "!poetry run deploy_token --token-type FA1.2"
      ],
      "metadata": {
        "colab": {
          "base_uri": "https://localhost:8080/"
        },
        "id": "_d0eHd4Sz4rt",
        "outputId": "ec346d80-4c70-47b6-ed62-a03fca8ab98a"
      },
      "execution_count": 3,
      "outputs": [
        {
          "output_type": "stream",
          "name": "stdout",
          "text": [
            "deploying contract from filename /content/etherlink-bridge/tezos/tests/helpers/../tokens/fa12-Ctez.tz\n",
            "found contract address: KT19SS4BWZoaZ6xG3ozXNtNdrebKTMn6YM5y\n"
          ]
        }
      ]
    },
    {
      "cell_type": "code",
      "source": [
        "!poetry run deploy_ticketer --token-address KT19SS4BWZoaZ6xG3ozXNtNdrebKTMn6YM5y --token-type FA1.2 --token-id 0"
      ],
      "metadata": {
        "colab": {
          "base_uri": "https://localhost:8080/"
        },
        "id": "J3uoYpLWxg2w",
        "outputId": "a51afbb8-b6cf-4c5e-9a64-cda58389da2a"
      },
      "execution_count": 4,
      "outputs": [
        {
          "output_type": "stream",
          "name": "stdout",
          "text": [
            "deploying contract from filename /content/etherlink-bridge/tezos/tests/helpers/../../build/ticketer.tz\n",
            "found contract address: KT1KtbR9fr5Lu2r6VVKosG5XbXewVhegGc7L\n",
            "address_bytes: 017c08663c9a107efae948c69296376b3ba08d279900\n",
            "content_bytes: 0707000005090a0000005f05020000005907040100000010636f6e74726163745f616464726573730a0000001c050a00000016010964830cb917ea6316a180f0ec12e08ae2529457000704010000000a746f6b656e5f747970650a0000000b0501000000054641312e32\n"
          ]
        }
      ]
    },
    {
      "cell_type": "code",
      "source": [
        "!poetry run deploy_ticket_helper --ticketer-address KT1KtbR9fr5Lu2r6VVKosG5XbXewVhegGc7L"
      ],
      "metadata": {
        "colab": {
          "base_uri": "https://localhost:8080/"
        },
        "id": "QdoXlCWczgxU",
        "outputId": "2bb8142c-e9a3-47d5-e5a0-1f86af32a040"
      },
      "execution_count": 5,
      "outputs": [
        {
          "output_type": "stream",
          "name": "stdout",
          "text": [
            "deploying contract from filename /content/etherlink-bridge/tezos/tests/helpers/../../build/ticket-helper.tz\n",
            "found contract address: KT1D8MV1ZoxAK3usKRzgTcSgwPm3z2Ywi8UR\n"
          ]
        }
      ]
    },
    {
      "cell_type": "code",
      "source": [
        "!poetry run deploy_erc20 --ticketer-address-bytes 017c08663c9a107efae948c69296376b3ba08d279900 --ticketer-content-bytes 0707000005090a0000005f05020000005907040100000010636f6e74726163745f616464726573730a0000001c050a00000016010964830cb917ea6316a180f0ec12e08ae2529457000704010000000a746f6b656e5f747970650a0000000b0501000000054641312e32 --token-name \"FA1.2/2024\" --token-symbol \"2024\" --decimals 0"
      ],
      "metadata": {
        "id": "OyXyHW3H8mS-"
      },
      "execution_count": 4,
      "outputs": []
    },
    {
      "cell_type": "code",
      "source": [
        "!poetry run fund_etherlink_account"
      ],
      "metadata": {
        "id": "AjIxuDb1m1yr"
      },
      "execution_count": 5,
      "outputs": []
    },
    {
      "cell_type": "code",
      "source": [],
      "metadata": {
        "id": "ILs1uOOj9D18"
      },
      "execution_count": null,
      "outputs": []
    }
  ]
}