{
 "cells": [
  {
   "cell_type": "markdown",
   "id": "bd38859f",
   "metadata": {},
   "source": [
    "# Setting up in the new network / for new accounts:\n",
    "- This notebook allows to prepare wallets, tokens and contracts for running scenarios.\n",
    "- You would need to update the consts in the [/scripts/defaults.py](../../scripts/defaults.py) to use deployed tokens and contracts in the scenarios."
   ]
  },
  {
   "cell_type": "code",
   "execution_count": 1,
   "id": "1b7bc369",
   "metadata": {},
   "outputs": [
    {
     "name": "stdout",
     "output_type": "stream",
     "text": [
      "Setup:\n",
      "- Tezos account: `\u001b[96mtz1ekkzEN2LB1cpf7dCaonKt6x9KVd9YVydc\u001b[0m`, balance: `\u001b[96m100.364256 ꜩ\u001b[0m`\n",
      "- Etherlink account: `\u001b[96m0x7e6f6CCFe485a087F0F819eaBfDBfb1a49b97677\u001b[0m`, balance: `\u001b[96m90.674712709 ꜩ\u001b[0m`\n"
     ]
    }
   ],
   "source": [
    "from docs.scenarios.setup import *\n",
    "\n",
    "web3, etherlink_account, tezos_account = setup()"
   ]
  },
  {
   "cell_type": "markdown",
   "id": "930cbe99",
   "metadata": {},
   "source": [
    "### Reveal tezos key if needed:"
   ]
  },
  {
   "cell_type": "code",
   "execution_count": null,
   "id": "f7fbf453",
   "metadata": {},
   "outputs": [],
   "source": [
    "opg = tezos_account.reveal().send()\n",
    "tezos_account.wait(opg)"
   ]
  },
  {
   "cell_type": "markdown",
   "id": "62b43377",
   "metadata": {},
   "source": [
    "### Deploying XTZ ticketer:"
   ]
  },
  {
   "cell_type": "code",
   "execution_count": null,
   "id": "002d24ff",
   "metadata": {},
   "outputs": [],
   "source": [
    "from scripts.helpers.contracts.xtz_ticketer import XtzTicketer\n",
    "\n",
    "opg = XtzTicketer.originate(tezos_account).send()\n",
    "tezos_account.wait(opg)\n",
    "xtz_ticketer = XtzTicketer.from_opg(tezos_account, opg)\n",
    "xtz_ticketer_address_hex = xtz_ticketer.address.encode().hex()\n",
    "\n",
    "click.echo('- Ticketer address: ' + wrap(accent(xtz_ticketer.address)))\n",
    "click.echo('- Ticketer address hex: ' + wrap(accent(xtz_ticketer_address_hex)))"
   ]
  },
  {
   "cell_type": "markdown",
   "id": "6cada907",
   "metadata": {},
   "source": [
    "### Deploying XTZ ticket helper:"
   ]
  },
  {
   "cell_type": "code",
   "execution_count": null,
   "id": "1370a791",
   "metadata": {},
   "outputs": [],
   "source": [
    "from pytezos import ContractInterface\n",
    "\n",
    "helper = tezos_account.using(shell='ghostnet').contract('KT1VEjeQfDBSfpDH5WeBM5LukHPGM2htYEh3')\n",
    "\n",
    "storage = {\n",
    "    'exchanger': xtz_ticketer.address,\n",
    "    'request_deposit': None\n",
    "}\n",
    "\n",
    "opg = ContractInterface.from_micheline(helper.script()['code']).using(\n",
    "    shell=tezos_account.shell,\n",
    "    key=tezos_account.key,\n",
    ").originate(initial_storage=storage).send()"
   ]
  },
  {
   "cell_type": "markdown",
   "id": "371e87a1",
   "metadata": {},
   "source": [
    "### Deposit XTZ to L2:\n",
    "- This call will fund default etherlink_account on Etherlink side by utilizing native deposit bridge."
   ]
  },
  {
   "cell_type": "code",
   "execution_count": 2,
   "id": "2bffb355",
   "metadata": {},
   "outputs": [
    {
     "name": "stdout",
     "output_type": "stream",
     "text": [
      "Making XTZ deposit using Helper `\u001b[96mKT1MiHpNdyMmVegAwrsB4z6wV4kdK4YoFSEZ\u001b[0m`:\n",
      "  - Executor: `\u001b[96mtz1ekkzEN2LB1cpf7dCaonKt6x9KVd9YVydc\u001b[0m`\n",
      "  - Tezos RPC node: `\u001b[96mhttps://rpc.tzkt.io/quebecnet/\u001b[0m`\n",
      "  - XTZ deposit params:\n",
      "      * Smart Rollup address: `\u001b[96msr1AvSV5JHRGaHtxjb6xsfYENV8arBwDBq2p\u001b[0m`\n",
      "      * Receiver address: `\u001b[96m0x7e6f6CCFe485a087F0F819eaBfDBfb1a49b97677\u001b[0m`\n",
      "      * Amount (mutez): `\u001b[96m90_000_000\u001b[0m`\n",
      "Successfully executed XTZ deposit, tx hash: `\u001b[96mooYgiN3ZaEGEKp9hF6wwk7cDjLmUFNxntzHGRdNyy7CAYT2eocc\u001b[0m`\n"
     ]
    }
   ],
   "source": [
    "opg_hash = xtz_deposit.callback(\n",
    "    xtz_ticket_helper=XTZ_TICKET_HELPER,\n",
    "    tezos_private_key=TEZOS_PRIVATE_KEY,\n",
    "    tezos_rpc_url=TEZOS_RPC_URL,\n",
    "    amount=1_000_000,\n",
    "    receiver_address=etherlink_account.address,\n",
    "    smart_rollup_address=SMART_ROLLUP_ADDRESS,\n",
    ")"
   ]
  },
  {
   "cell_type": "markdown",
   "id": "67065dfa",
   "metadata": {},
   "source": [
    "### Deploy L1 token:\n",
    "- This call will deploy new token, that can be used as a testing token in the scenarios.\n",
    "- This token should be stored in the Ticketer contract storage to be used in other test scenarios."
   ]
  },
  {
   "cell_type": "code",
   "execution_count": 6,
   "id": "b98101db",
   "metadata": {},
   "outputs": [
    {
     "name": "stdout",
     "output_type": "stream",
     "text": [
      "Deploying mock token contract `\u001b[96m!NO-TOKEN-SYMBOL\u001b[0m`:\n",
      "  - Deployer: `\u001b[96mtz1ekkzEN2LB1cpf7dCaonKt6x9KVd9YVydc\u001b[0m`\n",
      "  - Tezos RPC node: `\u001b[96mhttps://rpc.tzkt.io/quebecnet/\u001b[0m`\n",
      "  - Params:\n",
      "Successfully deployed `\u001b[96m!NO-TOKEN-SYMBOL\u001b[0m` `\u001b[96mFA2\u001b[0m` Token, address: `\u001b[96mKT1BP2ErUg8N6d9DVk2TfuDC8K4NXMrbh4vj\u001b[0m`\n"
     ]
    }
   ],
   "source": [
    "from scripts.tezos.deploy_token import deploy_token\n",
    "\n",
    "token = deploy_token.callback(\n",
    "    token_type='FA2',\n",
    "    token_id=9000,\n",
    "    total_supply=70_000_000,\n",
    "    tezos_private_key=TEZOS_PRIVATE_KEY,\n",
    "    tezos_rpc_url=TEZOS_RPC_URL,\n",
    "    skip_confirm=True,\n",
    "    silent=False,\n",
    ")"
   ]
  },
  {
   "cell_type": "markdown",
   "id": "f4d9e9ce",
   "metadata": {},
   "source": [
    "- You will need to update the `TEZOS_TOKEN_ADDRESS` and `TEZOS_TOKEN_TYPE` variables in the [/scripts/defaults.py](../../scripts/defaults.py), to use this token contract in the test scenarios."
   ]
  },
  {
   "cell_type": "markdown",
   "id": "90769d99",
   "metadata": {},
   "source": [
    "### Deploy bridge:\n",
    "- This call will deploy bridge contracts on both Tezos and Etherlink side for the provided token.\n",
    "- You can both use existing token from the network or deploy you own test token."
   ]
  },
  {
   "cell_type": "code",
   "execution_count": null,
   "id": "13c6bf20",
   "metadata": {},
   "outputs": [],
   "source": [
    "from scripts.bridge_token import bridge_token\n",
    "\n",
    "tezos_bridge_contracts = bridge_token.callback(\n",
    "    token_address=token.address,\n",
    "    token_type='FA2',\n",
    "    token_id=9000,\n",
    "    token_decimals=0,\n",
    "    token_symbol='vSecT',\n",
    "    token_name='Various Security Testing Scenarios',\n",
    "    tezos_private_key=TEZOS_PRIVATE_KEY,\n",
    "    tezos_rpc_url=TEZOS_RPC_URL,\n",
    "    etherlink_private_key=ETHERLINK_PRIVATE_KEY,\n",
    "    etherlink_rpc_url=ETHERLINK_RPC_URL,\n",
    "    kernel_address=KERNEL_ADDRESS,\n",
    "    skip_confirm=True,\n",
    ")\n",
    "\n",
    "ticketer = tezos_bridge_contracts['ticketer']\n",
    "erc20 = tezos_bridge_contracts['erc20']\n",
    "token_bridge_helper = tezos_bridge_contracts['token_bridge_helper']"
   ]
  },
  {
   "cell_type": "markdown",
   "id": "9d43c9f3",
   "metadata": {},
   "source": [
    "- You will need to update the `TICKETER_ADDRESS`, `ERC20_PROXY_ADDRESS`, `TOKEN_BRIDGE_HELPER_ADDRESS` variables in the [/scripts/defaults.py](../../scripts/defaults.py), to use these contracts in other scenarios."
   ]
  },
  {
   "cell_type": "code",
   "execution_count": 10,
   "id": "602f2195",
   "metadata": {},
   "outputs": [
    {
     "name": "stdout",
     "output_type": "stream",
     "text": [
      "TICKETER_ADDRESS = '\u001b[96mKT1BgbBBYh2eiNSNwjGzyiHmTrX1W8ptpDYm\u001b[0m'\n",
      "ERC20_PROXY_ADDRESS = '\u001b[96m0x22D47960Bf1A741176ed29d2517d711d7Ef19eB4\u001b[0m'\n",
      "TOKEN_BRIDGE_HELPER_ADDRESS = '\u001b[96mKT1V4VLWWBaSzjHok7kMNStF3FWaMpMmwMwv\u001b[0m'\n"
     ]
    }
   ],
   "source": [
    "click.echo(\"TICKETER_ADDRESS = '\" + accent(ticketer.address) + \"'\")\n",
    "click.echo(\"ERC20_PROXY_ADDRESS = '\" + accent(erc20.address) + \"'\")\n",
    "click.echo(\"TOKEN_BRIDGE_HELPER_ADDRESS = '\" + accent(token_bridge_helper.address) + \"'\")"
   ]
  },
  {
   "cell_type": "markdown",
   "id": "f3937296",
   "metadata": {},
   "source": [
    "### Deploy TicketRouterTester:\n",
    "- This is the tester-contract allowing to make arbitrary calls to the rollup, ticketer, accept tickets with different entrypoints, redirect them, mint tickets."
   ]
  },
  {
   "cell_type": "code",
   "execution_count": 15,
   "id": "ae165591",
   "metadata": {},
   "outputs": [
    {
     "name": "stdout",
     "output_type": "stream",
     "text": [
      "Deploying TicketRouterTester:\n",
      "  - Deployer: `\u001b[96mtz1ekkzEN2LB1cpf7dCaonKt6x9KVd9YVydc\u001b[0m`\n",
      "  - Tezos RPC node: `\u001b[96mhttps://rpc.tzkt.io/quebecnet/\u001b[0m`\n",
      "Successfully deployed TicketRouterTester, address: `\u001b[96mKT1TLcwLXsbqC1sPMvVHgrfREsbnFYsbtwgK\u001b[0m`\n"
     ]
    }
   ],
   "source": [
    "from scripts.helpers.scenarios import deploy_ticket_router_tester\n",
    "\n",
    "ticket_router_tester = deploy_ticket_router_tester(\n",
    "    tezos_account,\n",
    "    TEZOS_RPC_URL,\n",
    ")"
   ]
  },
  {
   "cell_type": "markdown",
   "id": "bd947e3e",
   "metadata": {},
   "source": [
    "- You will need to update the `TICKET_ROUTER_TESTER_ADDRESS` variable in the [/scripts/defaults.py](../../scripts/defaults.py), to use this contracts in other scenarios."
   ]
  },
  {
   "cell_type": "markdown",
   "id": "1cdb2493",
   "metadata": {},
   "source": [
    "### Wrap tokens to tickets:\n",
    "- To use tickets, that represent FA token, directly from tezos account, they should be converted without sending to the rollup.\n",
    "- There is a helper to do this:"
   ]
  },
  {
   "cell_type": "code",
   "execution_count": 3,
   "id": "5b6d8ed5",
   "metadata": {},
   "outputs": [
    {
     "data": {
      "text/plain": [
       "'KT1BgbBBYh2eiNSNwjGzyiHmTrX1W8ptpDYm'"
      ]
     },
     "execution_count": 3,
     "metadata": {},
     "output_type": "execute_result"
    }
   ],
   "source": [
    "from scripts.defaults import TICKETER_ADDRESS\n",
    "\n",
    "ticketer = Ticketer.from_address(tezos_account, TICKETER_ADDRESS)\n",
    "ticketer.address"
   ]
  },
  {
   "cell_type": "code",
   "execution_count": 4,
   "id": "4efe8fe4",
   "metadata": {
    "scrolled": true
   },
   "outputs": [
    {
     "name": "stdout",
     "output_type": "stream",
     "text": [
      "Wrapping \u001b[96mFA2\u001b[0m token, address: `\u001b[96mKT1BP2ErUg8N6d9DVk2TfuDC8K4NXMrbh4vj\u001b[0m`, id: `\u001b[96m9000\u001b[0m` tokens to tickets:\n",
      "  - Token holder: `\u001b[96mtz1ekkzEN2LB1cpf7dCaonKt6x9KVd9YVydc\u001b[0m`\n",
      "  - Ticketer: `\u001b[96mKT1BgbBBYh2eiNSNwjGzyiHmTrX1W8ptpDYm\u001b[0m`\n",
      "  - Amount: `\u001b[96m1_000_000\u001b[0m`\n",
      "Successfully wrapped, tx hash: `\u001b[96moonAp2AKdsnsEZfLvMmwfwZN9KbVrJCK78XFjrZQTLTeQ5QWBs3\u001b[0m`\n"
     ]
    }
   ],
   "source": [
    "opg_hash = wrap_tokens_to_tickets(tezos_account, ticketer, 1_000_000)"
   ]
  }
 ],
 "metadata": {
  "kernelspec": {
   "display_name": "Python 3 (ipykernel)",
   "language": "python",
   "name": "python3"
  },
  "language_info": {
   "codemirror_mode": {
    "name": "ipython",
    "version": 3
   },
   "file_extension": ".py",
   "mimetype": "text/x-python",
   "name": "python",
   "nbconvert_exporter": "python",
   "pygments_lexer": "ipython3",
   "version": "3.12.8"
  }
 },
 "nbformat": 4,
 "nbformat_minor": 5
}
