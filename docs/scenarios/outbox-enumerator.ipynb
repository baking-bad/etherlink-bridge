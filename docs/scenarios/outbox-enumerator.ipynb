{
 "cells": [
  {
   "cell_type": "markdown",
   "id": "580b77f7",
   "metadata": {},
   "source": [
    "## Outbox Enumerator\n",
    "- TODO: WIP"
   ]
  },
  {
   "cell_type": "code",
   "execution_count": 1,
   "id": "5fbc05ed",
   "metadata": {},
   "outputs": [
    {
     "name": "stdout",
     "output_type": "stream",
     "text": [
      "Setup:\n",
      "- Tezos account: `\u001b[96mtz1ekkzEN2LB1cpf7dCaonKt6x9KVd9YVydc\u001b[0m`, balance: `\u001b[96m100.373892 ꜩ\u001b[0m`\n",
      "- Etherlink account: `\u001b[96m0x7e6f6CCFe485a087F0F819eaBfDBfb1a49b97677\u001b[0m`, balance: `\u001b[96m1.65279776 ꜩ\u001b[0m`\n"
     ]
    }
   ],
   "source": [
    "from docs.scenarios.setup import *\n",
    "\n",
    "accounts = setup()\n",
    "web3, etherlink_account, tezos_account = accounts\n",
    "_, ticketer, _, _, ticket_router_tester = load_contracts(*accounts)"
   ]
  },
  {
   "cell_type": "code",
   "execution_count": null,
   "id": "7a218de0",
   "metadata": {},
   "outputs": [],
   "source": [
    "# TODO: move to the etherlink contracts:\n",
    "\n",
    "class OutboxEnumeratorHelper(EvmContractHelper):\n",
    "    filename = make_filename('OutboxEnumerator')\n",
    "\n",
    "outbox_enumerator = OutboxEnumeratorHelper.originate_from_file(\n",
    "    web3=web3,\n",
    "    account=etherlink_account,\n",
    "    filename=make_filename('OutboxEnumerator'),\n",
    "    constructor_args=(\n",
    "        XTZ_WITHDRAWAL_PRECOMPILE,\n",
    "        450,\n",
    "    )\n",
    ")\n",
    "outbox_enumerator.address"
   ]
  },
  {
   "cell_type": "code",
   "execution_count": null,
   "id": "8679dff8",
   "metadata": {},
   "outputs": [],
   "source": [
    "xtz_deposit.callback(\n",
    "    xtz_ticket_helper=XTZ_TICKET_HELPER,\n",
    "    tezos_private_key=TEZOS_PRIVATE_KEY,\n",
    "    tezos_rpc_url=TEZOS_RPC_URL,\n",
    "    amount=1_000_000,\n",
    "    receiver_address=outbox_enumerator.address,\n",
    "    smart_rollup_address=SMART_ROLLUP_ADDRESS,\n",
    ")"
   ]
  },
  {
   "cell_type": "code",
   "execution_count": null,
   "id": "27e50247",
   "metadata": {},
   "outputs": [],
   "source": [
    "xtz_withdraw.callback(\n",
    "    amount=10**12,\n",
    "    # xtz_withdraw_precompile=XTZ_WITHDRAWAL_PRECOMPILE,\n",
    "    xtz_withdraw_precompile=outbox_enumerator.address,\n",
    "    receiver_address='tz1burnburnburnburnburnburnburjAYjjX',\n",
    "    etherlink_private_key=ETHERLINK_PRIVATE_KEY,\n",
    "    etherlink_rpc_url=ETHERLINK_RPC_URL\n",
    ")"
   ]
  }
 ],
 "metadata": {
  "kernelspec": {
   "display_name": "Python 3 (ipykernel)",
   "language": "python",
   "name": "python3"
  },
  "language_info": {
   "codemirror_mode": {
    "name": "ipython",
    "version": 3
   },
   "file_extension": ".py",
   "mimetype": "text/x-python",
   "name": "python",
   "nbconvert_exporter": "python",
   "pygments_lexer": "ipython3",
   "version": "3.12.4"
  }
 },
 "nbformat": 4,
 "nbformat_minor": 5
}
