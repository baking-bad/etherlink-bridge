{
 "cells": [
  {
   "cell_type": "code",
   "execution_count": 1,
   "id": "edc5019e",
   "metadata": {},
   "outputs": [
    {
     "name": "stdout",
     "output_type": "stream",
     "text": [
      "Setup:\n",
      "- Tezos account: `\u001b[96mtz1ekkzEN2LB1cpf7dCaonKt6x9KVd9YVydc\u001b[0m`, balance: `\u001b[96m600.823220 ꜩ\u001b[0m`\n",
      "- Etherlink account: `\u001b[96m0x7e6f6CCFe485a087F0F819eaBfDBfb1a49b97677\u001b[0m`, balance: `\u001b[96m0.967703977 ꜩ\u001b[0m`\n"
     ]
    }
   ],
   "source": [
    "from docs.scenarios.setup import *\n",
    "\n",
    "accounts = setup()\n",
    "web3, etherlink_account, tezos_account = accounts\n",
    "_, ticketer, _, _, ticket_router_tester = load_contracts(*accounts)"
   ]
  },
  {
   "cell_type": "markdown",
   "id": "745d0b78",
   "metadata": {},
   "source": [
    "### Converting 317 tokens to tickets (if not already converted in setup):"
   ]
  },
  {
   "cell_type": "code",
   "execution_count": 10,
   "id": "09531441",
   "metadata": {},
   "outputs": [
    {
     "name": "stdout",
     "output_type": "stream",
     "text": [
      "Wrapping \u001b[96mFA2\u001b[0m token, address: `\u001b[96mKT1K6uyg7cjNRoPkYw6SfyCm1f2tPLHfVUez\u001b[0m`, id: `\u001b[96m0\u001b[0m` tokens to tickets:\n",
      "  - Token holder: `\u001b[96mtz1ekkzEN2LB1cpf7dCaonKt6x9KVd9YVydc\u001b[0m`\n",
      "  - Ticketer: `\u001b[96mKT1JT3T9jodxKchWEcwMtHzKTcM5pKD4phFp\u001b[0m`\n",
      "  - Amount: `\u001b[96m317\u001b[0m`\n",
      "Successfully wrapped, tx hash: `\u001b[96mooFbDbeXismo7FMQG4KzdkK1QT6uPutvmdvrFFy88qW31D5B51Z\u001b[0m`\n"
     ]
    }
   ],
   "source": [
    "opg_hash = wrap_tokens_to_tickets(tezos_account, ticketer, 317)"
   ]
  },
  {
   "cell_type": "markdown",
   "id": "e41d5a73",
   "metadata": {},
   "source": [
    "### Case A: deposit where L2 Proxy is not set:"
   ]
  },
  {
   "cell_type": "code",
   "execution_count": 3,
   "id": "a363cec2",
   "metadata": {},
   "outputs": [
    {
     "name": "stdout",
     "output_type": "stream",
     "text": [
      "Setting up \u001b[96mTicketRouterTester\u001b[0m to the \u001b[96mrollupDeposit\u001b[0m mode:\n",
      "  - Target: `\u001b[96msr1GBHEgzZmpWH4URqshZEZFCxBpqzi6ahvL\u001b[0m`\n",
      "  - Routing Info: `\u001b[96m0x7e6f6ccfe485a087f0f819eabfdbfb1a49b97677\u001b[0m`\n",
      "Successfully set, tx hash: `\u001b[96mopDfDA3VsyMtqpRsdRfQrisCuy3a2QCooCzryBSsfjP9pMfYf3W\u001b[0m`\n"
     ]
    }
   ],
   "source": [
    "opg_hash = setup_ticket_router_tester_to_rollup_deposit(\n",
    "    ticket_router_tester=ticket_router_tester,\n",
    "    target=SMART_ROLLUP_ADDRESS,\n",
    "    receiver=etherlink_account,\n",
    "    router=None,\n",
    ")"
   ]
  },
  {
   "cell_type": "code",
   "execution_count": 11,
   "id": "6c012510",
   "metadata": {},
   "outputs": [
    {
     "name": "stdout",
     "output_type": "stream",
     "text": [
      "Transfering ticket:\n",
      "  - Owner: `\u001b[96mtz1ekkzEN2LB1cpf7dCaonKt6x9KVd9YVydc\u001b[0m`\n",
      "  - Ticketer address: `\u001b[96mKT1JT3T9jodxKchWEcwMtHzKTcM5pKD4phFp\u001b[0m`\n",
      "  - Ticket content: `\u001b[96m0x0707000005090a000000b90502000000b307040100000010636f6e74726163745f616464726573730a000000244b54314b3675796737636a4e526f506b597736536679436d31663274504c48665655657a07040100000008646563696d616c730a0000000136070401000000046e616d650a0000000a546574686572205553440704010000000673796d626f6c0a000000045553447407040100000008746f6b656e5f69640a00000001300704010000000a746f6b656e5f747970650a00000003464132\u001b[0m`\n",
      "  - Amount: `\u001b[96m31\u001b[0m`\n",
      "  - Receiver: `\u001b[96mKT19qCLRCbctH6KXaSFWptNgQebhDJgNrzER\u001b[0m`\n",
      "Successfully transfered, tx hash: `\u001b[96moowAPo6GtSefeaWsw1cnPnAXVs9Tu48Y9y93q8kAaNsUKzhAyeC\u001b[0m`\n"
     ]
    }
   ],
   "source": [
    "ticket = ticketer.read_ticket(tezos_account)\n",
    "ticket, _ = ticket.split(31)\n",
    "\n",
    "opg_hash = transfer_ticket(\n",
    "    ticket=ticket,\n",
    "    receiver=ticket_router_tester,\n",
    ")"
   ]
  },
  {
   "cell_type": "code",
   "execution_count": 12,
   "id": "a8857796",
   "metadata": {},
   "outputs": [
    {
     "data": {
      "text/plain": [
       "31"
      ]
     },
     "execution_count": 12,
     "metadata": {},
     "output_type": "execute_result"
    }
   ],
   "source": [
    "get_tickets_count(ETHERLINK_ROLLUP_NODE_URL, ticket, etherlink_account.address)"
   ]
  },
  {
   "cell_type": "markdown",
   "id": "cb0e5245",
   "metadata": {},
   "source": [
    "### Case B: deposit where L2 Proxy doesn't have code:"
   ]
  },
  {
   "cell_type": "code",
   "execution_count": 13,
   "id": "6379b4f8",
   "metadata": {},
   "outputs": [
    {
     "name": "stdout",
     "output_type": "stream",
     "text": [
      "Setting up \u001b[96mTicketRouterTester\u001b[0m to the \u001b[96mrollupDeposit\u001b[0m mode:\n",
      "  - Target: `\u001b[96msr1GBHEgzZmpWH4URqshZEZFCxBpqzi6ahvL\u001b[0m`\n",
      "  - Routing Info: `\u001b[96m0x7e6f6ccfe485a087f0f819eabfdbfb1a49b97677befd2c6ffc36249ebebd21d6df6376ecf3bac448\u001b[0m`\n",
      "Successfully set, tx hash: `\u001b[96mopB92SR4TDB6DgVDvn59eC6U3vrkUvmKyXgcyy8LJNM4fN9NVTC\u001b[0m`\n"
     ]
    }
   ],
   "source": [
    "# Here is the EOA:\n",
    "router_address = '0xBefD2C6fFC36249ebEbd21d6DF6376ecF3BAc448'\n",
    "\n",
    "opg_hash = setup_ticket_router_tester_to_rollup_deposit(\n",
    "    ticket_router_tester=ticket_router_tester,\n",
    "    target=SMART_ROLLUP_ADDRESS,\n",
    "    receiver=etherlink_account,\n",
    "    router=router_address,\n",
    ")"
   ]
  },
  {
   "cell_type": "code",
   "execution_count": 14,
   "id": "f820206c",
   "metadata": {},
   "outputs": [
    {
     "name": "stdout",
     "output_type": "stream",
     "text": [
      "Transfering ticket:\n",
      "  - Owner: `\u001b[96mtz1ekkzEN2LB1cpf7dCaonKt6x9KVd9YVydc\u001b[0m`\n",
      "  - Ticketer address: `\u001b[96mKT1JT3T9jodxKchWEcwMtHzKTcM5pKD4phFp\u001b[0m`\n",
      "  - Ticket content: `\u001b[96m0x0707000005090a000000b90502000000b307040100000010636f6e74726163745f616464726573730a000000244b54314b3675796737636a4e526f506b597736536679436d31663274504c48665655657a07040100000008646563696d616c730a0000000136070401000000046e616d650a0000000a546574686572205553440704010000000673796d626f6c0a000000045553447407040100000008746f6b656e5f69640a00000001300704010000000a746f6b656e5f747970650a00000003464132\u001b[0m`\n",
      "  - Amount: `\u001b[96m37\u001b[0m`\n",
      "  - Receiver: `\u001b[96mKT19qCLRCbctH6KXaSFWptNgQebhDJgNrzER\u001b[0m`\n",
      "Successfully transfered, tx hash: `\u001b[96mopKJ6J3WdaLoHKRBMMYHrtSscfByKu4613tuKye57vENrWM976h\u001b[0m`\n"
     ]
    }
   ],
   "source": [
    "ticket = ticketer.read_ticket(tezos_account)\n",
    "ticket, _ = ticket.split(37)\n",
    "\n",
    "opg_hash = transfer_ticket(\n",
    "    ticket=ticket,\n",
    "    receiver=ticket_router_tester,\n",
    ")"
   ]
  },
  {
   "cell_type": "markdown",
   "id": "471c974f",
   "metadata": {},
   "source": [
    "### Case C: deposit where L2 Proxy has code, but it has no mint entry:"
   ]
  },
  {
   "cell_type": "code",
   "execution_count": 15,
   "id": "993e5309",
   "metadata": {},
   "outputs": [
    {
     "name": "stdout",
     "output_type": "stream",
     "text": [
      "Setting up \u001b[96mTicketRouterTester\u001b[0m to the \u001b[96mrollupDeposit\u001b[0m mode:\n",
      "  - Target: `\u001b[96msr1GBHEgzZmpWH4URqshZEZFCxBpqzi6ahvL\u001b[0m`\n",
      "  - Routing Info: `\u001b[96m0x7e6f6ccfe485a087f0f819eabfdbfb1a49b9767722565c35ad439cbb8399bfc733c56c9f5a10e3a6\u001b[0m`\n",
      "Successfully set, tx hash: `\u001b[96mopSSfgQ6jrcSDNdeKxE33xuzmATdqoqWHWebjeFnYK5NxrzFvar\u001b[0m`\n"
     ]
    }
   ],
   "source": [
    "# Here is the OutboxEnumerator contract in the parisnet:\n",
    "router_address = '0x22565c35Ad439cbb8399bfC733c56C9F5A10E3a6'\n",
    "\n",
    "opg_hash = setup_ticket_router_tester_to_rollup_deposit(\n",
    "    ticket_router_tester=ticket_router_tester,\n",
    "    target=SMART_ROLLUP_ADDRESS,\n",
    "    receiver=etherlink_account,\n",
    "    router=router_address,\n",
    ")"
   ]
  },
  {
   "cell_type": "code",
   "execution_count": 16,
   "id": "6fd2e254",
   "metadata": {},
   "outputs": [
    {
     "name": "stdout",
     "output_type": "stream",
     "text": [
      "Transfering ticket:\n",
      "  - Owner: `\u001b[96mtz1ekkzEN2LB1cpf7dCaonKt6x9KVd9YVydc\u001b[0m`\n",
      "  - Ticketer address: `\u001b[96mKT1JT3T9jodxKchWEcwMtHzKTcM5pKD4phFp\u001b[0m`\n",
      "  - Ticket content: `\u001b[96m0x0707000005090a000000b90502000000b307040100000010636f6e74726163745f616464726573730a000000244b54314b3675796737636a4e526f506b597736536679436d31663274504c48665655657a07040100000008646563696d616c730a0000000136070401000000046e616d650a0000000a546574686572205553440704010000000673796d626f6c0a000000045553447407040100000008746f6b656e5f69640a00000001300704010000000a746f6b656e5f747970650a00000003464132\u001b[0m`\n",
      "  - Amount: `\u001b[96m41\u001b[0m`\n",
      "  - Receiver: `\u001b[96mKT19qCLRCbctH6KXaSFWptNgQebhDJgNrzER\u001b[0m`\n",
      "Successfully transfered, tx hash: `\u001b[96mopEjrRoVqezKE5rv645nravnqb169mxMUNLpUWMS8zAguR6eB3t\u001b[0m`\n"
     ]
    }
   ],
   "source": [
    "ticket = ticketer.read_ticket(tezos_account)\n",
    "ticket, _ = ticket.split(41)\n",
    "\n",
    "opg_hash = transfer_ticket(\n",
    "    ticket=ticket,\n",
    "    receiver=ticket_router_tester,\n",
    ")"
   ]
  },
  {
   "cell_type": "markdown",
   "id": "db69fe31",
   "metadata": {},
   "source": [
    "### Case D: deposit where L2 Proxy has code, but not allows mint (wrong L2 Proxy):"
   ]
  },
  {
   "cell_type": "code",
   "execution_count": 17,
   "id": "ede21df1",
   "metadata": {},
   "outputs": [
    {
     "name": "stdout",
     "output_type": "stream",
     "text": [
      "Setting up \u001b[96mTicketRouterTester\u001b[0m to the \u001b[96mrollupDeposit\u001b[0m mode:\n",
      "  - Target: `\u001b[96msr1GBHEgzZmpWH4URqshZEZFCxBpqzi6ahvL\u001b[0m`\n",
      "  - Routing Info: `\u001b[96m0x7e6f6ccfe485a087f0f819eabfdbfb1a49b9767787dcbf128677ba36e79d47daf4eb4e51610e0150\u001b[0m`\n",
      "Successfully set, tx hash: `\u001b[96monizwshPH2BVg1wk361ojxUfaYyKFa5TQpDKCKPoA5qZAj6cU3F\u001b[0m`\n"
     ]
    }
   ],
   "source": [
    "# Here is the tzBTC contract in the parisnet (while transfering USDt ticket):\n",
    "router_address = '0x87dcBf128677ba36E79D47dAf4eb4e51610e0150'\n",
    "\n",
    "opg_hash = setup_ticket_router_tester_to_rollup_deposit(\n",
    "    ticket_router_tester=ticket_router_tester,\n",
    "    target=SMART_ROLLUP_ADDRESS,\n",
    "    receiver=etherlink_account,\n",
    "    router=router_address,\n",
    ")"
   ]
  },
  {
   "cell_type": "code",
   "execution_count": 18,
   "id": "6fe3611f",
   "metadata": {},
   "outputs": [
    {
     "name": "stdout",
     "output_type": "stream",
     "text": [
      "Transfering ticket:\n",
      "  - Owner: `\u001b[96mtz1ekkzEN2LB1cpf7dCaonKt6x9KVd9YVydc\u001b[0m`\n",
      "  - Ticketer address: `\u001b[96mKT1JT3T9jodxKchWEcwMtHzKTcM5pKD4phFp\u001b[0m`\n",
      "  - Ticket content: `\u001b[96m0x0707000005090a000000b90502000000b307040100000010636f6e74726163745f616464726573730a000000244b54314b3675796737636a4e526f506b597736536679436d31663274504c48665655657a07040100000008646563696d616c730a0000000136070401000000046e616d650a0000000a546574686572205553440704010000000673796d626f6c0a000000045553447407040100000008746f6b656e5f69640a00000001300704010000000a746f6b656e5f747970650a00000003464132\u001b[0m`\n",
      "  - Amount: `\u001b[96m43\u001b[0m`\n",
      "  - Receiver: `\u001b[96mKT19qCLRCbctH6KXaSFWptNgQebhDJgNrzER\u001b[0m`\n",
      "Successfully transfered, tx hash: `\u001b[96mooB2YnSRqFJqPYzW6Ys3rSoTDfrUrdqvm9YHnEXZNFPveZYcmQo\u001b[0m`\n"
     ]
    }
   ],
   "source": [
    "ticket = ticketer.read_ticket(tezos_account)\n",
    "ticket, _ = ticket.split(43)\n",
    "\n",
    "opg_hash = transfer_ticket(\n",
    "    ticket=ticket,\n",
    "    receiver=ticket_router_tester,\n",
    ")"
   ]
  },
  {
   "cell_type": "code",
   "execution_count": 19,
   "id": "38390895",
   "metadata": {},
   "outputs": [
    {
     "data": {
      "text/plain": [
       "152"
      ]
     },
     "execution_count": 19,
     "metadata": {},
     "output_type": "execute_result"
    }
   ],
   "source": [
    "get_tickets_count(ETHERLINK_ROLLUP_NODE_URL, ticket, etherlink_account.address)"
   ]
  },
  {
   "cell_type": "markdown",
   "id": "2a75bb91",
   "metadata": {},
   "source": [
    "### Revert of deposit (withdrawal from L2 without Proxy):"
   ]
  },
  {
   "cell_type": "code",
   "execution_count": 21,
   "id": "04096fd5",
   "metadata": {},
   "outputs": [
    {
     "name": "stdout",
     "output_type": "stream",
     "text": [
      "Making FA withdrawal, ERC20 token: `\u001b[96m0x7e6f6CCFe485a087F0F819eaBfDBfb1a49b97677\u001b[0m`:\n",
      "  - Executor: `\u001b[96m0x7e6f6CCFe485a087F0F819eaBfDBfb1a49b97677\u001b[0m`\n",
      "  - Etherlink RPC node: `\u001b[96mhttps://etherlink.dipdup.net\u001b[0m`\n",
      "  - Withdrawal params:\n",
      "      * Ticket owner: `\u001b[96m0x7e6f6CCFe485a087F0F819eaBfDBfb1a49b97677\u001b[0m`\n",
      "      * Receiver: `\u001b[96mtz1ekkzEN2LB1cpf7dCaonKt6x9KVd9YVydc\u001b[0m`\n",
      "      * Router: `\u001b[96mKT1JT3T9jodxKchWEcwMtHzKTcM5pKD4phFp\u001b[0m`\n",
      "      * Routing info: `\u001b[96m0x0000d1b03118754a8e193b3e5d3a7cded976f4fd4256016c3b30eaa8b18c999bf860b442f18cd4afdcea7400\u001b[0m`\n",
      "      * Amount: `\u001b[96m152\u001b[0m`\n",
      "      * Ticketer address bytes: `\u001b[96m0x016c3b30eaa8b18c999bf860b442f18cd4afdcea7400\u001b[0m`\n",
      "      * Content bytes: `\u001b[96m0x0707000005090a000000b90502000000b307040100000010636f6e74726163745f616464726573730a000000244b54314b3675796737636a4e526f506b597736536679436d31663274504c48665655657a07040100000008646563696d616c730a0000000136070401000000046e616d650a0000000a546574686572205553440704010000000673796d626f6c0a000000045553447407040100000008746f6b656e5f69640a00000001300704010000000a746f6b656e5f747970650a00000003464132\u001b[0m`\n",
      "Successfully initiated FA withdrawal, tx hash: `\u001b[96m0xae4ac5cc62bf7c4e00a9925196864c760e6f0f91874d2dff2c16dc1d9776f6ba\u001b[0m`\n"
     ]
    },
    {
     "data": {
      "text/plain": [
       "'0xae4ac5cc62bf7c4e00a9925196864c760e6f0f91874d2dff2c16dc1d9776f6ba'"
      ]
     },
     "execution_count": 21,
     "metadata": {},
     "output_type": "execute_result"
    }
   ],
   "source": [
    "withdraw.callback(\n",
    "    # TODO: consider changing this to ticket_owner?\n",
    "    erc20_proxy_address=etherlink_account.address,\n",
    "    tezos_side_router_address=ticketer.address,\n",
    "    amount=152,\n",
    "    # TODO: consider changing this to ticketer_address_bytes_hex ?\n",
    "    ticketer_address_bytes=make_address_bytes(ticketer.address),\n",
    "    # TODO: consider changing this to ticket_content_bytes_hex ?\n",
    "    ticket_content_bytes=ticketer.read_content().to_bytes_hex(),\n",
    "    receiver_address=get_address(tezos_account),\n",
    "    withdraw_precompile=FA_WITHDRAWAL_PRECOMPILE,\n",
    "    etherlink_private_key=ETHERLINK_PRIVATE_KEY,\n",
    "    etherlink_rpc_url=ETHERLINK_RPC_URL,\n",
    ")"
   ]
  }
 ],
 "metadata": {
  "kernelspec": {
   "display_name": "Python 3 (ipykernel)",
   "language": "python",
   "name": "python3"
  },
  "language_info": {
   "codemirror_mode": {
    "name": "ipython",
    "version": 3
   },
   "file_extension": ".py",
   "mimetype": "text/x-python",
   "name": "python",
   "nbconvert_exporter": "python",
   "pygments_lexer": "ipython3",
   "version": "3.12.4"
  }
 },
 "nbformat": 4,
 "nbformat_minor": 5
}
