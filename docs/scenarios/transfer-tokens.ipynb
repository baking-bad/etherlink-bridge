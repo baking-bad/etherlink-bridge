{
 "cells": [
  {
   "cell_type": "code",
   "execution_count": 1,
   "id": "de440beb",
   "metadata": {},
   "outputs": [
    {
     "name": "stdout",
     "output_type": "stream",
     "text": [
      "Setup:\n",
      "- Tezos account: `\u001b[96mtz1ekkzEN2LB1cpf7dCaonKt6x9KVd9YVydc\u001b[0m`, balance: `\u001b[96m298.497568 ꜩ\u001b[0m`\n",
      "- Etherlink account: `\u001b[96m0x7e6f6CCFe485a087F0F819eaBfDBfb1a49b97677\u001b[0m`, balance: `\u001b[96m503.165002855 ꜩ\u001b[0m`\n"
     ]
    }
   ],
   "source": [
    "from docs.scenarios.setup import *\n",
    "from scripts.helpers.formatting import format_int\n",
    "\n",
    "accounts = setup()\n",
    "web3, etherlink_account, tezos_account = accounts\n",
    "_, ticketer, _, _, ticket_router_tester = load_contracts(*accounts)"
   ]
  },
  {
   "cell_type": "markdown",
   "id": "e2884f7b",
   "metadata": {},
   "source": [
    "Whitelisted UI tokens: https://github.com/baking-bad/tezos-etherlink-bridge-front/blob/master/src/services/cfg/tokens.js"
   ]
  },
  {
   "cell_type": "code",
   "execution_count": 2,
   "id": "ddaad8f8",
   "metadata": {},
   "outputs": [
    {
     "data": {
      "text/plain": [
       "Decimal('99.997460')"
      ]
     },
     "execution_count": 2,
     "metadata": {},
     "output_type": "execute_result"
    }
   ],
   "source": [
    "# new_key = tezos_account.key.generate()\n",
    "# opg = tezos_account.using(key=new_key).reveal().send()\n",
    "new_key = tezos_account.using(key='edsk3oGtZuLLtegH1L6ckLYnvxDDj9LtK8FVwU9tNpvJhDdYshnnoT').key\n",
    "tezos_account.using(key=new_key).balance()"
   ]
  },
  {
   "cell_type": "code",
   "execution_count": 3,
   "id": "4c2dd933",
   "metadata": {},
   "outputs": [
    {
     "name": "stdout",
     "output_type": "stream",
     "text": [
      "Public key: `\u001b[96mtz1f5TXqsUb2qMhJPA9D88BtKpmw8CRs6mGX\u001b[0m`\n",
      "Private key: `\u001b[96medsk3oGtZuLLtegH1L6ckLYnvxDDj9LtK8FVwU9tNpvJhDdYshnnoT\u001b[0m`\n"
     ]
    }
   ],
   "source": [
    "receiver = new_key.public_key_hash()\n",
    "click.echo('Public key: ' + wrap(accent(receiver)))\n",
    "click.echo('Private key: ' + wrap(accent(new_key.secret_key())))"
   ]
  },
  {
   "cell_type": "code",
   "execution_count": 12,
   "id": "545c4fae",
   "metadata": {},
   "outputs": [],
   "source": [
    "usdt = TokenHelper.get_cls('FA2').from_address(tezos_account, 'KT1V2ak1MfNd3w4oyKD64ehYU7K4CrpUcDGR')\n",
    "you = TokenHelper.get_cls('FA2').from_address(tezos_account, 'KT1VyYTej9iHeAfpCKBEdpqiKaHAk4hUN7h8')\n",
    "tzbtc = TokenHelper.get_cls('FA1.2').from_address(tezos_account, 'KT1HmyazXfKDbo8XjwtWPXcoyHcmNPDCvZyb')\n",
    "sirs = TokenHelper.get_cls('FA1.2').from_address(tezos_account, 'KT1TCTpXXbpnWBZ8whqExokbKfUrUW3nAXDJ')"
   ]
  },
  {
   "cell_type": "code",
   "execution_count": 14,
   "id": "e382318e",
   "metadata": {},
   "outputs": [
    {
     "name": "stdout",
     "output_type": "stream",
     "text": [
      "USDt master acc balance at 0 decimals: `120_999_001_000_000`\n",
      "YOU master acc balance at 0 decimals: `9_667_000_000_000_000`\n",
      "tzBTC master acc balance at 0 decimals: `64_386_626_576`\n",
      "sirs master acc balance at 0 decimals: `178_925_790`\n"
     ]
    }
   ],
   "source": [
    "usdt_balance = usdt.get_balance(tezos_account)\n",
    "you_balance = you.get_balance(tezos_account)\n",
    "tzbtc_balance = tzbtc.get_balance(tezos_account)\n",
    "sirs_balance = sirs.get_balance(tezos_account)\n",
    "\n",
    "click.echo('USDt master acc balance at 0 decimals: ' + wrap(format_int(usdt_balance)))\n",
    "click.echo('YOU master acc balance at 0 decimals: ' + wrap(format_int(you_balance)))\n",
    "click.echo('tzBTC master acc balance at 0 decimals: ' + wrap(format_int(tzbtc_balance)))\n",
    "click.echo('sirs master acc balance at 0 decimals: ' + wrap(format_int(sirs_balance)))"
   ]
  },
  {
   "cell_type": "code",
   "execution_count": 15,
   "id": "2fe57fe9",
   "metadata": {},
   "outputs": [
    {
     "data": {
      "text/plain": [
       "'opTkUYKsxNCyQyMMP2YBQsyfGAPCwnCHstrZqd6hFMQ29qoq2s6'"
      ]
     },
     "execution_count": 15,
     "metadata": {},
     "output_type": "execute_result"
    }
   ],
   "source": [
    "opg = usdt.contract.transfer(\n",
    "    [\n",
    "        {\n",
    "            \"from_\": get_address(tezos_account),\n",
    "            \"txs\": [\n",
    "                {\n",
    "                    \"to_\": get_address(receiver),\n",
    "                    \"token_id\": 0,\n",
    "                    \"amount\": int(usdt_balance * 0.001),\n",
    "                }\n",
    "            ]\n",
    "        }\n",
    "    ]\n",
    ").send()\n",
    "opg.hash()"
   ]
  },
  {
   "cell_type": "code",
   "execution_count": 16,
   "id": "70d3ef00",
   "metadata": {},
   "outputs": [
    {
     "data": {
      "text/plain": [
       "'opS2iqpbky37x7zgU6yWGBf1c56LWeWomJmyZD4PE8sYQnScKe3'"
      ]
     },
     "execution_count": 16,
     "metadata": {},
     "output_type": "execute_result"
    }
   ],
   "source": [
    "opg = you.contract.transfer(\n",
    "    [\n",
    "        {\n",
    "            \"from_\": get_address(tezos_account),\n",
    "            \"txs\": [\n",
    "                {\n",
    "                    \"to_\": get_address(receiver),\n",
    "                    \"token_id\": 0,\n",
    "                    \"amount\": int(you_balance * 0.001),\n",
    "                }\n",
    "            ]\n",
    "        }\n",
    "    ]\n",
    ").send()\n",
    "opg.hash()"
   ]
  },
  {
   "cell_type": "code",
   "execution_count": 17,
   "id": "b265a4a0",
   "metadata": {},
   "outputs": [
    {
     "data": {
      "text/plain": [
       "'onp62KjLyD6b17GDsWBpp21KoKHR8XSroyBtFVsrJsLKCeTGww8'"
      ]
     },
     "execution_count": 17,
     "metadata": {},
     "output_type": "execute_result"
    }
   ],
   "source": [
    "opg = tzbtc.contract.transfer({\n",
    "    'from': get_address(tezos_account),\n",
    "    'to': get_address(receiver),\n",
    "    'value': int(tzbtc_balance * 0.001),\n",
    "}).send()\n",
    "opg.hash()"
   ]
  },
  {
   "cell_type": "code",
   "execution_count": 18,
   "id": "2ee309b7",
   "metadata": {},
   "outputs": [
    {
     "data": {
      "text/plain": [
       "'opGQ42arrqy4k6HxMrJSnbf44dq6fopRbbvZEAauPWdhFbxrk1x'"
      ]
     },
     "execution_count": 18,
     "metadata": {},
     "output_type": "execute_result"
    }
   ],
   "source": [
    "opg = sirs.contract.transfer({\n",
    "    'from': get_address(tezos_account),\n",
    "    'to': get_address(receiver),\n",
    "    'value': int(sirs_balance * 0.001),\n",
    "}).send()\n",
    "opg.hash()"
   ]
  }
 ],
 "metadata": {
  "kernelspec": {
   "display_name": "Python 3 (ipykernel)",
   "language": "python",
   "name": "python3"
  },
  "language_info": {
   "codemirror_mode": {
    "name": "ipython",
    "version": 3
   },
   "file_extension": ".py",
   "mimetype": "text/x-python",
   "name": "python",
   "nbconvert_exporter": "python",
   "pygments_lexer": "ipython3",
   "version": "3.12.4"
  }
 },
 "nbformat": 4,
 "nbformat_minor": 5
}
