{
 "cells": [
  {
   "cell_type": "markdown",
   "id": "06489d47",
   "metadata": {},
   "source": [
    "# Setting up the Fast Withdrawal contract with a proxy:\n",
    "- This notebook allows deploying contracts for fast withdrawal interactions and running a basic scenario by creating a withdrawal on the Etherlink side and making fast payouts on the Tezos side."
   ]
  },
  {
   "cell_type": "code",
   "execution_count": 1,
   "id": "a3a356c8",
   "metadata": {},
   "outputs": [
    {
     "name": "stdout",
     "output_type": "stream",
     "text": [
      "Setup:\n",
      "- Tezos account: `\u001b[96mtz1ekkzEN2LB1cpf7dCaonKt6x9KVd9YVydc\u001b[0m`, balance: `\u001b[96m237.821049 ꜩ\u001b[0m`\n",
      "- Etherlink account: `\u001b[96m0x7e6f6CCFe485a087F0F819eaBfDBfb1a49b97677\u001b[0m`, balance: `\u001b[96m610.537924879 ꜩ\u001b[0m`\n"
     ]
    }
   ],
   "source": [
    "from docs.scenarios.setup import *\n",
    "\n",
    "web3, etherlink_account, tezos_account = setup()"
   ]
  },
  {
   "cell_type": "markdown",
   "id": "c6441d78",
   "metadata": {},
   "source": [
    "## Deploy FastWithdrawal:"
   ]
  },
  {
   "cell_type": "code",
   "execution_count": 2,
   "id": "339efafc",
   "metadata": {},
   "outputs": [
    {
     "name": "stdout",
     "output_type": "stream",
     "text": [
      "Deploying Fast Withdrawal contract:\n",
      "  - Deployer: `\u001b[96mtz1ekkzEN2LB1cpf7dCaonKt6x9KVd9YVydc\u001b[0m`\n",
      "  - Tezos RPC node: `\u001b[96mhttps://rpc.tzkt.io/ghostnet/\u001b[0m`\n",
      "  - Params:\n",
      "      * Exchanger address: `\u001b[96mKT1Bp9YUvUBJgXxf5UrYTM2CGRUPixURqx4m\u001b[0m`\n",
      "      * Smart Rollup address: `\u001b[96msr18wx6ezkeRjt1SZSeZ2UQzQN3Uc3YLMLqg\u001b[0m`\n",
      "Successfully deployed Fast Withdrawal, address: `\u001b[96mKT18zhkJ9AohD17HaPuEiMfvjQC9horkn6Xb\u001b[0m`\n"
     ]
    }
   ],
   "source": [
    "from scripts.tezos import deploy_fast_withdrawal\n",
    "\n",
    "fast_withdrawal = deploy_fast_withdrawal.callback(\n",
    "    exchanger_address=EXCHANGER_ADDRESS,\n",
    "    smart_rollup_address=SMART_ROLLUP_ADDRESS,\n",
    "    tezos_private_key=TEZOS_PRIVATE_KEY,\n",
    "    tezos_rpc_url=TEZOS_RPC_URL,\n",
    "    skip_confirm=True,\n",
    "    silent=False,\n",
    ")"
   ]
  },
  {
   "cell_type": "markdown",
   "id": "8b3d864c",
   "metadata": {},
   "source": [
    "## Deploy PurchaseWithdrawalProxy:"
   ]
  },
  {
   "cell_type": "code",
   "execution_count": 3,
   "id": "2fa491ee",
   "metadata": {},
   "outputs": [
    {
     "name": "stdout",
     "output_type": "stream",
     "text": [
      "Deploying Purchase Withdrawal Proxy contract:\n",
      "  - Deployer: `\u001b[96mtz1ekkzEN2LB1cpf7dCaonKt6x9KVd9YVydc\u001b[0m`\n",
      "  - Tezos RPC node: `\u001b[96mhttps://rpc.tzkt.io/ghostnet/\u001b[0m`\n",
      "Successfully deployed Purchase Withrawal Proxy, address: `\u001b[96mKT1Log35YrDTHBski4ZH7tJnzHedz5B2crb5\u001b[0m`\n"
     ]
    }
   ],
   "source": [
    "from scripts.tezos import deploy_purchase_withdrawal_proxy\n",
    "\n",
    "purchase_withdrawal_proxy = deploy_purchase_withdrawal_proxy.callback(\n",
    "    tezos_private_key=TEZOS_PRIVATE_KEY,\n",
    "    tezos_rpc_url=TEZOS_RPC_URL,\n",
    "    skip_confirm=True,\n",
    "    silent=False,\n",
    ")"
   ]
  },
  {
   "cell_type": "markdown",
   "id": "6b528b40",
   "metadata": {},
   "source": [
    "## Making Fast Withdrawal on Etherlink side:"
   ]
  },
  {
   "cell_type": "code",
   "execution_count": 8,
   "id": "a5007f11",
   "metadata": {},
   "outputs": [
    {
     "name": "stdout",
     "output_type": "stream",
     "text": [
      "Making Fast Withdrawal, XTZ:\n",
      "  - Sender: `\u001b[96m0x7e6f6CCFe485a087F0F819eaBfDBfb1a49b97677\u001b[0m`\n",
      "  - Etherlink RPC node: `\u001b[96mhttps://node.ghostnet.etherlink.com\u001b[0m`\n",
      "  - Withdrawal params:\n",
      "      * Target: `\u001b[96mtz1ekkzEN2LB1cpf7dCaonKt6x9KVd9YVydc\u001b[0m`\n",
      "      * Fast Withdrawal contract: `\u001b[96mKT18zhkJ9AohD17HaPuEiMfvjQC9horkn6Xb\u001b[0m`\n",
      "      * Payload bytes: `\u001b[96m05009006\u001b[0m`\n",
      "      * Amount (mutez): `\u001b[96m414\u001b[0m`\n",
      "      * Discounted amt (mutez): `\u001b[96m400\u001b[0m`\n",
      "      * Fee (mutez): `\u001b[96m14\u001b[0m`\n",
      "Successfully initiated FA withdrawal, tx hash: `\u001b[96m0xee1603d24fa6b913afaff236ab398706ae07ce3b894dfd92b53a47c95252db2c\u001b[0m`\n"
     ]
    },
    {
     "data": {
      "text/plain": [
       "'0xee1603d24fa6b913afaff236ab398706ae07ce3b894dfd92b53a47c95252db2c'"
      ]
     },
     "execution_count": 8,
     "metadata": {},
     "output_type": "execute_result"
    }
   ],
   "source": [
    "from scripts.etherlink import xtz_fast_withdraw\n",
    "\n",
    "xtz_fast_withdraw.callback(\n",
    "    target=get_address(tezos_account),\n",
    "    fast_withdrawal_contract=fast_withdrawal.address,\n",
    "    amount=414 * 10**12,\n",
    "    discounted_amount=400,\n",
    "    withdraw_precompile=XTZ_WITHDRAWAL_PRECOMPILE,\n",
    "    etherlink_private_key=ETHERLINK_PRIVATE_KEY,\n",
    "    etherlink_rpc_url=ETHERLINK_RPC_URL,\n",
    ")"
   ]
  },
  {
   "cell_type": "markdown",
   "id": "cb6e22dc",
   "metadata": {},
   "source": [
    "- Event logs: https://testnet.explorer.etherlink.com/tx/0xee1603d24fa6b913afaff236ab398706ae07ce3b894dfd92b53a47c95252db2c?tab=logs\n",
    "- Outbox message: https://ghostnet-smart.tzkt.io/global/block/11218870/outbox/11218870/messages\n",
    "- Withdrawal ID: `1811`\n",
    "- Timestamp: `1742129936`\n",
    "- [ ] TODO: Retrieve `withdrawal_id` and `timestamp` from the Etherlink side event/outbox; currently, it is set manually."
   ]
  },
  {
   "cell_type": "markdown",
   "id": "aafe02c1",
   "metadata": {},
   "source": [
    "## Purchasing withdrawal on Tezos side:"
   ]
  },
  {
   "cell_type": "code",
   "execution_count": 15,
   "id": "ffcfcf92",
   "metadata": {},
   "outputs": [
    {
     "data": {
      "text/plain": [
       "<pytezos.operation.group.OperationGroup object at 0x74080f303830>\n",
       "\n",
       "Properties\n",
       ".key\t\ttz1ekkzEN2LB1cpf7dCaonKt6x9KVd9YVydc\n",
       ".shell\t\t['https://rpc.tzkt.io/ghostnet/']\n",
       ".block_id\thead\n",
       "\n",
       "Payload\n",
       "{'branch': 'BMTeSeYmqVRBxBHkJ4QrpTPrBY73YBGL8KZnmL6m821eVgrSytY',\n",
       " 'contents': [{'amount': '400',\n",
       "               'counter': '27211180',\n",
       "               'destination': 'KT1Log35YrDTHBski4ZH7tJnzHedz5B2crb5',\n",
       "               'fee': '1523',\n",
       "               'gas_limit': '9804',\n",
       "               'kind': 'transaction',\n",
       "               'parameters': {'entrypoint': 'purchase_withdrawal_proxy',\n",
       "                              'value': {'args': [{'args': [{'int': '1811'},\n",
       "                                                           {'int': '414'},\n",
       "                                                           {'string': '2025-03-16T12:58:56Z'},\n",
       "                                                           {'string': 'tz1ekkzEN2LB1cpf7dCaonKt6x9KVd9YVydc'},\n",
       "                                                           {'bytes': '05009006'},\n",
       "                                                           {'bytes': '7e6f6ccfe485a087f0f819eabfdbfb1a49b97677'}],\n",
       "                                                  'prim': 'Pair'},\n",
       "                                                 {'string': 'tz1ekkzEN2LB1cpf7dCaonKt6x9KVd9YVydc'},\n",
       "                                                 {'string': 'KT18zhkJ9AohD17HaPuEiMfvjQC9horkn6Xb'},\n",
       "                                                 {'string': 'KT1Bp9YUvUBJgXxf5UrYTM2CGRUPixURqx4m'}],\n",
       "                                        'prim': 'Pair'}},\n",
       "               'source': 'tz1ekkzEN2LB1cpf7dCaonKt6x9KVd9YVydc',\n",
       "               'storage_limit': '222'}],\n",
       " 'protocol': 'PsQuebecnLByd3JwTiGadoG4nGWi3HYiLXUjkibeFV8dCFeVMUg',\n",
       " 'signature': 'sigkYPw3jUQKWbfWwNCrh12fviFhsfUMkPoy51NBugHNPUWbYrLvwJKyxa9wKc9LM6ND6z6ggPzsyYts2Ghw9chVTjeRoQ5j'}\n",
       "\n",
       "Hash\n",
       "onebYiqk4fJW4Cx6JQVPiwUNcURg5r8iPja3rociNQbqiWbHioB\n",
       ".activate_account()\n",
       ".autofill()\n",
       ".ballot()\n",
       ".binary_payload()\n",
       ".delegation()\n",
       ".double_baking_evidence()\n",
       ".double_endorsement_evidence()\n",
       ".endorsement()\n",
       ".endorsement_with_slot()\n",
       ".failing_noop()\n",
       ".fill()\n",
       ".forge()\n",
       ".hash()\n",
       ".inject()\n",
       ".json_payload()\n",
       ".message()\n",
       ".operation()\n",
       ".origination()\n",
       ".preapply()\n",
       ".proposals()\n",
       ".register_global_constant()\n",
       ".result()\n",
       ".reveal()\n",
       ".run()\n",
       ".run_operation()\n",
       ".seed_nonce_revelation()\n",
       ".send()\n",
       ".send_async()\n",
       ".sign()\n",
       ".smart_rollup_add_messages()\n",
       ".smart_rollup_execute_outbox_message()\n",
       ".transaction()\n",
       ".transfer_ticket()"
      ]
     },
     "execution_count": 15,
     "metadata": {},
     "output_type": "execute_result"
    }
   ],
   "source": [
    "from scripts.helpers.contracts.fast_withdrawal import Withdrawal\n",
    "from scripts.helpers.utility import pack\n",
    "\n",
    "discounted_amount = 400\n",
    "\n",
    "withdrawal = Withdrawal(\n",
    "    withdrawal_id=1811,\n",
    "    full_amount=414,\n",
    "    timestamp=1742129936,\n",
    "    base_withdrawer=get_address(tezos_account),\n",
    "    payload=pack(discounted_amount, 'nat'),\n",
    "    l2_caller=bytes.fromhex(etherlink_account.address.split('0x')[1])\n",
    ")\n",
    "\n",
    "opg = purchase_withdrawal_proxy.purchase_withdrawal_proxy(\n",
    "    withdrawal=withdrawal,\n",
    "    service_provider=get_address(tezos_account),\n",
    "    fast_withdrawal_contract=fast_withdrawal,\n",
    "    exchanger=EXCHANGER_ADDRESS,\n",
    "    xtz_amount=discounted_amount,\n",
    ")"
   ]
  },
  {
   "cell_type": "markdown",
   "id": "d53f09eb",
   "metadata": {},
   "source": [
    "- Transaction: https://ghostnet.tzkt.io/onebYiqk4fJW4Cx6JQVPiwUNcURg5r8iPja3rociNQbqiWbHioB/27211180"
   ]
  },
  {
   "cell_type": "markdown",
   "id": "1d9fe8f9",
   "metadata": {},
   "source": [
    "## Trying to purchase twice:\n",
    "- Forcing the transaction to be executed"
   ]
  },
  {
   "cell_type": "code",
   "execution_count": 34,
   "id": "f1fe4ff6",
   "metadata": {},
   "outputs": [
    {
     "data": {
      "text/plain": [
       "'oocMYdrURyQ9nqnE53qCy8eJenbKzWF1KzG5Rn4KU5y68Twc43f'"
      ]
     },
     "execution_count": 34,
     "metadata": {},
     "output_type": "execute_result"
    }
   ],
   "source": [
    "opg = (\n",
    "    purchase_withdrawal_proxy.contract.purchase_withdrawal_proxy(\n",
    "        withdrawal.as_tuple(),\n",
    "        get_address(tezos_account),\n",
    "        get_address(fast_withdrawal),\n",
    "        EXCHANGER_ADDRESS,\n",
    "    )\n",
    "    .with_amount(discounted_amount)\n",
    "    .as_transaction()\n",
    "    .fill()\n",
    "    .sign()\n",
    "    .inject()\n",
    ")\n",
    "opg['hash']"
   ]
  },
  {
   "cell_type": "markdown",
   "id": "e6623199",
   "metadata": {},
   "source": [
    "## Making Additional Withdrawals:\n",
    "### One with an incorrect payload that would be impossible to execute"
   ]
  },
  {
   "cell_type": "code",
   "execution_count": 42,
   "id": "10473eaa",
   "metadata": {},
   "outputs": [
    {
     "name": "stdout",
     "output_type": "stream",
     "text": [
      "Successfully initiated wrong XTZ Fast Withdrawal, tx hash: `\u001b[96m0xed920bc33fbbf47ee93cde3acd2a98ff84b698e58ba1e3638a59620622ef69ef\u001b[0m`\n"
     ]
    }
   ],
   "source": [
    "from scripts.etherlink.xtz_fast_withdraw import (\n",
    "    load_withdraw_precompile,\n",
    "    make_fast_withdrawal,\n",
    ")\n",
    "\n",
    "precompile_contract = load_withdraw_precompile(\n",
    "    XTZ_WITHDRAWAL_PRECOMPILE,\n",
    "    web3\n",
    ")\n",
    "receipt = make_fast_withdrawal(\n",
    "    etherlink_account=etherlink_account,\n",
    "    web3=web3,\n",
    "    precompile_contract=precompile_contract,\n",
    "    target=get_address(tezos_account),\n",
    "    fast_withdrawals_contract=fast_withdrawal.address,\n",
    "    payload=bytes.fromhex('ff4f'),\n",
    "    wei_amount=133 * 10**12,\n",
    ")\n",
    "\n",
    "click.echo(\n",
    "    'Successfully initiated wrong XTZ Fast Withdrawal, tx hash: '\n",
    "    + wrap(accent(receipt.transactionHash.hex()))\n",
    ")"
   ]
  },
  {
   "cell_type": "markdown",
   "id": "b2ff5fe6",
   "metadata": {},
   "source": [
    "### ~~Three~~ Four more with different base withdrawers and amounts"
   ]
  },
  {
   "cell_type": "code",
   "execution_count": 55,
   "id": "76c48290",
   "metadata": {},
   "outputs": [
    {
     "name": "stdout",
     "output_type": "stream",
     "text": [
      "Making Fast Withdrawal, XTZ:\n",
      "  - Sender: `\u001b[96m0x7e6f6CCFe485a087F0F819eaBfDBfb1a49b97677\u001b[0m`\n",
      "  - Etherlink RPC node: `\u001b[96mhttps://node.ghostnet.etherlink.com\u001b[0m`\n",
      "  - Withdrawal params:\n",
      "      * Target: `\u001b[96mtz1ekkzEN2LB1cpf7dCaonKt6x9KVd9YVydc\u001b[0m`\n",
      "      * Fast Withdrawal contract: `\u001b[96mKT18zhkJ9AohD17HaPuEiMfvjQC9horkn6Xb\u001b[0m`\n",
      "      * Payload bytes: `\u001b[96m05009a0f\u001b[0m`\n",
      "      * Amount (mutez): `\u001b[96m510\u001b[0m`\n",
      "      * Discounted amt (mutez): `\u001b[96m986\u001b[0m`\n",
      "      * Fee (mutez): `\u001b[96m-476\u001b[0m`\n",
      "Successfully initiated FA withdrawal, tx hash: `\u001b[96m0x285d6d9ee9dcf8286618d3956b00d712c9c3982413f1f827f2b18622eb630314\u001b[0m`\n"
     ]
    },
    {
     "data": {
      "text/plain": [
       "'0x285d6d9ee9dcf8286618d3956b00d712c9c3982413f1f827f2b18622eb630314'"
      ]
     },
     "execution_count": 55,
     "metadata": {},
     "output_type": "execute_result"
    }
   ],
   "source": [
    "from scripts.etherlink import xtz_fast_withdraw\n",
    "from random import randint\n",
    "\n",
    "xtz_fast_withdraw.callback(\n",
    "    target=get_address(tezos_account),\n",
    "    fast_withdrawal_contract=fast_withdrawal.address,\n",
    "    amount=randint(100, 1000) * 10**12,\n",
    "    discounted_amount=randint(100, 1000),\n",
    "    withdraw_precompile=XTZ_WITHDRAWAL_PRECOMPILE,\n",
    "    etherlink_private_key=ETHERLINK_PRIVATE_KEY,\n",
    "    etherlink_rpc_url=ETHERLINK_RPC_URL,\n",
    ")"
   ]
  },
  {
   "cell_type": "markdown",
   "id": "8b7a6fec",
   "metadata": {},
   "source": [
    "- 1813: [L2](https://testnet.explorer.etherlink.com/tx/0x285d6d9ee9dcf8286618d3956b00d712c9c3982413f1f827f2b18622eb630314?tab=logs), [outbox](https://ghostnet-smart.tzkt.io/global/block/11221648/outbox/11221648/messages), not executed\n"
   ]
  },
  {
   "cell_type": "code",
   "execution_count": 56,
   "id": "3afeb465",
   "metadata": {},
   "outputs": [
    {
     "name": "stdout",
     "output_type": "stream",
     "text": [
      "Making Fast Withdrawal, XTZ:\n",
      "  - Sender: `\u001b[96m0x7e6f6CCFe485a087F0F819eaBfDBfb1a49b97677\u001b[0m`\n",
      "  - Etherlink RPC node: `\u001b[96mhttps://node.ghostnet.etherlink.com\u001b[0m`\n",
      "  - Withdrawal params:\n",
      "      * Target: `\u001b[96mtz1KecET9vQXX4rBR7hNtHzCKx9JKHL1RBN4\u001b[0m`\n",
      "      * Fast Withdrawal contract: `\u001b[96mKT18zhkJ9AohD17HaPuEiMfvjQC9horkn6Xb\u001b[0m`\n",
      "      * Payload bytes: `\u001b[96m05008c08\u001b[0m`\n",
      "      * Amount (mutez): `\u001b[96m176\u001b[0m`\n",
      "      * Discounted amt (mutez): `\u001b[96m524\u001b[0m`\n",
      "      * Fee (mutez): `\u001b[96m-348\u001b[0m`\n",
      "Successfully initiated FA withdrawal, tx hash: `\u001b[96m0x6312b0fdf6df9af6c429230cb4ec281478f8c3de6ea62f02a42da0bdf9442433\u001b[0m`\n"
     ]
    },
    {
     "data": {
      "text/plain": [
       "'0x6312b0fdf6df9af6c429230cb4ec281478f8c3de6ea62f02a42da0bdf9442433'"
      ]
     },
     "execution_count": 56,
     "metadata": {},
     "output_type": "execute_result"
    }
   ],
   "source": [
    "xtz_fast_withdraw.callback(\n",
    "    target=tezos_account.key.generate(export=False).public_key_hash(),\n",
    "    fast_withdrawal_contract=fast_withdrawal.address,\n",
    "    amount=randint(100, 1000) * 10**12,\n",
    "    discounted_amount=randint(100, 1000),\n",
    "    withdraw_precompile=XTZ_WITHDRAWAL_PRECOMPILE,\n",
    "    etherlink_private_key=ETHERLINK_PRIVATE_KEY,\n",
    "    etherlink_rpc_url=ETHERLINK_RPC_URL,\n",
    ")"
   ]
  },
  {
   "cell_type": "markdown",
   "id": "a7362115",
   "metadata": {},
   "source": [
    "- 1814: [L2](https://testnet.explorer.etherlink.com/tx/0x6312b0fdf6df9af6c429230cb4ec281478f8c3de6ea62f02a42da0bdf9442433), [outbox](https://ghostnet-smart.tzkt.io/global/block/11221657/outbox/11221657/messages), not executed"
   ]
  },
  {
   "cell_type": "code",
   "execution_count": 57,
   "id": "293048ae",
   "metadata": {},
   "outputs": [
    {
     "name": "stdout",
     "output_type": "stream",
     "text": [
      "Making Fast Withdrawal, XTZ:\n",
      "  - Sender: `\u001b[96m0x7e6f6CCFe485a087F0F819eaBfDBfb1a49b97677\u001b[0m`\n",
      "  - Etherlink RPC node: `\u001b[96mhttps://node.ghostnet.etherlink.com\u001b[0m`\n",
      "  - Withdrawal params:\n",
      "      * Target: `\u001b[96mtz1WcH6fzgWQyCDFtuFcjxZLybRoBWRVtCXz\u001b[0m`\n",
      "      * Fast Withdrawal contract: `\u001b[96mKT18zhkJ9AohD17HaPuEiMfvjQC9horkn6Xb\u001b[0m`\n",
      "      * Payload bytes: `\u001b[96m0500a40e\u001b[0m`\n",
      "      * Amount (mutez): `\u001b[96m462\u001b[0m`\n",
      "      * Discounted amt (mutez): `\u001b[96m932\u001b[0m`\n",
      "      * Fee (mutez): `\u001b[96m-470\u001b[0m`\n",
      "Successfully initiated FA withdrawal, tx hash: `\u001b[96m0x65d7004a8a49c6805a2c0f529ecc161f8fadec762efff779ef7d9966cfb16e69\u001b[0m`\n"
     ]
    },
    {
     "data": {
      "text/plain": [
       "'0x65d7004a8a49c6805a2c0f529ecc161f8fadec762efff779ef7d9966cfb16e69'"
      ]
     },
     "execution_count": 57,
     "metadata": {},
     "output_type": "execute_result"
    }
   ],
   "source": [
    "xtz_fast_withdraw.callback(\n",
    "    target=tezos_account.key.generate(export=False).public_key_hash(),\n",
    "    fast_withdrawal_contract=fast_withdrawal.address,\n",
    "    amount=randint(100, 1000) * 10**12,\n",
    "    discounted_amount=randint(100, 1000),\n",
    "    withdraw_precompile=XTZ_WITHDRAWAL_PRECOMPILE,\n",
    "    etherlink_private_key=ETHERLINK_PRIVATE_KEY,\n",
    "    etherlink_rpc_url=ETHERLINK_RPC_URL,\n",
    ")"
   ]
  },
  {
   "cell_type": "markdown",
   "id": "33d8b922",
   "metadata": {},
   "source": [
    "- 1815: [L2](https://testnet.explorer.etherlink.com/tx/0x65d7004a8a49c6805a2c0f529ecc161f8fadec762efff779ef7d9966cfb16e69), [outbox](https://ghostnet-smart.tzkt.io/global/block/11221659/outbox/11221659/messages), not executed"
   ]
  },
  {
   "cell_type": "code",
   "execution_count": 58,
   "id": "72d88bba",
   "metadata": {},
   "outputs": [
    {
     "name": "stdout",
     "output_type": "stream",
     "text": [
      "Making Fast Withdrawal, XTZ:\n",
      "  - Sender: `\u001b[96m0x7e6f6CCFe485a087F0F819eaBfDBfb1a49b97677\u001b[0m`\n",
      "  - Etherlink RPC node: `\u001b[96mhttps://node.ghostnet.etherlink.com\u001b[0m`\n",
      "  - Withdrawal params:\n",
      "      * Target: `\u001b[96mtz1SYNmMi6CQ6r2PiR5wz8gkuHvANMTxW27S\u001b[0m`\n",
      "      * Fast Withdrawal contract: `\u001b[96mKT18zhkJ9AohD17HaPuEiMfvjQC9horkn6Xb\u001b[0m`\n",
      "      * Payload bytes: `\u001b[96m0500b701\u001b[0m`\n",
      "      * Amount (mutez): `\u001b[96m105\u001b[0m`\n",
      "      * Discounted amt (mutez): `\u001b[96m119\u001b[0m`\n",
      "      * Fee (mutez): `\u001b[96m-14\u001b[0m`\n",
      "Successfully initiated FA withdrawal, tx hash: `\u001b[96m0xa866f4ca3d1caddf7b8685138255833201aece0b5211455d37f22bb3a6e6fa51\u001b[0m`\n"
     ]
    },
    {
     "data": {
      "text/plain": [
       "'0xa866f4ca3d1caddf7b8685138255833201aece0b5211455d37f22bb3a6e6fa51'"
      ]
     },
     "execution_count": 58,
     "metadata": {},
     "output_type": "execute_result"
    }
   ],
   "source": [
    "xtz_fast_withdraw.callback(\n",
    "    target=tezos_account.key.generate(export=False).public_key_hash(),\n",
    "    fast_withdrawal_contract=fast_withdrawal.address,\n",
    "    amount=randint(100, 1000) * 10**12,\n",
    "    discounted_amount=randint(100, 1000),\n",
    "    withdraw_precompile=XTZ_WITHDRAWAL_PRECOMPILE,\n",
    "    etherlink_private_key=ETHERLINK_PRIVATE_KEY,\n",
    "    etherlink_rpc_url=ETHERLINK_RPC_URL,\n",
    ")"
   ]
  },
  {
   "cell_type": "markdown",
   "id": "7a525f73",
   "metadata": {},
   "source": [
    "- 1816: [L2](https://testnet.explorer.etherlink.com/tx/0xa866f4ca3d1caddf7b8685138255833201aece0b5211455d37f22bb3a6e6fa51), [outbox](https://ghostnet-smart.tzkt.io/global/block/11221660/outbox/11221660/messages), not executed"
   ]
  }
 ],
 "metadata": {
  "kernelspec": {
   "display_name": "Python 3 (ipykernel)",
   "language": "python",
   "name": "python3"
  },
  "language_info": {
   "codemirror_mode": {
    "name": "ipython",
    "version": 3
   },
   "file_extension": ".py",
   "mimetype": "text/x-python",
   "name": "python",
   "nbconvert_exporter": "python",
   "pygments_lexer": "ipython3",
   "version": "3.12.8"
  }
 },
 "nbformat": 4,
 "nbformat_minor": 5
}
