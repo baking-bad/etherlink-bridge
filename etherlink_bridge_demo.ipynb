{
  "cells": [
    {
      "cell_type": "code",
      "execution_count": null,
      "metadata": {
        "cellView": "form",
        "id": "QjnXwqX2-wXn"
      },
      "outputs": [],
      "source": [
        "#@title Installing dependencies:\n",
        "# installing foundry:\n",
        "!curl -L https://foundry.paradigm.xyz | bash\n",
        "!source ~/.bashrc\n",
        "import os\n",
        "os.environ['PATH'] += \":/root/.foundry/bin\"\n",
        "!foundryup\n",
        "\n",
        "# cloning repo and installing foundry dependencies:\n",
        "!git clone -b main https://github.com/baking-bad/etherlink-bridge.git\n",
        "%cd etherlink-bridge/\n",
        "!git submodule update --init --recursive\n",
        "\n",
        "# installing python dependencies:\n",
        "!pip install poetry\n",
        "!poetry install"
      ]
    },
    {
      "cell_type": "markdown",
      "metadata": {
        "id": "wQa7da0hI4ga"
      },
      "source": [
        "### Environment Initialization:"
      ]
    },
    {
      "cell_type": "markdown",
      "metadata": {
        "id": "3C-XrUpSmZlh"
      },
      "source": [
        "Run the following cell to set up the environment and provide private keys for interacting *with* the bridge. Default values are provided for all variables; however, you may wish to deploy your own token and establish a bridge using your own keys."
      ]
    },
    {
      "cell_type": "code",
      "execution_count": 6,
      "metadata": {
        "colab": {
          "base_uri": "https://localhost:8080/"
        },
        "id": "heNZAeqnHNJq",
        "outputId": "31494251-a488-437b-ed1f-33743d671803"
      },
      "outputs": [
        {
          "name": "stdout",
          "output_type": "stream",
          "text": [
            "Enter \"L1_PRIVATE_KEY\" (default: edsk2nu78mRwg4V5Ka7XCJFVbVPPwhry8YPeEHRwzGQHEpGAffDvrH): \n",
            "Enter \"L1_PUBLIC_KEY_HASH\" (default: tz1YG6P2GTQKFpd9jeuESam2vg6aA9HHRkKo): \n",
            "Enter \"L1_RPC_URL\" (default: https://rpc.tzkt.io/oxfordnet/): \n",
            "Enter \"L1_ROLLUP_ADDRESS\" (default: sr19t5DDEhvnPaNZgNYVAkmBRd5nAPyMU7nP): sr1QgYF6ARMSLcWyAX4wFDrWFaZTyy4twbqe\n",
            "Enter \"L2_PRIVATE_KEY\" (default: 8636c473b431be57109d4153735315a5cdf36b3841eb2cfa80b75b3dcd2d941a): \n",
            "Enter \"L2_PUBLIC_KEY\" (default: 0xBefD2C6fFC36249ebEbd21d6DF6376ecF3BAc448): \n",
            "Enter \"L2_MASTER_KEY\" (default: 9722f6cc9ff938e63f8ccb74c3daa6b45837e5c5e3835ac08c44c50ab5f39dc0): \n",
            "Enter \"L2_RPC_URL\" (default: https://etherlink.dipdup.net): \n",
            "Enter \"L2_ROLLUP_RPC_URL\" (default: https://etherlink-rollup-oxford.dipdup.net): \n",
            "Enter \"L2_KERNEL_ADDRESS\" (default: 0x0000000000000000000000000000000000000000): \n",
            "Enter \"L2_WITHDRAW_PRECOMPILE_ADDRESS\" (default: 0x0000000000000000000000000000000000000040): \n"
          ]
        }
      ],
      "source": [
        "!poetry run init_wallets"
      ]
    },
    {
      "cell_type": "markdown",
      "metadata": {
        "id": "e2okN6GqJqqM"
      },
      "source": [
        "### Bridge token pair listing:"
      ]
    },
    {
      "cell_type": "markdown",
      "metadata": {
        "id": "UZm-AgiPmnVt"
      },
      "source": [
        "The **Ticket Transport Layer**, a key component of the bridge, enables ticket transfers between Tezos and Etherlink. To list a new token pair and establish a bridge, users need to:\n",
        "1. If the token is an **FA2** or **FA1.2** standard token that doesn’t natively support tickets, the user must deploy a **Ticketer** contract on the Tezos side. This contract links to the specific Tezos token to convert it into a ticket.\n",
        "2. The user then deploys an **ERC20Proxy** on the Etherlink side – a smart contract implementing ERC20. This contract should be configured to expect tickets from the deployed **Ticketer** including ticketer address and ticket content. This setup allows the rollup to mint ERC20 tokens corresponding to the incoming tickets from Tezos.\n",
        "3. Additionally, deploy a **TicketHelper** on the Tezos side, targeting the specific token and **Ticketer** pair. This step is necessary as the **transfer_ticket** operation is not currently supported by wallets. The **TicketHelper** facilitates the wrapping of tokens into tickets and their transfer to the rollup in a single transaction."
      ]
    },
    {
      "cell_type": "markdown",
      "metadata": {
        "id": "GaqwqM-kmrkR"
      },
      "source": [
        "#### Deploying a Token"
      ]
    },
    {
      "cell_type": "markdown",
      "metadata": {
        "id": "8NBPCulNmuQ5"
      },
      "source": [
        "For demonstration purposes, users can deploy a test token that will later be bridged. The bridge has been tested with two types of tokens, which are available in the repository:\n",
        "- The **FA1.2** **Ctez** token.\n",
        "- The **FA2** **fxhash** token.\n",
        "\n",
        "To deploy this token and allocate the total supply to the token's originator, execute the following script. The example below illustrates the deployment for an **FA2** token type:"
      ]
    },
    {
      "cell_type": "code",
      "execution_count": 8,
      "metadata": {
        "colab": {
          "base_uri": "https://localhost:8080/"
        },
        "id": "_d0eHd4Sz4rt",
        "outputId": "d7a40fc9-16d0-4a6d-e0b0-c6647e7ba681"
      },
      "outputs": [
        {
          "name": "stdout",
          "output_type": "stream",
          "text": [
            "deploying contract from filename /content/etherlink-bridge/etherlink-bridge/etherlink-bridge/tezos/tests/helpers/../tokens/fa2-fxhash.tz\n",
            "found contract address: KT1GemMPvp2bV8TUV1DzWTwdhT27TtMgJiTw\n"
          ]
        }
      ],
      "source": [
        "!poetry run deploy_token --token-type FA2 --token-id 42"
      ]
    },
    {
      "cell_type": "markdown",
      "metadata": {
        "id": "WMsx7rcwlK5N"
      },
      "source": [
        "#### Deploying a Ticketer"
      ]
    },
    {
      "cell_type": "markdown",
      "metadata": {
        "id": "V9B14Qdlm1Ug"
      },
      "source": [
        "To deploy a ticketer for a specific token address and token id, use the following script. The example below uses a **FA1.2** token previously deployed on Oxfordnet:"
      ]
    },
    {
      "cell_type": "code",
      "execution_count": 9,
      "metadata": {
        "colab": {
          "base_uri": "https://localhost:8080/"
        },
        "id": "J3uoYpLWxg2w",
        "outputId": "e7dffc0d-ec77-4bd7-eb61-dbcc8e222145"
      },
      "outputs": [
        {
          "name": "stdout",
          "output_type": "stream",
          "text": [
            "deploying contract from filename /content/etherlink-bridge/etherlink-bridge/etherlink-bridge/tezos/tests/helpers/../../build/ticketer.tz\n",
            "found contract address: KT1GQEybCQffb6YJ5NH9GhPEeRyufrYP3amN\n",
            "address_bytes: 0155c34fe2c664715ec4c0a43a01f1e4141fa9b3cc00\n",
            "content_bytes: 0707002a05090a0000007405020000006e07040100000010636f6e74726163745f616464726573730a0000001c050a000000160158827df9def8a4d2c92152c872c553b01ff3de0b0007040100000008746f6b656e5f69640a0000000305002a0704010000000a746f6b656e5f747970650a00000009050100000003464132\n"
          ]
        }
      ],
      "source": [
        "!poetry run deploy_ticketer --token-address KT1GemMPvp2bV8TUV1DzWTwdhT27TtMgJiTw --token-type FA2 --token-id 42"
      ]
    },
    {
      "cell_type": "markdown",
      "metadata": {
        "id": "L746mWI4m5BN"
      },
      "source": [
        "During the Ticketer's deployment, user will receive its parameters, including **address_bytes** and **content_bytes**. These are required for the origination of the **ERC20Proxy**."
      ]
    },
    {
      "cell_type": "markdown",
      "metadata": {
        "id": "RFH3LUtJlzIP"
      },
      "source": [
        "#### Deploying ERC20Proxy"
      ]
    },
    {
      "cell_type": "markdown",
      "metadata": {
        "id": "BjAEvLA_nHRW"
      },
      "source": [
        "To deploy a token contract on the Etherlink side, which will mint tokens upon deposit, execute the script below. This script requires **ticketer-address-bytes** and **ticketer-content-bytes**. The example uses bytes from a ticketer previously deployed in Nairobinet:"
      ]
    },
    {
      "cell_type": "code",
      "execution_count": 12,
      "metadata": {
        "colab": {
          "base_uri": "https://localhost:8080/"
        },
        "id": "OyXyHW3H8mS-",
        "outputId": "1b675543-7903-4b59-b047-5dcd50a91325"
      },
      "outputs": [
        {
          "name": "stdout",
          "output_type": "stream",
          "text": [
            "Successfully deployed ERC20 contract:\n",
            "Compiling 29 files with 0.8.21\n",
            "Solc 0.8.21 finished in 9.87s\n",
            "Compiler run \u001b[32msuccessful!\u001b[0m\n",
            "Deployer: 0xBefD2C6fFC36249ebEbd21d6DF6376ecF3BAc448\n",
            "Deployed to: 0x87dcBf128677ba36E79D47dAf4eb4e51610e0150\n",
            "Transaction hash: 0x5d5049670d32a39c8c3582ebc7ca6f83b781f67c50fb297da6c5d72caa0d5456\n",
            "\n"
          ]
        }
      ],
      "source": [
        "!poetry run deploy_erc20 --ticketer-address-bytes 0155c34fe2c664715ec4c0a43a01f1e4141fa9b3cc00 --ticket-content-bytes 0707002a05090a0000007405020000006e07040100000010636f6e74726163745f616464726573730a0000001c050a000000160158827df9def8a4d2c92152c872c553b01ff3de0b0007040100000008746f6b656e5f69640a0000000305002a0704010000000a746f6b656e5f747970650a00000009050100000003464132 --token-name \"FA2 Test Token, id: 42\" --token-symbol \"FA2[42]\" --decimals 0"
      ]
    },
    {
      "cell_type": "markdown",
      "metadata": {
        "id": "VWLTXlrFl4C4"
      },
      "source": [
        "NOTE: To obtain the **ticketer-address-bytes** and **content-bytes** for an already deployed ticketer, user can use the script below:"
      ]
    },
    {
      "cell_type": "code",
      "execution_count": 14,
      "metadata": {
        "colab": {
          "base_uri": "https://localhost:8080/"
        },
        "id": "AjIxuDb1m1yr",
        "outputId": "897696d9-2855-4f56-f8fd-3e00c5f46a5d"
      },
      "outputs": [
        {
          "name": "stdout",
          "output_type": "stream",
          "text": [
            "address_bytes: 0155c34fe2c664715ec4c0a43a01f1e4141fa9b3cc00\n",
            "content_bytes: 0707002a05090a0000007405020000006e07040100000010636f6e74726163745f616464726573730a0000001c050a000000160158827df9def8a4d2c92152c872c553b01ff3de0b0007040100000008746f6b656e5f69640a0000000305002a0704010000000a746f6b656e5f747970650a00000009050100000003464132\n"
          ]
        }
      ],
      "source": [
        "!poetry run get_ticketer_params --ticketer KT1GQEybCQffb6YJ5NH9GhPEeRyufrYP3amN"
      ]
    },
    {
      "cell_type": "markdown",
      "metadata": {
        "id": "bq-ql0aYldku"
      },
      "source": [
        "#### Deploying a Ticket Helper"
      ]
    },
    {
      "cell_type": "markdown",
      "metadata": {
        "id": "rNPpSQHynATq"
      },
      "source": [
        "To enable Tezos wallets to interact with specific tickets, deploy a Ticket Helper using the script below. The example provided uses a ticketer that was previously deployed in Oxfordnet:"
      ]
    },
    {
      "cell_type": "code",
      "execution_count": 10,
      "metadata": {
        "colab": {
          "base_uri": "https://localhost:8080/"
        },
        "id": "QdoXlCWczgxU",
        "outputId": "253ae3a2-23b6-428b-b92d-6f71b8d7c730"
      },
      "outputs": [
        {
          "name": "stdout",
          "output_type": "stream",
          "text": [
            "deploying contract from filename /content/etherlink-bridge/etherlink-bridge/etherlink-bridge/tezos/tests/helpers/../../build/ticket-helper.tz\n",
            "found contract address: KT1LstLU529PtDUQHo2x8WybNXBzLXnF6Tkv\n"
          ]
        }
      ],
      "source": [
        "!poetry run deploy_ticket_helper --ticketer-address KT1GQEybCQffb6YJ5NH9GhPEeRyufrYP3amN"
      ]
    },
    {
      "cell_type": "markdown",
      "metadata": {
        "id": "OKOsDVTwl9qv"
      },
      "source": [
        "### Deposit"
      ]
    },
    {
      "cell_type": "markdown",
      "metadata": {
        "id": "zoCOiU84nRlU"
      },
      "source": [
        "To make a deposit, user need to transfer Tickets to the rollup address with attached Routing Info in the [specified format](https://gitlab.com/baking-bad/tzip/-/blob/wip/029-etherlink-token-bridge/drafts/current/draft-etherlink-token-bridge/etherlink-token-bridge.md#deposit): `| receiver | proxy |` 40 bytes payload, both receiver and proxy are standard Ethereum addresses in raw form (H160). A script is available to facilitate this process. It requires the Ticket Helper address as **ticket-helper-address**, the Etherlink ERC20Proxy contract as **proxy-address**, and the bridged amount as the **amount** variable. Here's an example:"
      ]
    },
    {
      "cell_type": "code",
      "execution_count": 15,
      "metadata": {
        "colab": {
          "base_uri": "https://localhost:8080/"
        },
        "id": "Osj0p_VPmA2v",
        "outputId": "f6626e64-476c-48bf-e2b3-794e865ebaba"
      },
      "outputs": [
        {
          "name": "stdout",
          "output_type": "stream",
          "text": [
            "Succeed, transaction hash: opG2vhZ2x2p6PVcQoLq91gVSw3gZERyrDmhRUMAXqUnETGmyZnE\n"
          ]
        }
      ],
      "source": [
        "!poetry run deposit --ticket-helper-address KT1LstLU529PtDUQHo2x8WybNXBzLXnF6Tkv --proxy-address 0x87dcBf128677ba36E79D47dAf4eb4e51610e0150 --amount 7777"
      ]
    },
    {
      "cell_type": "markdown",
      "metadata": {
        "id": "w7KSgK17nTpa"
      },
      "source": [
        "NOTE: This script performs two operations in bulk. The first operation approves the token for the **Ticket Helper**, and the second operation makes a call to the **Ticket Helper** **deposit** entrypoint."
      ]
    },
    {
      "cell_type": "markdown",
      "metadata": {
        "id": "V4Am-6xUmJGl"
      },
      "source": [
        "### Withdrawal Process"
      ]
    },
    {
      "cell_type": "markdown",
      "metadata": {
        "id": "6Kj9fWLAnarF"
      },
      "source": [
        "The withdrawal process involves two key steps:\n",
        "1. Initiating the withdrawal on the Etherlink side, which results in the creation of an outbox message in the rollup commitment.\n",
        "2. Completing the withdrawal by executing the outbox message on the Tezos side once the commitment has settled (TODO: Clarify terminology if necessary)."
      ]
    },
    {
      "cell_type": "markdown",
      "metadata": {
        "id": "mEGSj1tYncgk"
      },
      "source": [
        "#### Etherlink Withdrawal"
      ]
    },
    {
      "cell_type": "markdown",
      "metadata": {
        "id": "_SZ2qjHlne85"
      },
      "source": [
        "To initiate a withdrawal, user need to call the withdrawal precompile on the Etherlink side. This requires providing the **ERC20Proxy** address along with Routing Info in a [specific format](https://gitlab.com/baking-bad/tzip/-/blob/wip/029-etherlink-token-bridge/drafts/current/draft-etherlink-token-bridge/etherlink-token-bridge.md#withdrawal), two forged contracts concatenated: `| receiver | proxy |` 44 bytes. Forged contact consists of binary suffix/prefix and body (blake2b hash digest). A script is available to facilitate the withdrawal process. It requires the ERC20 contract (which will burn tokens) as **proxy-address**, the Tezos router address (which will receive the ticket from the rollup) as **router-address**, and the bridged amount as **amount**. Additionally, the **ticketer-address-bytes** and **ticketer-content-bytes** are required to allow **ERC20Proxy** validate token before burning.\n",
        "\n",
        "NOTE: For automatic unwrapping of Tezos tickets back into tokens, the **Ticketer** address can be provided as the **router-address**."
      ]
    },
    {
      "cell_type": "code",
      "execution_count": 17,
      "metadata": {
        "colab": {
          "base_uri": "https://localhost:8080/"
        },
        "id": "pTeLgAHMmL52",
        "outputId": "c6df52f6-b977-44de-e893-254e8b2b8e60"
      },
      "outputs": [
        {
          "name": "stdout",
          "output_type": "stream",
          "text": [
            "Successfully called withdraw:\n",
            "\n",
            "blockHash               0x856472e5f89691a8e34dd3ddd8882e15dd9b89c80b39e0a275824931e6b0268c\n",
            "blockNumber             413\n",
            "contractAddress         \n",
            "cumulativeGasUsed       29857\n",
            "effectiveGasPrice       1\n",
            "from                    0xBefD2C6fFC36249ebEbd21d6DF6376ecF3BAc448\n",
            "gasUsed                 29857\n",
            "logs                    [{\"address\":\"0x0000000000000000000000000000000000000000\",\"topics\":[\"0x64e765b73c0829c01c6f3026a840120142d5a0b83626c548cff3a44ca5299c98\",\"0x3dee5129eb8af1183170a7c67f1a7e020eb32f500d761647db62c908a67d44a2\"],\"data\":\"0x000000000000000000000000befd2c6ffc36249ebebd21d6df6376ecf3bac44800000000000000000000000087dcbf128677ba36e79d47daf4eb4e51610e015000008a7390072a389159c73687165cd7910e8a39160600000000000000000000000000000000000000000000000000000000000000000000000000000000043800000000000000000000000000000000000000000000000000000000002b3c310000000000000000000000000000000000000000000000000000000000000000\",\"blockHash\":\"0x856472e5f89691a8e34dd3ddd8882e15dd9b89c80b39e0a275824931e6b0268c\",\"blockNumber\":\"0x19d\",\"transactionHash\":\"0xbc6bbb184a43c0eb10d026c897475262ae47af370785844cb8b4788791ea1c5c\",\"transactionIndex\":\"0x0\",\"logIndex\":\"0x0\",\"removed\":false},{\"address\":\"0x87dcbf128677ba36e79d47daf4eb4e51610e0150\",\"topics\":[\"0xddf252ad1be2c89b69c2b068fc378daa952ba7f163c4a11628f55a4df523b3ef\",\"0x000000000000000000000000befd2c6ffc36249ebebd21d6df6376ecf3bac448\",\"0x0000000000000000000000000000000000000000000000000000000000000000\"],\"data\":\"0x0000000000000000000000000000000000000000000000000000000000000438\",\"blockHash\":\"0x856472e5f89691a8e34dd3ddd8882e15dd9b89c80b39e0a275824931e6b0268c\",\"blockNumber\":\"0x19d\",\"transactionHash\":\"0xbc6bbb184a43c0eb10d026c897475262ae47af370785844cb8b4788791ea1c5c\",\"transactionIndex\":\"0x0\",\"logIndex\":\"0x1\",\"removed\":false}]\n",
            "logsBloom               0x00000000000000000090000000000000000000000000000000000000000000000000000000000000000000000000000200000100000000008000000000000000000000000000000000000008000000000001000000000000000000000000000000000000020000000000000000000800000000000000000000000010000000000000000000000000000000000000000100000000800000206000000000000000001000800000000000000000000000000000000000000000000000000000000000080002000000000000000000000000000000000400000000000000000020000000000000000000000000000000000000000000000000000000000000000000\n",
            "root                    \n",
            "status                  1\n",
            "transactionHash         0xbc6bbb184a43c0eb10d026c897475262ae47af370785844cb8b4788791ea1c5c\n",
            "transactionIndex        0\n",
            "type                    0\n",
            "to                      0x0000…0040\n",
            "\n"
          ]
        }
      ],
      "source": [
        "!poetry run withdraw --proxy-address 0x87dcBf128677ba36E79D47dAf4eb4e51610e0150 --amount 1080 --ticketer-address-bytes 0155c34fe2c664715ec4c0a43a01f1e4141fa9b3cc00 --ticket-content-bytes 0707002a05090a0000007405020000006e07040100000010636f6e74726163745f616464726573730a0000001c050a000000160158827df9def8a4d2c92152c872c553b01ff3de0b0007040100000008746f6b656e5f69640a0000000305002a0704010000000a746f6b656e5f747970650a00000009050100000003464132 --router-address KT1GQEybCQffb6YJ5NH9GhPEeRyufrYP3amN"
      ]
    },
    {
      "cell_type": "markdown",
      "metadata": {
        "id": "JLJ9qvn6nnHQ"
      },
      "source": [
        "#### Finalizing Tezos Withdrawal"
      ]
    },
    {
      "cell_type": "markdown",
      "metadata": {
        "id": "kAvoYIEznq36"
      },
      "source": [
        "To complete the withdrawal process, user need to call the outbox message on the Tezos side once it has been finalized (settled) on the L1 side. During the withdrawal process, the Etherlink side emits a **Withdrawal** event, which includes **outboxLevel** and **outboxMsgId**."
      ]
    },
    {
      "cell_type": "markdown",
      "metadata": {
        "id": "by1RTmsazJG2"
      },
      "source": [
        "Users can obtain **outboxLevel** and **outboxMsgId** from the **Withdrawal** event, which is emitted upon the successful formation of an outbox message. Since both parameters are of type `uint256`, to retrieve **outboxMsgId**, users need to take the last 32 bytes of the event. For **outboxLevel**, take another 32 bytes preceding those and convert them into an integer. Below is an example of how this can be done:\n",
        "- Here is a link to the block explorer with the withdrawal transaction: http://blockscout.dipdup.net/tx/0xbc6bbb184a43c0eb10d026c897475262ae47af370785844cb8b4788791ea1c5c/logs\n",
        "- Here is **Withdrawal** event data: `0x000000000000000000000000befd2c6ffc36249ebebd21d6df6376ecf3bac44800000000000000000000000087dcbf128677ba36e79d47daf4eb4e51610e015000008a7390072a389159c73687165cd7910e8a39160600000000000000000000000000000000000000000000000000000000000000000000000000000000043800000000000000000000000000000000000000000000000000000000002b3c310000000000000000000000000000000000000000000000000000000000000000`\n",
        "- Here is **outboxMsgId** is the last 32 bytes: `0000000000000000000000000000000000000000000000000000000000000000`, which is integer `0`\n",
        "- Here is **outboxLevel** is the 32 bytes preceding those: `00000000000000000000000000000000000000000000000000000000002b3c31`, which is integer `2833457`\n",
        "\n",
        "To simplify this process, script to parse withdrawal event added:"
      ]
    },
    {
      "cell_type": "code",
      "execution_count": 18,
      "metadata": {
        "colab": {
          "base_uri": "https://localhost:8080/"
        },
        "id": "YXRd3-2G1-0v",
        "outputId": "e52042c0-1f6c-4c28-fec4-bff8edca298b"
      },
      "outputs": [
        {
          "name": "stdout",
          "output_type": "stream",
          "text": [
            "outbox_level: 2833457\n",
            "outbox_index: 0\n"
          ]
        }
      ],
      "source": [
        "!poetry run parse_withdrawal_event --tx-hash 0xbc6bbb184a43c0eb10d026c897475262ae47af370785844cb8b4788791ea1c5c"
      ]
    },
    {
      "cell_type": "markdown",
      "metadata": {
        "id": "JqfaJRWt2U5W"
      },
      "source": [
        "Now, when the user knows the index and outbox level where withdrawal transaction was added, it is possible to get **commitment** and **proof**, which are required for `execute_outbox_message` call. To do this users need to perform call to the `global/block/head/helpers/proofs/outbox/{outbox_level}/messages` Rollup RPC Node endpoint. There is a script which performs this call:\n",
        "\n",
        "NOTE: Please be aware that it may take some time for L2 transactions to settle on L1. The settlement time is approximately 6 minutes on Oxfordnet and 2 weeks on Mainnet."
      ]
    },
    {
      "cell_type": "code",
      "execution_count": 21,
      "metadata": {
        "colab": {
          "base_uri": "https://localhost:8080/"
        },
        "id": "V90vORmmnqGk",
        "outputId": "903ea4fa-ec23-4129-dc73-2112f3c422e0"
      },
      "outputs": [
        {
          "name": "stdout",
          "output_type": "stream",
          "text": [
            "commitment: src131WuTJN7FKzefkjQztLLtqxtspQ8hkiakEYGkPPHheSd4Gbdqh\n",
            "proof: 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\n"
          ]
        }
      ],
      "source": [
        "!poetry run get_proof --level 2833457 --index 0"
      ]
    },
    {
      "cell_type": "markdown",
      "metadata": {
        "id": "jHQREDkpztMK"
      },
      "source": [
        "Since this outbox message settled on the L1 side, user able to execute it by making `execute_outbox_message` operation. There is a script which allows to do this using provided private keys:"
      ]
    },
    {
      "cell_type": "code",
      "execution_count": 22,
      "metadata": {
        "colab": {
          "base_uri": "https://localhost:8080/"
        },
        "id": "-OJpiI54zstZ",
        "outputId": "e8ceb367-d197-45cf-8723-934f7062ade7"
      },
      "outputs": [
        {
          "name": "stdout",
          "output_type": "stream",
          "text": [
            "Succeed, transaction hash: op54jebFAf5NSeK9ZZqniCZUW1LajJeovQ6cjszKWwEGaZNCdTX\n"
          ]
        }
      ],
      "source": [
        "!poetry run execute_outbox_message --commitment src131WuTJN7FKzefkjQztLLtqxtspQ8hkiakEYGkPPHheSd4Gbdqh --proof 0300025491ef833458c06460879395e3076b57a3054ed9d77735b4ed9e95da1d883c925491ef833458c06460879395e3076b57a3054ed9d77735b4ed9e95da1d883c920005820764757261626c65d03a20ef6c5502cc8f3acd0502d138a587955dc4be101342215aa1af9368bffcae03746167c00800000004536f6d650003c0c2fd443334020528c36a7bb5e79d1489eddc6aff5bf5884fb040c06073495e98820576616c7565810370766d8107627566666572738205696e707574820468656164c00100066c656e677468c00100066f75747075740004820132810a6c6173745f6c6576656cc004002b3c370133810f76616c69646974795f706572696f64c00400013b0082013181086f7574626f7865730101a4c08da6efd470f511ffc88ebe18f82a04b6c0d3448da54cf34ecec0dcf8aa136af000d000620035c0d6fb29559569e6db0e78723f825b1faa414d78d92f70a3a01f3f0bf074cae712001d000ec0fd87a058c4304bf39e891761282e6de4779f2bc36ff11d595d24e426bdcaf34b0004c0f12d2dbd6f0c3f9aeeb030dd148c008f46360a7d1445b71c635b892334983e73820732383333313931820468656164c00100066c656e677468c0010007323833333435370003810468656164c001008208636f6e74656e7473810130c0e9000000e500000000e007070a0000001600008a7390072a389159c73687165cd7910e8a39160607070a000000160155c34fe2c664715ec4c0a43a01f1e4141fa9b3cc0007070707002a05090a0000007405020000006e07040100000010636f6e74726163745f616464726573730a0000001c050a000000160158827df9def8a4d2c92152c872c553b01ff3de0b0007040100000008746f6b656e5f69640a0000000305002a0704010000000a746f6b656e5f747970650a0000000905010000000346413200b8100155c34fe2c664715ec4c0a43a01f1e4141fa9b3cc00000000087769746864726177066c656e677468c00101c0b36dd661223dea6d37f08ed83e77d834f343bed72d6e63a8ce75803c7da01bd2c0dbba6a59432e57f81c49e91133150af18e122db7f1be4f70b6453e50654de508c02d0cc6dc3c83abfe1fbef3c9473df0b353495af428b7928de73f1ca10f3292b80134810d6d6573736167655f6c696d6974c002a401047761736dd0d3f7aaf1483a2fa12f3a72f99f0bcbc9a4cee57e2350cc4e8185ca9bb8f4e39e5491ef833458c06460879395e3076b57a3054ed9d77735b4ed9e95da1d883c92002b3c310000000000e007070a0000001600008a7390072a389159c73687165cd7910e8a39160607070a000000160155c34fe2c664715ec4c0a43a01f1e4141fa9b3cc0007070707002a05090a0000007405020000006e07040100000010636f6e74726163745f616464726573730a0000001c050a000000160158827df9def8a4d2c92152c872c553b01ff3de0b0007040100000008746f6b656e5f69640a0000000305002a0704010000000a746f6b656e5f747970650a0000000905010000000346413200b8100155c34fe2c664715ec4c0a43a01f1e4141fa9b3cc00000000087769746864726177"
      ]
    },
    {
      "cell_type": "markdown",
      "metadata": {
        "id": "uIaBu01cG4UK"
      },
      "source": [
        "### Other scripts:"
      ]
    },
    {
      "cell_type": "markdown",
      "metadata": {
        "id": "unKunU4WG9Rk"
      },
      "source": [
        "- Fund Etherkink account provided as `L2_PUBLIC_KEY`:"
      ]
    },
    {
      "cell_type": "code",
      "execution_count": 11,
      "metadata": {
        "colab": {
          "base_uri": "https://localhost:8080/"
        },
        "id": "YLWuWZ5GGuQK",
        "outputId": "71c29967-12b9-4c62-8161-860f79cd28e2"
      },
      "outputs": [
        {
          "name": "stdout",
          "output_type": "stream",
          "text": [
            "Successfully funded account:\n",
            "\n",
            "blockHash               0x78693a8e4c7fe623ff8874034e5171b744b231e253abb8e78541dba40766f0ab\n",
            "blockNumber             361\n",
            "contractAddress         \n",
            "cumulativeGasUsed       21000\n",
            "effectiveGasPrice       1\n",
            "from                    0x6ce4d79d4E77402e1ef3417Fdda433aA744C6e1c\n",
            "gasUsed                 21000\n",
            "logs                    []\n",
            "logsBloom               0x00000000000000000000000000000000000000000000000000000000000000000000000000000000000000000000000000000000000000000000000000000000000000000000000000000000000000000000000000000000000000000000000000000000000000000000000000000000000000000000000000000000000000000000000000000000000000000000000000000000000000000000000000000000000000000000000000000000000000000000000000000000000000000000000000000000000000000000000000000000000000000000000000000000000000000000000000000000000000000000000000000000000000000000000000000000\n",
            "root                    \n",
            "status                  1\n",
            "transactionHash         0xc66826cdab10ffaf36b35fe7d4564a6a4b4aafeceb65a1f2696b316d6db9ca64\n",
            "transactionIndex        0\n",
            "type                    0\n",
            "to                      0xbefd…c448\n",
            "\n"
          ]
        }
      ],
      "source": [
        "!poetry run fund_etherlink_account"
      ]
    }
  ],
  "metadata": {
    "colab": {
      "provenance": []
    },
    "kernelspec": {
      "display_name": "Python 3",
      "name": "python3"
    },
    "language_info": {
      "name": "python"
    }
  },
  "nbformat": 4,
  "nbformat_minor": 0
}
