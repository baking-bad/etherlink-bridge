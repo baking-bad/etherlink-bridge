{
 "cells": [
  {
   "cell_type": "markdown",
   "id": "06489d47",
   "metadata": {},
   "source": [
    "# Setting up the Fast Withdrawal contract:\n",
    "- This notebook allows deploying contracts for fast withdrawal interactions and running a basic scenario by creating a withdrawal on the Etherlink side and making fast payouts on the Tezos side."
   ]
  },
  {
   "cell_type": "code",
   "execution_count": 1,
   "id": "a3a356c8",
   "metadata": {},
   "outputs": [
    {
     "name": "stdout",
     "output_type": "stream",
     "text": [
      "Setup:\n",
      "- Tezos account: `\u001b[96mtz1ekkzEN2LB1cpf7dCaonKt6x9KVd9YVydc\u001b[0m`, balance: `\u001b[96m299.525507 ꜩ\u001b[0m`\n",
      "- Etherlink account: `\u001b[96m0x7e6f6CCFe485a087F0F819eaBfDBfb1a49b97677\u001b[0m`, balance: `\u001b[96m609.529149787 ꜩ\u001b[0m`\n"
     ]
    }
   ],
   "source": [
    "from docs.scenarios.setup import *\n",
    "\n",
    "web3, etherlink_account, tezos_account = setup()"
   ]
  },
  {
   "cell_type": "markdown",
   "id": "c6441d78",
   "metadata": {},
   "source": [
    "## Deploy FastWithdrawal:"
   ]
  },
  {
   "cell_type": "code",
   "execution_count": 2,
   "id": "339efafc",
   "metadata": {},
   "outputs": [
    {
     "name": "stdout",
     "output_type": "stream",
     "text": [
      "Loaded Fast Withdrawal contract, address: `\u001b[96mKT1TbrmAD4WRVqakbqrHDZ7gUwMdjocXc7Cw\u001b[0m`\n"
     ]
    }
   ],
   "source": [
    "from scripts.tezos import deploy_fast_withdrawal\n",
    "from scripts.helpers.contracts.fast_withdrawal import FastWithdrawal\n",
    "from scripts.etherlink import xtz_fast_withdraw\n",
    "\n",
    "if FAST_WITHDRAWAL_CONTRACT:\n",
    "    fast_withdrawal = FastWithdrawal.from_address(tezos_account, FAST_WITHDRAWAL_CONTRACT)\n",
    "    click.echo('Loaded Fast Withdrawal contract, address: ' + wrap(accent(fast_withdrawal.address)))\n",
    "else:\n",
    "    fast_withdrawal = deploy_fast_withdrawal.callback(\n",
    "        xtz_ticketer_address=XTZ_TICKETER_ADDRESS,\n",
    "        smart_rollup_address=SMART_ROLLUP_ADDRESS,\n",
    "        expiration_seconds=90*60,\n",
    "        tezos_private_key=TEZOS_PRIVATE_KEY,\n",
    "        tezos_rpc_url=TEZOS_RPC_URL,\n",
    "        skip_confirm=True,\n",
    "        silent=False,\n",
    "    )"
   ]
  },
  {
   "cell_type": "markdown",
   "id": "6b528b40",
   "metadata": {},
   "source": [
    "## Making Fast Withdrawal on Etherlink side:"
   ]
  },
  {
   "cell_type": "code",
   "execution_count": 3,
   "id": "a5007f11",
   "metadata": {},
   "outputs": [
    {
     "name": "stdout",
     "output_type": "stream",
     "text": [
      "Making Fast Withdrawal, XTZ:\n",
      "  - Sender: `\u001b[96m0x7e6f6CCFe485a087F0F819eaBfDBfb1a49b97677\u001b[0m`\n",
      "  - Etherlink RPC node: `\u001b[96mhttps://node.ghostnet.etherlink.com\u001b[0m`\n",
      "  - Withdrawal params:\n",
      "      * Target: `\u001b[96mtz1ekkzEN2LB1cpf7dCaonKt6x9KVd9YVydc\u001b[0m`\n",
      "      * Fast Withdrawal contract: `\u001b[96mKT1TbrmAD4WRVqakbqrHDZ7gUwMdjocXc7Cw\u001b[0m`\n",
      "      * Payload bytes: `\u001b[96m0500a88c01\u001b[0m`\n",
      "      * Amount (mutez): `\u001b[96m9_119\u001b[0m`\n",
      "      * Discounted amt (mutez): `\u001b[96m9_000\u001b[0m`\n",
      "      * Fee (mutez): `\u001b[96m119\u001b[0m`\n",
      "Successfully initiated XTZ Fast Withdrawal, tx hash: `\u001b[96m0xcd6bdd6eeb09df6a7ea4da31389ced1637c31b5ff13f32e19e8e8f3aff8dae21\u001b[0m`\n"
     ]
    }
   ],
   "source": [
    "discounted_amount=9000\n",
    "full_amount=9119\n",
    "\n",
    "tx_hash = xtz_fast_withdraw.callback(\n",
    "    target=get_address(tezos_account),\n",
    "    fast_withdrawal_contract=fast_withdrawal.address,\n",
    "    amount=full_amount * 10**12,\n",
    "    discounted_amount=discounted_amount,\n",
    "    withdraw_precompile=XTZ_WITHDRAWAL_PRECOMPILE,\n",
    "    etherlink_private_key=ETHERLINK_PRIVATE_KEY,\n",
    "    etherlink_rpc_url=ETHERLINK_RPC_URL,\n",
    ")"
   ]
  },
  {
   "cell_type": "markdown",
   "id": "bdf62ea8",
   "metadata": {},
   "source": [
    "### Searching for outbox message:\n",
    "- TODO: Move this code to a separate script"
   ]
  },
  {
   "cell_type": "code",
   "execution_count": 4,
   "id": "d23adca9",
   "metadata": {},
   "outputs": [],
   "source": [
    "from scripts.helpers.rollup_node import get_messages\n",
    "import time\n",
    "from pytezos import MichelsonType\n",
    "from pytezos import michelson_to_micheline\n",
    "from scripts.etherlink.xtz_fast_withdraw import (\n",
    "    load_withdraw_precompile,\n",
    "    make_fast_withdrawal,\n",
    ")\n",
    "from random import randint\n",
    "from scripts.helpers.contracts.fast_withdrawal import Withdrawal\n",
    "from scripts.helpers.utility import pack\n",
    "from scripts.helpers.ticket_content import TicketContent\n",
    "\n",
    "def make_event_logs_link(tx_hash):\n",
    "    return f'{BLOCKSCOUT_EXPLORER_URL}/tx/{tx_hash}?tab=logs'\n",
    "\n",
    "def make_outbox_message_link(level):\n",
    "    return f'{ETHERLINK_ROLLUP_NODE_URL}/global/block/{level}/outbox/{level}/messages'\n",
    "\n",
    "def make_tzkt_ghostnet_link(tx_hash):\n",
    "    return f'{TZKT_EXPLORER_URL}/{tx_hash}'\n",
    "\n",
    "FAST_WITHDRAWAL_OUTBOX_INTERFACE = '''\n",
    "pair %default (nat %withdrawal_id)\n",
    "    (pair (ticket %ticket (pair nat (option bytes)))\n",
    "         (pair (timestamp %timestamp)\n",
    "               (pair (address %base_withdrawer)\n",
    "                     (pair (bytes %payload) (bytes %l2_caller)))))\n",
    "'''\n",
    "\n",
    "def decode_outbox_message(message):\n",
    "    micheline_expression = michelson_to_micheline(FAST_WITHDRAWAL_OUTBOX_INTERFACE)\n",
    "    michelson_type = MichelsonType.match(micheline_expression)\n",
    "    assert len(message['transactions']) == 1\n",
    "    parameters_micheline = message['transactions'][0]['parameters']\n",
    "    return michelson_type.from_micheline_value(parameters_micheline).to_python_object()\n",
    "\n",
    "def scan_outbox_until_message_found(\n",
    "    etherlink_rollup_node_url: str,\n",
    "    last_level: int,\n",
    "    max_levels: int = 100,\n",
    "    sleep_time: int = 0.3\n",
    "):\n",
    "    click.echo('Scanning outbox: ', nl=False)\n",
    "    for level in range(last_level, last_level-max_levels, -1):\n",
    "        click.echo(wrap(accent(level)), nl=False)\n",
    "        messages = get_messages(ETHERLINK_ROLLUP_NODE_URL, level)\n",
    "        if len(messages) > 0:\n",
    "            click.echo()\n",
    "            click.echo('Found outbox message at level: ' + wrap(accent(level)))\n",
    "            return messages, level\n",
    "        click.echo(', ', nl=False)\n",
    "        time.sleep(sleep_time)\n",
    "\n",
    "def make_withdrawal_info(tx_hash, outbox_message, found_level: int):\n",
    "    click.echo('Fast Withdrawal info:')\n",
    "    click.echo('- Event logs: ' + make_event_logs_link(tx_hash))\n",
    "    click.echo('- Outbox message: ' + make_outbox_message_link(found_level))\n",
    "    click.echo('- Withdrawal ID: ' + wrap(accent(outbox_message['withdrawal_id'])))\n",
    "    click.echo('- Timestamp: ' + wrap(accent(outbox_message['timestamp'])))"
   ]
  },
  {
   "cell_type": "code",
   "execution_count": 5,
   "id": "0aa37fe8",
   "metadata": {},
   "outputs": [
    {
     "name": "stdout",
     "output_type": "stream",
     "text": [
      "Scanning outbox: `\u001b[96m11773200\u001b[0m`\n",
      "Found outbox message at level: `\u001b[96m11773200\u001b[0m`\n",
      "Fast Withdrawal info:\n",
      "- Event logs: https://testnet.explorer.etherlink.com/tx/0xcd6bdd6eeb09df6a7ea4da31389ced1637c31b5ff13f32e19e8e8f3aff8dae21?tab=logs\n",
      "- Outbox message: https://ghostnet-smart.tzkt.io//global/block/11773200/outbox/11773200/messages\n",
      "- Withdrawal ID: `\u001b[96m2055\u001b[0m`\n",
      "- Timestamp: `\u001b[96m1744449172\u001b[0m`\n"
     ]
    }
   ],
   "source": [
    "last_tezos_level = tezos_account.shell.head()['header']['level']\n",
    "messages, found_level = scan_outbox_until_message_found(ETHERLINK_ROLLUP_NODE_URL, last_tezos_level)\n",
    "outbox_message = decode_outbox_message(messages[0]['message'])\n",
    "make_withdrawal_info(tx_hash, outbox_message, found_level)"
   ]
  },
  {
   "cell_type": "markdown",
   "id": "aafe02c1",
   "metadata": {},
   "source": [
    "## Purchasing withdrawal on Tezos side:"
   ]
  },
  {
   "cell_type": "code",
   "execution_count": 6,
   "id": "58a340cc",
   "metadata": {},
   "outputs": [
    {
     "name": "stdout",
     "output_type": "stream",
     "text": [
      "- Transaction: https://quebecnet.tzkt.io/ooHDBWYVcNqHSJyFDR55gzUVJ8PMQDBFCT2428FMA6MSKUDuznJ\n"
     ]
    }
   ],
   "source": [
    "withdrawal = Withdrawal(\n",
    "    withdrawal_id=outbox_message['withdrawal_id'],\n",
    "    full_amount=full_amount,\n",
    "    ticketer=XTZ_TICKETER_ADDRESS,\n",
    "    content=TicketContent(\n",
    "        token_id=0,\n",
    "        token_info=None,\n",
    "    ),\n",
    "    timestamp=outbox_message['timestamp'],\n",
    "    base_withdrawer=get_address(tezos_account),\n",
    "    payload=pack(discounted_amount, 'nat'),\n",
    "    l2_caller=bytes.fromhex(etherlink_account.address.split('0x')[1])\n",
    ")\n",
    "\n",
    "opg = fast_withdrawal.payout_withdrawal(\n",
    "    withdrawal=withdrawal,\n",
    "    service_provider=get_address(tezos_account),\n",
    "    xtz_amount=discounted_amount,\n",
    ").send()\n",
    "\n",
    "click.echo('- Transaction: ' + make_tzkt_ghostnet_link(opg.hash()))"
   ]
  },
  {
   "cell_type": "markdown",
   "id": "8a695394",
   "metadata": {},
   "source": [
    "## Making Additional Withdrawals:\n",
    "### One with an incorrect payload that would be impossible to execute"
   ]
  },
  {
   "cell_type": "code",
   "execution_count": 7,
   "id": "1cd9e2b1",
   "metadata": {},
   "outputs": [
    {
     "name": "stdout",
     "output_type": "stream",
     "text": [
      "Successfully initiated wrong XTZ Fast Withdrawal, tx hash: `\u001b[96m0xdcc3dc675f54e5dfa007ce7ebac7c85c9ee004b34c18038f609047eebaad52ed\u001b[0m`\n"
     ]
    }
   ],
   "source": [
    "precompile_contract = load_withdraw_precompile(\n",
    "    XTZ_WITHDRAWAL_PRECOMPILE,\n",
    "    web3\n",
    ")\n",
    "receipt = make_fast_withdrawal(\n",
    "    etherlink_account=etherlink_account,\n",
    "    web3=web3,\n",
    "    precompile_contract=precompile_contract,\n",
    "    target=get_address(tezos_account),\n",
    "    fast_withdrawals_contract=fast_withdrawal.address,\n",
    "    payload=bytes.fromhex('ff4f'),\n",
    "    wei_amount=133 * 10**12,\n",
    ")\n",
    "\n",
    "click.echo(\n",
    "    'Successfully initiated wrong XTZ Fast Withdrawal, tx hash: '\n",
    "    + wrap(accent(receipt.transactionHash.hex()))\n",
    ")"
   ]
  },
  {
   "cell_type": "markdown",
   "id": "fafbb842",
   "metadata": {},
   "source": [
    "### More Fast Withdrawals with different base withdrawers and amounts"
   ]
  },
  {
   "cell_type": "code",
   "execution_count": 8,
   "id": "c30751b6",
   "metadata": {},
   "outputs": [
    {
     "name": "stdout",
     "output_type": "stream",
     "text": [
      "--- W I T H D R A W A L   :   \u001b[96m1\u001b[0m\n",
      "Making Fast Withdrawal, XTZ:\n",
      "  - Sender: `\u001b[96m0x7e6f6CCFe485a087F0F819eaBfDBfb1a49b97677\u001b[0m`\n",
      "  - Etherlink RPC node: `\u001b[96mhttps://node.ghostnet.etherlink.com\u001b[0m`\n",
      "  - Withdrawal params:\n",
      "      * Target: `\u001b[96mtz1f2BNQry3w9yERDwZKtGtAMBmLqdsB2fAT\u001b[0m`\n",
      "      * Fast Withdrawal contract: `\u001b[96mKT1TbrmAD4WRVqakbqrHDZ7gUwMdjocXc7Cw\u001b[0m`\n",
      "      * Payload bytes: `\u001b[96m0500a60d\u001b[0m`\n",
      "      * Amount (mutez): `\u001b[96m916\u001b[0m`\n",
      "      * Discounted amt (mutez): `\u001b[96m870\u001b[0m`\n",
      "      * Fee (mutez): `\u001b[96m46\u001b[0m`\n",
      "Successfully initiated XTZ Fast Withdrawal, tx hash: `\u001b[96m0xf40f93e189389c7d1bc28d2d785556210495eac8584acea2e234c870a89b9211\u001b[0m`\n",
      "Scanning outbox: `\u001b[96m11773226\u001b[0m`, `\u001b[96m11773225\u001b[0m`, `\u001b[96m11773224\u001b[0m`, `\u001b[96m11773223\u001b[0m`, `\u001b[96m11773222\u001b[0m`, `\u001b[96m11773221\u001b[0m`\n",
      "Found outbox message at level: `\u001b[96m11773221\u001b[0m`\n",
      "! Error: `\u001b[96m[{'outbox_level': 11773221, 'message_index': '0', 'message': {'transactions': [{'parameters': {'prim': 'Pair', 'args': [{'int': '2057'}, {'prim': 'Pair', 'args': [{'prim': 'Pair', 'args': [{'bytes': '012370218d43c505b233b950377fedd8283cec527a00'}, {'prim': 'Pair', 'args': [{'prim': 'Pair', 'args': [{'int': '0'}, {'prim': 'None'}]}, {'int': '916'}]}]}, {'prim': 'Pair', 'args': [{'int': '1744449256'}, {'prim': 'Pair', 'args': [{'bytes': '0000d49ac8ddd691053ce736083b1aaa50d903bc9638'}, {'prim': 'Pair', 'args': [{'bytes': '0500a60d'}, {'bytes': '7e6f6ccfe485a087f0f819eabfdbfb1a49b97677'}]}]}]}]}]}, 'destination': 'KT1TbrmAD4WRVqakbqrHDZ7gUwMdjocXc7Cw'}], 'kind': 'untyped'}}]\u001b[0m`\n",
      "--- W I T H D R A W A L   :   \u001b[96m2\u001b[0m\n",
      "Making Fast Withdrawal, XTZ:\n",
      "  - Sender: `\u001b[96m0x7e6f6CCFe485a087F0F819eaBfDBfb1a49b97677\u001b[0m`\n",
      "  - Etherlink RPC node: `\u001b[96mhttps://node.ghostnet.etherlink.com\u001b[0m`\n",
      "  - Withdrawal params:\n",
      "      * Target: `\u001b[96mtz1TTum7M6HhSdNvMmn1dj8zyPwGCc5g59nM\u001b[0m`\n",
      "      * Fast Withdrawal contract: `\u001b[96mKT1TbrmAD4WRVqakbqrHDZ7gUwMdjocXc7Cw\u001b[0m`\n",
      "      * Payload bytes: `\u001b[96m0500a306\u001b[0m`\n",
      "      * Amount (mutez): `\u001b[96m442\u001b[0m`\n",
      "      * Discounted amt (mutez): `\u001b[96m419\u001b[0m`\n",
      "      * Fee (mutez): `\u001b[96m23\u001b[0m`\n",
      "Successfully initiated XTZ Fast Withdrawal, tx hash: `\u001b[96m0x3ab0c3173f0e1c09d257748b1d299dbdb49656204693df77a158b1f120922010\u001b[0m`\n",
      "Scanning outbox: `\u001b[96m11773235\u001b[0m`, `\u001b[96m11773234\u001b[0m`, `\u001b[96m11773233\u001b[0m`, `\u001b[96m11773232\u001b[0m`, `\u001b[96m11773231\u001b[0m`, `\u001b[96m11773230\u001b[0m`, `\u001b[96m11773229\u001b[0m`\n",
      "Found outbox message at level: `\u001b[96m11773229\u001b[0m`\n",
      "! Error: `\u001b[96m[{'outbox_level': 11773229, 'message_index': '0', 'message': {'transactions': [{'parameters': {'prim': 'Pair', 'args': [{'int': '2058'}, {'prim': 'Pair', 'args': [{'prim': 'Pair', 'args': [{'bytes': '012370218d43c505b233b950377fedd8283cec527a00'}, {'prim': 'Pair', 'args': [{'prim': 'Pair', 'args': [{'int': '0'}, {'prim': 'None'}]}, {'int': '442'}]}]}, {'prim': 'Pair', 'args': [{'int': '1744449290'}, {'prim': 'Pair', 'args': [{'bytes': '000055d70f8fc047002eafd49fbab6ed4e3326f55a99'}, {'prim': 'Pair', 'args': [{'bytes': '0500a306'}, {'bytes': '7e6f6ccfe485a087f0f819eabfdbfb1a49b97677'}]}]}]}]}]}, 'destination': 'KT1TbrmAD4WRVqakbqrHDZ7gUwMdjocXc7Cw'}], 'kind': 'untyped'}}]\u001b[0m`\n",
      "--- W I T H D R A W A L   :   \u001b[96m3\u001b[0m\n",
      "Making Fast Withdrawal, XTZ:\n",
      "  - Sender: `\u001b[96m0x7e6f6CCFe485a087F0F819eaBfDBfb1a49b97677\u001b[0m`\n",
      "  - Etherlink RPC node: `\u001b[96mhttps://node.ghostnet.etherlink.com\u001b[0m`\n",
      "  - Withdrawal params:\n",
      "      * Target: `\u001b[96mtz1geJaNa5AUeMZP1xYDrzuupHQ9a5e3hiH9\u001b[0m`\n",
      "      * Fast Withdrawal contract: `\u001b[96mKT1TbrmAD4WRVqakbqrHDZ7gUwMdjocXc7Cw\u001b[0m`\n",
      "      * Payload bytes: `\u001b[96m0500be0d\u001b[0m`\n",
      "      * Amount (mutez): `\u001b[96m942\u001b[0m`\n",
      "      * Discounted amt (mutez): `\u001b[96m894\u001b[0m`\n",
      "      * Fee (mutez): `\u001b[96m48\u001b[0m`\n",
      "Successfully initiated XTZ Fast Withdrawal, tx hash: `\u001b[96m0x68bc644625eee5f95be5337d9d5b556d0406e0d6226bccaae3c4f31b4964d010\u001b[0m`\n",
      "Scanning outbox: `\u001b[96m11773244\u001b[0m`\n",
      "Found outbox message at level: `\u001b[96m11773244\u001b[0m`\n",
      "! Error: `\u001b[96m[{'kind': 'temporary', 'id': 'failure', 'msg': 'Outbox level 11773244 is not known at level 11773243\\n'}]\u001b[0m`\n"
     ]
    }
   ],
   "source": [
    "IS_MAKING_PAYOUTS = True\n",
    "WITHDRAWALS_COUNT = 3\n",
    "SLEEP_TIME_MINUTES = 1\n",
    "\n",
    "for num in range(1, 1 + WITHDRAWALS_COUNT):\n",
    "    click.echo('--- W I T H D R A W A L   :   ' + accent(num))\n",
    "\n",
    "    full_amount = randint(100, 1000)\n",
    "    full_amount_wei = full_amount * 10**12\n",
    "    discounted_amount = int(full_amount * 0.95)\n",
    "    random_target = tezos_account.key.generate(export=False).public_key_hash()\n",
    "\n",
    "    tx_hash = xtz_fast_withdraw.callback(\n",
    "        target=random_target,\n",
    "        fast_withdrawal_contract=fast_withdrawal.address,\n",
    "        amount=full_amount_wei,\n",
    "        discounted_amount=discounted_amount,\n",
    "        withdraw_precompile=XTZ_WITHDRAWAL_PRECOMPILE,\n",
    "        etherlink_private_key=ETHERLINK_PRIVATE_KEY,\n",
    "        etherlink_rpc_url=ETHERLINK_RPC_URL,\n",
    "    )\n",
    "\n",
    "    time.sleep(30)\n",
    "    last_tezos_level = tezos_account.shell.head()['header']['level']\n",
    "    messages = scan_outbox_until_message_found(ETHERLINK_ROLLUP_NODE_URL, last_tezos_level)\n",
    "    if not 'message' in messages[0]:\n",
    "        click.echo('! Error: ' + wrap(accent(messages[0])))\n",
    "        # TODO: make repeat until succeed wrapper\n",
    "        continue\n",
    "\n",
    "    outbox_message = decode_outbox_message(messages[0]['message'])\n",
    "    make_withdrawal_info(tx_hash, outbox_message)\n",
    "\n",
    "    # TODO: `Withdrawal.from_outbox`?\n",
    "    withdrawal = Withdrawal(\n",
    "        withdrawal_id=outbox_message['withdrawal_id'],\n",
    "        full_amount=full_amount,\n",
    "        ticketer=XTZ_TICKETER_ADDRESS,\n",
    "        content=TicketContent(\n",
    "            token_id=0,\n",
    "            token_info=None,\n",
    "        ),\n",
    "        timestamp=outbox_message['timestamp'],\n",
    "        base_withdrawer=random_target,\n",
    "        payload=pack(discounted_amount, 'nat'),\n",
    "        l2_caller=bytes.fromhex(etherlink_account.address.split('0x')[1])\n",
    "    )\n",
    "\n",
    "    if IS_MAKING_PAYOUTS:\n",
    "        opg = fast_withdrawal.payout_withdrawal(\n",
    "            withdrawal=withdrawal,\n",
    "            service_provider=get_address(tezos_account),\n",
    "            xtz_amount=discounted_amount,\n",
    "        ).send()\n",
    "\n",
    "        click.echo('- Payout transaction: ' + make_tzkt_ghostnet_link(opg.hash()))\n",
    "\n",
    "    time.sleep(SLEEP_TIME_MINUTES * randint(45, 75))\n",
    "    click.echo('')"
   ]
  },
  {
   "cell_type": "markdown",
   "id": "fbd3f981",
   "metadata": {},
   "source": [
    "## Executing outbox message:"
   ]
  },
  {
   "cell_type": "code",
   "execution_count": 20,
   "id": "2170dc0b",
   "metadata": {},
   "outputs": [
    {
     "name": "stdout",
     "output_type": "stream",
     "text": [
      "Executing outbox message:\n",
      "  - Commitment: `\u001b[96msrc12pwFZr2zZwGzPCS2BJo41Gn4o6E8kvEciavKshU46mvLiduFA2\u001b[0m`\n",
      "  - Proof: `\u001b[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\u001b[0m`\n",
      "  - Smart Rollup address: `\u001b[96msr1AvSV5JHRGaHtxjb6xsfYENV8arBwDBq2p\u001b[0m`\n",
      "  - Executor: `\u001b[96mtz1ekkzEN2LB1cpf7dCaonKt6x9KVd9YVydc\u001b[0m`\n",
      "  - Tezos RPC node: `\u001b[96mhttps://rpc.tzkt.io/quebecnet/\u001b[0m`\n",
      "Successfully executed outbox message, tx hash: `\u001b[96mopFrEyL8ZqVsaKxroY2VSfjK9X6dkDaxnaiXwKj3qWBMDLSfYdP\u001b[0m`\n"
     ]
    }
   ],
   "source": [
    "from scripts.helpers.rollup_node import get_proof\n",
    "from scripts.tezos.execute_outbox_message import execute_outbox_message\n",
    "\n",
    "proof = get_proof(ETHERLINK_ROLLUP_NODE_URL, 3153834, 0)\n",
    "opg = execute_outbox_message.callback(\n",
    "    commitment=proof['commitment'],\n",
    "    proof=proof['proof'],\n",
    "    smart_rollup_address=SMART_ROLLUP_ADDRESS,\n",
    "    tezos_private_key=TEZOS_PRIVATE_KEY,\n",
    "    tezos_rpc_url=TEZOS_RPC_URL,\n",
    ")"
   ]
  }
 ],
 "metadata": {
  "kernelspec": {
   "display_name": "Python 3 (ipykernel)",
   "language": "python",
   "name": "python3"
  },
  "language_info": {
   "codemirror_mode": {
    "name": "ipython",
    "version": 3
   },
   "file_extension": ".py",
   "mimetype": "text/x-python",
   "name": "python",
   "nbconvert_exporter": "python",
   "pygments_lexer": "ipython3",
   "version": "3.12.8"
  }
 },
 "nbformat": 4,
 "nbformat_minor": 5
}
