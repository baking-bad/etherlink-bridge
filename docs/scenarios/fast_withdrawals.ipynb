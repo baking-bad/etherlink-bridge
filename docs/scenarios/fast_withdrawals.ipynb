{
 "cells": [
  {
   "cell_type": "markdown",
   "id": "06489d47",
   "metadata": {},
   "source": [
    "# Setting up the Fast Withdrawal contract:\n",
    "- This notebook allows deploying contracts for fast withdrawal interactions and running a basic scenario by creating a withdrawal on the Etherlink side and making fast payouts on the Tezos side."
   ]
  },
  {
   "cell_type": "code",
   "execution_count": 1,
   "id": "a3a356c8",
   "metadata": {},
   "outputs": [
    {
     "name": "stdout",
     "output_type": "stream",
     "text": [
      "Setup:\n",
      "- Tezos account: `\u001b[96mtz1ekkzEN2LB1cpf7dCaonKt6x9KVd9YVydc\u001b[0m`, balance: `\u001b[96m228.452887 ꜩ\u001b[0m`\n",
      "- Etherlink account: `\u001b[96m0x7e6f6CCFe485a087F0F819eaBfDBfb1a49b97677\u001b[0m`, balance: `\u001b[96m610.100075527 ꜩ\u001b[0m`\n"
     ]
    }
   ],
   "source": [
    "from docs.scenarios.setup import *\n",
    "\n",
    "web3, etherlink_account, tezos_account = setup()"
   ]
  },
  {
   "cell_type": "markdown",
   "id": "c6441d78",
   "metadata": {},
   "source": [
    "## Deploy FastWithdrawal:"
   ]
  },
  {
   "cell_type": "code",
   "execution_count": 2,
   "id": "fcd11864",
   "metadata": {},
   "outputs": [],
   "source": [
    "FAST_WITHDRAWAL_CONTRACT = 'KT19MJZvZLBagbtBapBcfWqkECu9B93RAGDp'"
   ]
  },
  {
   "cell_type": "code",
   "execution_count": 3,
   "id": "339efafc",
   "metadata": {},
   "outputs": [
    {
     "name": "stdout",
     "output_type": "stream",
     "text": [
      "Deploying Fast Withdrawal contract:\n",
      "  - Deployer: `\u001b[96mtz1ekkzEN2LB1cpf7dCaonKt6x9KVd9YVydc\u001b[0m`\n",
      "  - Tezos RPC node: `\u001b[96mhttps://rpc.tzkt.io/ghostnet/\u001b[0m`\n",
      "  - Params:\n",
      "      * Native XTZ Ticketer address: `\u001b[96mKT1Bp9YUvUBJgXxf5UrYTM2CGRUPixURqx4m\u001b[0m`\n",
      "      * Smart Rollup address: `\u001b[96msr18wx6ezkeRjt1SZSeZ2UQzQN3Uc3YLMLqg\u001b[0m`\n",
      "Successfully deployed Fast Withdrawal, address: `\u001b[96mKT19MJZvZLBagbtBapBcfWqkECu9B93RAGDp\u001b[0m`\n"
     ]
    }
   ],
   "source": [
    "from scripts.tezos import deploy_fast_withdrawal\n",
    "from scripts.helpers.contracts.fast_withdrawal import FastWithdrawal\n",
    "\n",
    "if FAST_WITHDRAWAL_CONTRACT:\n",
    "    fast_withdrawal = FastWithdrawal.from_address(tezos_account, FAST_WITHDRAWAL_CONTRACT)\n",
    "    click.echo('Loaded Fast Withdrawal contract, address: ' + wrap(accent(fast_withdrawal.address)))\n",
    "else:\n",
    "    fast_withdrawal = deploy_fast_withdrawal.callback(\n",
    "        xtz_ticketer_address=XTZ_TICKETER_ADDRESS,\n",
    "        smart_rollup_address=SMART_ROLLUP_ADDRESS,\n",
    "        tezos_private_key=TEZOS_PRIVATE_KEY,\n",
    "        tezos_rpc_url=TEZOS_RPC_URL,\n",
    "        skip_confirm=True,\n",
    "        silent=False,\n",
    "    )"
   ]
  },
  {
   "cell_type": "markdown",
   "id": "6b528b40",
   "metadata": {},
   "source": [
    "## Making Fast Withdrawal on Etherlink side:"
   ]
  },
  {
   "cell_type": "code",
   "execution_count": 4,
   "id": "a5007f11",
   "metadata": {},
   "outputs": [
    {
     "name": "stdout",
     "output_type": "stream",
     "text": [
      "Making Fast Withdrawal, XTZ:\n",
      "  - Sender: `\u001b[96m0x7e6f6CCFe485a087F0F819eaBfDBfb1a49b97677\u001b[0m`\n",
      "  - Etherlink RPC node: `\u001b[96mhttps://node.ghostnet.etherlink.com\u001b[0m`\n",
      "  - Withdrawal params:\n",
      "      * Target: `\u001b[96mtz1ekkzEN2LB1cpf7dCaonKt6x9KVd9YVydc\u001b[0m`\n",
      "      * Fast Withdrawal contract: `\u001b[96mKT19MJZvZLBagbtBapBcfWqkECu9B93RAGDp\u001b[0m`\n",
      "      * Payload bytes: `\u001b[96m0500bc0a\u001b[0m`\n",
      "      * Amount (mutez): `\u001b[96m717\u001b[0m`\n",
      "      * Discounted amt (mutez): `\u001b[96m700\u001b[0m`\n",
      "      * Fee (mutez): `\u001b[96m17\u001b[0m`\n",
      "Successfully initiated XTZ Fast Withdrawal, tx hash: `\u001b[96m0xb839d1a134f589c6ec65e500a145cca0c491f27707eba86805beb3e4bb6c2cb7\u001b[0m`\n"
     ]
    },
    {
     "data": {
      "text/plain": [
       "'0xb839d1a134f589c6ec65e500a145cca0c491f27707eba86805beb3e4bb6c2cb7'"
      ]
     },
     "execution_count": 4,
     "metadata": {},
     "output_type": "execute_result"
    }
   ],
   "source": [
    "from scripts.etherlink import xtz_fast_withdraw\n",
    "\n",
    "tx_hash = xtz_fast_withdraw.callback(\n",
    "    target=get_address(tezos_account),\n",
    "    fast_withdrawal_contract=fast_withdrawal.address,\n",
    "    amount=717 * 10**12,\n",
    "    discounted_amount=700,\n",
    "    withdraw_precompile=XTZ_WITHDRAWAL_PRECOMPILE,\n",
    "    etherlink_private_key=ETHERLINK_PRIVATE_KEY,\n",
    "    etherlink_rpc_url=ETHERLINK_RPC_URL,\n",
    ")\n",
    "tx_hash"
   ]
  },
  {
   "cell_type": "markdown",
   "id": "bdf62ea8",
   "metadata": {},
   "source": [
    "### Searching for outbox message:\n",
    "- TODO: Move this code to a separate script"
   ]
  },
  {
   "cell_type": "code",
   "execution_count": 5,
   "id": "d23adca9",
   "metadata": {},
   "outputs": [],
   "source": [
    "from scripts.helpers.rollup_node import get_messages\n",
    "import time\n",
    "from pytezos import MichelsonType\n",
    "from pytezos import michelson_to_micheline\n",
    "\n",
    "\n",
    "def make_event_logs_link(tx_hash):\n",
    "    return f'https://testnet.explorer.etherlink.com/tx/{tx_hash}?tab=logs'\n",
    "\n",
    "def make_outbox_message_link(level):\n",
    "    return f'https://ghostnet-smart.tzkt.io/global/block/{level}/outbox/{level}/messages'\n",
    "\n",
    "def make_tzkt_ghostnet_link(tx_hash):\n",
    "    return f'https://ghostnet.tzkt.io/{tx_hash}'\n",
    "\n",
    "FAST_WITHDRAWAL_OUTBOX_INTERFACE = '''\n",
    "pair %default (nat %withdrawal_id)\n",
    "    (pair (ticket %ticket (pair nat (option bytes)))\n",
    "         (pair (timestamp %timestamp)\n",
    "               (pair (address %base_withdrawer)\n",
    "                     (pair (bytes %payload) (bytes %l2_caller)))))\n",
    "'''\n",
    "\n",
    "def decode_outbox_message(message):\n",
    "    micheline_expression = michelson_to_micheline(FAST_WITHDRAWAL_OUTBOX_INTERFACE)\n",
    "    michelson_type = MichelsonType.match(micheline_expression)\n",
    "    assert len(message['transactions']) == 1\n",
    "    parameters_micheline = message['transactions'][0]['parameters']\n",
    "    return michelson_type.from_micheline_value(parameters_micheline).to_python_object()\n",
    "\n",
    "def scan_outbox_until_message_found(\n",
    "    etherlink_rollup_node_url: str,\n",
    "    last_level: int,\n",
    "    max_levels: int = 100,\n",
    "    sleep_time: int = 0.3\n",
    "):\n",
    "    click.echo('Scanning outbox: ', nl=False)\n",
    "    for level in range(last_level, last_level-max_levels, -1):\n",
    "        click.echo(wrap(accent(level)), nl=False)\n",
    "        messages = get_messages(ETHERLINK_ROLLUP_NODE_URL, level)\n",
    "        if len(messages) > 0:\n",
    "            click.echo()\n",
    "            click.echo('Found outbox message at level: ' + wrap(accent(level)))\n",
    "            return messages\n",
    "        click.echo(', ', nl=False)\n",
    "        time.sleep(sleep_time)\n",
    "\n",
    "def make_withdrawal_info(tx_hash, outbox_message):\n",
    "    click.echo('Fast Withdrawal info:')\n",
    "    click.echo('- Event logs: ' + make_event_logs_link(tx_hash))\n",
    "    click.echo('- Outbox message: ' + make_outbox_message_link(tx_hash))\n",
    "    click.echo('- Withdrawal ID: ' + wrap(accent(outbox_message['withdrawal_id'])))\n",
    "    click.echo('- Timestamp: ' + wrap(accent(outbox_message['timestamp'])))"
   ]
  },
  {
   "cell_type": "code",
   "execution_count": 6,
   "id": "0aa37fe8",
   "metadata": {},
   "outputs": [
    {
     "name": "stdout",
     "output_type": "stream",
     "text": [
      "Scanning outbox: `\u001b[96m11689476\u001b[0m`, `\u001b[96m11689475\u001b[0m`, `\u001b[96m11689474\u001b[0m`, `\u001b[96m11689473\u001b[0m`, `\u001b[96m11689472\u001b[0m`, `\u001b[96m11689471\u001b[0m`, `\u001b[96m11689470\u001b[0m`, `\u001b[96m11689469\u001b[0m`, `\u001b[96m11689468\u001b[0m`, `\u001b[96m11689467\u001b[0m`\n",
      "Found outbox message at level: `\u001b[96m11689467\u001b[0m`\n",
      "Fast Withdrawal info:\n",
      "- Event logs: https://testnet.explorer.etherlink.com/tx/0xb839d1a134f589c6ec65e500a145cca0c491f27707eba86805beb3e4bb6c2cb7?tab=logs\n",
      "- Outbox message: https://ghostnet-smart.tzkt.io/global/block/0xb839d1a134f589c6ec65e500a145cca0c491f27707eba86805beb3e4bb6c2cb7/outbox/0xb839d1a134f589c6ec65e500a145cca0c491f27707eba86805beb3e4bb6c2cb7/messages\n",
      "- Withdrawal ID: `\u001b[96m1955\u001b[0m`\n",
      "- Timestamp: `\u001b[96m1744097875\u001b[0m`\n"
     ]
    }
   ],
   "source": [
    "last_tezos_level = tezos_account.shell.head()['header']['level']\n",
    "messages = scan_outbox_until_message_found(ETHERLINK_ROLLUP_NODE_URL, last_tezos_level)\n",
    "outbox_message = decode_outbox_message(messages[0]['message'])\n",
    "make_withdrawal_info(tx_hash, outbox_message)"
   ]
  },
  {
   "cell_type": "markdown",
   "id": "aafe02c1",
   "metadata": {},
   "source": [
    "## Purchasing withdrawal on Tezos side:"
   ]
  },
  {
   "cell_type": "code",
   "execution_count": 7,
   "id": "58a340cc",
   "metadata": {},
   "outputs": [
    {
     "name": "stdout",
     "output_type": "stream",
     "text": [
      "- Transaction: https://ghostnet.tzkt.io/op6q7NyK1mi6VoVZy3228GWvVziGPQbhf1uKHCXQUgzUGeZEz2p\n"
     ]
    }
   ],
   "source": [
    "from scripts.helpers.contracts.fast_withdrawal import Withdrawal\n",
    "from scripts.helpers.utility import pack\n",
    "from scripts.helpers.ticket_content import TicketContent\n",
    "\n",
    "discounted_amount = 700\n",
    "\n",
    "withdrawal = Withdrawal(\n",
    "    withdrawal_id=outbox_message['withdrawal_id'],\n",
    "    full_amount=717,\n",
    "    ticketer=XTZ_TICKETER_ADDRESS,\n",
    "    content=TicketContent(\n",
    "        token_id=0,\n",
    "        token_info=None,\n",
    "    ),\n",
    "    timestamp=outbox_message['timestamp'],\n",
    "    base_withdrawer=get_address(tezos_account),\n",
    "    payload=pack(discounted_amount, 'nat'),\n",
    "    l2_caller=bytes.fromhex(etherlink_account.address.split('0x')[1])\n",
    ")\n",
    "\n",
    "opg = fast_withdrawal.payout_withdrawal(\n",
    "    withdrawal=withdrawal,\n",
    "    service_provider=get_address(tezos_account),\n",
    "    xtz_amount=discounted_amount,\n",
    ").send()\n",
    "\n",
    "click.echo('- Transaction: ' + make_tzkt_ghostnet_link(opg.hash()))"
   ]
  },
  {
   "cell_type": "markdown",
   "id": "8a695394",
   "metadata": {},
   "source": [
    "## Making Additional Withdrawals:\n",
    "### One with an incorrect payload that would be impossible to execute"
   ]
  },
  {
   "cell_type": "code",
   "execution_count": 8,
   "id": "1cd9e2b1",
   "metadata": {},
   "outputs": [
    {
     "name": "stdout",
     "output_type": "stream",
     "text": [
      "Successfully initiated wrong XTZ Fast Withdrawal, tx hash: `\u001b[96m0xd48eea19ee4176da9743d805b02a84d05b0af0cfa71a60791f9c3c258cdac07a\u001b[0m`\n"
     ]
    }
   ],
   "source": [
    "from scripts.etherlink.xtz_fast_withdraw import (\n",
    "    load_withdraw_precompile,\n",
    "    make_fast_withdrawal,\n",
    ")\n",
    "\n",
    "precompile_contract = load_withdraw_precompile(\n",
    "    XTZ_WITHDRAWAL_PRECOMPILE,\n",
    "    web3\n",
    ")\n",
    "receipt = make_fast_withdrawal(\n",
    "    etherlink_account=etherlink_account,\n",
    "    web3=web3,\n",
    "    precompile_contract=precompile_contract,\n",
    "    target=get_address(tezos_account),\n",
    "    fast_withdrawals_contract=fast_withdrawal.address,\n",
    "    payload=bytes.fromhex('ff4f'),\n",
    "    wei_amount=133 * 10**12,\n",
    ")\n",
    "\n",
    "click.echo(\n",
    "    'Successfully initiated wrong XTZ Fast Withdrawal, tx hash: '\n",
    "    + wrap(accent(receipt.transactionHash.hex()))\n",
    ")"
   ]
  },
  {
   "cell_type": "markdown",
   "id": "fafbb842",
   "metadata": {},
   "source": [
    "### Three more with different base withdrawers and amounts"
   ]
  },
  {
   "cell_type": "code",
   "execution_count": 19,
   "id": "c30751b6",
   "metadata": {},
   "outputs": [
    {
     "name": "stdout",
     "output_type": "stream",
     "text": [
      "--- W I T H D R A W A L   :   \u001b[96m1\u001b[0m\n",
      "Making Fast Withdrawal, XTZ:\n",
      "  - Sender: `\u001b[96m0x7e6f6CCFe485a087F0F819eaBfDBfb1a49b97677\u001b[0m`\n",
      "  - Etherlink RPC node: `\u001b[96mhttps://node.ghostnet.etherlink.com\u001b[0m`\n",
      "  - Withdrawal params:\n",
      "      * Target: `\u001b[96mtz1R4spYiySApAai2jQduadYrQSvVHSNxZdm\u001b[0m`\n",
      "      * Fast Withdrawal contract: `\u001b[96mKT19MJZvZLBagbtBapBcfWqkECu9B93RAGDp\u001b[0m`\n",
      "      * Payload bytes: `\u001b[96m0500a502\u001b[0m`\n",
      "      * Amount (mutez): `\u001b[96m174\u001b[0m`\n",
      "      * Discounted amt (mutez): `\u001b[96m165\u001b[0m`\n",
      "      * Fee (mutez): `\u001b[96m9\u001b[0m`\n",
      "Successfully initiated XTZ Fast Withdrawal, tx hash: `\u001b[96m0xb690d8fcc490daf3caef069f7c3e76562fead589d0cf23fc86f1a8a995646db3\u001b[0m`\n",
      "Scanning outbox: `\u001b[96m11689593\u001b[0m`, `\u001b[96m11689592\u001b[0m`, `\u001b[96m11689591\u001b[0m`, `\u001b[96m11689590\u001b[0m`\n",
      "Found outbox message at level: `\u001b[96m11689590\u001b[0m`\n",
      "Fast Withdrawal info:\n",
      "- Event logs: https://testnet.explorer.etherlink.com/tx/0xb690d8fcc490daf3caef069f7c3e76562fead589d0cf23fc86f1a8a995646db3?tab=logs\n",
      "- Outbox message: https://ghostnet-smart.tzkt.io/global/block/0xb690d8fcc490daf3caef069f7c3e76562fead589d0cf23fc86f1a8a995646db3/outbox/0xb690d8fcc490daf3caef069f7c3e76562fead589d0cf23fc86f1a8a995646db3/messages\n",
      "- Withdrawal ID: `\u001b[96m1957\u001b[0m`\n",
      "- Timestamp: `\u001b[96m1744098381\u001b[0m`\n",
      "- Payout transaction: https://ghostnet.tzkt.io/oo19P7tgwRN635txxGaEhvzUTYRVHBUe9awUeYfekikGh4BAiV7\n",
      "--- W I T H D R A W A L   :   \u001b[96m2\u001b[0m\n",
      "Making Fast Withdrawal, XTZ:\n",
      "  - Sender: `\u001b[96m0x7e6f6CCFe485a087F0F819eaBfDBfb1a49b97677\u001b[0m`\n",
      "  - Etherlink RPC node: `\u001b[96mhttps://node.ghostnet.etherlink.com\u001b[0m`\n",
      "  - Withdrawal params:\n",
      "      * Target: `\u001b[96mtz1ZTZwLkMYQDFadhkno66zmZ15TyTtZ7Kfq\u001b[0m`\n",
      "      * Fast Withdrawal contract: `\u001b[96mKT19MJZvZLBagbtBapBcfWqkECu9B93RAGDp\u001b[0m`\n",
      "      * Payload bytes: `\u001b[96m0500930e\u001b[0m`\n",
      "      * Amount (mutez): `\u001b[96m964\u001b[0m`\n",
      "      * Discounted amt (mutez): `\u001b[96m915\u001b[0m`\n",
      "      * Fee (mutez): `\u001b[96m49\u001b[0m`\n",
      "Successfully initiated XTZ Fast Withdrawal, tx hash: `\u001b[96m0xa43e775f8cf2c81846af1df9620ba8fc85845395caa32aae86934d7e4e673f98\u001b[0m`\n",
      "Scanning outbox: `\u001b[96m11689599\u001b[0m`, `\u001b[96m11689598\u001b[0m`, `\u001b[96m11689597\u001b[0m`, `\u001b[96m11689596\u001b[0m`\n",
      "Found outbox message at level: `\u001b[96m11689596\u001b[0m`\n",
      "Fast Withdrawal info:\n",
      "- Event logs: https://testnet.explorer.etherlink.com/tx/0xa43e775f8cf2c81846af1df9620ba8fc85845395caa32aae86934d7e4e673f98?tab=logs\n",
      "- Outbox message: https://ghostnet-smart.tzkt.io/global/block/0xa43e775f8cf2c81846af1df9620ba8fc85845395caa32aae86934d7e4e673f98/outbox/0xa43e775f8cf2c81846af1df9620ba8fc85845395caa32aae86934d7e4e673f98/messages\n",
      "- Withdrawal ID: `\u001b[96m1958\u001b[0m`\n",
      "- Timestamp: `\u001b[96m1744098406\u001b[0m`\n",
      "- Payout transaction: https://ghostnet.tzkt.io/ooqvVK99K5HTAKPPgyTA14sY7DjiTku8bpivn7KA5DBtHD1U2Ki\n",
      "--- W I T H D R A W A L   :   \u001b[96m3\u001b[0m\n",
      "Making Fast Withdrawal, XTZ:\n",
      "  - Sender: `\u001b[96m0x7e6f6CCFe485a087F0F819eaBfDBfb1a49b97677\u001b[0m`\n",
      "  - Etherlink RPC node: `\u001b[96mhttps://node.ghostnet.etherlink.com\u001b[0m`\n",
      "  - Withdrawal params:\n",
      "      * Target: `\u001b[96mtz1SdCtiSAsvcxCtMGdrRKfFrXLwBw96GPdY\u001b[0m`\n",
      "      * Fast Withdrawal contract: `\u001b[96mKT19MJZvZLBagbtBapBcfWqkECu9B93RAGDp\u001b[0m`\n",
      "      * Payload bytes: `\u001b[96m0500a30b\u001b[0m`\n",
      "      * Amount (mutez): `\u001b[96m778\u001b[0m`\n",
      "      * Discounted amt (mutez): `\u001b[96m739\u001b[0m`\n",
      "      * Fee (mutez): `\u001b[96m39\u001b[0m`\n",
      "Successfully initiated XTZ Fast Withdrawal, tx hash: `\u001b[96m0x53f6ec55e847750d03156a2eefb86746f852fa52a0593ac0a27f0bcd83812a6b\u001b[0m`\n",
      "Scanning outbox: `\u001b[96m11689606\u001b[0m`, `\u001b[96m11689605\u001b[0m`, `\u001b[96m11689604\u001b[0m`, `\u001b[96m11689603\u001b[0m`, `\u001b[96m11689602\u001b[0m`\n",
      "Found outbox message at level: `\u001b[96m11689602\u001b[0m`\n",
      "Fast Withdrawal info:\n",
      "- Event logs: https://testnet.explorer.etherlink.com/tx/0x53f6ec55e847750d03156a2eefb86746f852fa52a0593ac0a27f0bcd83812a6b?tab=logs\n",
      "- Outbox message: https://ghostnet-smart.tzkt.io/global/block/0x53f6ec55e847750d03156a2eefb86746f852fa52a0593ac0a27f0bcd83812a6b/outbox/0x53f6ec55e847750d03156a2eefb86746f852fa52a0593ac0a27f0bcd83812a6b/messages\n",
      "- Withdrawal ID: `\u001b[96m1959\u001b[0m`\n",
      "- Timestamp: `\u001b[96m1744098431\u001b[0m`\n",
      "- Payout transaction: https://ghostnet.tzkt.io/ooYTUbDBHXMxLPXnrEwZ9HPMoef1u3Sbp4mpps7V9nmH6qUkNMd\n"
     ]
    }
   ],
   "source": [
    "from random import randint\n",
    "\n",
    "for num in range(1, 4):\n",
    "    click.echo('--- W I T H D R A W A L   :   ' + accent(num))\n",
    "\n",
    "    full_amount = randint(100, 1000)\n",
    "    full_amount_wei = full_amount * 10**12\n",
    "    discounted_amount = int(full_amount * 0.95)\n",
    "    random_target = tezos_account.key.generate(export=False).public_key_hash()\n",
    "\n",
    "    tx_hash = xtz_fast_withdraw.callback(\n",
    "        target=random_target,\n",
    "        fast_withdrawal_contract=fast_withdrawal.address,\n",
    "        amount=full_amount_wei,\n",
    "        discounted_amount=discounted_amount,\n",
    "        withdraw_precompile=XTZ_WITHDRAWAL_PRECOMPILE,\n",
    "        etherlink_private_key=ETHERLINK_PRIVATE_KEY,\n",
    "        etherlink_rpc_url=ETHERLINK_RPC_URL,\n",
    "    )\n",
    "\n",
    "    time.sleep(20)\n",
    "    last_tezos_level = tezos_account.shell.head()['header']['level']\n",
    "    messages = scan_outbox_until_message_found(ETHERLINK_ROLLUP_NODE_URL, last_tezos_level)\n",
    "    outbox_message = decode_outbox_message(messages[0]['message'])\n",
    "    make_withdrawal_info(tx_hash, outbox_message)\n",
    "\n",
    "    # TODO: `Withdrawal.from_outbox`?\n",
    "    withdrawal = Withdrawal(\n",
    "        withdrawal_id=outbox_message['withdrawal_id'],\n",
    "        full_amount=full_amount,\n",
    "        ticketer=XTZ_TICKETER_ADDRESS,\n",
    "        content=TicketContent(\n",
    "            token_id=0,\n",
    "            token_info=None,\n",
    "        ),\n",
    "        timestamp=outbox_message['timestamp'],\n",
    "        base_withdrawer=random_target,\n",
    "        payload=pack(discounted_amount, 'nat'),\n",
    "        l2_caller=bytes.fromhex(etherlink_account.address.split('0x')[1])\n",
    "    )\n",
    "\n",
    "    opg = fast_withdrawal.payout_withdrawal(\n",
    "        withdrawal=withdrawal,\n",
    "        service_provider=get_address(tezos_account),\n",
    "        xtz_amount=discounted_amount,\n",
    "    ).send()\n",
    "\n",
    "    click.echo('- Payout transaction: ' + make_tzkt_ghostnet_link(opg.hash()))"
   ]
  }
 ],
 "metadata": {
  "kernelspec": {
   "display_name": "Python 3 (ipykernel)",
   "language": "python",
   "name": "python3"
  },
  "language_info": {
   "codemirror_mode": {
    "name": "ipython",
    "version": 3
   },
   "file_extension": ".py",
   "mimetype": "text/x-python",
   "name": "python",
   "nbconvert_exporter": "python",
   "pygments_lexer": "ipython3",
   "version": "3.12.8"
  }
 },
 "nbformat": 4,
 "nbformat_minor": 5
}
