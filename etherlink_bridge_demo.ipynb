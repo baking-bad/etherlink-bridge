{
  "nbformat": 4,
  "nbformat_minor": 0,
  "metadata": {
    "colab": {
      "provenance": []
    },
    "kernelspec": {
      "name": "python3",
      "display_name": "Python 3"
    },
    "language_info": {
      "name": "python"
    }
  },
  "cells": [
    {
      "cell_type": "code",
      "execution_count": null,
      "metadata": {
        "id": "QjnXwqX2-wXn",
        "cellView": "form"
      },
      "outputs": [],
      "source": [
        "#@title Installing foundry, cloning repo, installing python dependencies\n",
        "!curl -L https://foundry.paradigm.xyz | bash\n",
        "!source ~/.bashrc\n",
        "import os\n",
        "os.environ['PATH'] += \":/root/.foundry/bin\"\n",
        "!foundryup\n",
        "\n",
        "!git clone -b feat/scripts-and-docs https://github.com/baking-bad/etherlink-bridge.git\n",
        "%cd etherlink-bridge/\n",
        "!pip install poetry\n",
        "!poetry install"
      ]
    },
    {
      "cell_type": "markdown",
      "source": [
        "### Environment Initialization:"
      ],
      "metadata": {
        "id": "wQa7da0hI4ga"
      }
    },
    {
      "cell_type": "markdown",
      "source": [
        "Run the following cell to set up the environment and provide private keys for interacting *with* the bridge. Default values are provided for all variables; however, you may wish to deploy your own token and establish a bridge using your own keys."
      ],
      "metadata": {
        "id": "3C-XrUpSmZlh"
      }
    },
    {
      "cell_type": "code",
      "source": [
        "!poetry run init_wallets"
      ],
      "metadata": {
        "id": "heNZAeqnHNJq",
        "colab": {
          "base_uri": "https://localhost:8080/"
        },
        "outputId": "1cff4a4f-58b4-4d86-ec11-e7b47390aa17"
      },
      "execution_count": null,
      "outputs": [
        {
          "output_type": "stream",
          "name": "stdout",
          "text": [
            "Enter \"L1_PRIVATE_KEY\" (default: edsk2nu78mRwg4V5Ka7XCJFVbVPPwhry8YPeEHRwzGQHEpGAffDvrH): \n",
            "Enter \"L1_PUBLIC_KEY_HASH\" (default: tz1YG6P2GTQKFpd9jeuESam2vg6aA9HHRkKo): \n",
            "Enter \"L1_RPC_URL\" (default: https://rpc.tzkt.io/nairobinet/): \n",
            "Enter \"L1_ROLLUP_ADDRESS\" (default: sr1Cz5HkqyC8ozTYbDij8YmseAAG3SgZtpRb): \n",
            "Enter \"L2_PRIVATE_KEY\" (default: 8636c473b431be57109d4153735315a5cdf36b3841eb2cfa80b75b3dcd2d941a): \n",
            "Enter \"L2_PUBLIC_KEY\" (default: 0xBefD2C6fFC36249ebEbd21d6DF6376ecF3BAc448): \n",
            "Enter \"L2_MASTER_KEY\" (default: 9722f6cc9ff938e63f8ccb74c3daa6b45837e5c5e3835ac08c44c50ab5f39dc0): \n",
            "Enter \"L2_RPC_URL\" (default: https://etherlink.dipdup.net): \n",
            "Enter \"L2_KERNEL_ADDRESS\" (default: 0x0000000000000000000000000000000000000000): \n",
            "Enter \"L2_WITHDRAW_PRECOMPILE_ADDRESS\" (default: 0x0000000000000000000000000000000000000040): \n"
          ]
        }
      ]
    },
    {
      "cell_type": "markdown",
      "source": [
        "### Bridge token pair listing:"
      ],
      "metadata": {
        "id": "e2okN6GqJqqM"
      }
    },
    {
      "cell_type": "markdown",
      "source": [
        "The **Ticket Transport Layer**, a key component of the bridge, enables ticket transfers between Tezos and Etherlink. To list a new token pair and establish a bridge, users need to:\n",
        "1. If the token is an **FA2** or **FA1.2** standard token that doesn’t natively support tickets, the user must deploy a **Ticketer** contract on the Tezos side. This contract links to the specific Tezos token to convert it into a ticket.\n",
        "2. The user then deploys an **ERC20Proxy** on the Etherlink side – a smart contract implementing ERC20. This contract should be configured to expect tickets from the deployed **Ticketer** including ticketer address and ticket content. This setup allows the rollup to mint ERC20 tokens corresponding to the incoming tickets from Tezos.\n",
        "3. Additionally, deploy a **TicketHelper** on the Tezos side, targeting the specific token and **Ticketer** pair. This step is necessary as the **transfer_ticket** operation is not currently supported by wallets. The **TicketHelper** facilitates the wrapping of tokens into tickets and their transfer to the rollup in a single transaction."
      ],
      "metadata": {
        "id": "UZm-AgiPmnVt"
      }
    },
    {
      "cell_type": "markdown",
      "source": [
        "#### Deploying a Token"
      ],
      "metadata": {
        "id": "GaqwqM-kmrkR"
      }
    },
    {
      "cell_type": "markdown",
      "source": [
        "For demonstration purposes, users can deploy a test token that will later be bridged. The bridge has been tested with two types of tokens, which are available in the repository:\n",
        "- The **FA1.2** **Ctez** token.\n",
        "- The **FA2** **fxhash** token.\n",
        "\n",
        "To deploy this token and allocate the total supply to the token's originator, execute the following script. The example below illustrates the deployment for an **FA1.2** token type:"
      ],
      "metadata": {
        "id": "8NBPCulNmuQ5"
      }
    },
    {
      "cell_type": "code",
      "source": [
        "!poetry run deploy_token --token-type FA1.2"
      ],
      "metadata": {
        "colab": {
          "base_uri": "https://localhost:8080/"
        },
        "id": "_d0eHd4Sz4rt",
        "outputId": "ec346d80-4c70-47b6-ed62-a03fca8ab98a"
      },
      "execution_count": null,
      "outputs": [
        {
          "output_type": "stream",
          "name": "stdout",
          "text": [
            "deploying contract from filename /content/etherlink-bridge/tezos/tests/helpers/../tokens/fa12-Ctez.tz\n",
            "found contract address: KT19SS4BWZoaZ6xG3ozXNtNdrebKTMn6YM5y\n"
          ]
        }
      ]
    },
    {
      "cell_type": "markdown",
      "source": [
        "#### Deploying a Ticketer"
      ],
      "metadata": {
        "id": "WMsx7rcwlK5N"
      }
    },
    {
      "cell_type": "markdown",
      "source": [
        "To deploy a ticketer for a specific token address and token id, use the following script. The example below uses a **FA1.2** token previously deployed on Nairobinet:"
      ],
      "metadata": {
        "id": "V9B14Qdlm1Ug"
      }
    },
    {
      "cell_type": "code",
      "source": [
        "!poetry run deploy_ticketer --token-address KT19SS4BWZoaZ6xG3ozXNtNdrebKTMn6YM5y --token-type FA1.2 --token-id 0"
      ],
      "metadata": {
        "colab": {
          "base_uri": "https://localhost:8080/"
        },
        "id": "J3uoYpLWxg2w",
        "outputId": "a51afbb8-b6cf-4c5e-9a64-cda58389da2a"
      },
      "execution_count": null,
      "outputs": [
        {
          "output_type": "stream",
          "name": "stdout",
          "text": [
            "deploying contract from filename /content/etherlink-bridge/tezos/tests/helpers/../../build/ticketer.tz\n",
            "found contract address: KT1KtbR9fr5Lu2r6VVKosG5XbXewVhegGc7L\n",
            "address_bytes: 017c08663c9a107efae948c69296376b3ba08d279900\n",
            "content_bytes: 0707000005090a0000005f05020000005907040100000010636f6e74726163745f616464726573730a0000001c050a00000016010964830cb917ea6316a180f0ec12e08ae2529457000704010000000a746f6b656e5f747970650a0000000b0501000000054641312e32\n"
          ]
        }
      ]
    },
    {
      "cell_type": "markdown",
      "source": [
        "During the Ticketer's deployment, user will receive its parameters, including **address_bytes** and **content_bytes**. These are required for the origination of the **ERC20Proxy**."
      ],
      "metadata": {
        "id": "L746mWI4m5BN"
      }
    },
    {
      "cell_type": "markdown",
      "source": [
        "#### Deploying a Ticket Helper"
      ],
      "metadata": {
        "id": "bq-ql0aYldku"
      }
    },
    {
      "cell_type": "markdown",
      "source": [
        "To enable Tezos wallets to interact with specific tickets, deploy a Ticket Helper using the script below. The example provided uses a ticketer that was previously deployed in Nairobinet:"
      ],
      "metadata": {
        "id": "rNPpSQHynATq"
      }
    },
    {
      "cell_type": "code",
      "source": [
        "!poetry run deploy_ticket_helper --ticketer-address KT1KtbR9fr5Lu2r6VVKosG5XbXewVhegGc7L"
      ],
      "metadata": {
        "colab": {
          "base_uri": "https://localhost:8080/"
        },
        "id": "QdoXlCWczgxU",
        "outputId": "2bb8142c-e9a3-47d5-e5a0-1f86af32a040"
      },
      "execution_count": null,
      "outputs": [
        {
          "output_type": "stream",
          "name": "stdout",
          "text": [
            "deploying contract from filename /content/etherlink-bridge/tezos/tests/helpers/../../build/ticket-helper.tz\n",
            "found contract address: KT1D8MV1ZoxAK3usKRzgTcSgwPm3z2Ywi8UR\n"
          ]
        }
      ]
    },
    {
      "cell_type": "markdown",
      "source": [
        "#### Deploying ERC20Proxy"
      ],
      "metadata": {
        "id": "RFH3LUtJlzIP"
      }
    },
    {
      "cell_type": "markdown",
      "source": [
        "Finally, to deploy a token contract on the Etherlink side, which will mint tokens upon deposit, execute the script below. This script requires **ticketer-address-bytes** and **ticketer-content-bytes**. The example uses bytes from a ticketer previously deployed in Nairobinet:"
      ],
      "metadata": {
        "id": "BjAEvLA_nHRW"
      }
    },
    {
      "cell_type": "code",
      "source": [
        "!poetry run deploy_erc20 --ticketer-address-bytes 017c08663c9a107efae948c69296376b3ba08d279900 --ticketer-content-bytes 0707000005090a0000005f05020000005907040100000010636f6e74726163745f616464726573730a0000001c050a00000016010964830cb917ea6316a180f0ec12e08ae2529457000704010000000a746f6b656e5f747970650a0000000b0501000000054641312e32 --token-name \"FA1.2/2024\" --token-symbol \"2024\" --decimals 0"
      ],
      "metadata": {
        "id": "OyXyHW3H8mS-"
      },
      "execution_count": null,
      "outputs": []
    },
    {
      "cell_type": "markdown",
      "source": [
        "NOTE: To obtain the **ticketer-address-bytes** and **content-bytes** for an already deployed ticketer, user can use the script below:"
      ],
      "metadata": {
        "id": "VWLTXlrFl4C4"
      }
    },
    {
      "cell_type": "code",
      "source": [
        "!poetry run get_ticketer_params --ticketer-address KT1MkNDvrW4V6TY2MU8RhHWDVHm5y3B1sn5m"
      ],
      "metadata": {
        "id": "AjIxuDb1m1yr"
      },
      "execution_count": null,
      "outputs": []
    },
    {
      "cell_type": "markdown",
      "source": [
        "### Deposit"
      ],
      "metadata": {
        "id": "OKOsDVTwl9qv"
      }
    },
    {
      "cell_type": "markdown",
      "source": [
        "To make a deposit, user need to transfer Tickets to the rollup address with attached Routing Info in the [specified format](https://gitlab.com/baking-bad/tzip/-/blob/wip/029-etherlink-token-bridge/drafts/current/draft-etherlink-token-bridge/etherlink-token-bridge.md#deposit): `| receiver | proxy |` 40 bytes payload, both receiver and proxy are standard Ethereum addresses in raw form (H160). A script is available to facilitate this process. It requires the Ticket Helper address as **ticket-helper-address**, the Etherlink ERC20Proxy contract as **proxy-address**, and the bridged amount as the **amount** variable. Here's an example:"
      ],
      "metadata": {
        "id": "zoCOiU84nRlU"
      }
    },
    {
      "cell_type": "code",
      "source": [
        "!poetry run deposit --ticket-helper-address KT1CXMcdSCw3sviupN6hwzzmfcyMYAF58W77 --proxy-address 0x6065534feE55f585C2d43f8e78BcE4C308EE066B --amount 42"
      ],
      "metadata": {
        "id": "Osj0p_VPmA2v"
      },
      "execution_count": null,
      "outputs": []
    },
    {
      "cell_type": "markdown",
      "source": [
        "NOTE: This script performs two operations in bulk. The first operation approves the token for the **Ticket Helper**, and the second operation makes a call to the **Ticket Helper** **deposit** entrypoint."
      ],
      "metadata": {
        "id": "w7KSgK17nTpa"
      }
    },
    {
      "cell_type": "markdown",
      "source": [
        "### Withdrawal Process"
      ],
      "metadata": {
        "id": "V4Am-6xUmJGl"
      }
    },
    {
      "cell_type": "markdown",
      "source": [
        "The withdrawal process involves two key steps:\n",
        "1. Initiating the withdrawal on the Etherlink side, which results in the creation of an outbox message in the rollup commitment.\n",
        "2. Completing the withdrawal by executing the outbox message on the Tezos side once the commitment has settled (TODO: Clarify terminology if necessary)."
      ],
      "metadata": {
        "id": "6Kj9fWLAnarF"
      }
    },
    {
      "cell_type": "markdown",
      "source": [
        "#### Etherlink Withdrawal"
      ],
      "metadata": {
        "id": "mEGSj1tYncgk"
      }
    },
    {
      "cell_type": "markdown",
      "source": [
        "To initiate a withdrawal, user need to call the withdrawal precompile on the Etherlink side. This requires providing the **ERC20Proxy** address along with Routing Info in a [specific format](https://gitlab.com/baking-bad/tzip/-/blob/wip/029-etherlink-token-bridge/drafts/current/draft-etherlink-token-bridge/etherlink-token-bridge.md#withdrawal), two forged contracts concatenated: `| receiver | proxy |` 44 bytes. Forged contact consists of binary suffix/prefix and body (blake2b hash digest). A script is available to facilitate the withdrawal process. It requires the ERC20 contract (which will burn tokens) as **proxy-address**, the Tezos router address (which will receive the ticket from the rollup) as **router-address**, and the bridged amount as **amount**. Additionally, the **ticketer-address-bytes** and **ticketer-content-bytes** are required to allow **ERC20Proxy** validate token before burning.\n",
        "\n",
        "NOTE: For automatic unwrapping of Tezos tickets back into tokens, the **Ticketer** address can be provided as the **router-address**."
      ],
      "metadata": {
        "id": "_SZ2qjHlne85"
      }
    },
    {
      "cell_type": "code",
      "source": [
        "!poetry run withdraw --proxy 0x6065534feE55f585C2d43f8e78BcE4C308EE066B --amount --router KT1CXMcdSCw3sviupN6hwzzmfcyMYAF58W77 42 --ticketer-address-bytes 01906a4f54a7c9bc66c7c159f5ab7df90166acb02b00 --ticketer-content-bytes 0707000005090a0000005f05020000005907040100000010636f6e74726163745f616464726573730a0000001c050a0000001601f923adf742bdc1c3e14944859de0afa800f6b7a5000704010000000a746f6b656e5f747970650a0000000b0501000000054641312e32"
      ],
      "metadata": {
        "id": "pTeLgAHMmL52"
      },
      "execution_count": null,
      "outputs": []
    },
    {
      "cell_type": "markdown",
      "source": [
        "#### Finalizing Tezos Withdrawal"
      ],
      "metadata": {
        "id": "JLJ9qvn6nnHQ"
      }
    },
    {
      "cell_type": "markdown",
      "source": [
        "To complete the withdrawal process, user need to call the outbox message on the Tezos side once it has been finalized (settled) on the L1 side. During the withdrawal process, the Etherlink side emits a **Withdrawal** event, which includes **outboxLevel** and **outboxMsgId**.\n",
        "\n",
        "TODO: Provide a link to the Blockscout page featuring this event.\n",
        "\n",
        "TODO: Explain how to parse this information."
      ],
      "metadata": {
        "id": "kAvoYIEznq36"
      }
    },
    {
      "cell_type": "code",
      "source": [
        "!poetry get_proof --outbox-level 123456 --outbox-message-id 0"
      ],
      "metadata": {
        "id": "V90vORmmnqGk"
      },
      "execution_count": null,
      "outputs": []
    },
    {
      "cell_type": "markdown",
      "source": [
        "For executing the outbox message, run:"
      ],
      "metadata": {
        "id": "jHQREDkpztMK"
      }
    },
    {
      "cell_type": "code",
      "source": [
        "!poetry execute_outbox_message --commitment {COMMITMENT} --proof {PROOF}"
      ],
      "metadata": {
        "id": "-OJpiI54zstZ"
      },
      "execution_count": null,
      "outputs": []
    },
    {
      "cell_type": "markdown",
      "source": [
        "TODO: fill shell script with real parameters"
      ],
      "metadata": {
        "id": "zMhed9_J2fdS"
      }
    }
  ]
}