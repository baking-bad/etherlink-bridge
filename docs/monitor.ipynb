{
 "cells": [
  {
   "cell_type": "code",
   "execution_count": 1,
   "id": "0b7b1979",
   "metadata": {},
   "outputs": [],
   "source": [
    "import pandas as pd\n",
    "import numpy as np\n",
    "import seaborn as sns\n",
    "from matplotlib import pyplot as plt\n",
    "from sgqlc.endpoint.http import HTTPEndpoint\n",
    "from time import sleep\n",
    "import requests\n",
    "import json\n",
    "\n",
    "\n",
    "\"\"\" config.py \"\"\"\n",
    "API = 'https://etherlink-bridge-ghostnet.dipdup.net/v1/graphql'"
   ]
  },
  {
   "cell_type": "code",
   "execution_count": 2,
   "id": "42dceeec",
   "metadata": {},
   "outputs": [],
   "source": [
    "pd.options.display.float_format = '{:,.2f}'.format\n",
    "pd.set_option('display.max_rows', 200)\n",
    "sns.set_style('whitegrid')\n",
    "colors = sns.color_palette()"
   ]
  },
  {
   "cell_type": "code",
   "execution_count": 3,
   "id": "8745fc6f",
   "metadata": {},
   "outputs": [],
   "source": [
    "endpoint = HTTPEndpoint(API)"
   ]
  },
  {
   "cell_type": "markdown",
   "id": "b88517f5",
   "metadata": {},
   "source": [
    "### Deposits:"
   ]
  },
  {
   "cell_type": "code",
   "execution_count": null,
   "id": "cfded160",
   "metadata": {},
   "outputs": [],
   "source": []
  },
  {
   "cell_type": "markdown",
   "id": "5b89a741",
   "metadata": {},
   "source": [
    "### Withdrawals:"
   ]
  },
  {
   "cell_type": "code",
   "execution_count": 4,
   "id": "b06f96cd",
   "metadata": {},
   "outputs": [],
   "source": [
    "from string import Template\n",
    "from typing import Iterator, List, Optional\n",
    "import time\n",
    "\n",
    "\n",
    "def iter_pages_fetch(\n",
    "    endpoint: HTTPEndpoint,\n",
    "    table_name: str,\n",
    "    query_content: str,\n",
    "    limit = 1000,\n",
    "    max_queries: Optional[int] = None,\n",
    "    delay = 1,\n",
    ") -> Iterator[List]:\n",
    "\n",
    "    query_template = Template(\"\"\"\n",
    "        query Query {\n",
    "            $table_name(limit: $limit, offset: $offset) {\n",
    "                $query_content\n",
    "            }\n",
    "        }\n",
    "    \"\"\")\n",
    "    offset = 0\n",
    "    queries_count = 0\n",
    "\n",
    "    print(f'Requesting `{table_name}`: ', end='')\n",
    "    while True:\n",
    "        queries_count += 1\n",
    "        if queries_count > max_queries:\n",
    "            break\n",
    "\n",
    "        variables = dict(limit=limit, offset=offset)\n",
    "        query = query_template.substitute(\n",
    "            table_name=table_name,\n",
    "            query_content=query_content,\n",
    "            limit=limit,\n",
    "            offset=offset\n",
    "        )\n",
    "        response = endpoint(query)\n",
    "        if 'errors' in response:\n",
    "            print('Catched errors while loading data:')\n",
    "            import pdb; pdb.set_trace()\n",
    "        print('x', end='')\n",
    "        data = response['data'][table_name]\n",
    "        if len(data):\n",
    "            yield data\n",
    "            offset += limit\n",
    "            time.sleep(delay)\n",
    "        else:\n",
    "            break\n",
    "    print(', done')\n",
    "    return\n",
    "\n",
    "\n",
    "def fetch_all(\n",
    "    endpoint: HTTPEndpoint,\n",
    "    table_name: str,\n",
    "    query_content: str,\n",
    "    max_queries: Optional[int]=None,\n",
    ") -> pd.DataFrame:\n",
    "    return pd.concat(\n",
    "        pd.json_normalize(data)\n",
    "        for data in iter_pages_fetch(\n",
    "            endpoint=endpoint,\n",
    "            table_name=table_name,\n",
    "            query_content=query_content,\n",
    "            max_queries=max_queries,\n",
    "        )\n",
    "        if len(data)\n",
    "    )\n",
    "\n",
    "\n",
    "def fetch_withdrawals(endpoint: HTTPEndpoint):\n",
    "    return fetch_all(\n",
    "        endpoint=endpoint,\n",
    "        table_name='bridge_withdrawal',\n",
    "        query_content='''\n",
    "            created_at\n",
    "            id\n",
    "            l1_transaction_id\n",
    "            l2_transaction_id\n",
    "            outbox_message_id\n",
    "            updated_at\n",
    "        ''',\n",
    "    )"
   ]
  },
  {
   "cell_type": "code",
   "execution_count": 5,
   "id": "b9c6d4fc",
   "metadata": {},
   "outputs": [],
   "source": [
    "def fetch_bridge_operations(endpoint: HTTPEndpoint, max_queries: Optional[int]=None):\n",
    "    return fetch_all(\n",
    "        endpoint=endpoint,\n",
    "        table_name='bridge_operation',\n",
    "        query_content='''\n",
    "            created_at\n",
    "            id\n",
    "            is_completed\n",
    "            is_successful\n",
    "            l1_account\n",
    "            l2_account\n",
    "            status\n",
    "            type\n",
    "            updated_at\n",
    "            withdrawal {\n",
    "              created_at\n",
    "              id\n",
    "              l1_transaction_id\n",
    "              l1_transaction {\n",
    "                counter\n",
    "                id\n",
    "                initiator\n",
    "                level\n",
    "                nonce\n",
    "                operation_hash\n",
    "                outbox_message_id\n",
    "                sender\n",
    "                target\n",
    "                timestamp\n",
    "              }\n",
    "              outbox_message_id\n",
    "              updated_at\n",
    "              l2_transaction_id\n",
    "              outbox_message {\n",
    "                cemented_at\n",
    "                cemented_level\n",
    "                commitment_id\n",
    "                created_at\n",
    "                id\n",
    "                index\n",
    "                level\n",
    "                message\n",
    "                parameters_hash\n",
    "                proof\n",
    "                updated_at\n",
    "              }\n",
    "              l2_transaction {\n",
    "                address\n",
    "                amount\n",
    "                id\n",
    "                kernel_withdrawal_id\n",
    "                l1_account\n",
    "                l1_ticket_owner\n",
    "                l2_account\n",
    "                l2_ticket_owner\n",
    "                l2_token {\n",
    "                  decimals\n",
    "                  id\n",
    "                  name\n",
    "                  symbol\n",
    "                  ticket_hash\n",
    "                }\n",
    "                level\n",
    "                log_index\n",
    "                parameters_hash\n",
    "                ticket {\n",
    "                  hash\n",
    "                  outbox_interface\n",
    "                  metadata\n",
    "                  ticket_id\n",
    "                  ticketer_address\n",
    "                  whitelisted\n",
    "                  token_id\n",
    "                }\n",
    "                ticket_hash\n",
    "                timestamp\n",
    "                token_id\n",
    "                transaction_hash\n",
    "                transaction_index\n",
    "              }\n",
    "            }\n",
    "            deposit {\n",
    "              created_at\n",
    "              id\n",
    "              inbox_message_id\n",
    "              l1_transaction_id\n",
    "              l2_transaction_id\n",
    "              updated_at\n",
    "              inbox_message {\n",
    "                created_at\n",
    "                level\n",
    "                index\n",
    "                message\n",
    "                parameters_hash\n",
    "                type\n",
    "                updated_at\n",
    "              }\n",
    "              l1_transaction {\n",
    "                amount\n",
    "                counter\n",
    "                id\n",
    "                initiator\n",
    "                l1_account\n",
    "                l2_account\n",
    "                level\n",
    "                nonce\n",
    "                operation_hash\n",
    "                parameters_hash\n",
    "                sender\n",
    "                target\n",
    "                ticket_hash\n",
    "                timestamp\n",
    "                ticket {\n",
    "                  hash\n",
    "                  metadata\n",
    "                  ticket_id\n",
    "                  ticketer_address\n",
    "                  token_id\n",
    "                  whitelisted\n",
    "                  token {\n",
    "                    contract_address\n",
    "                    decimals\n",
    "                    id\n",
    "                    name\n",
    "                    symbol\n",
    "                    token_id\n",
    "                    type\n",
    "                  }\n",
    "                }\n",
    "              }\n",
    "              l2_transaction {\n",
    "                address\n",
    "                amount\n",
    "                id\n",
    "                inbox_message_index\n",
    "                inbox_message_level\n",
    "                l2_account\n",
    "                l2_token {\n",
    "                  decimals\n",
    "                  id\n",
    "                  name\n",
    "                  symbol\n",
    "                  ticket_hash\n",
    "                }\n",
    "                level\n",
    "                log_index\n",
    "                ticket_hash\n",
    "                ticket_owner\n",
    "                timestamp\n",
    "                token_id\n",
    "                transaction_hash\n",
    "                transaction_index\n",
    "              }\n",
    "            }\n",
    "        ''',\n",
    "        max_queries=max_queries,\n",
    "    )"
   ]
  },
  {
   "cell_type": "code",
   "execution_count": 6,
   "id": "7d384667",
   "metadata": {
    "scrolled": true
   },
   "outputs": [
    {
     "name": "stdout",
     "output_type": "stream",
     "text": [
      "Requesting `bridge_operation`: xxxxxxxxxxxxxxx, done\n"
     ]
    },
    {
     "name": "stderr",
     "output_type": "stream",
     "text": [
      "/tmp/ipykernel_9184/723557464.py:60: FutureWarning: The behavior of DataFrame concatenation with empty or all-NA entries is deprecated. In a future version, this will no longer exclude empty or all-NA columns when determining the result dtypes. To retain the old behavior, exclude the relevant entries before the concat operation.\n",
      "  return pd.concat(\n"
     ]
    }
   ],
   "source": [
    "# df = fetch_withdrawals(endpoint)\n",
    "df = fetch_bridge_operations(endpoint, max_queries=1000)"
   ]
  },
  {
   "cell_type": "code",
   "execution_count": 8,
   "id": "d320291f",
   "metadata": {},
   "outputs": [
    {
     "data": {
      "text/plain": [
       "13826"
      ]
     },
     "execution_count": 8,
     "metadata": {},
     "output_type": "execute_result"
    }
   ],
   "source": [
    "len(df)"
   ]
  },
  {
   "cell_type": "code",
   "execution_count": 9,
   "id": "5b9e8c0c",
   "metadata": {},
   "outputs": [],
   "source": [
    "df_copy = df.copy()"
   ]
  },
  {
   "cell_type": "markdown",
   "id": "963a6c29",
   "metadata": {},
   "source": [
    "### processing:"
   ]
  },
  {
   "cell_type": "code",
   "execution_count": 10,
   "id": "1cc7016e",
   "metadata": {},
   "outputs": [],
   "source": [
    "df = df_copy.copy()\n",
    "\n",
    "datetime_fields = [\n",
    "    'created_at',\n",
    "    'updated_at',\n",
    "    'deposit.created_at',\n",
    "    'deposit.updated_at',\n",
    "    'deposit.inbox_message.created_at',\n",
    "    'deposit.inbox_message.updated_at',\n",
    "    'deposit.l1_transaction.timestamp',\n",
    "    'deposit.l2_transaction.timestamp',\n",
    "    'withdrawal.created_at',\n",
    "    'withdrawal.updated_at',\n",
    "    'withdrawal.l2_transaction.timestamp',\n",
    "    'withdrawal.outbox_message.cemented_at',\n",
    "    'withdrawal.outbox_message.created_at',\n",
    "    'withdrawal.outbox_message.updated_at',\n",
    "    'withdrawal.l1_transaction.timestamp',\n",
    "]\n",
    "\n",
    "for field in datetime_fields:\n",
    "    df[field] = pd.to_datetime(df[field])\n",
    "\n",
    "id_to_str = lambda v: str(int(v)) if pd.notnull(v) else ''\n",
    "df['deposit.inbox_message_id'] = df['deposit.inbox_message_id'].map(id_to_str)\n",
    "\n",
    "df = df.drop(['withdrawal', 'deposit'], axis=1)"
   ]
  },
  {
   "cell_type": "code",
   "execution_count": 74,
   "id": "6daca33f",
   "metadata": {},
   "outputs": [],
   "source": [
    "# some checks:\n",
    "deposits = df[ df['type'] == 'deposit' ]\n",
    "withdrawals = df[ df['type'] == 'withdrawal' ]\n",
    "assert (deposits['deposit.l1_transaction.l1_account'] == deposits['l1_account']).all()\n",
    "assert (deposits['deposit.l1_transaction.l2_account'] == deposits['l2_account']).all()\n",
    "assert (withdrawals['withdrawal.l2_transaction.l1_account'] == withdrawals['l1_account']).all()\n",
    "assert (withdrawals['withdrawal.l2_transaction.l2_account'] == withdrawals['l2_account']).all()"
   ]
  },
  {
   "cell_type": "code",
   "execution_count": 12,
   "id": "13730c15",
   "metadata": {
    "scrolled": true
   },
   "outputs": [
    {
     "data": {
      "text/plain": [
       "deposit.inbox_message.type\n",
       "transfer    12300\n",
       "Name: count, dtype: int64"
      ]
     },
     "execution_count": 12,
     "metadata": {},
     "output_type": "execute_result"
    }
   ],
   "source": [
    "df['deposit.inbox_message.type'].value_counts()"
   ]
  },
  {
   "cell_type": "markdown",
   "id": "6cb3b27a",
   "metadata": {},
   "source": [
    "- [ ] `withdrawal.l1_transaction`, `withdrawal.outbox_message` is empty, why?"
   ]
  },
  {
   "cell_type": "markdown",
   "id": "3ed1c2e3",
   "metadata": {},
   "source": [
    "# Anaylyzis:"
   ]
  },
  {
   "cell_type": "markdown",
   "id": "329d7ffc",
   "metadata": {},
   "source": [
    "### Deposit Ticketers:"
   ]
  },
  {
   "cell_type": "code",
   "execution_count": 16,
   "id": "07617fa4",
   "metadata": {
    "scrolled": true
   },
   "outputs": [
    {
     "data": {
      "text/plain": [
       "deposit.inbox_message.message.LL.ticket.address\n",
       "xtz_native        12253\n",
       "TEST_USDt_141        16\n",
       "YOU                  12\n",
       "TEST_tzBTC_141       12\n",
       "TEST_SIRS_141         4\n",
       "TST12                 2\n",
       "TPM                   1\n",
       "Name: count, dtype: int64"
      ]
     },
     "execution_count": 16,
     "metadata": {},
     "output_type": "execute_result"
    }
   ],
   "source": [
    "ticket_names = {\n",
    "    # ghostnet:\n",
    "    'KT1Bp9YUvUBJgXxf5UrYTM2CGRUPixURqx4m': 'xtz_native',\n",
    "    'KT1S6Nf9MnafAgSUWLKcsySPNFLUxxqSkQCw': 'TEST_USDt_141',\n",
    "    'KT1H7if3gSZE1pZSK48W3NzGpKmbWyBxWDHe': 'TEST_tzBTC_141',\n",
    "    'KT1DjH84P98gKFptqiAevj1qoKqxrTaG1T7i': 'YOU',\n",
    "    'KT1Cw8WZLp4XUPLrDWUjwwpShzCRqzRByyVh': 'TEST_SIRS_141',\n",
    "    'KT1PGXCy9xkkASAXYLgp5a9szX3P4xPdHk84': 'TST12',\n",
    "    'KT1CtuZZV6vnzhdn7h3t43cfGZXpcRKNvyxZ': 'TPM',\n",
    "}\n",
    "\n",
    "df['deposit.inbox_message.message.LL.ticket.address'].map(ticket_names).value_counts()"
   ]
  },
  {
   "cell_type": "code",
   "execution_count": 89,
   "id": "1b490e46",
   "metadata": {},
   "outputs": [
    {
     "data": {
      "text/plain": [
       "withdrawal.l2_transaction.l1_ticket_owner\n",
       "xtz_native        926\n",
       "TEST_USDt_141     581\n",
       "YOU                 8\n",
       "TEST_SIRS_141       6\n",
       "TEST_tzBTC_141      3\n",
       "Name: count, dtype: int64"
      ]
     },
     "execution_count": 89,
     "metadata": {},
     "output_type": "execute_result"
    }
   ],
   "source": [
    "df['withdrawal.l2_transaction.l1_ticket_owner'].map(ticket_names).value_counts()"
   ]
  },
  {
   "cell_type": "code",
   "execution_count": 17,
   "id": "d26666c8",
   "metadata": {},
   "outputs": [
    {
     "data": {
      "text/plain": [
       "deposit.l1_transaction.ticket.token_id\n",
       "xtz                                       12255\n",
       "KT1V2ak1MfNd3w4oyKD64ehYU7K4CrpUcDGR_0       16\n",
       "KT1VyYTej9iHeAfpCKBEdpqiKaHAk4hUN7h8_0       12\n",
       "KT1HmyazXfKDbo8XjwtWPXcoyHcmNPDCvZyb_0       12\n",
       "KT1TCTpXXbpnWBZ8whqExokbKfUrUW3nAXDJ_0        4\n",
       "KT1SekNYSaT3sWp55nhmratovWN4Mvfc6cfQ_0        2\n",
       "KT1N5CWnvabCM71eBmzEhotnQX3eciLLyv8v_0        1\n",
       "Name: count, dtype: int64"
      ]
     },
     "execution_count": 17,
     "metadata": {},
     "output_type": "execute_result"
    }
   ],
   "source": [
    "df['deposit.l1_transaction.ticket.token_id'].value_counts()"
   ]
  },
  {
   "cell_type": "code",
   "execution_count": 18,
   "id": "25aabde9",
   "metadata": {},
   "outputs": [
    {
     "data": {
      "text/plain": [
       "deposit.l1_transaction.ticket.whitelisted\n",
       "True    12302\n",
       "Name: count, dtype: int64"
      ]
     },
     "execution_count": 18,
     "metadata": {},
     "output_type": "execute_result"
    }
   ],
   "source": [
    "df['deposit.l1_transaction.ticket.whitelisted'].value_counts()"
   ]
  },
  {
   "cell_type": "code",
   "execution_count": 19,
   "id": "44bb06d9",
   "metadata": {},
   "outputs": [
    {
     "data": {
      "text/plain": [
       "deposit.l1_transaction.ticket.token.type\n",
       "native    12255\n",
       "FA2          29\n",
       "FA1.2        18\n",
       "Name: count, dtype: int64"
      ]
     },
     "execution_count": 19,
     "metadata": {},
     "output_type": "execute_result"
    }
   ],
   "source": [
    "df['deposit.l1_transaction.ticket.token.type'].value_counts()"
   ]
  },
  {
   "cell_type": "markdown",
   "id": "3f6bb006",
   "metadata": {},
   "source": [
    "### Operations by days:"
   ]
  },
  {
   "cell_type": "code",
   "execution_count": 20,
   "id": "f2431b63",
   "metadata": {},
   "outputs": [
    {
     "data": {
      "text/html": [
       "<div>\n",
       "<style scoped>\n",
       "    .dataframe tbody tr th:only-of-type {\n",
       "        vertical-align: middle;\n",
       "    }\n",
       "\n",
       "    .dataframe tbody tr th {\n",
       "        vertical-align: top;\n",
       "    }\n",
       "\n",
       "    .dataframe thead th {\n",
       "        text-align: right;\n",
       "    }\n",
       "</style>\n",
       "<table border=\"1\" class=\"dataframe\">\n",
       "  <thead>\n",
       "    <tr style=\"text-align: right;\">\n",
       "      <th>type</th>\n",
       "      <th>deposit</th>\n",
       "      <th>withdrawal</th>\n",
       "    </tr>\n",
       "    <tr>\n",
       "      <th>created_at</th>\n",
       "      <th></th>\n",
       "      <th></th>\n",
       "    </tr>\n",
       "  </thead>\n",
       "  <tbody>\n",
       "    <tr>\n",
       "      <th>2024-08-27 00:00:00+00:00</th>\n",
       "      <td>5.00</td>\n",
       "      <td>1.00</td>\n",
       "    </tr>\n",
       "    <tr>\n",
       "      <th>2024-08-28 00:00:00+00:00</th>\n",
       "      <td>1.00</td>\n",
       "      <td>0.00</td>\n",
       "    </tr>\n",
       "    <tr>\n",
       "      <th>2024-08-29 00:00:00+00:00</th>\n",
       "      <td>2.00</td>\n",
       "      <td>2.00</td>\n",
       "    </tr>\n",
       "    <tr>\n",
       "      <th>2024-08-30 00:00:00+00:00</th>\n",
       "      <td>5.00</td>\n",
       "      <td>0.00</td>\n",
       "    </tr>\n",
       "    <tr>\n",
       "      <th>2024-08-31 00:00:00+00:00</th>\n",
       "      <td>2.00</td>\n",
       "      <td>0.00</td>\n",
       "    </tr>\n",
       "    <tr>\n",
       "      <th>2024-09-02 00:00:00+00:00</th>\n",
       "      <td>1.00</td>\n",
       "      <td>0.00</td>\n",
       "    </tr>\n",
       "    <tr>\n",
       "      <th>2024-09-03 00:00:00+00:00</th>\n",
       "      <td>0.00</td>\n",
       "      <td>1.00</td>\n",
       "    </tr>\n",
       "    <tr>\n",
       "      <th>2024-09-04 00:00:00+00:00</th>\n",
       "      <td>6.00</td>\n",
       "      <td>3.00</td>\n",
       "    </tr>\n",
       "    <tr>\n",
       "      <th>2024-09-05 00:00:00+00:00</th>\n",
       "      <td>12,209.00</td>\n",
       "      <td>0.00</td>\n",
       "    </tr>\n",
       "    <tr>\n",
       "      <th>2024-09-06 00:00:00+00:00</th>\n",
       "      <td>7.00</td>\n",
       "      <td>7.00</td>\n",
       "    </tr>\n",
       "    <tr>\n",
       "      <th>2024-09-09 00:00:00+00:00</th>\n",
       "      <td>7.00</td>\n",
       "      <td>10.00</td>\n",
       "    </tr>\n",
       "    <tr>\n",
       "      <th>2024-09-10 00:00:00+00:00</th>\n",
       "      <td>2.00</td>\n",
       "      <td>1.00</td>\n",
       "    </tr>\n",
       "    <tr>\n",
       "      <th>2024-09-11 00:00:00+00:00</th>\n",
       "      <td>2.00</td>\n",
       "      <td>1.00</td>\n",
       "    </tr>\n",
       "    <tr>\n",
       "      <th>2024-09-12 00:00:00+00:00</th>\n",
       "      <td>12.00</td>\n",
       "      <td>5.00</td>\n",
       "    </tr>\n",
       "    <tr>\n",
       "      <th>2024-09-13 00:00:00+00:00</th>\n",
       "      <td>1.00</td>\n",
       "      <td>0.00</td>\n",
       "    </tr>\n",
       "    <tr>\n",
       "      <th>2024-09-15 00:00:00+00:00</th>\n",
       "      <td>1.00</td>\n",
       "      <td>0.00</td>\n",
       "    </tr>\n",
       "    <tr>\n",
       "      <th>2024-09-16 00:00:00+00:00</th>\n",
       "      <td>3.00</td>\n",
       "      <td>1.00</td>\n",
       "    </tr>\n",
       "    <tr>\n",
       "      <th>2024-09-17 00:00:00+00:00</th>\n",
       "      <td>0.00</td>\n",
       "      <td>1.00</td>\n",
       "    </tr>\n",
       "    <tr>\n",
       "      <th>2024-09-18 00:00:00+00:00</th>\n",
       "      <td>3.00</td>\n",
       "      <td>1.00</td>\n",
       "    </tr>\n",
       "    <tr>\n",
       "      <th>2024-09-19 00:00:00+00:00</th>\n",
       "      <td>18.00</td>\n",
       "      <td>1,482.00</td>\n",
       "    </tr>\n",
       "    <tr>\n",
       "      <th>2024-09-20 00:00:00+00:00</th>\n",
       "      <td>1.00</td>\n",
       "      <td>0.00</td>\n",
       "    </tr>\n",
       "    <tr>\n",
       "      <th>2024-09-23 00:00:00+00:00</th>\n",
       "      <td>3.00</td>\n",
       "      <td>0.00</td>\n",
       "    </tr>\n",
       "    <tr>\n",
       "      <th>2024-09-24 00:00:00+00:00</th>\n",
       "      <td>3.00</td>\n",
       "      <td>1.00</td>\n",
       "    </tr>\n",
       "    <tr>\n",
       "      <th>2024-09-26 00:00:00+00:00</th>\n",
       "      <td>1.00</td>\n",
       "      <td>1.00</td>\n",
       "    </tr>\n",
       "    <tr>\n",
       "      <th>2024-09-27 00:00:00+00:00</th>\n",
       "      <td>3.00</td>\n",
       "      <td>3.00</td>\n",
       "    </tr>\n",
       "    <tr>\n",
       "      <th>2024-09-29 00:00:00+00:00</th>\n",
       "      <td>1.00</td>\n",
       "      <td>0.00</td>\n",
       "    </tr>\n",
       "    <tr>\n",
       "      <th>2024-09-30 00:00:00+00:00</th>\n",
       "      <td>3.00</td>\n",
       "      <td>3.00</td>\n",
       "    </tr>\n",
       "  </tbody>\n",
       "</table>\n",
       "</div>"
      ],
      "text/plain": [
       "type                        deposit  withdrawal\n",
       "created_at                                     \n",
       "2024-08-27 00:00:00+00:00      5.00        1.00\n",
       "2024-08-28 00:00:00+00:00      1.00        0.00\n",
       "2024-08-29 00:00:00+00:00      2.00        2.00\n",
       "2024-08-30 00:00:00+00:00      5.00        0.00\n",
       "2024-08-31 00:00:00+00:00      2.00        0.00\n",
       "2024-09-02 00:00:00+00:00      1.00        0.00\n",
       "2024-09-03 00:00:00+00:00      0.00        1.00\n",
       "2024-09-04 00:00:00+00:00      6.00        3.00\n",
       "2024-09-05 00:00:00+00:00 12,209.00        0.00\n",
       "2024-09-06 00:00:00+00:00      7.00        7.00\n",
       "2024-09-09 00:00:00+00:00      7.00       10.00\n",
       "2024-09-10 00:00:00+00:00      2.00        1.00\n",
       "2024-09-11 00:00:00+00:00      2.00        1.00\n",
       "2024-09-12 00:00:00+00:00     12.00        5.00\n",
       "2024-09-13 00:00:00+00:00      1.00        0.00\n",
       "2024-09-15 00:00:00+00:00      1.00        0.00\n",
       "2024-09-16 00:00:00+00:00      3.00        1.00\n",
       "2024-09-17 00:00:00+00:00      0.00        1.00\n",
       "2024-09-18 00:00:00+00:00      3.00        1.00\n",
       "2024-09-19 00:00:00+00:00     18.00    1,482.00\n",
       "2024-09-20 00:00:00+00:00      1.00        0.00\n",
       "2024-09-23 00:00:00+00:00      3.00        0.00\n",
       "2024-09-24 00:00:00+00:00      3.00        1.00\n",
       "2024-09-26 00:00:00+00:00      1.00        1.00\n",
       "2024-09-27 00:00:00+00:00      3.00        3.00\n",
       "2024-09-29 00:00:00+00:00      1.00        0.00\n",
       "2024-09-30 00:00:00+00:00      3.00        3.00"
      ]
     },
     "execution_count": 20,
     "metadata": {},
     "output_type": "execute_result"
    }
   ],
   "source": [
    "df.set_index('created_at').groupby(pd.Grouper(freq='D')).type.value_counts().unstack().fillna(0)"
   ]
  },
  {
   "cell_type": "markdown",
   "id": "338e6750",
   "metadata": {},
   "source": [
    "### Account stats:"
   ]
  },
  {
   "cell_type": "code",
   "execution_count": 23,
   "id": "550f94b4",
   "metadata": {},
   "outputs": [
    {
     "data": {
      "text/html": [
       "<div>\n",
       "<style scoped>\n",
       "    .dataframe tbody tr th:only-of-type {\n",
       "        vertical-align: middle;\n",
       "    }\n",
       "\n",
       "    .dataframe tbody tr th {\n",
       "        vertical-align: top;\n",
       "    }\n",
       "\n",
       "    .dataframe thead th {\n",
       "        text-align: right;\n",
       "    }\n",
       "</style>\n",
       "<table border=\"1\" class=\"dataframe\">\n",
       "  <thead>\n",
       "    <tr style=\"text-align: right;\">\n",
       "      <th>type</th>\n",
       "      <th>deposit</th>\n",
       "      <th>withdrawal</th>\n",
       "    </tr>\n",
       "    <tr>\n",
       "      <th>l1_account</th>\n",
       "      <th></th>\n",
       "      <th></th>\n",
       "    </tr>\n",
       "  </thead>\n",
       "  <tbody>\n",
       "    <tr>\n",
       "      <th>tz1g2RbQtxZRHw8oj4oSnhRzy7iRA2hxU4TD</th>\n",
       "      <td>6,400.00</td>\n",
       "      <td>0.00</td>\n",
       "    </tr>\n",
       "    <tr>\n",
       "      <th>tz1R4EjaQqeBhBP2dztahpkzHTZ61PSssqkh</th>\n",
       "      <td>5,801.00</td>\n",
       "      <td>0.00</td>\n",
       "    </tr>\n",
       "    <tr>\n",
       "      <th>tz1ekkzEN2LB1cpf7dCaonKt6x9KVd9YVydc</th>\n",
       "      <td>49.00</td>\n",
       "      <td>605.00</td>\n",
       "    </tr>\n",
       "    <tr>\n",
       "      <th>tz1TZDn2ZK35UnEjyuGQRVeM2NC5tQScJLpQ</th>\n",
       "      <td>12.00</td>\n",
       "      <td>0.00</td>\n",
       "    </tr>\n",
       "    <tr>\n",
       "      <th>tz1KhnTgwoRRALBX6vRHRnydDGSBFsWtcJxc</th>\n",
       "      <td>5.00</td>\n",
       "      <td>5.00</td>\n",
       "    </tr>\n",
       "    <tr>\n",
       "      <th>tz1QCVQinE8iVj1H2fckqx6oiM85CNJSK9Sx</th>\n",
       "      <td>4.00</td>\n",
       "      <td>0.00</td>\n",
       "    </tr>\n",
       "    <tr>\n",
       "      <th>tz1bCRGKwwhf3DQqADACbv93sJUPVB5ChFqa</th>\n",
       "      <td>3.00</td>\n",
       "      <td>0.00</td>\n",
       "    </tr>\n",
       "    <tr>\n",
       "      <th>tz1fWLoHsRYx2pWx17kmuaTyuHvQbtvLj6Tw</th>\n",
       "      <td>3.00</td>\n",
       "      <td>0.00</td>\n",
       "    </tr>\n",
       "    <tr>\n",
       "      <th>tz1Lzmg6AD59nHMwuErfGhS3GfsPE8rcr779</th>\n",
       "      <td>2.00</td>\n",
       "      <td>1.00</td>\n",
       "    </tr>\n",
       "    <tr>\n",
       "      <th>tz2EGRopPkvS3uwppNovbDHYfMJVZDg2kBsj</th>\n",
       "      <td>2.00</td>\n",
       "      <td>0.00</td>\n",
       "    </tr>\n",
       "    <tr>\n",
       "      <th>tz1boqBV6XhVjXA2i5ysZ4megxZxa2EEgyxg</th>\n",
       "      <td>2.00</td>\n",
       "      <td>1.00</td>\n",
       "    </tr>\n",
       "    <tr>\n",
       "      <th>tz1fcos46bDacAF1KAZMirWAW7FwqGNMzMaS</th>\n",
       "      <td>2.00</td>\n",
       "      <td>2.00</td>\n",
       "    </tr>\n",
       "    <tr>\n",
       "      <th>tz1gSKXnv2sT5tRduED1fRHBYRGCGchgLWEL</th>\n",
       "      <td>2.00</td>\n",
       "      <td>0.00</td>\n",
       "    </tr>\n",
       "    <tr>\n",
       "      <th>tz1L23LUMJD2L2swXuM783jN8R6BftVRwsK6</th>\n",
       "      <td>2.00</td>\n",
       "      <td>0.00</td>\n",
       "    </tr>\n",
       "    <tr>\n",
       "      <th>tz1f5TXqsUb2qMhJPA9D88BtKpmw8CRs6mGX</th>\n",
       "      <td>2.00</td>\n",
       "      <td>3.00</td>\n",
       "    </tr>\n",
       "    <tr>\n",
       "      <th>tz1fjZ41sVDt5hEJLjFMAL7vPpLdZpBc4yyK</th>\n",
       "      <td>1.00</td>\n",
       "      <td>0.00</td>\n",
       "    </tr>\n",
       "    <tr>\n",
       "      <th>tz1RYaugefywZHsMRmS2TnCkUR57nfnG9Xgm</th>\n",
       "      <td>1.00</td>\n",
       "      <td>0.00</td>\n",
       "    </tr>\n",
       "    <tr>\n",
       "      <th>tz1VSUr8wwNhLAzempoch5d6hLRiTh8Cjcjb</th>\n",
       "      <td>1.00</td>\n",
       "      <td>0.00</td>\n",
       "    </tr>\n",
       "    <tr>\n",
       "      <th>tz1N43JsFs6Qmdy8FpUdcmG8aFpLpNejuY8k</th>\n",
       "      <td>1.00</td>\n",
       "      <td>0.00</td>\n",
       "    </tr>\n",
       "    <tr>\n",
       "      <th>tz1KwQGJvQR1tHzUuj6qzsJ8a5aaSKmssJaP</th>\n",
       "      <td>1.00</td>\n",
       "      <td>0.00</td>\n",
       "    </tr>\n",
       "    <tr>\n",
       "      <th>tz1T1nTR7FREghqvUi2UF3TUiUFyvLVtqe8a</th>\n",
       "      <td>1.00</td>\n",
       "      <td>0.00</td>\n",
       "    </tr>\n",
       "    <tr>\n",
       "      <th>tz1ULgYrbjqUUEfzxXPzbxzKNdBCCWfnkA23</th>\n",
       "      <td>1.00</td>\n",
       "      <td>2.00</td>\n",
       "    </tr>\n",
       "    <tr>\n",
       "      <th>tz2FvPHK3EXDkrZGXn7UNAH4Fq6t5iSKUFdv</th>\n",
       "      <td>1.00</td>\n",
       "      <td>0.00</td>\n",
       "    </tr>\n",
       "    <tr>\n",
       "      <th>tz1iiazjVWeujGacFpALwGdkUZCavPpCSgNE</th>\n",
       "      <td>1.00</td>\n",
       "      <td>1.00</td>\n",
       "    </tr>\n",
       "    <tr>\n",
       "      <th>tz1fDrjXWvPfEJdd292CB4hxhAzbYeaeZDRp</th>\n",
       "      <td>1.00</td>\n",
       "      <td>0.00</td>\n",
       "    </tr>\n",
       "    <tr>\n",
       "      <th>tz1eLxFtMBKGpP1NfHCeVCutNw1ocHAvJcLC</th>\n",
       "      <td>1.00</td>\n",
       "      <td>0.00</td>\n",
       "    </tr>\n",
       "    <tr>\n",
       "      <th>KT1H7if3gSZE1pZSK48W3NzGpKmbWyBxWDHe</th>\n",
       "      <td>0.00</td>\n",
       "      <td>2.00</td>\n",
       "    </tr>\n",
       "    <tr>\n",
       "      <th>tz1burnburnburnburnburnburnburjAYjjX</th>\n",
       "      <td>0.00</td>\n",
       "      <td>900.00</td>\n",
       "    </tr>\n",
       "    <tr>\n",
       "      <th>tz1bMQTQrWck55Fj3zQG33U11Vggg5zoaL4T</th>\n",
       "      <td>0.00</td>\n",
       "      <td>1.00</td>\n",
       "    </tr>\n",
       "    <tr>\n",
       "      <th>tz2DeKn5QstSFJQttrXaBtWA4LkLoBUVhcfk</th>\n",
       "      <td>0.00</td>\n",
       "      <td>1.00</td>\n",
       "    </tr>\n",
       "  </tbody>\n",
       "</table>\n",
       "</div>"
      ],
      "text/plain": [
       "type                                  deposit  withdrawal\n",
       "l1_account                                               \n",
       "tz1g2RbQtxZRHw8oj4oSnhRzy7iRA2hxU4TD 6,400.00        0.00\n",
       "tz1R4EjaQqeBhBP2dztahpkzHTZ61PSssqkh 5,801.00        0.00\n",
       "tz1ekkzEN2LB1cpf7dCaonKt6x9KVd9YVydc    49.00      605.00\n",
       "tz1TZDn2ZK35UnEjyuGQRVeM2NC5tQScJLpQ    12.00        0.00\n",
       "tz1KhnTgwoRRALBX6vRHRnydDGSBFsWtcJxc     5.00        5.00\n",
       "tz1QCVQinE8iVj1H2fckqx6oiM85CNJSK9Sx     4.00        0.00\n",
       "tz1bCRGKwwhf3DQqADACbv93sJUPVB5ChFqa     3.00        0.00\n",
       "tz1fWLoHsRYx2pWx17kmuaTyuHvQbtvLj6Tw     3.00        0.00\n",
       "tz1Lzmg6AD59nHMwuErfGhS3GfsPE8rcr779     2.00        1.00\n",
       "tz2EGRopPkvS3uwppNovbDHYfMJVZDg2kBsj     2.00        0.00\n",
       "tz1boqBV6XhVjXA2i5ysZ4megxZxa2EEgyxg     2.00        1.00\n",
       "tz1fcos46bDacAF1KAZMirWAW7FwqGNMzMaS     2.00        2.00\n",
       "tz1gSKXnv2sT5tRduED1fRHBYRGCGchgLWEL     2.00        0.00\n",
       "tz1L23LUMJD2L2swXuM783jN8R6BftVRwsK6     2.00        0.00\n",
       "tz1f5TXqsUb2qMhJPA9D88BtKpmw8CRs6mGX     2.00        3.00\n",
       "tz1fjZ41sVDt5hEJLjFMAL7vPpLdZpBc4yyK     1.00        0.00\n",
       "tz1RYaugefywZHsMRmS2TnCkUR57nfnG9Xgm     1.00        0.00\n",
       "tz1VSUr8wwNhLAzempoch5d6hLRiTh8Cjcjb     1.00        0.00\n",
       "tz1N43JsFs6Qmdy8FpUdcmG8aFpLpNejuY8k     1.00        0.00\n",
       "tz1KwQGJvQR1tHzUuj6qzsJ8a5aaSKmssJaP     1.00        0.00\n",
       "tz1T1nTR7FREghqvUi2UF3TUiUFyvLVtqe8a     1.00        0.00\n",
       "tz1ULgYrbjqUUEfzxXPzbxzKNdBCCWfnkA23     1.00        2.00\n",
       "tz2FvPHK3EXDkrZGXn7UNAH4Fq6t5iSKUFdv     1.00        0.00\n",
       "tz1iiazjVWeujGacFpALwGdkUZCavPpCSgNE     1.00        1.00\n",
       "tz1fDrjXWvPfEJdd292CB4hxhAzbYeaeZDRp     1.00        0.00\n",
       "tz1eLxFtMBKGpP1NfHCeVCutNw1ocHAvJcLC     1.00        0.00\n",
       "KT1H7if3gSZE1pZSK48W3NzGpKmbWyBxWDHe     0.00        2.00\n",
       "tz1burnburnburnburnburnburnburjAYjjX     0.00      900.00\n",
       "tz1bMQTQrWck55Fj3zQG33U11Vggg5zoaL4T     0.00        1.00\n",
       "tz2DeKn5QstSFJQttrXaBtWA4LkLoBUVhcfk     0.00        1.00"
      ]
     },
     "execution_count": 23,
     "metadata": {},
     "output_type": "execute_result"
    }
   ],
   "source": [
    "df.groupby('l1_account').type.value_counts().unstack().fillna(0).sort_values('deposit', ascending=False)"
   ]
  },
  {
   "cell_type": "code",
   "execution_count": 26,
   "id": "df098e0d",
   "metadata": {},
   "outputs": [
    {
     "data": {
      "text/html": [
       "<div>\n",
       "<style scoped>\n",
       "    .dataframe tbody tr th:only-of-type {\n",
       "        vertical-align: middle;\n",
       "    }\n",
       "\n",
       "    .dataframe tbody tr th {\n",
       "        vertical-align: top;\n",
       "    }\n",
       "\n",
       "    .dataframe thead th {\n",
       "        text-align: right;\n",
       "    }\n",
       "</style>\n",
       "<table border=\"1\" class=\"dataframe\">\n",
       "  <thead>\n",
       "    <tr style=\"text-align: right;\">\n",
       "      <th>type</th>\n",
       "      <th>deposit</th>\n",
       "      <th>withdrawal</th>\n",
       "    </tr>\n",
       "    <tr>\n",
       "      <th>l2_account</th>\n",
       "      <th></th>\n",
       "      <th></th>\n",
       "    </tr>\n",
       "  </thead>\n",
       "  <tbody>\n",
       "    <tr>\n",
       "      <th>2a0030903e5313bf145d8631e87aac5237f9ad26</th>\n",
       "      <td>2.00</td>\n",
       "      <td>900.00</td>\n",
       "    </tr>\n",
       "    <tr>\n",
       "      <th>daa58536ebccb421331aae8334cd73a12a54654e</th>\n",
       "      <td>1.00</td>\n",
       "      <td>450.00</td>\n",
       "    </tr>\n",
       "    <tr>\n",
       "      <th>865e2887bafe9bdd5e68d0cc5fb9eeb9dce535fa</th>\n",
       "      <td>1.00</td>\n",
       "      <td>100.00</td>\n",
       "    </tr>\n",
       "    <tr>\n",
       "      <th>fa34004dda5a87a40ecef2714101472961c17560</th>\n",
       "      <td>21.00</td>\n",
       "      <td>14.00</td>\n",
       "    </tr>\n",
       "    <tr>\n",
       "      <th>befd2c6ffc36249ebebd21d6df6376ecf3bac448</th>\n",
       "      <td>20.00</td>\n",
       "      <td>10.00</td>\n",
       "    </tr>\n",
       "    <tr>\n",
       "      <th>1cf25b150d52913ad102a32c5554358f1c6f4a7e</th>\n",
       "      <td>1.00</td>\n",
       "      <td>10.00</td>\n",
       "    </tr>\n",
       "    <tr>\n",
       "      <th>4a338a3cb0017a3e0e9156397d98b97795032c72</th>\n",
       "      <td>3.00</td>\n",
       "      <td>9.00</td>\n",
       "    </tr>\n",
       "    <tr>\n",
       "      <th>0e00cfbccf7de8c0c6139fae80449bd0783599ab</th>\n",
       "      <td>2.00</td>\n",
       "      <td>5.00</td>\n",
       "    </tr>\n",
       "    <tr>\n",
       "      <th>7e6f6ccfe485a087f0f819eabfdbfb1a49b97677</th>\n",
       "      <td>6.00</td>\n",
       "      <td>5.00</td>\n",
       "    </tr>\n",
       "    <tr>\n",
       "      <th>8626f6940e2eb28930efb4cef49b2d1f2c9c1199</th>\n",
       "      <td>4.00</td>\n",
       "      <td>5.00</td>\n",
       "    </tr>\n",
       "    <tr>\n",
       "      <th>2e2ac8699ad02e710951ea0f56b892ed36916cd5</th>\n",
       "      <td>4.00</td>\n",
       "      <td>4.00</td>\n",
       "    </tr>\n",
       "    <tr>\n",
       "      <th>0a9ca9d0139104b2ae7eea9e7ea29ff7b7260650</th>\n",
       "      <td>1.00</td>\n",
       "      <td>3.00</td>\n",
       "    </tr>\n",
       "    <tr>\n",
       "      <th>655eab377c7702749d5c29fa47f861e50942f498</th>\n",
       "      <td>1.00</td>\n",
       "      <td>2.00</td>\n",
       "    </tr>\n",
       "    <tr>\n",
       "      <th>0bf4819a616f8a72ea4b04c1e8d894b567ba268f</th>\n",
       "      <td>1.00</td>\n",
       "      <td>2.00</td>\n",
       "    </tr>\n",
       "    <tr>\n",
       "      <th>1079868d6266874b62595e867684fefebacc45b1</th>\n",
       "      <td>1.00</td>\n",
       "      <td>1.00</td>\n",
       "    </tr>\n",
       "    <tr>\n",
       "      <th>351841b2dac612edf03e541b97dd8bad9ac55314</th>\n",
       "      <td>1.00</td>\n",
       "      <td>1.00</td>\n",
       "    </tr>\n",
       "    <tr>\n",
       "      <th>275196066ba182aad1e2fb507c7d6d353a86414d</th>\n",
       "      <td>2.00</td>\n",
       "      <td>1.00</td>\n",
       "    </tr>\n",
       "    <tr>\n",
       "      <th>2b1bca8ada84ea2c1f7fc01423e0576549fecaa0</th>\n",
       "      <td>0.00</td>\n",
       "      <td>1.00</td>\n",
       "    </tr>\n",
       "    <tr>\n",
       "      <th>2e2069b14dff938759dbf374cfb608903fb03c9e</th>\n",
       "      <td>0.00</td>\n",
       "      <td>1.00</td>\n",
       "    </tr>\n",
       "    <tr>\n",
       "      <th>1074fd1ec02cbeaa5a90450505cf3b48d834f3eb</th>\n",
       "      <td>1.00</td>\n",
       "      <td>0.00</td>\n",
       "    </tr>\n",
       "    <tr>\n",
       "      <th>257ebb5ce12e8da3673165bd78e84aa5f0e9abc8</th>\n",
       "      <td>1.00</td>\n",
       "      <td>0.00</td>\n",
       "    </tr>\n",
       "    <tr>\n",
       "      <th>6432bf02a54975500ee3924dfe504351e27b968b</th>\n",
       "      <td>2.00</td>\n",
       "      <td>0.00</td>\n",
       "    </tr>\n",
       "    <tr>\n",
       "      <th>76955db4b0c6881ecae0954d9b50577fec978833</th>\n",
       "      <td>1.00</td>\n",
       "      <td>0.00</td>\n",
       "    </tr>\n",
       "    <tr>\n",
       "      <th>58321c0872345dbdcb2e212dd8e3604bc79a412f</th>\n",
       "      <td>1.00</td>\n",
       "      <td>0.00</td>\n",
       "    </tr>\n",
       "    <tr>\n",
       "      <th>45ff91b4bf16ac9907cf4a11436f9ce61be0650d</th>\n",
       "      <td>4.00</td>\n",
       "      <td>0.00</td>\n",
       "    </tr>\n",
       "    <tr>\n",
       "      <th>665efb7ed93adf61f364944b68140c350b822a4d</th>\n",
       "      <td>1.00</td>\n",
       "      <td>0.00</td>\n",
       "    </tr>\n",
       "    <tr>\n",
       "      <th>89b87bf3bc6a34b81341b43cd45a0a8b016e2630</th>\n",
       "      <td>1.00</td>\n",
       "      <td>0.00</td>\n",
       "    </tr>\n",
       "    <tr>\n",
       "      <th>6e558e4279d9be551d51050890041b656789c414</th>\n",
       "      <td>1.00</td>\n",
       "      <td>0.00</td>\n",
       "    </tr>\n",
       "    <tr>\n",
       "      <th>7308f1e2e8f4fd608fbf029c2d71f5669770d4e0</th>\n",
       "      <td>2.00</td>\n",
       "      <td>0.00</td>\n",
       "    </tr>\n",
       "    <tr>\n",
       "      <th>8f31fa683c8dedbe61fc772b2e0a29c35069ff9d</th>\n",
       "      <td>1.00</td>\n",
       "      <td>0.00</td>\n",
       "    </tr>\n",
       "    <tr>\n",
       "      <th>be60d19b61c5da22548da64c614977493de0d611</th>\n",
       "      <td>2.00</td>\n",
       "      <td>0.00</td>\n",
       "    </tr>\n",
       "    <tr>\n",
       "      <th>c3237f7962ffbf053787645f66b57c8b342106eb</th>\n",
       "      <td>1.00</td>\n",
       "      <td>0.00</td>\n",
       "    </tr>\n",
       "    <tr>\n",
       "      <th>baa233e2f62f45e9d91dacd3d6c6a57bc2cbc575</th>\n",
       "      <td>1.00</td>\n",
       "      <td>0.00</td>\n",
       "    </tr>\n",
       "    <tr>\n",
       "      <th>aa552f83dea2c7aed0b6e390dc581b1bad982fde</th>\n",
       "      <td>1.00</td>\n",
       "      <td>0.00</td>\n",
       "    </tr>\n",
       "    <tr>\n",
       "      <th>d68eab0ea314398abf04f6ffcd0affb2db11bfcb</th>\n",
       "      <td>1.00</td>\n",
       "      <td>0.00</td>\n",
       "    </tr>\n",
       "    <tr>\n",
       "      <th>d3c509e32983ffa469d48863cbbb275bd885e891</th>\n",
       "      <td>1.00</td>\n",
       "      <td>0.00</td>\n",
       "    </tr>\n",
       "    <tr>\n",
       "      <th>d7e3b343cff28f04947e1129d6ceeb1570e1c609</th>\n",
       "      <td>1.00</td>\n",
       "      <td>0.00</td>\n",
       "    </tr>\n",
       "    <tr>\n",
       "      <th>d7cf98f71ba837006bfceeb84965f765ab8f1725</th>\n",
       "      <td>2.00</td>\n",
       "      <td>0.00</td>\n",
       "    </tr>\n",
       "    <tr>\n",
       "      <th>f0646f8d097542e0faa1828ae1f57f90c145506d</th>\n",
       "      <td>1.00</td>\n",
       "      <td>0.00</td>\n",
       "    </tr>\n",
       "    <tr>\n",
       "      <th>f1d791b3bdf4910c01220da90112f9fd34c4aa45</th>\n",
       "      <td>2.00</td>\n",
       "      <td>0.00</td>\n",
       "    </tr>\n",
       "    <tr>\n",
       "      <th>f60e84b902e097c1e722e13fed0f14e52f5c5496</th>\n",
       "      <td>12,200.00</td>\n",
       "      <td>0.00</td>\n",
       "    </tr>\n",
       "    <tr>\n",
       "      <th>fedc9d4f01b124fa00c0cfcc5796c47a8b4c5b76</th>\n",
       "      <td>1.00</td>\n",
       "      <td>0.00</td>\n",
       "    </tr>\n",
       "  </tbody>\n",
       "</table>\n",
       "</div>"
      ],
      "text/plain": [
       "type                                       deposit  withdrawal\n",
       "l2_account                                                    \n",
       "2a0030903e5313bf145d8631e87aac5237f9ad26      2.00      900.00\n",
       "daa58536ebccb421331aae8334cd73a12a54654e      1.00      450.00\n",
       "865e2887bafe9bdd5e68d0cc5fb9eeb9dce535fa      1.00      100.00\n",
       "fa34004dda5a87a40ecef2714101472961c17560     21.00       14.00\n",
       "befd2c6ffc36249ebebd21d6df6376ecf3bac448     20.00       10.00\n",
       "1cf25b150d52913ad102a32c5554358f1c6f4a7e      1.00       10.00\n",
       "4a338a3cb0017a3e0e9156397d98b97795032c72      3.00        9.00\n",
       "0e00cfbccf7de8c0c6139fae80449bd0783599ab      2.00        5.00\n",
       "7e6f6ccfe485a087f0f819eabfdbfb1a49b97677      6.00        5.00\n",
       "8626f6940e2eb28930efb4cef49b2d1f2c9c1199      4.00        5.00\n",
       "2e2ac8699ad02e710951ea0f56b892ed36916cd5      4.00        4.00\n",
       "0a9ca9d0139104b2ae7eea9e7ea29ff7b7260650      1.00        3.00\n",
       "655eab377c7702749d5c29fa47f861e50942f498      1.00        2.00\n",
       "0bf4819a616f8a72ea4b04c1e8d894b567ba268f      1.00        2.00\n",
       "1079868d6266874b62595e867684fefebacc45b1      1.00        1.00\n",
       "351841b2dac612edf03e541b97dd8bad9ac55314      1.00        1.00\n",
       "275196066ba182aad1e2fb507c7d6d353a86414d      2.00        1.00\n",
       "2b1bca8ada84ea2c1f7fc01423e0576549fecaa0      0.00        1.00\n",
       "2e2069b14dff938759dbf374cfb608903fb03c9e      0.00        1.00\n",
       "1074fd1ec02cbeaa5a90450505cf3b48d834f3eb      1.00        0.00\n",
       "257ebb5ce12e8da3673165bd78e84aa5f0e9abc8      1.00        0.00\n",
       "6432bf02a54975500ee3924dfe504351e27b968b      2.00        0.00\n",
       "76955db4b0c6881ecae0954d9b50577fec978833      1.00        0.00\n",
       "58321c0872345dbdcb2e212dd8e3604bc79a412f      1.00        0.00\n",
       "45ff91b4bf16ac9907cf4a11436f9ce61be0650d      4.00        0.00\n",
       "665efb7ed93adf61f364944b68140c350b822a4d      1.00        0.00\n",
       "89b87bf3bc6a34b81341b43cd45a0a8b016e2630      1.00        0.00\n",
       "6e558e4279d9be551d51050890041b656789c414      1.00        0.00\n",
       "7308f1e2e8f4fd608fbf029c2d71f5669770d4e0      2.00        0.00\n",
       "8f31fa683c8dedbe61fc772b2e0a29c35069ff9d      1.00        0.00\n",
       "be60d19b61c5da22548da64c614977493de0d611      2.00        0.00\n",
       "c3237f7962ffbf053787645f66b57c8b342106eb      1.00        0.00\n",
       "baa233e2f62f45e9d91dacd3d6c6a57bc2cbc575      1.00        0.00\n",
       "aa552f83dea2c7aed0b6e390dc581b1bad982fde      1.00        0.00\n",
       "d68eab0ea314398abf04f6ffcd0affb2db11bfcb      1.00        0.00\n",
       "d3c509e32983ffa469d48863cbbb275bd885e891      1.00        0.00\n",
       "d7e3b343cff28f04947e1129d6ceeb1570e1c609      1.00        0.00\n",
       "d7cf98f71ba837006bfceeb84965f765ab8f1725      2.00        0.00\n",
       "f0646f8d097542e0faa1828ae1f57f90c145506d      1.00        0.00\n",
       "f1d791b3bdf4910c01220da90112f9fd34c4aa45      2.00        0.00\n",
       "f60e84b902e097c1e722e13fed0f14e52f5c5496 12,200.00        0.00\n",
       "fedc9d4f01b124fa00c0cfcc5796c47a8b4c5b76      1.00        0.00"
      ]
     },
     "execution_count": 26,
     "metadata": {},
     "output_type": "execute_result"
    }
   ],
   "source": [
    "l2_contract_names = {\n",
    "    '2a0030903e5313bf145d8631e87aac5237f9ad26': 'BulkWithdrawalHelper: 450',\n",
    "    'daa58536ebccb421331aae8334cd73a12a54654e': 'OutboxEnumerator'\n",
    "}\n",
    "\n",
    "df.groupby('l2_account').type.value_counts().unstack().fillna(0).sort_values('withdrawal', ascending=False)"
   ]
  },
  {
   "cell_type": "markdown",
   "id": "c84fdb1d",
   "metadata": {},
   "source": [
    "### ERC20:\n",
    "- [ ] TODO: manually check and classify all of the addresses"
   ]
  },
  {
   "cell_type": "code",
   "execution_count": 27,
   "id": "2de92ee6",
   "metadata": {},
   "outputs": [
    {
     "data": {
      "text/plain": [
       "deposit.l2_transaction.ticket_owner\n",
       "xtz                                         5855\n",
       "f68997ecc03751cb99b5b36712b213f11342452b      11\n",
       "59118d19848baca5c3dd1603acfc99c4cbccc3db       7\n",
       "4a338a3cb0017a3e0e9156397d98b97795032c72       3\n",
       "8e73ae3cf688fbd8368c99520d26f9ef1b4d3bca       3\n",
       "baa233e2f62f45e9d91dacd3d6c6a57bc2cbc575       2\n",
       "8f31fa683c8dedbe61fc772b2e0a29c35069ff9d       1\n",
       "Name: count, dtype: int64"
      ]
     },
     "execution_count": 27,
     "metadata": {},
     "output_type": "execute_result"
    }
   ],
   "source": [
    "df['deposit.l2_transaction.ticket_owner'].value_counts()"
   ]
  },
  {
   "cell_type": "code",
   "execution_count": 88,
   "id": "6ffb005a",
   "metadata": {},
   "outputs": [
    {
     "data": {
      "text/plain": [
       "withdrawal.l2_transaction.l2_token.id\n",
       "xtz                                         926\n",
       "f68997ecc03751cb99b5b36712b213f11342452b    572\n",
       "59118d19848baca5c3dd1603acfc99c4cbccc3db      8\n",
       "baa233e2f62f45e9d91dacd3d6c6a57bc2cbc575      6\n",
       "8e73ae3cf688fbd8368c99520d26f9ef1b4d3bca      3\n",
       "Name: count, dtype: int64"
      ]
     },
     "execution_count": 88,
     "metadata": {},
     "output_type": "execute_result"
    }
   ],
   "source": [
    "df['withdrawal.l2_transaction.l2_token.id'].value_counts()"
   ]
  },
  {
   "cell_type": "markdown",
   "id": "fe935b05",
   "metadata": {},
   "source": [
    "### Statuses:"
   ]
  },
  {
   "cell_type": "code",
   "execution_count": 28,
   "id": "4cadd0d1",
   "metadata": {
    "scrolled": true
   },
   "outputs": [
    {
     "data": {
      "text/plain": [
       "status\n",
       "FAILED_INBOX_MATCHING_TIMEOUT             6420\n",
       "FINISHED                                  5904\n",
       "CREATED                                   1498\n",
       "FAILED_INVALID_ROUTING_INFO_REVERTABLE       4\n",
       "Name: count, dtype: int64"
      ]
     },
     "execution_count": 28,
     "metadata": {},
     "output_type": "execute_result"
    }
   ],
   "source": [
    "df.status.value_counts()"
   ]
  },
  {
   "cell_type": "markdown",
   "id": "ac1ab47c",
   "metadata": {},
   "source": [
    "### Timestamps:"
   ]
  },
  {
   "cell_type": "code",
   "execution_count": 29,
   "id": "24f5f2a0",
   "metadata": {},
   "outputs": [
    {
     "data": {
      "text/plain": [
       "count   13,826.00\n",
       "mean        16.83\n",
       "std          4.49\n",
       "min          0.00\n",
       "25%         18.40\n",
       "50%         18.40\n",
       "75%         18.41\n",
       "max         27.97\n",
       "Name: lifetime_days, dtype: float64"
      ]
     },
     "execution_count": 29,
     "metadata": {},
     "output_type": "execute_result"
    }
   ],
   "source": [
    "sec_in_day = 60*60*24\n",
    "df['lifetime_days'] = (df['updated_at'] - df['created_at']).dt.total_seconds() / sec_in_day\n",
    "df.lifetime_days.describe()"
   ]
  },
  {
   "cell_type": "markdown",
   "id": "d1562a66",
   "metadata": {},
   "source": [
    "### Deposit routing data:"
   ]
  },
  {
   "cell_type": "code",
   "execution_count": 30,
   "id": "0653d5cf",
   "metadata": {},
   "outputs": [
    {
     "data": {
      "text/plain": [
       "deposit.inbox_message.message.LL.bytes\n",
       "40    12253\n",
       "80       47\n",
       "Name: count, dtype: int64"
      ]
     },
     "execution_count": 30,
     "metadata": {},
     "output_type": "execute_result"
    }
   ],
   "source": [
    "df['deposit.inbox_message.message.LL.bytes'].dropna().map(len).value_counts()"
   ]
  },
  {
   "cell_type": "markdown",
   "id": "baf5892d",
   "metadata": {},
   "source": [
    "### Rollup:"
   ]
  },
  {
   "cell_type": "code",
   "execution_count": 31,
   "id": "43cc98e1",
   "metadata": {},
   "outputs": [
    {
     "data": {
      "text/plain": [
       "deposit.l1_transaction.target\n",
       "sr18wx6ezkeRjt1SZSeZ2UQzQN3Uc3YLMLqg    12302\n",
       "Name: count, dtype: int64"
      ]
     },
     "execution_count": 31,
     "metadata": {},
     "output_type": "execute_result"
    }
   ],
   "source": [
    "df['deposit.l1_transaction.target'].value_counts()"
   ]
  },
  {
   "cell_type": "markdown",
   "id": "997eff2a",
   "metadata": {},
   "source": [
    "### Withdrawals:"
   ]
  },
  {
   "cell_type": "code",
   "execution_count": 40,
   "id": "8a607ea2",
   "metadata": {},
   "outputs": [
    {
     "data": {
      "text/plain": [
       "withdrawal.l2_transaction.address\n",
       "0000000000000000000000000000000000000000    1524\n",
       "Name: count, dtype: int64"
      ]
     },
     "execution_count": 40,
     "metadata": {},
     "output_type": "execute_result"
    }
   ],
   "source": [
    "df['withdrawal.l2_transaction.address'].value_counts()"
   ]
  },
  {
   "cell_type": "markdown",
   "id": "7a8a9ee9",
   "metadata": {},
   "source": [
    "- [ ] TODO: analyze amounts?"
   ]
  },
  {
   "cell_type": "code",
   "execution_count": 46,
   "id": "29e947f2",
   "metadata": {
    "scrolled": true
   },
   "outputs": [
    {
     "data": {
      "text/plain": [
       "'1000000000000000'"
      ]
     },
     "execution_count": 46,
     "metadata": {},
     "output_type": "execute_result"
    }
   ],
   "source": [
    "df['withdrawal.l2_transaction.amount'].dropna().iloc[0]"
   ]
  },
  {
   "cell_type": "markdown",
   "id": "8876e2cd",
   "metadata": {},
   "source": [
    "### Withdrawal ids:"
   ]
  },
  {
   "cell_type": "code",
   "execution_count": 58,
   "id": "9b912db9",
   "metadata": {},
   "outputs": [
    {
     "data": {
      "text/plain": [
       "536       1\n",
       "543       2\n",
       "537       3\n",
       "538       4\n",
       "136       5\n",
       "       ... \n",
       "423    1522\n",
       "430    1523\n",
       "445    1524\n",
       "447    1525\n",
       "448    1526\n",
       "Name: withdrawal.l2_transaction.kernel_withdrawal_id, Length: 1524, dtype: int64"
      ]
     },
     "execution_count": 58,
     "metadata": {},
     "output_type": "execute_result"
    }
   ],
   "source": [
    "withdrawal_ids = df['withdrawal.l2_transaction.kernel_withdrawal_id'].dropna().sort_values().astype(int)\n",
    "assert not withdrawal_ids.duplicated().any()\n",
    "\n",
    "withdrawal_ids"
   ]
  },
  {
   "cell_type": "markdown",
   "id": "a569ee5e",
   "metadata": {},
   "source": [
    "### Missing withdrawals:"
   ]
  },
  {
   "cell_type": "code",
   "execution_count": 69,
   "id": "e623b0f7",
   "metadata": {},
   "outputs": [
    {
     "data": {
      "text/plain": [
       "{1058, 1065}"
      ]
     },
     "execution_count": 69,
     "metadata": {},
     "output_type": "execute_result"
    }
   ],
   "source": [
    "# withdrawal_ids\n",
    "set(range(1, withdrawal_ids.max() + 1)) - set(withdrawal_ids.to_list())"
   ]
  },
  {
   "cell_type": "code",
   "execution_count": 95,
   "id": "4a6c274a",
   "metadata": {},
   "outputs": [
    {
     "data": {
      "text/plain": [
       "[6265791, 6271358]"
      ]
     },
     "execution_count": 95,
     "metadata": {},
     "output_type": "execute_result"
    }
   ],
   "source": [
    "df[\n",
    "    df['withdrawal.l2_transaction.kernel_withdrawal_id'].isin([1057, 1059])\n",
    "]['withdrawal.l2_transaction.level'].astype(int).to_list()"
   ]
  },
  {
   "cell_type": "markdown",
   "id": "f4b2a280",
   "metadata": {},
   "source": [
    "### Levels:"
   ]
  },
  {
   "cell_type": "code",
   "execution_count": 96,
   "id": "02ae9476",
   "metadata": {},
   "outputs": [
    {
     "data": {
      "text/plain": [
       "withdrawal.l2_transaction.level\n",
       "6,274,209.00    450\n",
       "6,263,219.00    450\n",
       "6,263,311.00    450\n",
       "6,263,059.00    100\n",
       "6,262,977.00     10\n",
       "6,262,938.00      5\n",
       "6,272,853.00      3\n",
       "6,262,913.00      3\n",
       "6,271,358.00      3\n",
       "6,273,681.00      3\n",
       "5,264,485.00      1\n",
       "5,111,151.00      1\n",
       "5,351,776.00      1\n",
       "5,588,406.00      1\n",
       "5,382,917.00      1\n",
       "5,351,679.00      1\n",
       "5,307,434.00      1\n",
       "5,307,509.00      1\n",
       "5,307,538.00      1\n",
       "5,384,020.00      1\n",
       "5,384,385.00      1\n",
       "6,748,543.00      1\n",
       "5,382,535.00      1\n",
       "5,382,583.00      1\n",
       "5,039,150.00      1\n",
       "5,610,374.00      1\n",
       "5,602,953.00      1\n",
       "5,588,428.00      1\n",
       "5,597,662.00      1\n",
       "5,598,324.00      1\n",
       "5,598,237.00      1\n",
       "5,598,447.00      1\n",
       "5,600,838.00      1\n",
       "5,597,495.00      1\n",
       "5,111,103.00      1\n",
       "5,643,944.00      1\n",
       "6,958,905.00      1\n",
       "7,058,957.00      1\n",
       "7,311,063.00      1\n",
       "7,050,148.00      1\n",
       "7,056,725.00      1\n",
       "6,060,621.00      1\n",
       "5,999,549.00      1\n",
       "5,747,366.00      1\n",
       "5,747,322.00      1\n",
       "5,718,707.00      1\n",
       "5,714,307.00      1\n",
       "5,714,294.00      1\n",
       "5,684,984.00      1\n",
       "7,313,230.00      1\n",
       "7,311,286.00      1\n",
       "6,262,849.00      1\n",
       "6,262,816.00      1\n",
       "6,148,981.00      1\n",
       "6,252,440.00      1\n",
       "6,252,476.00      1\n",
       "6,265,791.00      1\n",
       "Name: count, dtype: int64"
      ]
     },
     "execution_count": 96,
     "metadata": {},
     "output_type": "execute_result"
    }
   ],
   "source": [
    "df['withdrawal.l2_transaction.level'].value_counts()"
   ]
  },
  {
   "cell_type": "markdown",
   "id": "c0ea9f97",
   "metadata": {},
   "source": [
    "### What are parameters hash?"
   ]
  },
  {
   "cell_type": "code",
   "execution_count": 98,
   "id": "24945d2d",
   "metadata": {},
   "outputs": [
    {
     "data": {
      "text/plain": [
       "withdrawal.l2_transaction.parameters_hash\n",
       "16b767c43aba58568e9dc05a1e2ba47d    99\n",
       "5efa431a16915f9eb900d9ec53dbde37     1\n",
       "73a00a60477e59829ca035a878b48f15     1\n",
       "3ea4a7662a0a56e1ae181927aeb5d6a4     1\n",
       "1f155ba44ee45038907a83aa283e044a     1\n",
       "90a2b27e57975864a0846c17cb3105b3     1\n",
       "ea287c808271515eb6c99be4eae352b0     1\n",
       "c6d79aa4d7ff5eb68df143b6c13d6134     1\n",
       "Name: count, dtype: int64"
      ]
     },
     "execution_count": 98,
     "metadata": {},
     "output_type": "execute_result"
    }
   ],
   "source": [
    "df['withdrawal.l2_transaction.parameters_hash'].value_counts()"
   ]
  },
  {
   "cell_type": "markdown",
   "id": "00f3143f",
   "metadata": {},
   "source": [
    "### L2 tickets:"
   ]
  },
  {
   "cell_type": "code",
   "execution_count": 99,
   "id": "cd2d7be4",
   "metadata": {},
   "outputs": [
    {
     "data": {
      "text/plain": [
       "withdrawal.l2_transaction.ticket.hash\n",
       "71633053619282981145548614114746933288401055647068660200262395418774065381735    926\n",
       "9127002238795696064282543683188674942190822398625278725945646631384514161455     581\n",
       "12264034381471993363263869037032235995742822566750644554529177447255212056362      8\n",
       "94307383278737158402120131047685288725437552599737436826370621448931166249308      6\n",
       "59127759903831710082238055012661935269923438634918454288176556644870427973106      3\n",
       "Name: count, dtype: int64"
      ]
     },
     "execution_count": 99,
     "metadata": {},
     "output_type": "execute_result"
    }
   ],
   "source": [
    "df['withdrawal.l2_transaction.ticket.hash'].value_counts()"
   ]
  },
  {
   "cell_type": "code",
   "execution_count": 107,
   "id": "281d2f72",
   "metadata": {},
   "outputs": [
    {
     "data": {
      "text/plain": [
       "withdrawal.l2_transaction.ticket.whitelisted\n",
       "True    1524\n",
       "Name: count, dtype: int64"
      ]
     },
     "execution_count": 107,
     "metadata": {},
     "output_type": "execute_result"
    }
   ],
   "source": [
    "df['withdrawal.l2_transaction.ticket.whitelisted'].value_counts()"
   ]
  },
  {
   "cell_type": "markdown",
   "id": "0e718be4",
   "metadata": {},
   "source": [
    "### Multiple withdrawals in one hash:"
   ]
  },
  {
   "cell_type": "code",
   "execution_count": 112,
   "id": "1cfc7225",
   "metadata": {},
   "outputs": [
    {
     "data": {
      "text/plain": [
       "withdrawal.l2_transaction.transaction_hash\n",
       "2ffa4514f53052b6dbdc8a5facd22e10be5cd3df687e6bd59aead7bb59538bdd    450\n",
       "9645796b5153072f94c2c8390641da9603471eba0588408a5d414e9603f1754f    450\n",
       "3a116245e9cb547dc101653d6e7014abf663d67ec378500291d77b5d2684d163    450\n",
       "5a8f4126ebb02a99c815d7cd63cd25cc998633896f5e13e1c38e34b2af758a07    100\n",
       "d461bb7ca25442f2688f279fb370833a1c0aea5b65aa00f59fee5b116cdcc79a     10\n",
       "0e6079442f4278a0151e39f47048fc2abf0a7d63e420f6a5da8d6116f578ae12      5\n",
       "f06a036fc3a1396ebe36ef80f9080748e5c58660162b8be0ab41ee29d1437dc6      3\n",
       "9467e4fd7e4f1fe0e49088f49469d20c7cd598611c5ee9f90534fdea4945c67c      3\n",
       "b00b86e3a978e2273530e89833d7aad00e453af5fdffae84be601c3b548aa6b9      3\n",
       "9dca8aa2a43b2856788735ee2b734aedbc24079fa657d71b7adca76d06dd8594      3\n",
       "99db7a6a30209965d791a71279ed0159ac6d053d2d00843f4c450b3081367b6b      1\n",
       "be26bc31a16e334e479e0087e8f448b43e266d2446e3ec6faa668e026eb07c65      1\n",
       "f1ba07529c3355cabd58e0c17bccf01d32e205149877c2d1113c1254391500d3      1\n",
       "77ff272b3b1154028e04e9568b9823f2ab6940cb5b4673dd7eb5ec03057526f2      1\n",
       "c6028c6289948d5530a04ad495a8e76cf20d3c52bd2452eb405cd77c456783c7      1\n",
       "4192cc4c5ab7cd3c62f436bc0f0c84cd01e100afc1699dbea9a591af81047cc6      1\n",
       "eadfe29466a6675d413009eb291c7aa694214800cc4a489077cf6894274de62d      1\n",
       "b2d72c0ee4a07a1049761f3e48857b425ada1362b260b9c9ebc1eda1d1460c45      1\n",
       "257f61cd1b9b8caf3b592069a0d5ae09f1cb468653f4834bdecab80f6ba4e558      1\n",
       "676f81b6bde505fd6ea27abe219cb43c61dd22e09c4b56a41a7c823758819102      1\n",
       "220539f68d7a3e081058a2f516bba2addad842192faa85e0a28f09122cf74913      1\n",
       "7cc7dd6d3df5f7eee6c8686005131c3b8b537cca09aaf4430a057d7b68540a0a      1\n",
       "2c9f7b4bff8b8ec94184293cf807b85f47c02a013340035cdfc5aaee201a6078      1\n",
       "2d22357824e946737409bbc76249cd3b665e922ed302c014e6f29cc5eefb9738      1\n",
       "78abbd9ef237a21beac3e90a9e64caa9a6b478907a1d705069bfd4d1077d1e91      1\n",
       "9c6532536321d1cdf5796bd1d85358c2fd21778c3336594e7a0c014f53bfbe6e      1\n",
       "370a6e98dc7a688ee16eb209790cf6c55362d9341eee3c02eae8729aae6541a0      1\n",
       "17a00eb77599126d6f19349a0467b168f6bf186c2d2f53b7e77e5ab236afa466      1\n",
       "b0f41b38642f9ea3fd8f9dc5ad9149902a99a8ced14a6ee1e2400c1eb15d6239      1\n",
       "2e1031e00807e8dd61cbe79a4b624a98ae2d5b7b49b0fd85cdd2b347234917ca      1\n",
       "552e61b0e54367d0b531c981dc2deb99fec52364d8c6a788392b2c404ed39692      1\n",
       "2b0575c24a24ce8a1adf0632919db2513fa799c5781a718f94d5b701365ee7e3      1\n",
       "d29361f3c1a2420680d37cb7064d00b920492fa91385c246c50bf8ca9cd96476      1\n",
       "f2a2d951b577d522322f2077133dd26854e3c25a99771712d704f683149d6945      1\n",
       "d9a77153c8e04358ad36cf48f99ec80c6f95038fdd92f518bd78802d1f697e88      1\n",
       "17a7300242b36af070cf82d959722ce2a1e225151eba824f1105d0b3d821fc75      1\n",
       "4a04a9b68001f5bc80e50e154553ea4db7b9b9e3c2f3dde48a18ea77ebd70459      1\n",
       "d8316f20f345df0b1f6ec7b3908ea0608f0cfdb80f21191e1dcd0b7234a0be6a      1\n",
       "eb6a7eff76de38fa493c98e97fd64abc362593ff7aa49db4d3280bfad1b434cd      1\n",
       "e38c0d0e64662c2fbe0682edc14e6cf54debd328e0eb5fcffdadbe6d4fedcaa5      1\n",
       "d4e7323d4db36f70e48ef7321b6e33c85610bde30e3ccf63756b7fe851f384e2      1\n",
       "3bf82ca9457a647e1ed7ed2be4ad1fdd78f9ea23bc5ab42a361580d226c95e7f      1\n",
       "abe1d85761e07b2f16c0ac4eec898ed208890afa97879805353ac1eef419eaed      1\n",
       "5d254c5daa3a61bfaf3d92f85d3b80915d3ecf5b7e9733b02b1823ba09beb0a6      1\n",
       "a6ba671553f7c4c536ddc5bc94589025c640c03e09c9fda04f5c1bb3e5657840      1\n",
       "6b1eabef6f072d73d40d5c82e13f8e4d44191fe9b1fae56e04677f8adaa5cf12      1\n",
       "a4b25543701ef681f036ec9890559931cb98b0ea708bc764659d04662dc81a9a      1\n",
       "0195b9cde58f2d168c3fa3a448c5e29630fcb6802ed967b7d28e022b23e21efc      1\n",
       "dfff37cbe77352b11586d3dfeabf56ce71f66da52884564971af7243472a2516      1\n",
       "16eea141cdbdf43f9cb82f1309685dbadff4d6d276471afdf36c1dae85225bc7      1\n",
       "21cbae35e2931d7aa67da76919e9879b820f195159a61030656698ebc5560047      1\n",
       "0f9ac2ec9c491cb519445fcf4a447cca3f44da4b7862cf4014117e9016291415      1\n",
       "60d1e39a95e4ca5d3f4127826eb274c560c1d1ed5d2c2ee1a5d9a4ed9728e889      1\n",
       "feb49dd2b1c4429b20c8bba52f36f52e59a620540f0363052383ac539948dcf7      1\n",
       "4e9b04233fbabe5894ce277a7a474be7c9fdb8bfc87670430001ee1a04266fd2      1\n",
       "51d2235e0ed699cdef39c4c2fef61f0c84c687678859fb62183bafdfe25d6f3a      1\n",
       "e43d62e9edceadbe809968f8cdb98c920d8151db6699125360016fcad1e9fbe1      1\n",
       "Name: count, dtype: int64"
      ]
     },
     "execution_count": 112,
     "metadata": {},
     "output_type": "execute_result"
    }
   ],
   "source": [
    "df['withdrawal.l2_transaction.transaction_hash'].value_counts()"
   ]
  },
  {
   "cell_type": "markdown",
   "id": "21ab94e7",
   "metadata": {},
   "source": [
    "### What is `withdrawal.l2_transaction.transaction_index`?"
   ]
  },
  {
   "cell_type": "code",
   "execution_count": 113,
   "id": "b8492bda",
   "metadata": {
    "scrolled": true
   },
   "outputs": [
    {
     "data": {
      "text/plain": [
       "withdrawal.l2_transaction.transaction_index\n",
       "0.00    1043\n",
       "1.00     477\n",
       "2.00       4\n",
       "Name: count, dtype: int64"
      ]
     },
     "execution_count": 113,
     "metadata": {},
     "output_type": "execute_result"
    }
   ],
   "source": [
    "df['withdrawal.l2_transaction.transaction_index'].value_counts()"
   ]
  },
  {
   "cell_type": "markdown",
   "id": "41987123",
   "metadata": {},
   "source": [
    "### Cemented at:"
   ]
  },
  {
   "cell_type": "code",
   "execution_count": 127,
   "id": "6bd90a76",
   "metadata": {},
   "outputs": [
    {
     "data": {
      "text/plain": [
       "withdrawal.outbox_message.cemented_at\n",
       "2024-09-11T11:47:45+00:00      1\n",
       "2024-09-13T20:56:01+00:00      2\n",
       "2024-09-18T15:22:47+00:00      1\n",
       "2024-09-21T13:30:45+00:00      2\n",
       "2024-09-21T20:46:52+00:00      1\n",
       "2024-09-21T21:01:52+00:00      2\n",
       "2024-09-24T10:25:32+00:00      2\n",
       "2024-09-24T11:55:32+00:00      5\n",
       "2024-09-24T12:10:32+00:00      1\n",
       "2024-09-24T12:40:32+00:00      1\n",
       "2024-09-24T13:40:32+00:00      1\n",
       "2024-09-25T08:10:32+00:00      1\n",
       "2024-09-26T10:55:32+00:00      1\n",
       "2024-09-27T05:10:32+00:00      2\n",
       "2024-09-27T06:40:32+00:00      1\n",
       "2024-09-27T15:10:32+00:00      2\n",
       "2024-10-01T05:40:32+00:00      1\n",
       "2024-10-02T02:55:32+00:00      1\n",
       "2024-10-03T00:40:32+00:00      1\n",
       "2024-10-03T19:40:32+00:00      2\n",
       "2024-10-03T21:25:32+00:00     20\n",
       "2024-10-03T21:40:32+00:00    100\n",
       "2024-10-03T21:55:32+00:00    800\n",
       "2024-10-03T22:10:32+00:00      1\n",
       "2024-10-03T23:10:32+00:00      4\n",
       "2024-10-03T23:25:32+00:00    106\n",
       "2024-10-03T23:40:32+00:00    350\n",
       "2024-10-08T09:28:50+00:00      1\n",
       "2024-10-10T11:29:02+00:00      1\n",
       "2024-10-11T11:13:04+00:00      1\n",
       "2024-10-14T08:02:39+00:00      1\n",
       "2024-10-14T08:18:37+00:00      1\n",
       "2024-10-14T08:41:05+00:00      1\n",
       "Name: count, dtype: int64"
      ]
     },
     "execution_count": 127,
     "metadata": {},
     "output_type": "execute_result"
    }
   ],
   "source": [
    "df['withdrawal.outbox_message.cemented_at'].value_counts().sort_index()"
   ]
  },
  {
   "cell_type": "markdown",
   "id": "36c4fa3a",
   "metadata": {},
   "source": [
    "### Last withdrawals stats:"
   ]
  },
  {
   "cell_type": "code",
   "execution_count": 126,
   "id": "a29204bc",
   "metadata": {},
   "outputs": [
    {
     "data": {
      "text/html": [
       "<div>\n",
       "<style scoped>\n",
       "    .dataframe tbody tr th:only-of-type {\n",
       "        vertical-align: middle;\n",
       "    }\n",
       "\n",
       "    .dataframe tbody tr th {\n",
       "        vertical-align: top;\n",
       "    }\n",
       "\n",
       "    .dataframe thead th {\n",
       "        text-align: right;\n",
       "    }\n",
       "</style>\n",
       "<table border=\"1\" class=\"dataframe\">\n",
       "  <thead>\n",
       "    <tr style=\"text-align: right;\">\n",
       "      <th></th>\n",
       "      <th>created_at</th>\n",
       "      <th>cemented_at</th>\n",
       "    </tr>\n",
       "  </thead>\n",
       "  <tbody>\n",
       "    <tr>\n",
       "      <th>994</th>\n",
       "      <td>2024-10-03T23:25:32+00:00</td>\n",
       "      <td>2024-09-19T19:16:57+00:00</td>\n",
       "    </tr>\n",
       "    <tr>\n",
       "      <th>995</th>\n",
       "      <td>2024-10-03T21:55:32+00:00</td>\n",
       "      <td>2024-09-19T17:19:55+00:00</td>\n",
       "    </tr>\n",
       "    <tr>\n",
       "      <th>995</th>\n",
       "      <td>2024-10-03T23:40:32+00:00</td>\n",
       "      <td>2024-09-19T19:17:12+00:00</td>\n",
       "    </tr>\n",
       "    <tr>\n",
       "      <th>996</th>\n",
       "      <td>2024-10-03T23:25:32+00:00</td>\n",
       "      <td>2024-09-19T19:16:57+00:00</td>\n",
       "    </tr>\n",
       "    <tr>\n",
       "      <th>997</th>\n",
       "      <td>2024-10-03T21:55:32+00:00</td>\n",
       "      <td>2024-09-19T17:20:02+00:00</td>\n",
       "    </tr>\n",
       "    <tr>\n",
       "      <th>997</th>\n",
       "      <td>2024-10-03T23:40:32+00:00</td>\n",
       "      <td>2024-09-19T19:17:07+00:00</td>\n",
       "    </tr>\n",
       "    <tr>\n",
       "      <th>998</th>\n",
       "      <td>2024-10-03T21:55:32+00:00</td>\n",
       "      <td>2024-09-19T17:20:12+00:00</td>\n",
       "    </tr>\n",
       "    <tr>\n",
       "      <th>998</th>\n",
       "      <td>2024-10-03T23:40:32+00:00</td>\n",
       "      <td>2024-09-19T19:17:12+00:00</td>\n",
       "    </tr>\n",
       "    <tr>\n",
       "      <th>999</th>\n",
       "      <td>2024-10-03T21:55:32+00:00</td>\n",
       "      <td>2024-09-19T17:19:55+00:00</td>\n",
       "    </tr>\n",
       "    <tr>\n",
       "      <th>999</th>\n",
       "      <td>2024-10-03T23:40:32+00:00</td>\n",
       "      <td>2024-09-19T19:17:17+00:00</td>\n",
       "    </tr>\n",
       "  </tbody>\n",
       "</table>\n",
       "</div>"
      ],
      "text/plain": [
       "                    created_at                cemented_at\n",
       "994  2024-10-03T23:25:32+00:00  2024-09-19T19:16:57+00:00\n",
       "995  2024-10-03T21:55:32+00:00  2024-09-19T17:19:55+00:00\n",
       "995  2024-10-03T23:40:32+00:00  2024-09-19T19:17:12+00:00\n",
       "996  2024-10-03T23:25:32+00:00  2024-09-19T19:16:57+00:00\n",
       "997  2024-10-03T21:55:32+00:00  2024-09-19T17:20:02+00:00\n",
       "997  2024-10-03T23:40:32+00:00  2024-09-19T19:17:07+00:00\n",
       "998  2024-10-03T21:55:32+00:00  2024-09-19T17:20:12+00:00\n",
       "998  2024-10-03T23:40:32+00:00  2024-09-19T19:17:12+00:00\n",
       "999  2024-10-03T21:55:32+00:00  2024-09-19T17:19:55+00:00\n",
       "999  2024-10-03T23:40:32+00:00  2024-09-19T19:17:17+00:00"
      ]
     },
     "execution_count": 126,
     "metadata": {},
     "output_type": "execute_result"
    }
   ],
   "source": [
    "pd.DataFrame({\n",
    "    'created_at': df['withdrawal.outbox_message.cemented_at'],\n",
    "    'cemented_at': df['withdrawal.outbox_message.created_at'],\n",
    "}).sort_index().dropna()[-10:]"
   ]
  },
  {
   "cell_type": "markdown",
   "id": "ad31a1d9",
   "metadata": {},
   "source": [
    "### Outbox initiators:\n",
    "- [ ] why `withdrawal.l1_transaction.initiator` is only `MIDL.dev etherlink operator`?"
   ]
  },
  {
   "cell_type": "code",
   "execution_count": 141,
   "id": "7845a928",
   "metadata": {},
   "outputs": [
    {
     "data": {
      "text/plain": [
       "withdrawal.l1_transaction.initiator\n",
       "tz1SJjg3biaXZft3KzUeNXTGSkDvzvHU6URA    26\n",
       "Name: count, dtype: int64"
      ]
     },
     "execution_count": 141,
     "metadata": {},
     "output_type": "execute_result"
    }
   ],
   "source": [
    "df['withdrawal.l1_transaction.initiator'].value_counts()"
   ]
  },
  {
   "cell_type": "code",
   "execution_count": 146,
   "id": "6e331cff",
   "metadata": {},
   "outputs": [
    {
     "data": {
      "text/plain": [
       "withdrawal.l1_transaction.sender\n",
       "tz1P2Jn2fQktnA4HHMkLRNy2ebuscUx7EUbn    26\n",
       "Name: count, dtype: int64"
      ]
     },
     "execution_count": 146,
     "metadata": {},
     "output_type": "execute_result"
    }
   ],
   "source": [
    "df['withdrawal.l1_transaction.sender'].value_counts()"
   ]
  },
  {
   "cell_type": "markdown",
   "id": "3646fee3",
   "metadata": {},
   "source": [
    "### Executed withdrawals:"
   ]
  },
  {
   "cell_type": "code",
   "execution_count": 153,
   "id": "3e3fd3f4",
   "metadata": {},
   "outputs": [
    {
     "data": {
      "text/html": [
       "<div>\n",
       "<style scoped>\n",
       "    .dataframe tbody tr th:only-of-type {\n",
       "        vertical-align: middle;\n",
       "    }\n",
       "\n",
       "    .dataframe tbody tr th {\n",
       "        vertical-align: top;\n",
       "    }\n",
       "\n",
       "    .dataframe thead th {\n",
       "        text-align: right;\n",
       "    }\n",
       "</style>\n",
       "<table border=\"1\" class=\"dataframe\">\n",
       "  <thead>\n",
       "    <tr style=\"text-align: right;\">\n",
       "      <th></th>\n",
       "      <th>status</th>\n",
       "      <th>withdrawal.l1_transaction.initiator</th>\n",
       "      <th>withdrawal.l1_transaction.sender</th>\n",
       "      <th>withdrawal.l2_transaction.l2_token.id</th>\n",
       "    </tr>\n",
       "  </thead>\n",
       "  <tbody>\n",
       "    <tr>\n",
       "      <th>534</th>\n",
       "      <td>FINISHED</td>\n",
       "      <td>tz1SJjg3biaXZft3KzUeNXTGSkDvzvHU6URA</td>\n",
       "      <td>tz1P2Jn2fQktnA4HHMkLRNy2ebuscUx7EUbn</td>\n",
       "      <td>xtz</td>\n",
       "    </tr>\n",
       "    <tr>\n",
       "      <th>535</th>\n",
       "      <td>FINISHED</td>\n",
       "      <td>tz1SJjg3biaXZft3KzUeNXTGSkDvzvHU6URA</td>\n",
       "      <td>tz1P2Jn2fQktnA4HHMkLRNy2ebuscUx7EUbn</td>\n",
       "      <td>xtz</td>\n",
       "    </tr>\n",
       "    <tr>\n",
       "      <th>536</th>\n",
       "      <td>FINISHED</td>\n",
       "      <td>tz1SJjg3biaXZft3KzUeNXTGSkDvzvHU6URA</td>\n",
       "      <td>tz1P2Jn2fQktnA4HHMkLRNy2ebuscUx7EUbn</td>\n",
       "      <td>baa233e2f62f45e9d91dacd3d6c6a57bc2cbc575</td>\n",
       "    </tr>\n",
       "    <tr>\n",
       "      <th>537</th>\n",
       "      <td>FINISHED</td>\n",
       "      <td>tz1SJjg3biaXZft3KzUeNXTGSkDvzvHU6URA</td>\n",
       "      <td>tz1P2Jn2fQktnA4HHMkLRNy2ebuscUx7EUbn</td>\n",
       "      <td>xtz</td>\n",
       "    </tr>\n",
       "    <tr>\n",
       "      <th>538</th>\n",
       "      <td>FINISHED</td>\n",
       "      <td>tz1SJjg3biaXZft3KzUeNXTGSkDvzvHU6URA</td>\n",
       "      <td>tz1P2Jn2fQktnA4HHMkLRNy2ebuscUx7EUbn</td>\n",
       "      <td>xtz</td>\n",
       "    </tr>\n",
       "    <tr>\n",
       "      <th>539</th>\n",
       "      <td>FINISHED</td>\n",
       "      <td>tz1SJjg3biaXZft3KzUeNXTGSkDvzvHU6URA</td>\n",
       "      <td>tz1P2Jn2fQktnA4HHMkLRNy2ebuscUx7EUbn</td>\n",
       "      <td>xtz</td>\n",
       "    </tr>\n",
       "    <tr>\n",
       "      <th>540</th>\n",
       "      <td>FINISHED</td>\n",
       "      <td>tz1SJjg3biaXZft3KzUeNXTGSkDvzvHU6URA</td>\n",
       "      <td>tz1P2Jn2fQktnA4HHMkLRNy2ebuscUx7EUbn</td>\n",
       "      <td>8e73ae3cf688fbd8368c99520d26f9ef1b4d3bca</td>\n",
       "    </tr>\n",
       "    <tr>\n",
       "      <th>541</th>\n",
       "      <td>FINISHED</td>\n",
       "      <td>tz1SJjg3biaXZft3KzUeNXTGSkDvzvHU6URA</td>\n",
       "      <td>tz1P2Jn2fQktnA4HHMkLRNy2ebuscUx7EUbn</td>\n",
       "      <td>xtz</td>\n",
       "    </tr>\n",
       "    <tr>\n",
       "      <th>542</th>\n",
       "      <td>FINISHED</td>\n",
       "      <td>tz1SJjg3biaXZft3KzUeNXTGSkDvzvHU6URA</td>\n",
       "      <td>tz1P2Jn2fQktnA4HHMkLRNy2ebuscUx7EUbn</td>\n",
       "      <td>baa233e2f62f45e9d91dacd3d6c6a57bc2cbc575</td>\n",
       "    </tr>\n",
       "    <tr>\n",
       "      <th>543</th>\n",
       "      <td>FINISHED</td>\n",
       "      <td>tz1SJjg3biaXZft3KzUeNXTGSkDvzvHU6URA</td>\n",
       "      <td>tz1P2Jn2fQktnA4HHMkLRNy2ebuscUx7EUbn</td>\n",
       "      <td>xtz</td>\n",
       "    </tr>\n",
       "    <tr>\n",
       "      <th>544</th>\n",
       "      <td>FINISHED</td>\n",
       "      <td>tz1SJjg3biaXZft3KzUeNXTGSkDvzvHU6URA</td>\n",
       "      <td>tz1P2Jn2fQktnA4HHMkLRNy2ebuscUx7EUbn</td>\n",
       "      <td>xtz</td>\n",
       "    </tr>\n",
       "    <tr>\n",
       "      <th>545</th>\n",
       "      <td>FINISHED</td>\n",
       "      <td>tz1SJjg3biaXZft3KzUeNXTGSkDvzvHU6URA</td>\n",
       "      <td>tz1P2Jn2fQktnA4HHMkLRNy2ebuscUx7EUbn</td>\n",
       "      <td>xtz</td>\n",
       "    </tr>\n",
       "    <tr>\n",
       "      <th>546</th>\n",
       "      <td>FINISHED</td>\n",
       "      <td>tz1SJjg3biaXZft3KzUeNXTGSkDvzvHU6URA</td>\n",
       "      <td>tz1P2Jn2fQktnA4HHMkLRNy2ebuscUx7EUbn</td>\n",
       "      <td>59118d19848baca5c3dd1603acfc99c4cbccc3db</td>\n",
       "    </tr>\n",
       "    <tr>\n",
       "      <th>547</th>\n",
       "      <td>FINISHED</td>\n",
       "      <td>tz1SJjg3biaXZft3KzUeNXTGSkDvzvHU6URA</td>\n",
       "      <td>tz1P2Jn2fQktnA4HHMkLRNy2ebuscUx7EUbn</td>\n",
       "      <td>xtz</td>\n",
       "    </tr>\n",
       "    <tr>\n",
       "      <th>548</th>\n",
       "      <td>FINISHED</td>\n",
       "      <td>tz1SJjg3biaXZft3KzUeNXTGSkDvzvHU6URA</td>\n",
       "      <td>tz1P2Jn2fQktnA4HHMkLRNy2ebuscUx7EUbn</td>\n",
       "      <td>xtz</td>\n",
       "    </tr>\n",
       "    <tr>\n",
       "      <th>549</th>\n",
       "      <td>FINISHED</td>\n",
       "      <td>tz1SJjg3biaXZft3KzUeNXTGSkDvzvHU6URA</td>\n",
       "      <td>tz1P2Jn2fQktnA4HHMkLRNy2ebuscUx7EUbn</td>\n",
       "      <td>59118d19848baca5c3dd1603acfc99c4cbccc3db</td>\n",
       "    </tr>\n",
       "    <tr>\n",
       "      <th>550</th>\n",
       "      <td>FINISHED</td>\n",
       "      <td>tz1SJjg3biaXZft3KzUeNXTGSkDvzvHU6URA</td>\n",
       "      <td>tz1P2Jn2fQktnA4HHMkLRNy2ebuscUx7EUbn</td>\n",
       "      <td>baa233e2f62f45e9d91dacd3d6c6a57bc2cbc575</td>\n",
       "    </tr>\n",
       "    <tr>\n",
       "      <th>743</th>\n",
       "      <td>FINISHED</td>\n",
       "      <td>tz1SJjg3biaXZft3KzUeNXTGSkDvzvHU6URA</td>\n",
       "      <td>tz1P2Jn2fQktnA4HHMkLRNy2ebuscUx7EUbn</td>\n",
       "      <td>xtz</td>\n",
       "    </tr>\n",
       "    <tr>\n",
       "      <th>99</th>\n",
       "      <td>FINISHED</td>\n",
       "      <td>tz1SJjg3biaXZft3KzUeNXTGSkDvzvHU6URA</td>\n",
       "      <td>tz1P2Jn2fQktnA4HHMkLRNy2ebuscUx7EUbn</td>\n",
       "      <td>xtz</td>\n",
       "    </tr>\n",
       "    <tr>\n",
       "      <th>415</th>\n",
       "      <td>FINISHED</td>\n",
       "      <td>tz1SJjg3biaXZft3KzUeNXTGSkDvzvHU6URA</td>\n",
       "      <td>tz1P2Jn2fQktnA4HHMkLRNy2ebuscUx7EUbn</td>\n",
       "      <td>xtz</td>\n",
       "    </tr>\n",
       "    <tr>\n",
       "      <th>464</th>\n",
       "      <td>FINISHED</td>\n",
       "      <td>tz1SJjg3biaXZft3KzUeNXTGSkDvzvHU6URA</td>\n",
       "      <td>tz1P2Jn2fQktnA4HHMkLRNy2ebuscUx7EUbn</td>\n",
       "      <td>xtz</td>\n",
       "    </tr>\n",
       "    <tr>\n",
       "      <th>526</th>\n",
       "      <td>FINISHED</td>\n",
       "      <td>tz1SJjg3biaXZft3KzUeNXTGSkDvzvHU6URA</td>\n",
       "      <td>tz1P2Jn2fQktnA4HHMkLRNy2ebuscUx7EUbn</td>\n",
       "      <td>59118d19848baca5c3dd1603acfc99c4cbccc3db</td>\n",
       "    </tr>\n",
       "    <tr>\n",
       "      <th>586</th>\n",
       "      <td>FINISHED</td>\n",
       "      <td>tz1SJjg3biaXZft3KzUeNXTGSkDvzvHU6URA</td>\n",
       "      <td>tz1P2Jn2fQktnA4HHMkLRNy2ebuscUx7EUbn</td>\n",
       "      <td>xtz</td>\n",
       "    </tr>\n",
       "    <tr>\n",
       "      <th>609</th>\n",
       "      <td>FINISHED</td>\n",
       "      <td>tz1SJjg3biaXZft3KzUeNXTGSkDvzvHU6URA</td>\n",
       "      <td>tz1P2Jn2fQktnA4HHMkLRNy2ebuscUx7EUbn</td>\n",
       "      <td>xtz</td>\n",
       "    </tr>\n",
       "    <tr>\n",
       "      <th>652</th>\n",
       "      <td>FINISHED</td>\n",
       "      <td>tz1SJjg3biaXZft3KzUeNXTGSkDvzvHU6URA</td>\n",
       "      <td>tz1P2Jn2fQktnA4HHMkLRNy2ebuscUx7EUbn</td>\n",
       "      <td>59118d19848baca5c3dd1603acfc99c4cbccc3db</td>\n",
       "    </tr>\n",
       "    <tr>\n",
       "      <th>732</th>\n",
       "      <td>FINISHED</td>\n",
       "      <td>tz1SJjg3biaXZft3KzUeNXTGSkDvzvHU6URA</td>\n",
       "      <td>tz1P2Jn2fQktnA4HHMkLRNy2ebuscUx7EUbn</td>\n",
       "      <td>xtz</td>\n",
       "    </tr>\n",
       "  </tbody>\n",
       "</table>\n",
       "</div>"
      ],
      "text/plain": [
       "       status   withdrawal.l1_transaction.initiator  \\\n",
       "534  FINISHED  tz1SJjg3biaXZft3KzUeNXTGSkDvzvHU6URA   \n",
       "535  FINISHED  tz1SJjg3biaXZft3KzUeNXTGSkDvzvHU6URA   \n",
       "536  FINISHED  tz1SJjg3biaXZft3KzUeNXTGSkDvzvHU6URA   \n",
       "537  FINISHED  tz1SJjg3biaXZft3KzUeNXTGSkDvzvHU6URA   \n",
       "538  FINISHED  tz1SJjg3biaXZft3KzUeNXTGSkDvzvHU6URA   \n",
       "539  FINISHED  tz1SJjg3biaXZft3KzUeNXTGSkDvzvHU6URA   \n",
       "540  FINISHED  tz1SJjg3biaXZft3KzUeNXTGSkDvzvHU6URA   \n",
       "541  FINISHED  tz1SJjg3biaXZft3KzUeNXTGSkDvzvHU6URA   \n",
       "542  FINISHED  tz1SJjg3biaXZft3KzUeNXTGSkDvzvHU6URA   \n",
       "543  FINISHED  tz1SJjg3biaXZft3KzUeNXTGSkDvzvHU6URA   \n",
       "544  FINISHED  tz1SJjg3biaXZft3KzUeNXTGSkDvzvHU6URA   \n",
       "545  FINISHED  tz1SJjg3biaXZft3KzUeNXTGSkDvzvHU6URA   \n",
       "546  FINISHED  tz1SJjg3biaXZft3KzUeNXTGSkDvzvHU6URA   \n",
       "547  FINISHED  tz1SJjg3biaXZft3KzUeNXTGSkDvzvHU6URA   \n",
       "548  FINISHED  tz1SJjg3biaXZft3KzUeNXTGSkDvzvHU6URA   \n",
       "549  FINISHED  tz1SJjg3biaXZft3KzUeNXTGSkDvzvHU6URA   \n",
       "550  FINISHED  tz1SJjg3biaXZft3KzUeNXTGSkDvzvHU6URA   \n",
       "743  FINISHED  tz1SJjg3biaXZft3KzUeNXTGSkDvzvHU6URA   \n",
       "99   FINISHED  tz1SJjg3biaXZft3KzUeNXTGSkDvzvHU6URA   \n",
       "415  FINISHED  tz1SJjg3biaXZft3KzUeNXTGSkDvzvHU6URA   \n",
       "464  FINISHED  tz1SJjg3biaXZft3KzUeNXTGSkDvzvHU6URA   \n",
       "526  FINISHED  tz1SJjg3biaXZft3KzUeNXTGSkDvzvHU6URA   \n",
       "586  FINISHED  tz1SJjg3biaXZft3KzUeNXTGSkDvzvHU6URA   \n",
       "609  FINISHED  tz1SJjg3biaXZft3KzUeNXTGSkDvzvHU6URA   \n",
       "652  FINISHED  tz1SJjg3biaXZft3KzUeNXTGSkDvzvHU6URA   \n",
       "732  FINISHED  tz1SJjg3biaXZft3KzUeNXTGSkDvzvHU6URA   \n",
       "\n",
       "         withdrawal.l1_transaction.sender  \\\n",
       "534  tz1P2Jn2fQktnA4HHMkLRNy2ebuscUx7EUbn   \n",
       "535  tz1P2Jn2fQktnA4HHMkLRNy2ebuscUx7EUbn   \n",
       "536  tz1P2Jn2fQktnA4HHMkLRNy2ebuscUx7EUbn   \n",
       "537  tz1P2Jn2fQktnA4HHMkLRNy2ebuscUx7EUbn   \n",
       "538  tz1P2Jn2fQktnA4HHMkLRNy2ebuscUx7EUbn   \n",
       "539  tz1P2Jn2fQktnA4HHMkLRNy2ebuscUx7EUbn   \n",
       "540  tz1P2Jn2fQktnA4HHMkLRNy2ebuscUx7EUbn   \n",
       "541  tz1P2Jn2fQktnA4HHMkLRNy2ebuscUx7EUbn   \n",
       "542  tz1P2Jn2fQktnA4HHMkLRNy2ebuscUx7EUbn   \n",
       "543  tz1P2Jn2fQktnA4HHMkLRNy2ebuscUx7EUbn   \n",
       "544  tz1P2Jn2fQktnA4HHMkLRNy2ebuscUx7EUbn   \n",
       "545  tz1P2Jn2fQktnA4HHMkLRNy2ebuscUx7EUbn   \n",
       "546  tz1P2Jn2fQktnA4HHMkLRNy2ebuscUx7EUbn   \n",
       "547  tz1P2Jn2fQktnA4HHMkLRNy2ebuscUx7EUbn   \n",
       "548  tz1P2Jn2fQktnA4HHMkLRNy2ebuscUx7EUbn   \n",
       "549  tz1P2Jn2fQktnA4HHMkLRNy2ebuscUx7EUbn   \n",
       "550  tz1P2Jn2fQktnA4HHMkLRNy2ebuscUx7EUbn   \n",
       "743  tz1P2Jn2fQktnA4HHMkLRNy2ebuscUx7EUbn   \n",
       "99   tz1P2Jn2fQktnA4HHMkLRNy2ebuscUx7EUbn   \n",
       "415  tz1P2Jn2fQktnA4HHMkLRNy2ebuscUx7EUbn   \n",
       "464  tz1P2Jn2fQktnA4HHMkLRNy2ebuscUx7EUbn   \n",
       "526  tz1P2Jn2fQktnA4HHMkLRNy2ebuscUx7EUbn   \n",
       "586  tz1P2Jn2fQktnA4HHMkLRNy2ebuscUx7EUbn   \n",
       "609  tz1P2Jn2fQktnA4HHMkLRNy2ebuscUx7EUbn   \n",
       "652  tz1P2Jn2fQktnA4HHMkLRNy2ebuscUx7EUbn   \n",
       "732  tz1P2Jn2fQktnA4HHMkLRNy2ebuscUx7EUbn   \n",
       "\n",
       "        withdrawal.l2_transaction.l2_token.id  \n",
       "534                                       xtz  \n",
       "535                                       xtz  \n",
       "536  baa233e2f62f45e9d91dacd3d6c6a57bc2cbc575  \n",
       "537                                       xtz  \n",
       "538                                       xtz  \n",
       "539                                       xtz  \n",
       "540  8e73ae3cf688fbd8368c99520d26f9ef1b4d3bca  \n",
       "541                                       xtz  \n",
       "542  baa233e2f62f45e9d91dacd3d6c6a57bc2cbc575  \n",
       "543                                       xtz  \n",
       "544                                       xtz  \n",
       "545                                       xtz  \n",
       "546  59118d19848baca5c3dd1603acfc99c4cbccc3db  \n",
       "547                                       xtz  \n",
       "548                                       xtz  \n",
       "549  59118d19848baca5c3dd1603acfc99c4cbccc3db  \n",
       "550  baa233e2f62f45e9d91dacd3d6c6a57bc2cbc575  \n",
       "743                                       xtz  \n",
       "99                                        xtz  \n",
       "415                                       xtz  \n",
       "464                                       xtz  \n",
       "526  59118d19848baca5c3dd1603acfc99c4cbccc3db  \n",
       "586                                       xtz  \n",
       "609                                       xtz  \n",
       "652  59118d19848baca5c3dd1603acfc99c4cbccc3db  \n",
       "732                                       xtz  "
      ]
     },
     "execution_count": 153,
     "metadata": {},
     "output_type": "execute_result"
    }
   ],
   "source": [
    "executed = df[ ~df['withdrawal.l1_transaction.sender'].isna() ]\n",
    "executed[[\n",
    "    'status',\n",
    "    'withdrawal.l1_transaction.initiator',\n",
    "    'withdrawal.l1_transaction.sender',\n",
    "    'withdrawal.l2_transaction.l2_token.id',\n",
    "    # 'withdrawal.l1_transaction.operation_hash'\n",
    "]]\n",
    "\n",
    "# executed.iloc[0]['withdrawal.l1_transaction.operation_hash']"
   ]
  },
  {
   "cell_type": "markdown",
   "id": "33e8d5af",
   "metadata": {},
   "source": [
    "### TODO: what are the closest outboxes to be executed?\n",
    "### TODO: is there any outboxes that wasn't executed and impossible to execute?"
   ]
  },
  {
   "cell_type": "code",
   "execution_count": null,
   "id": "67d56b8f",
   "metadata": {},
   "outputs": [],
   "source": []
  }
 ],
 "metadata": {
  "kernelspec": {
   "display_name": "Python 3 (ipykernel)",
   "language": "python",
   "name": "python3"
  },
  "language_info": {
   "codemirror_mode": {
    "name": "ipython",
    "version": 3
   },
   "file_extension": ".py",
   "mimetype": "text/x-python",
   "name": "python",
   "nbconvert_exporter": "python",
   "pygments_lexer": "ipython3",
   "version": "3.12.6"
  }
 },
 "nbformat": 4,
 "nbformat_minor": 5
}
