{
 "cells": [
  {
   "cell_type": "markdown",
   "id": "1b5deacf",
   "metadata": {},
   "source": [
    "\n",
    "# Measuring Fast Withdrawal Contract Storage Costs:\n",
    "- This notebook allows you to deploy the Fast Withdrawal contract along with the Ticket Router Tester contract to check whether reducing information in the withdrawal status leads to any significant storage costs."
   ]
  },
  {
   "cell_type": "code",
   "execution_count": 1,
   "id": "5a8d10d3",
   "metadata": {},
   "outputs": [],
   "source": [
    "from typing import Optional\n",
    "from scripts.helpers.ticket_content import TicketContent\n",
    "from scripts.helpers.contracts.fast_withdrawal import Withdrawal\n",
    "from scripts.helpers.utility import pack\n",
    "from scripts.helpers.contracts import XtzTicketer\n",
    "from scripts.helpers.addressable import Addressable\n",
    "\n",
    "def make_xtz_withdrawal(\n",
    "    withdrawer: Addressable,\n",
    "    amount: int = 1_000_000,\n",
    "    withdrawal_id: int = 0,\n",
    "    timestamp: Optional[int] = None\n",
    "):\n",
    "\n",
    "    discounted_amount = amount\n",
    "    full_amount = amount\n",
    "    timestamp = timestamp or withdrawer.now()\n",
    "\n",
    "    return Withdrawal(\n",
    "        withdrawal_id=withdrawal_id,\n",
    "        full_amount=full_amount,\n",
    "        ticketer=XTZ_TICKETER_ADDRESS,\n",
    "        content=TicketContent(\n",
    "            token_id=0,\n",
    "            token_info=None,\n",
    "        ),\n",
    "        timestamp=timestamp,\n",
    "        base_withdrawer=get_address(withdrawer),\n",
    "        payload=pack(discounted_amount, 'nat'),\n",
    "        l2_caller=bytes(20)\n",
    "    )\n",
    "\n",
    "def get_paid_storage_size_diff(result) -> int:\n",
    "    \"\"\"Returns the paid storage size difference for the `payout_operation` result.\"\"\"\n",
    "    metadata = result[0]['contents'][0]['metadata']\n",
    "    return int(metadata['operation_result']['paid_storage_size_diff'])\n",
    "\n",
    "def print_cost_reduction_diff(new_result, base_result):\n",
    "    new_paid_storage = get_paid_storage_size_diff(new_result)\n",
    "    base_paid_storage = get_paid_storage_size_diff(base_result)\n",
    "    reduction = base_paid_storage - new_paid_storage\n",
    "    xtz_reduction = reduction * 250 / 10**6\n",
    "\n",
    "    click.echo('-- Calculating Cost Reduction')\n",
    "    click.echo('Paid storage for new base payout: ' + wrap(accent(base_paid_storage)) + ' bytes')\n",
    "    click.echo('Paid storage for new new payout: ' + wrap(accent(new_paid_storage)) + ' bytes')\n",
    "    click.echo('Reduction: ' + wrap(accent(reduction)) + ' bytes')\n",
    "    click.echo('Equivalent to: ' + wrap(accent(xtz_reduction)) + ' XTZ')\n",
    "\n",
    "def finalize_withdrawal(tezos_account, tester, withdrawal):\n",
    "    # Minting ticket:\n",
    "    xtz_ticketer = XtzTicketer.from_address(tezos_account, XTZ_TICKETER_ADDRESS)\n",
    "    ticket = xtz_ticketer.read_ticket(tezos_account)\n",
    "\n",
    "    opg = xtz_ticketer.mint(tezos_account, amount).send()\n",
    "    tezos_account.wait(opg)\n",
    "    ticket = xtz_ticketer.read_ticket(tezos_account)\n",
    "\n",
    "    # Sending settle_withdrawal operation:\n",
    "    opg = tezos_account.bulk(\n",
    "        tester.set_settle_withdrawal(\n",
    "            target=fast_withdrawal,\n",
    "            withdrawal=withdrawal,\n",
    "        ),\n",
    "        ticket.transfer(tester),\n",
    "    ).send()\n",
    "    result = tezos_account.wait(opg)\n",
    "    return result"
   ]
  },
  {
   "cell_type": "code",
   "execution_count": 2,
   "id": "4616c508",
   "metadata": {},
   "outputs": [
    {
     "name": "stdout",
     "output_type": "stream",
     "text": [
      "Setup:\n",
      "- Tezos account: `\u001b[96mtz1ekkzEN2LB1cpf7dCaonKt6x9KVd9YVydc\u001b[0m`, balance: `\u001b[96m231.987803 ꜩ\u001b[0m`\n",
      "- Etherlink account: `\u001b[96m0x7e6f6CCFe485a087F0F819eaBfDBfb1a49b97677\u001b[0m`, balance: `\u001b[96m610.240557203 ꜩ\u001b[0m`\n"
     ]
    }
   ],
   "source": [
    "from docs.scenarios.setup import *\n",
    "\n",
    "_, _, tezos_account = setup()"
   ]
  },
  {
   "cell_type": "markdown",
   "id": "3443f898",
   "metadata": {},
   "source": [
    "## Deploy TicketRouterTester:\n",
    "- This contract will serve as a mock implementation of the Smart Rollup."
   ]
  },
  {
   "cell_type": "code",
   "execution_count": 3,
   "id": "2adab630",
   "metadata": {},
   "outputs": [
    {
     "data": {
      "text/plain": [
       "'KT1FoycxLiTeB6E8SPi6P3AcDZ5Usor4QJ29'"
      ]
     },
     "execution_count": 3,
     "metadata": {},
     "output_type": "execute_result"
    }
   ],
   "source": [
    "from scripts.helpers.contracts import TicketRouterTester\n",
    "\n",
    "'''\n",
    "opg = TicketRouterTester.originate(tezos_account).send()\n",
    "tezos_account.wait(opg)\n",
    "tester = TicketRouterTester.from_opg(tezos_account, opg)\n",
    "click.echo(\n",
    "    'Successfully deployed Ticket Router Tester, address: '\n",
    "    + wrap(accent(tester.address))\n",
    ")\n",
    "'''\n",
    "tester = TicketRouterTester.from_address(tezos_account, 'KT1FoycxLiTeB6E8SPi6P3AcDZ5Usor4QJ29')\n",
    "tester.address"
   ]
  },
  {
   "cell_type": "markdown",
   "id": "47ff5c5a",
   "metadata": {},
   "source": [
    "## Deploy FastWithdrawal:"
   ]
  },
  {
   "cell_type": "code",
   "execution_count": 4,
   "id": "1f9d3fda",
   "metadata": {
    "scrolled": true
   },
   "outputs": [
    {
     "name": "stdout",
     "output_type": "stream",
     "text": [
      "Deploying Fast Withdrawal contract:\n",
      "  - Deployer: `\u001b[96mtz1ekkzEN2LB1cpf7dCaonKt6x9KVd9YVydc\u001b[0m`\n",
      "  - Tezos RPC node: `\u001b[96mhttps://rpc.tzkt.io/ghostnet/\u001b[0m`\n",
      "  - Params:\n",
      "      * Native XTZ Ticketer address: `\u001b[96mKT1Bp9YUvUBJgXxf5UrYTM2CGRUPixURqx4m\u001b[0m`\n",
      "      * Smart Rollup address: `\u001b[96mKT1FoycxLiTeB6E8SPi6P3AcDZ5Usor4QJ29\u001b[0m`\n",
      "Successfully deployed Fast Withdrawal, address: `\u001b[96mKT1RQ6wynZhsWF849z6wnSXrrUNEw722nad9\u001b[0m`\n"
     ]
    }
   ],
   "source": [
    "from scripts.tezos import deploy_fast_withdrawal\n",
    "\n",
    "fast_withdrawal = deploy_fast_withdrawal.callback(\n",
    "    xtz_ticketer_address=XTZ_TICKETER_ADDRESS,\n",
    "    smart_rollup_address=get_address(tester),\n",
    "    tezos_private_key=TEZOS_PRIVATE_KEY,\n",
    "    tezos_rpc_url=TEZOS_RPC_URL,\n",
    "    skip_confirm=True,\n",
    "    silent=False,\n",
    ")"
   ]
  },
  {
   "cell_type": "markdown",
   "id": "2e2e3411",
   "metadata": {},
   "source": [
    "## Purchasing withdrawal on Tezos side:"
   ]
  },
  {
   "cell_type": "code",
   "execution_count": 5,
   "id": "d0dca7cc",
   "metadata": {},
   "outputs": [
    {
     "name": "stdout",
     "output_type": "stream",
     "text": [
      "Paid storage for new base payout: `\u001b[96m94\u001b[0m` bytes\n"
     ]
    }
   ],
   "source": [
    "amount = 1_000_000\n",
    "base_withdrawal = make_xtz_withdrawal(tezos_account, amount)\n",
    "\n",
    "opg = fast_withdrawal.payout_withdrawal(\n",
    "    withdrawal=base_withdrawal,\n",
    "    service_provider=get_address(tezos_account),\n",
    "    xtz_amount=amount,\n",
    ").send()\n",
    "base_result = tezos_account.wait(opg)\n",
    "\n",
    "base_paid_storage = get_paid_storage_size_diff(base_result)\n",
    "click.echo('Paid storage for new base payout: ' + wrap(accent(base_paid_storage)) + ' bytes')"
   ]
  },
  {
   "cell_type": "markdown",
   "id": "8fbdf11f",
   "metadata": {},
   "source": [
    "## Cementing withdrawal with Ticket Router Tester call:"
   ]
  },
  {
   "cell_type": "code",
   "execution_count": 6,
   "id": "ed8e37de",
   "metadata": {},
   "outputs": [],
   "source": [
    "result = finalize_withdrawal(tezos_account, tester, base_withdrawal)"
   ]
  },
  {
   "cell_type": "markdown",
   "id": "6310ba5b",
   "metadata": {},
   "source": [
    "## Adding new record just after cementation\n",
    "- This operation should be cheaper if cementing freed some storage:"
   ]
  },
  {
   "cell_type": "code",
   "execution_count": 7,
   "id": "44b70170",
   "metadata": {
    "scrolled": true
   },
   "outputs": [
    {
     "name": "stdout",
     "output_type": "stream",
     "text": [
      "-- Calculating Cost Reduction\n",
      "Paid storage for new base payout: `\u001b[96m94\u001b[0m` bytes\n",
      "Paid storage for new new payout: `\u001b[96m69\u001b[0m` bytes\n",
      "Reduction: `\u001b[96m25\u001b[0m` bytes\n",
      "Equivalent to: `\u001b[96m0.00625\u001b[0m` XTZ\n"
     ]
    }
   ],
   "source": [
    "withdrawal_a = make_xtz_withdrawal(tezos_account, amount)\n",
    "\n",
    "opg = fast_withdrawal.payout_withdrawal(\n",
    "    withdrawal=withdrawal_a,\n",
    "    service_provider=get_address(tezos_account),\n",
    "    xtz_amount=amount,\n",
    ").send()\n",
    "new_result = tezos_account.wait(opg)\n",
    "print_cost_reduction_diff(new_result, base_result)"
   ]
  },
  {
   "cell_type": "markdown",
   "id": "2f0293fb",
   "metadata": {},
   "source": [
    "## Ensuring Another Withdrawal Still Requires Full Storage Payment:\n",
    "- Since no cementation operation has been executed to reduce the contract’s storage, the next withdrawal should require payment for the full storage difference:"
   ]
  },
  {
   "cell_type": "code",
   "execution_count": 8,
   "id": "89262bf3",
   "metadata": {},
   "outputs": [
    {
     "name": "stdout",
     "output_type": "stream",
     "text": [
      "-- Calculating Cost Reduction\n",
      "Paid storage for new base payout: `\u001b[96m94\u001b[0m` bytes\n",
      "Paid storage for new new payout: `\u001b[96m94\u001b[0m` bytes\n",
      "Reduction: `\u001b[96m0\u001b[0m` bytes\n",
      "Equivalent to: `\u001b[96m0.0\u001b[0m` XTZ\n"
     ]
    }
   ],
   "source": [
    "withdrawal_b = make_xtz_withdrawal(tezos_account, amount)\n",
    "\n",
    "opg = fast_withdrawal.payout_withdrawal(\n",
    "    withdrawal=withdrawal_b,\n",
    "    service_provider=get_address(tezos_account),\n",
    "    xtz_amount=amount,\n",
    ").send()\n",
    "new_result = tezos_account.wait(opg)\n",
    "print_cost_reduction_diff(new_result, base_result)"
   ]
  },
  {
   "cell_type": "markdown",
   "id": "4fa150d7",
   "metadata": {},
   "source": [
    "## And now cementing both of the withdrawals and checking the price of the new added payout:"
   ]
  },
  {
   "cell_type": "code",
   "execution_count": 9,
   "id": "42d8c595",
   "metadata": {},
   "outputs": [
    {
     "data": {
      "text/plain": [
       "'oo95wDZQnnXjsYCGDHYfmKmpgztvppsRFA9ifgdorQ6D4TUiE4L'"
      ]
     },
     "execution_count": 9,
     "metadata": {},
     "output_type": "execute_result"
    }
   ],
   "source": [
    "result_a = finalize_withdrawal(tezos_account, tester, withdrawal_a)\n",
    "result_a[0]['hash']"
   ]
  },
  {
   "cell_type": "code",
   "execution_count": 10,
   "id": "15cae8a6",
   "metadata": {},
   "outputs": [
    {
     "data": {
      "text/plain": [
       "'onw8rrDprbGDHZHQgJChXpFHdiSZqZDZueKmMPHr4Z41XbA44vj'"
      ]
     },
     "execution_count": 10,
     "metadata": {},
     "output_type": "execute_result"
    }
   ],
   "source": [
    "result_b = finalize_withdrawal(tezos_account, tester, withdrawal_b)\n",
    "result_b[0]['hash']"
   ]
  },
  {
   "cell_type": "code",
   "execution_count": 11,
   "id": "dd434b2d",
   "metadata": {},
   "outputs": [
    {
     "name": "stdout",
     "output_type": "stream",
     "text": [
      "-- Calculating Cost Reduction\n",
      "Paid storage for new base payout: `\u001b[96m94\u001b[0m` bytes\n",
      "Paid storage for new new payout: `\u001b[96m44\u001b[0m` bytes\n",
      "Reduction: `\u001b[96m50\u001b[0m` bytes\n",
      "Equivalent to: `\u001b[96m0.0125\u001b[0m` XTZ\n"
     ]
    }
   ],
   "source": [
    "withdrawal_c = make_xtz_withdrawal(tezos_account, amount)\n",
    "\n",
    "opg = fast_withdrawal.payout_withdrawal(\n",
    "    withdrawal=withdrawal_c,\n",
    "    service_provider=get_address(tezos_account),\n",
    "    xtz_amount=amount,\n",
    ").send()\n",
    "new_result = tezos_account.wait(opg)\n",
    "print_cost_reduction_diff(new_result, base_result)"
   ]
  }
 ],
 "metadata": {
  "kernelspec": {
   "display_name": "Python 3 (ipykernel)",
   "language": "python",
   "name": "python3"
  },
  "language_info": {
   "codemirror_mode": {
    "name": "ipython",
    "version": 3
   },
   "file_extension": ".py",
   "mimetype": "text/x-python",
   "name": "python",
   "nbconvert_exporter": "python",
   "pygments_lexer": "ipython3",
   "version": "3.12.8"
  }
 },
 "nbformat": 4,
 "nbformat_minor": 5
}
