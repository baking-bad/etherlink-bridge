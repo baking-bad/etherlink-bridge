{
 "cells": [
  {
   "cell_type": "markdown",
   "id": "06489d47",
   "metadata": {},
   "source": [
    "# Setting up the Fast Withdrawal contract with a proxy:\n",
    "- This notebook allows deploying contracts for fast withdrawal interactions and running a basic scenario by creating a withdrawal on the Etherlink side and making fast payouts on the Tezos side."
   ]
  },
  {
   "cell_type": "code",
   "execution_count": 1,
   "id": "a3a356c8",
   "metadata": {},
   "outputs": [
    {
     "name": "stdout",
     "output_type": "stream",
     "text": [
      "Setup:\n",
      "- Tezos account: `\u001b[96mtz1ekkzEN2LB1cpf7dCaonKt6x9KVd9YVydc\u001b[0m`, balance: `\u001b[96m236.925377 ꜩ\u001b[0m`\n",
      "- Etherlink account: `\u001b[96m0x7e6f6CCFe485a087F0F819eaBfDBfb1a49b97677\u001b[0m`, balance: `\u001b[96m610.433834875 ꜩ\u001b[0m`\n"
     ]
    }
   ],
   "source": [
    "from docs.scenarios.setup import *\n",
    "\n",
    "web3, etherlink_account, tezos_account = setup()"
   ]
  },
  {
   "cell_type": "markdown",
   "id": "c6441d78",
   "metadata": {},
   "source": [
    "## Deploy FastWithdrawal:"
   ]
  },
  {
   "cell_type": "code",
   "execution_count": 2,
   "id": "339efafc",
   "metadata": {},
   "outputs": [
    {
     "name": "stdout",
     "output_type": "stream",
     "text": [
      "Deploying Fast Withdrawal contract:\n",
      "  - Deployer: `\u001b[96mtz1ekkzEN2LB1cpf7dCaonKt6x9KVd9YVydc\u001b[0m`\n",
      "  - Tezos RPC node: `\u001b[96mhttps://rpc.tzkt.io/ghostnet/\u001b[0m`\n",
      "  - Params:\n",
      "      * Exchanger address: `\u001b[96mKT1Bp9YUvUBJgXxf5UrYTM2CGRUPixURqx4m\u001b[0m`\n",
      "      * Smart Rollup address: `\u001b[96msr18wx6ezkeRjt1SZSeZ2UQzQN3Uc3YLMLqg\u001b[0m`\n",
      "Successfully deployed Fast Withdrawal, address: `\u001b[96mKT1VfQrJktKDmwjE3e4rmQk7YMYuvLmsCCdP\u001b[0m`\n"
     ]
    }
   ],
   "source": [
    "from scripts.tezos import deploy_fast_withdrawal\n",
    "\n",
    "fast_withdrawal = deploy_fast_withdrawal.callback(\n",
    "    exchanger_address=EXCHANGER_ADDRESS,\n",
    "    smart_rollup_address=SMART_ROLLUP_ADDRESS,\n",
    "    tezos_private_key=TEZOS_PRIVATE_KEY,\n",
    "    tezos_rpc_url=TEZOS_RPC_URL,\n",
    "    skip_confirm=True,\n",
    "    silent=False,\n",
    ")"
   ]
  },
  {
   "cell_type": "markdown",
   "id": "6b528b40",
   "metadata": {},
   "source": [
    "## Making Fast Withdrawal on Etherlink side:"
   ]
  },
  {
   "cell_type": "code",
   "execution_count": 3,
   "id": "a5007f11",
   "metadata": {},
   "outputs": [
    {
     "name": "stdout",
     "output_type": "stream",
     "text": [
      "Making Fast Withdrawal, XTZ:\n",
      "  - Sender: `\u001b[96m0x7e6f6CCFe485a087F0F819eaBfDBfb1a49b97677\u001b[0m`\n",
      "  - Etherlink RPC node: `\u001b[96mhttps://node.ghostnet.etherlink.com\u001b[0m`\n",
      "  - Withdrawal params:\n",
      "      * Target: `\u001b[96mtz1ekkzEN2LB1cpf7dCaonKt6x9KVd9YVydc\u001b[0m`\n",
      "      * Fast Withdrawal contract: `\u001b[96mKT1VfQrJktKDmwjE3e4rmQk7YMYuvLmsCCdP\u001b[0m`\n",
      "      * Payload bytes: `\u001b[96m0500bc0a\u001b[0m`\n",
      "      * Amount (mutez): `\u001b[96m717\u001b[0m`\n",
      "      * Discounted amt (mutez): `\u001b[96m700\u001b[0m`\n",
      "      * Fee (mutez): `\u001b[96m17\u001b[0m`\n",
      "Successfully initiated XTZ Fast Withdrawal, tx hash: `\u001b[96m0xa2374e92f646c589fdb3de22754c0ed9d197438b46da91c04b3cbfd854a8f126\u001b[0m`\n"
     ]
    },
    {
     "data": {
      "text/plain": [
       "'0xa2374e92f646c589fdb3de22754c0ed9d197438b46da91c04b3cbfd854a8f126'"
      ]
     },
     "execution_count": 3,
     "metadata": {},
     "output_type": "execute_result"
    }
   ],
   "source": [
    "from scripts.etherlink import xtz_fast_withdraw\n",
    "\n",
    "xtz_fast_withdraw.callback(\n",
    "    target=get_address(tezos_account),\n",
    "    fast_withdrawal_contract=fast_withdrawal.address,\n",
    "    amount=717 * 10**12,\n",
    "    discounted_amount=700,\n",
    "    withdraw_precompile=XTZ_WITHDRAWAL_PRECOMPILE,\n",
    "    etherlink_private_key=ETHERLINK_PRIVATE_KEY,\n",
    "    etherlink_rpc_url=ETHERLINK_RPC_URL,\n",
    ")"
   ]
  },
  {
   "cell_type": "markdown",
   "id": "cb6e22dc",
   "metadata": {},
   "source": [
    "- Event logs: https://testnet.explorer.etherlink.com/tx/0xa2374e92f646c589fdb3de22754c0ed9d197438b46da91c04b3cbfd854a8f126?tab=logs\n",
    "- Outbox message: https://ghostnet-smart.tzkt.io/global/block/11315946/outbox/11315946/messages\n",
    "- Withdrawal ID: `1864`\n",
    "- Timestamp: `1742548931`\n",
    "- [ ] TODO: Retrieve `withdrawal_id` and `timestamp` from the Etherlink side event/outbox; currently, it is set manually."
   ]
  },
  {
   "cell_type": "markdown",
   "id": "aafe02c1",
   "metadata": {},
   "source": [
    "## Purchasing withdrawal on Tezos side:"
   ]
  },
  {
   "cell_type": "code",
   "execution_count": 13,
   "id": "ae8a93c6",
   "metadata": {},
   "outputs": [
    {
     "data": {
      "text/plain": [
       "'ooL69vHKHxCwNbd1NFsz8Ge6S3zTmsrRBd3Ya8rqkMyTgyPrmFT'"
      ]
     },
     "execution_count": 13,
     "metadata": {},
     "output_type": "execute_result"
    }
   ],
   "source": [
    "from scripts.helpers.contracts.fast_withdrawal import Withdrawal\n",
    "from scripts.helpers.utility import pack\n",
    "from scripts.helpers.ticket_content import TicketContent\n",
    "\n",
    "discounted_amount = 700\n",
    "\n",
    "withdrawal = Withdrawal(\n",
    "    withdrawal_id=1864,\n",
    "    full_amount=717,\n",
    "    ticketer=EXCHANGER_ADDRESS,\n",
    "    content=TicketContent(\n",
    "        token_id=0,\n",
    "        token_info=None,\n",
    "    ),\n",
    "    timestamp=1742548931,\n",
    "    base_withdrawer=get_address(tezos_account),\n",
    "    payload=pack(discounted_amount, 'nat'),\n",
    "    l2_caller=bytes.fromhex(etherlink_account.address.split('0x')[1])\n",
    ")\n",
    "\n",
    "opg = fast_withdrawal.payout_withdrawal(\n",
    "    withdrawal=withdrawal,\n",
    "    service_provider=get_address(tezos_account),\n",
    "    xtz_amount=discounted_amount,\n",
    ").send()\n",
    "\n",
    "opg.hash()"
   ]
  },
  {
   "cell_type": "markdown",
   "id": "d53f09eb",
   "metadata": {},
   "source": [
    "- Transaction: https://ghostnet.tzkt.io/ooL69vHKHxCwNbd1NFsz8Ge6S3zTmsrRBd3Ya8rqkMyTgyPrmFT/27211184"
   ]
  },
  {
   "cell_type": "markdown",
   "id": "1d9fe8f9",
   "metadata": {},
   "source": [
    "## Trying to purchase twice:\n",
    "- Forcing the transaction to be executed"
   ]
  },
  {
   "cell_type": "code",
   "execution_count": 17,
   "id": "f1fe4ff6",
   "metadata": {},
   "outputs": [
    {
     "data": {
      "text/plain": [
       "'oosddHjXw4gvREbLTNJ4HwMGPARZNxdzwN4w8qc7rjLPb7FxR3A'"
      ]
     },
     "execution_count": 17,
     "metadata": {},
     "output_type": "execute_result"
    }
   ],
   "source": [
    "opg = (\n",
    "    fast_withdrawal.payout_withdrawal(\n",
    "        withdrawal=withdrawal,\n",
    "        service_provider=get_address(tezos_account),\n",
    "        xtz_amount=discounted_amount,\n",
    "    )\n",
    "    .as_transaction()\n",
    "    .fill()\n",
    "    .sign()\n",
    "    .inject()\n",
    ")\n",
    "opg['hash']"
   ]
  },
  {
   "cell_type": "markdown",
   "id": "e6623199",
   "metadata": {},
   "source": [
    "## Making Additional Withdrawals:\n",
    "### One with an incorrect payload that would be impossible to execute"
   ]
  },
  {
   "cell_type": "code",
   "execution_count": 18,
   "id": "10473eaa",
   "metadata": {},
   "outputs": [
    {
     "name": "stdout",
     "output_type": "stream",
     "text": [
      "Successfully initiated wrong XTZ Fast Withdrawal, tx hash: `\u001b[96m0x7d0d354c3c593c37181cc3cb1414d6d32c8613c927f2df6a5bb06d028291d720\u001b[0m`\n"
     ]
    }
   ],
   "source": [
    "from scripts.etherlink.xtz_fast_withdraw import (\n",
    "    load_withdraw_precompile,\n",
    "    make_fast_withdrawal,\n",
    ")\n",
    "\n",
    "precompile_contract = load_withdraw_precompile(\n",
    "    XTZ_WITHDRAWAL_PRECOMPILE,\n",
    "    web3\n",
    ")\n",
    "receipt = make_fast_withdrawal(\n",
    "    etherlink_account=etherlink_account,\n",
    "    web3=web3,\n",
    "    precompile_contract=precompile_contract,\n",
    "    target=get_address(tezos_account),\n",
    "    fast_withdrawals_contract=fast_withdrawal.address,\n",
    "    payload=bytes.fromhex('ff4f'),\n",
    "    wei_amount=133 * 10**12,\n",
    ")\n",
    "\n",
    "click.echo(\n",
    "    'Successfully initiated wrong XTZ Fast Withdrawal, tx hash: '\n",
    "    + wrap(accent(receipt.transactionHash.hex()))\n",
    ")"
   ]
  },
  {
   "cell_type": "markdown",
   "id": "b2ff5fe6",
   "metadata": {},
   "source": [
    "### ~~Three~~ Four more with different base withdrawers and amounts"
   ]
  },
  {
   "cell_type": "code",
   "execution_count": 19,
   "id": "76c48290",
   "metadata": {},
   "outputs": [
    {
     "name": "stdout",
     "output_type": "stream",
     "text": [
      "Making Fast Withdrawal, XTZ:\n",
      "  - Sender: `\u001b[96m0x7e6f6CCFe485a087F0F819eaBfDBfb1a49b97677\u001b[0m`\n",
      "  - Etherlink RPC node: `\u001b[96mhttps://node.ghostnet.etherlink.com\u001b[0m`\n",
      "  - Withdrawal params:\n",
      "      * Target: `\u001b[96mtz1ekkzEN2LB1cpf7dCaonKt6x9KVd9YVydc\u001b[0m`\n",
      "      * Fast Withdrawal contract: `\u001b[96mKT1VfQrJktKDmwjE3e4rmQk7YMYuvLmsCCdP\u001b[0m`\n",
      "      * Payload bytes: `\u001b[96m0500a906\u001b[0m`\n",
      "      * Amount (mutez): `\u001b[96m938\u001b[0m`\n",
      "      * Discounted amt (mutez): `\u001b[96m425\u001b[0m`\n",
      "      * Fee (mutez): `\u001b[96m513\u001b[0m`\n",
      "Successfully initiated XTZ Fast Withdrawal, tx hash: `\u001b[96m0x2a8be2bc7d3b81a44d334e9c45d1b77beba0316c55b2d1184816b3bc45d7b21d\u001b[0m`\n"
     ]
    },
    {
     "data": {
      "text/plain": [
       "'0x2a8be2bc7d3b81a44d334e9c45d1b77beba0316c55b2d1184816b3bc45d7b21d'"
      ]
     },
     "execution_count": 19,
     "metadata": {},
     "output_type": "execute_result"
    }
   ],
   "source": [
    "from scripts.etherlink import xtz_fast_withdraw\n",
    "from random import randint\n",
    "\n",
    "xtz_fast_withdraw.callback(\n",
    "    target=get_address(tezos_account),\n",
    "    fast_withdrawal_contract=fast_withdrawal.address,\n",
    "    amount=randint(100, 1000) * 10**12,\n",
    "    discounted_amount=randint(100, 1000),\n",
    "    withdraw_precompile=XTZ_WITHDRAWAL_PRECOMPILE,\n",
    "    etherlink_private_key=ETHERLINK_PRIVATE_KEY,\n",
    "    etherlink_rpc_url=ETHERLINK_RPC_URL,\n",
    ")"
   ]
  },
  {
   "cell_type": "markdown",
   "id": "8b7a6fec",
   "metadata": {},
   "source": [
    "- 1866: [L2](https://testnet.explorer.etherlink.com/tx/0x2a8be2bc7d3b81a44d334e9c45d1b77beba0316c55b2d1184816b3bc45d7b21d), [outbox](https://ghostnet-smart.tzkt.io/global/block/11316307/outbox/11316307/messages), not executed\n"
   ]
  },
  {
   "cell_type": "code",
   "execution_count": 20,
   "id": "3afeb465",
   "metadata": {},
   "outputs": [
    {
     "name": "stdout",
     "output_type": "stream",
     "text": [
      "Making Fast Withdrawal, XTZ:\n",
      "  - Sender: `\u001b[96m0x7e6f6CCFe485a087F0F819eaBfDBfb1a49b97677\u001b[0m`\n",
      "  - Etherlink RPC node: `\u001b[96mhttps://node.ghostnet.etherlink.com\u001b[0m`\n",
      "  - Withdrawal params:\n",
      "      * Target: `\u001b[96mtz1g55WPvhDFkWLDWB8M515FeX4DQZBPT1dd\u001b[0m`\n",
      "      * Fast Withdrawal contract: `\u001b[96mKT1VfQrJktKDmwjE3e4rmQk7YMYuvLmsCCdP\u001b[0m`\n",
      "      * Payload bytes: `\u001b[96m0500b40c\u001b[0m`\n",
      "      * Amount (mutez): `\u001b[96m953\u001b[0m`\n",
      "      * Discounted amt (mutez): `\u001b[96m820\u001b[0m`\n",
      "      * Fee (mutez): `\u001b[96m133\u001b[0m`\n",
      "Successfully initiated XTZ Fast Withdrawal, tx hash: `\u001b[96m0xaee04a7d43b9a3b626e1d5497b3059ca8ef477ec0176387f9eb883d20c67ae0b\u001b[0m`\n"
     ]
    },
    {
     "data": {
      "text/plain": [
       "'0xaee04a7d43b9a3b626e1d5497b3059ca8ef477ec0176387f9eb883d20c67ae0b'"
      ]
     },
     "execution_count": 20,
     "metadata": {},
     "output_type": "execute_result"
    }
   ],
   "source": [
    "xtz_fast_withdraw.callback(\n",
    "    target=tezos_account.key.generate(export=False).public_key_hash(),\n",
    "    fast_withdrawal_contract=fast_withdrawal.address,\n",
    "    amount=randint(100, 1000) * 10**12,\n",
    "    discounted_amount=randint(100, 1000),\n",
    "    withdraw_precompile=XTZ_WITHDRAWAL_PRECOMPILE,\n",
    "    etherlink_private_key=ETHERLINK_PRIVATE_KEY,\n",
    "    etherlink_rpc_url=ETHERLINK_RPC_URL,\n",
    ")"
   ]
  },
  {
   "cell_type": "markdown",
   "id": "a7362115",
   "metadata": {},
   "source": [
    "- 1868: [L2](https://testnet.explorer.etherlink.com/tx/0xaee04a7d43b9a3b626e1d5497b3059ca8ef477ec0176387f9eb883d20c67ae0b), [outbox](https://ghostnet-smart.tzkt.io/global/block/11316338/outbox/11316338/messages), not executed"
   ]
  },
  {
   "cell_type": "code",
   "execution_count": 21,
   "id": "293048ae",
   "metadata": {},
   "outputs": [
    {
     "name": "stdout",
     "output_type": "stream",
     "text": [
      "Making Fast Withdrawal, XTZ:\n",
      "  - Sender: `\u001b[96m0x7e6f6CCFe485a087F0F819eaBfDBfb1a49b97677\u001b[0m`\n",
      "  - Etherlink RPC node: `\u001b[96mhttps://node.ghostnet.etherlink.com\u001b[0m`\n",
      "  - Withdrawal params:\n",
      "      * Target: `\u001b[96mtz1hZk51goaVJxd2jLXLqvq7ySsdxUtpZK6r\u001b[0m`\n",
      "      * Fast Withdrawal contract: `\u001b[96mKT1VfQrJktKDmwjE3e4rmQk7YMYuvLmsCCdP\u001b[0m`\n",
      "      * Payload bytes: `\u001b[96m05008c0a\u001b[0m`\n",
      "      * Amount (mutez): `\u001b[96m182\u001b[0m`\n",
      "      * Discounted amt (mutez): `\u001b[96m652\u001b[0m`\n",
      "      * Fee (mutez): `\u001b[96m-470\u001b[0m`\n",
      "Successfully initiated XTZ Fast Withdrawal, tx hash: `\u001b[96m0xdb5dba47496f4b30581001402dc49e9a6a2a8053bebaffb92484c29c780d27c1\u001b[0m`\n"
     ]
    },
    {
     "data": {
      "text/plain": [
       "'0xdb5dba47496f4b30581001402dc49e9a6a2a8053bebaffb92484c29c780d27c1'"
      ]
     },
     "execution_count": 21,
     "metadata": {},
     "output_type": "execute_result"
    }
   ],
   "source": [
    "xtz_fast_withdraw.callback(\n",
    "    target=tezos_account.key.generate(export=False).public_key_hash(),\n",
    "    fast_withdrawal_contract=fast_withdrawal.address,\n",
    "    amount=randint(100, 1000) * 10**12,\n",
    "    discounted_amount=randint(100, 1000),\n",
    "    withdraw_precompile=XTZ_WITHDRAWAL_PRECOMPILE,\n",
    "    etherlink_private_key=ETHERLINK_PRIVATE_KEY,\n",
    "    etherlink_rpc_url=ETHERLINK_RPC_URL,\n",
    ")"
   ]
  },
  {
   "cell_type": "markdown",
   "id": "33d8b922",
   "metadata": {},
   "source": [
    "- 1869: [L2](https://testnet.explorer.etherlink.com/tx/0xdb5dba47496f4b30581001402dc49e9a6a2a8053bebaffb92484c29c780d27c1), [outbox](https://ghostnet-smart.tzkt.io/global/block/11316338/outbox/11316338/messages), not executed"
   ]
  },
  {
   "cell_type": "code",
   "execution_count": 22,
   "id": "72d88bba",
   "metadata": {},
   "outputs": [
    {
     "name": "stdout",
     "output_type": "stream",
     "text": [
      "Making Fast Withdrawal, XTZ:\n",
      "  - Sender: `\u001b[96m0x7e6f6CCFe485a087F0F819eaBfDBfb1a49b97677\u001b[0m`\n",
      "  - Etherlink RPC node: `\u001b[96mhttps://node.ghostnet.etherlink.com\u001b[0m`\n",
      "  - Withdrawal params:\n",
      "      * Target: `\u001b[96mtz1Rm2rh8CR2tJucZjaxWJWScCthE1W5KGd2\u001b[0m`\n",
      "      * Fast Withdrawal contract: `\u001b[96mKT1VfQrJktKDmwjE3e4rmQk7YMYuvLmsCCdP\u001b[0m`\n",
      "      * Payload bytes: `\u001b[96m0500b704\u001b[0m`\n",
      "      * Amount (mutez): `\u001b[96m600\u001b[0m`\n",
      "      * Discounted amt (mutez): `\u001b[96m311\u001b[0m`\n",
      "      * Fee (mutez): `\u001b[96m289\u001b[0m`\n",
      "Successfully initiated XTZ Fast Withdrawal, tx hash: `\u001b[96m0x586d829a7bfe5a0c26b684777ddd88060e217e06e34d05e755ce600e6d883427\u001b[0m`\n"
     ]
    },
    {
     "data": {
      "text/plain": [
       "'0x586d829a7bfe5a0c26b684777ddd88060e217e06e34d05e755ce600e6d883427'"
      ]
     },
     "execution_count": 22,
     "metadata": {},
     "output_type": "execute_result"
    }
   ],
   "source": [
    "xtz_fast_withdraw.callback(\n",
    "    target=tezos_account.key.generate(export=False).public_key_hash(),\n",
    "    fast_withdrawal_contract=fast_withdrawal.address,\n",
    "    amount=randint(100, 1000) * 10**12,\n",
    "    discounted_amount=randint(100, 1000),\n",
    "    withdraw_precompile=XTZ_WITHDRAWAL_PRECOMPILE,\n",
    "    etherlink_private_key=ETHERLINK_PRIVATE_KEY,\n",
    "    etherlink_rpc_url=ETHERLINK_RPC_URL,\n",
    ")"
   ]
  },
  {
   "cell_type": "markdown",
   "id": "7a525f73",
   "metadata": {},
   "source": [
    "- 1816: [L2](httpshttps://testnet.explorer.etherlink.com/tx/0x586d829a7bfe5a0c26b684777ddd88060e217e06e34d05e755ce600e6d883427), [outbox](https://ghostnet-smart.tzkt.io/global/block/11316338/outbox/11316338/messages), not executed"
   ]
  }
 ],
 "metadata": {
  "kernelspec": {
   "display_name": "Python 3 (ipykernel)",
   "language": "python",
   "name": "python3"
  },
  "language_info": {
   "codemirror_mode": {
    "name": "ipython",
    "version": 3
   },
   "file_extension": ".py",
   "mimetype": "text/x-python",
   "name": "python",
   "nbconvert_exporter": "python",
   "pygments_lexer": "ipython3",
   "version": "3.12.8"
  }
 },
 "nbformat": 4,
 "nbformat_minor": 5
}
