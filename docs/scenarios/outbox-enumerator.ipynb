{
 "cells": [
  {
   "cell_type": "markdown",
   "id": "580b77f7",
   "metadata": {},
   "source": [
    "## Outbox Enumerator\n",
    "- TODO: add scenario description"
   ]
  },
  {
   "cell_type": "code",
   "execution_count": 1,
   "id": "5fbc05ed",
   "metadata": {},
   "outputs": [
    {
     "name": "stdout",
     "output_type": "stream",
     "text": [
      "Setup:\n",
      "- Tezos account: `\u001b[96mtz1ekkzEN2LB1cpf7dCaonKt6x9KVd9YVydc\u001b[0m`, balance: `\u001b[96m100.275452 ꜩ\u001b[0m`\n",
      "- Etherlink account: `\u001b[96m0x7e6f6CCFe485a087F0F819eaBfDBfb1a49b97677\u001b[0m`, balance: `\u001b[96m0.967703977 ꜩ\u001b[0m`\n"
     ]
    }
   ],
   "source": [
    "from docs.scenarios.setup import *\n",
    "\n",
    "accounts = setup()\n",
    "web3, etherlink_account, tezos_account = accounts\n",
    "_, ticketer, _, _, ticket_router_tester = load_contracts(*accounts)"
   ]
  },
  {
   "cell_type": "code",
   "execution_count": 3,
   "id": "c02da3a6",
   "metadata": {},
   "outputs": [
    {
     "data": {
      "text/plain": [
       "1337"
      ]
     },
     "execution_count": 3,
     "metadata": {},
     "output_type": "execute_result"
    }
   ],
   "source": [
    "web3.eth.chain_id"
   ]
  },
  {
   "cell_type": "code",
   "execution_count": 4,
   "id": "ea750a01",
   "metadata": {},
   "outputs": [
    {
     "data": {
      "text/plain": [
       "'https://etherlink.dipdup.net'"
      ]
     },
     "execution_count": 4,
     "metadata": {},
     "output_type": "execute_result"
    }
   ],
   "source": [
    "ETHERLINK_RPC_URL"
   ]
  },
  {
   "cell_type": "code",
   "execution_count": 3,
   "id": "7a218de0",
   "metadata": {},
   "outputs": [
    {
     "data": {
      "text/plain": [
       "'0x22565c35Ad439cbb8399bfC733c56C9F5A10E3a6'"
      ]
     },
     "execution_count": 3,
     "metadata": {},
     "output_type": "execute_result"
    }
   ],
   "source": [
    "# TODO: move to the etherlink contracts:\n",
    "from scripts.helpers.etherlink import EvmContractHelper\n",
    "\n",
    "class OutboxEnumeratorHelper(EvmContractHelper):\n",
    "    filename = make_filename('OutboxEnumerator')\n",
    "\n",
    "outbox_enumerator = OutboxEnumeratorHelper.originate_from_file(\n",
    "    web3=web3,\n",
    "    account=etherlink_account,\n",
    "    filename=make_filename('OutboxEnumerator'),\n",
    "    constructor_args=(\n",
    "        XTZ_WITHDRAWAL_PRECOMPILE,\n",
    "        450,\n",
    "    )\n",
    ")\n",
    "outbox_enumerator.address"
   ]
  },
  {
   "cell_type": "code",
   "execution_count": 4,
   "id": "8679dff8",
   "metadata": {},
   "outputs": [
    {
     "name": "stdout",
     "output_type": "stream",
     "text": [
      "Making XTZ deposit using Helper `\u001b[96mKT1MJxf4KVN3sosR99VRG7WBbWTJtAyWUJt9\u001b[0m`:\n",
      "  - Executor: `\u001b[96mtz1ekkzEN2LB1cpf7dCaonKt6x9KVd9YVydc\u001b[0m`\n",
      "  - Tezos RPC node: `\u001b[96mhttps://rpc.tzkt.io/parisnet/\u001b[0m`\n",
      "  - XTZ deposit params:\n",
      "      * Smart Rollup address: `\u001b[96msr1GBHEgzZmpWH4URqshZEZFCxBpqzi6ahvL\u001b[0m`\n",
      "      * Receiver address: `\u001b[96m0x22565c35Ad439cbb8399bfC733c56C9F5A10E3a6\u001b[0m`\n",
      "      * Amount (mutez): `\u001b[96m1_000_000\u001b[0m`\n",
      "Successfully executed XTZ deposit, tx hash: `\u001b[96mooXCVoEpCQDo1m9zbS1cAyCMQWrstZXNSkEQtwE2T3SV5P8Vw8Q\u001b[0m`\n"
     ]
    },
    {
     "data": {
      "text/plain": [
       "'ooXCVoEpCQDo1m9zbS1cAyCMQWrstZXNSkEQtwE2T3SV5P8Vw8Q'"
      ]
     },
     "execution_count": 4,
     "metadata": {},
     "output_type": "execute_result"
    }
   ],
   "source": [
    "xtz_deposit.callback(\n",
    "    xtz_ticket_helper=XTZ_TICKET_HELPER,\n",
    "    tezos_private_key=TEZOS_PRIVATE_KEY,\n",
    "    tezos_rpc_url=TEZOS_RPC_URL,\n",
    "    amount=1_000_000,\n",
    "    receiver_address=outbox_enumerator.address,\n",
    "    smart_rollup_address=SMART_ROLLUP_ADDRESS,\n",
    ")"
   ]
  },
  {
   "cell_type": "code",
   "execution_count": 5,
   "id": "27e50247",
   "metadata": {
    "scrolled": true
   },
   "outputs": [
    {
     "name": "stdout",
     "output_type": "stream",
     "text": [
      "Making XTZ withdrawal from `\u001b[96m0x7e6f6CCFe485a087F0F819eaBfDBfb1a49b97677\u001b[0m`:\n",
      "  - Executor: `\u001b[96m0x7e6f6CCFe485a087F0F819eaBfDBfb1a49b97677\u001b[0m`\n",
      "  - Etherlink RPC node: `\u001b[96mhttps://etherlink.dipdup.net\u001b[0m`\n",
      "  - Withdrawal params:\n",
      "      * Receiver: `\u001b[96mtz1burnburnburnburnburnburnburjAYjjX\u001b[0m`\n",
      "      * Amount (wei):: `\u001b[96m1_000_000_000_000\u001b[0m`\n",
      "      * Amount (mutez):: `\u001b[96m1\u001b[0m`\n",
      "Successfully initiated XTZ withdrawal, tx hash: `\u001b[96m0x1dcee88effa3af2fe275fd30bb593bf303affd726a07a966e9aedc1bc7943098\u001b[0m`\n"
     ]
    },
    {
     "data": {
      "text/plain": [
       "'0x1dcee88effa3af2fe275fd30bb593bf303affd726a07a966e9aedc1bc7943098'"
      ]
     },
     "execution_count": 5,
     "metadata": {},
     "output_type": "execute_result"
    }
   ],
   "source": [
    "xtz_withdraw.callback(\n",
    "    amount=10**12,\n",
    "    # xtz_withdraw_precompile=XTZ_WITHDRAWAL_PRECOMPILE,\n",
    "    xtz_withdraw_precompile=outbox_enumerator.address,\n",
    "    receiver_address='tz1burnburnburnburnburnburnburjAYjjX',\n",
    "    etherlink_private_key=ETHERLINK_PRIVATE_KEY,\n",
    "    etherlink_rpc_url=ETHERLINK_RPC_URL\n",
    ")"
   ]
  },
  {
   "cell_type": "markdown",
   "id": "427459cb",
   "metadata": {},
   "source": [
    "- TODO: check / scan outbox queue, compare with withdrawal events"
   ]
  }
 ],
 "metadata": {
  "kernelspec": {
   "display_name": "Python 3 (ipykernel)",
   "language": "python",
   "name": "python3"
  },
  "language_info": {
   "codemirror_mode": {
    "name": "ipython",
    "version": 3
   },
   "file_extension": ".py",
   "mimetype": "text/x-python",
   "name": "python",
   "nbconvert_exporter": "python",
   "pygments_lexer": "ipython3",
   "version": "3.12.4"
  }
 },
 "nbformat": 4,
 "nbformat_minor": 5
}
