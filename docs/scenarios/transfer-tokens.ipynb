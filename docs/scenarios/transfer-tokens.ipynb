{
 "cells": [
  {
   "cell_type": "code",
   "execution_count": 19,
   "id": "de440beb",
   "metadata": {},
   "outputs": [
    {
     "name": "stdout",
     "output_type": "stream",
     "text": [
      "Setup:\n",
      "- Tezos account: `\u001b[96mtz1ekkzEN2LB1cpf7dCaonKt6x9KVd9YVydc\u001b[0m`, balance: `\u001b[96m100.257673 ꜩ\u001b[0m`\n",
      "- Etherlink account: `\u001b[96m0x7e6f6CCFe485a087F0F819eaBfDBfb1a49b97677\u001b[0m`, balance: `\u001b[96m0.967703977 ꜩ\u001b[0m`\n"
     ]
    }
   ],
   "source": [
    "from docs.scenarios.setup import *\n",
    "\n",
    "accounts = setup()\n",
    "web3, etherlink_account, tezos_account = accounts\n",
    "_, ticketer, _, _, ticket_router_tester = load_contracts(*accounts)"
   ]
  },
  {
   "cell_type": "markdown",
   "id": "e2884f7b",
   "metadata": {},
   "source": [
    "Whitelisted UI tokens: https://github.com/baking-bad/tezos-etherlink-bridge-ts-sdk/blob/master/integration/testConfig.ts"
   ]
  },
  {
   "cell_type": "code",
   "execution_count": 22,
   "id": "fc630095",
   "metadata": {},
   "outputs": [],
   "source": [
    "# from scripts.tests.conftest import wallet\n",
    "# key = getpass()\n",
    "# tester = tezos_account.using(key=key)\n",
    "# get_address(tester)"
   ]
  },
  {
   "cell_type": "code",
   "execution_count": 32,
   "id": "545c4fae",
   "metadata": {},
   "outputs": [],
   "source": [
    "receiver = 'tz1KhnTgwoRRALBX6vRHRnydDGSBFsWtcJxc'\n",
    "\n",
    "usdt = TokenHelper.get_cls('FA2').from_address(tezos_account, 'KT1K6uyg7cjNRoPkYw6SfyCm1f2tPLHfVUez')\n",
    "tzbtc = TokenHelper.get_cls('FA1.2').from_address(tezos_account, 'KT1Vq1toL9mQquJhCvVRbbcC8PbZJWM4bPui')\n",
    "sirs = TokenHelper.get_cls('FA1.2').from_address(tezos_account, 'KT1DCKKboEMmpUtVnf7hTCnArxgNpFneHcv5')"
   ]
  },
  {
   "cell_type": "code",
   "execution_count": 33,
   "id": "e382318e",
   "metadata": {},
   "outputs": [
    {
     "name": "stdout",
     "output_type": "stream",
     "text": [
      "USDt master acc balance at 0 decimals: `120_910_911_781_003`\n",
      "tzBTC master acc balance at 0 decimals: `67_386_187_171`\n",
      "sirs master acc balance at 0 decimals: `171_804_088`\n"
     ]
    }
   ],
   "source": [
    "import click\n",
    "from scripts.helpers.formatting import format_int\n",
    "usdt_balance = usdt.get_balance(tezos_account)\n",
    "tzbtc_balance = tzbtc.get_balance(tezos_account)\n",
    "sirs_balance = sirs.get_balance(tezos_account)\n",
    "\n",
    "click.echo('USDt master acc balance at 0 decimals: ' + wrap(format_int(usdt_balance)))\n",
    "click.echo('tzBTC master acc balance at 0 decimals: ' + wrap(format_int(tzbtc_balance)))\n",
    "click.echo('sirs master acc balance at 0 decimals: ' + wrap(format_int(sirs_balance)))"
   ]
  },
  {
   "cell_type": "code",
   "execution_count": 34,
   "id": "2fe57fe9",
   "metadata": {},
   "outputs": [
    {
     "data": {
      "text/plain": [
       "'oow6kHVZ94Tsg3Nd7bcbZCxy4CnsWgsAX3HbRjaThcwpHyiuWAX'"
      ]
     },
     "execution_count": 34,
     "metadata": {},
     "output_type": "execute_result"
    }
   ],
   "source": [
    "opg = usdt.contract.transfer(\n",
    "    [\n",
    "        {\n",
    "            \"from_\": get_address(tezos_account),\n",
    "            \"txs\": [\n",
    "                {\n",
    "                    \"to_\": get_address(receiver),\n",
    "                    \"token_id\": 0,\n",
    "                    \"amount\": int(usdt_balance * 0.001),\n",
    "                }\n",
    "            ]\n",
    "        }\n",
    "    ]\n",
    ").send()\n",
    "opg.hash()"
   ]
  },
  {
   "cell_type": "code",
   "execution_count": 36,
   "id": "b265a4a0",
   "metadata": {},
   "outputs": [
    {
     "data": {
      "text/plain": [
       "'oosJP9eNDoRprxTAJs7MKMMapFfmMRGcDbHgBk7gi4DqSRR9sw1'"
      ]
     },
     "execution_count": 36,
     "metadata": {},
     "output_type": "execute_result"
    }
   ],
   "source": [
    "opg = tzbtc.contract.transfer({\n",
    "    'from': get_address(tezos_account),\n",
    "    'to': get_address(receiver),\n",
    "    'value': int(tzbtc_balance * 0.001),\n",
    "}).send()\n",
    "opg.hash()"
   ]
  },
  {
   "cell_type": "code",
   "execution_count": 37,
   "id": "2ee309b7",
   "metadata": {},
   "outputs": [
    {
     "data": {
      "text/plain": [
       "'onjpDuh3V8DPkz91wKfwt9taK1LcjfAWtXBYAeap1HahJmVVpZR'"
      ]
     },
     "execution_count": 37,
     "metadata": {},
     "output_type": "execute_result"
    }
   ],
   "source": [
    "opg = sirs.contract.transfer({\n",
    "    'from': get_address(tezos_account),\n",
    "    'to': get_address(receiver),\n",
    "    'value': int(sirs_balance * 0.001),\n",
    "}).send()\n",
    "opg.hash()"
   ]
  },
  {
   "cell_type": "code",
   "execution_count": null,
   "id": "671d1fb9",
   "metadata": {},
   "outputs": [],
   "source": []
  }
 ],
 "metadata": {
  "kernelspec": {
   "display_name": "Python 3 (ipykernel)",
   "language": "python",
   "name": "python3"
  },
  "language_info": {
   "codemirror_mode": {
    "name": "ipython",
    "version": 3
   },
   "file_extension": ".py",
   "mimetype": "text/x-python",
   "name": "python",
   "nbconvert_exporter": "python",
   "pygments_lexer": "ipython3",
   "version": "3.12.4"
  }
 },
 "nbformat": 4,
 "nbformat_minor": 5
}
