{
  "nbformat": 4,
  "nbformat_minor": 0,
  "metadata": {
    "colab": {
      "provenance": []
    },
    "kernelspec": {
      "name": "python3",
      "display_name": "Python 3"
    },
    "language_info": {
      "name": "python"
    }
  },
  "cells": [
    {
      "cell_type": "code",
      "execution_count": null,
      "metadata": {
        "id": "QjnXwqX2-wXn"
      },
      "outputs": [],
      "source": [
        "!git clone -b feat/scripts-and-docs https://github.com/baking-bad/etherlink-bridge.git\n",
        "%cd etherlink-bridge/\n",
        "!pip install poetry\n",
        "!poetry install\n",
        "\n",
        "# installing foundry:\n",
        "!curl -L https://foundry.paradigm.xyz | bash\n",
        "!source ~/.bashrc\n",
        "import os\n",
        "os.environ['PATH'] += \":~/.foundry/bin\"\n",
        "!foundryup"
      ]
    },
    {
      "cell_type": "code",
      "source": [
        "!poetry run init_wallets"
      ],
      "metadata": {
        "id": "heNZAeqnHNJq",
        "colab": {
          "base_uri": "https://localhost:8080/"
        },
        "outputId": "59c6c497-b4fd-46fb-d7f1-1d4cc4c50956"
      },
      "execution_count": 2,
      "outputs": [
        {
          "output_type": "stream",
          "name": "stdout",
          "text": [
            "Enter \"L1_PRIVATE_KEY\" (default: ): \n",
            "Enter \"L1_PUBLIC_KEY_HASH\" (default: ): L1_PUBLIC_KEY_HASH=tz1aWJnH8SjA1zniwqNuFJkL7Qpc8o7DN2wu\n",
            "Enter \"L1_RPC_URL\" (default: https://rpc.tzkt.io/nairobinet/): \n",
            "Enter \"L1_ROLLUP_ADDRESS\" (default: sr1Cz5HkqyC8ozTYbDij8YmseAAG3SgZtpRb): \n",
            "Enter \"L2_PRIVATE_KEY\" (default: ): \n",
            "Enter \"L2_PUBLIC_KEY\" (default: ): 0xfA34004DdA5a87A40EcEf2714101472961C17560\n",
            "Enter \"L2_MASTER_KEY\" (default: ): \n",
            "Enter \"L2_RPC_URL\" (default: https://etherlink.dipdup.net): \n",
            "Enter \"L2_KERNEL_ADDRESS\" (default: 0x0000000000000000000000000000000000000000): \n",
            "Enter \"L2_WITHDRAW_PRECOMPILE_ADDRESS\" (default: 0x0000000000000000000000000000000000000040): \n"
          ]
        }
      ]
    },
    {
      "cell_type": "code",
      "source": [
        "!poetry run deploy_token --token-type FA1.2"
      ],
      "metadata": {
        "colab": {
          "base_uri": "https://localhost:8080/"
        },
        "id": "_d0eHd4Sz4rt",
        "outputId": "4a8ec670-e7dd-4ea7-9c64-258d4e7aed66"
      },
      "execution_count": 4,
      "outputs": [
        {
          "output_type": "stream",
          "name": "stdout",
          "text": [
            "deploying contract from filename /content/etherlink-bridge/tezos/tests/helpers/../tokens/fa12-Ctez.tz\n",
            "found contract address: KT1SxZKFyybU4h7KoLZazmCN5TUpckogMi6B\n"
          ]
        }
      ]
    },
    {
      "cell_type": "code",
      "source": [
        "!poetry run deploy_ticketer --token-address KT1SxZKFyybU4h7KoLZazmCN5TUpckogMi6B --token-type FA1.2 --token-id 0"
      ],
      "metadata": {
        "colab": {
          "base_uri": "https://localhost:8080/"
        },
        "id": "J3uoYpLWxg2w",
        "outputId": "5b7108df-a675-4cfb-aff1-a27ce8172f3f"
      },
      "execution_count": 5,
      "outputs": [
        {
          "output_type": "stream",
          "name": "stdout",
          "text": [
            "deploying contract from filename /content/etherlink-bridge/tezos/tests/helpers/../../build/ticketer.tz\n",
            "found contract address: KT1XnyLMY51aUHeP4WBLJX1H4tpvBmQ354GZ\n",
            "address_bytes: 01fe99b56a623492b46899224f627005aed51fdbc300\n",
            "content_bytes: 0707000005090a0000005f05020000005907040100000010636f6e74726163745f616464726573730a0000001c050a0000001601c991307bff4719d63513ff57731c0ac0c158388c000704010000000a746f6b656e5f747970650a0000000b0501000000054641312e32\n"
          ]
        }
      ]
    },
    {
      "cell_type": "code",
      "source": [
        "!poetry run deploy_ticket_helper --ticketer-address KT1XnyLMY51aUHeP4WBLJX1H4tpvBmQ354GZ"
      ],
      "metadata": {
        "colab": {
          "base_uri": "https://localhost:8080/"
        },
        "id": "QdoXlCWczgxU",
        "outputId": "e2f67fb2-f92d-49d9-d2ee-97025260b507"
      },
      "execution_count": 6,
      "outputs": [
        {
          "output_type": "stream",
          "name": "stdout",
          "text": [
            "deploying contract from filename /content/etherlink-bridge/tezos/tests/helpers/../../build/ticket-helper.tz\n",
            "found contract address: KT1Kfy52aCVu3G31L7mPVrycDKrgvuknVN7Z\n"
          ]
        }
      ]
    },
    {
      "cell_type": "code",
      "source": [
        "!poetry run deploy_erc20 --ticketer-address-bytes 01906a4f54a7c9bc66c7c159f5ab7df90166acb02b00 --ticketer-content-bytes 0707000005090a0000005f05020000005907040100000010636f6e74726163745f616464726573730a0000001c050a0000001601f923adf742bdc1c3e14944859de0afa800f6b7a5000704010000000a746f6b656e5f747970650a0000000b0501000000054641312e32"
      ],
      "metadata": {
        "id": "OyXyHW3H8mS-"
      },
      "execution_count": null,
      "outputs": []
    },
    {
      "cell_type": "code",
      "source": [],
      "metadata": {
        "id": "dm2agA_Tvd2X"
      },
      "execution_count": null,
      "outputs": []
    }
  ]
}